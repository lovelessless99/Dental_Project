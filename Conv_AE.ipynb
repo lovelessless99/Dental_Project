{
 "cells": [
  {
   "cell_type": "code",
   "execution_count": 1,
   "metadata": {},
   "outputs": [
    {
     "name": "stderr",
     "output_type": "stream",
     "text": [
      "Using TensorFlow backend.\n"
     ]
    }
   ],
   "source": [
    "from Dental_Tool.Data_processing import *\n",
    "from Dental_Tool.Dental_Model import *\n",
    "from Dental_Tool.Process_results import *\n",
    "from Dental_Tool.Dataloader import *\n",
    "from Dental_Tool.KFold_v3 import *\n",
    "from keras.layers import *\n",
    "import keras "
   ]
  },
  {
   "cell_type": "code",
   "execution_count": 18,
   "metadata": {},
   "outputs": [],
   "source": [
    "image_size = 256\n",
    "input_shape = (image_size, image_size, 1)\n",
    "batch_size = 100\n",
    "kernel_size = 3\n",
    "filters = 16\n",
    "latent_dim = 128 # 隐变量取2维只是为了方便后面画图\n",
    "epochs = 30\n",
    "num_classes = classes = 3"
   ]
  },
  {
   "cell_type": "code",
   "execution_count": 20,
   "metadata": {},
   "outputs": [
    {
     "name": "stdout",
     "output_type": "stream",
     "text": [
      "Model: \"model_5\"\n",
      "_________________________________________________________________\n",
      "Layer (type)                 Output Shape              Param #   \n",
      "=================================================================\n",
      "input_20 (InputLayer)        (None, 256, 256, 1)       0         \n",
      "_________________________________________________________________\n",
      "conv2d_35 (Conv2D)           (None, 128, 128, 16)      160       \n",
      "_________________________________________________________________\n",
      "conv2d_36 (Conv2D)           (None, 64, 64, 8)         1160      \n",
      "_________________________________________________________________\n",
      "sequential_18 (Sequential)   multiple                  1393      \n",
      "=================================================================\n",
      "Total params: 2,713\n",
      "Trainable params: 2,713\n",
      "Non-trainable params: 0\n",
      "_________________________________________________________________\n"
     ]
    }
   ],
   "source": [
    "class conv_AE(keras.Model):\n",
    "    def __init__(self, input_shape):\n",
    "        super(conv_AE, self).__init__()\n",
    "        self.encoder = Sequential(\n",
    "            [\n",
    "                InputLayer(input_shape=input_shape),\n",
    "                Conv2D(16, (3, 3), activation='relu', strides=2, padding='same'),\n",
    "                Conv2D(8, (3, 3), activation='relu', strides=2, padding='same')\n",
    "            ]\n",
    "        )\n",
    "        \n",
    "        self.decoder = Sequential(\n",
    "            [\n",
    "                InputLayer(input_shape=input_shape),\n",
    "                Conv2DTranspose(filters=filters, kernel_size=kernel_size, activation='relu', strides=2,padding='same'),\n",
    "                Conv2DTranspose(filters=filters // 2 , kernel_size=kernel_size, activation='relu', strides=2,padding='same'),\n",
    "                Conv2D(1, (3, 3), activation = \"sigmoid\", padding = \"same\")\n",
    "            ]\n",
    "        )\n",
    "        \n",
    "        self.conv_AE = Model(inputs = self.encoder.input, outputs = self.decoder(self.encoder.output))\n",
    "        \n",
    "    def call(self, input_tensor):\n",
    "\n",
    "        latent_space = self.encoder.output\n",
    "        reconstruction = self.decoder(latent_space)\n",
    "        conv_AE = Model(inputs = self.encoder.input, outputs = reconstruction)\n",
    "        \n",
    "        return conv_AE(input_tensor) ##拿這個去串連所有\n",
    "    \n",
    "    def summary(self):\n",
    "        return self.conv_AE.summary()\n",
    "\n",
    "conv_AE = conv_AE(input_shape)        \n",
    "\n",
    "conv_AE.compile(optimizer='Adam', loss='binary_crossentropy')\n",
    "conv_AE.summary()\n",
    "# conv_AE.fit(train_images, train_images, epochs=100, batch_size=128, shuffle=True,\n",
    "#                 validation_data=(test_images, test_images), verbose = 2)\n"
   ]
  },
  {
   "cell_type": "code",
   "execution_count": null,
   "metadata": {},
   "outputs": [],
   "source": []
  },
  {
   "cell_type": "code",
   "execution_count": null,
   "metadata": {},
   "outputs": [],
   "source": []
  }
 ],
 "metadata": {
  "kernelspec": {
   "display_name": "Python 3",
   "language": "python",
   "name": "python3"
  },
  "language_info": {
   "codemirror_mode": {
    "name": "ipython",
    "version": 3
   },
   "file_extension": ".py",
   "mimetype": "text/x-python",
   "name": "python",
   "nbconvert_exporter": "python",
   "pygments_lexer": "ipython3",
   "version": "3.6.12"
  }
 },
 "nbformat": 4,
 "nbformat_minor": 4
}
