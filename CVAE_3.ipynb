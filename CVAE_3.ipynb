{
 "cells": [
  {
   "cell_type": "code",
   "execution_count": 1,
   "metadata": {},
   "outputs": [
    {
     "name": "stderr",
     "output_type": "stream",
     "text": [
      "Using TensorFlow backend.\n"
     ]
    }
   ],
   "source": [
    "import numpy as np\n",
    "from keras.layers import *\n",
    "from keras.layers.merge import concatenate as concat\n",
    "from keras.models import Model\n",
    "from keras import backend as K\n",
    "from keras.utils import to_categorical\n",
    "from keras.callbacks import EarlyStopping\n",
    "from keras.optimizers import Adam\n",
    "import matplotlib.pyplot as plt\n",
    "from keras.losses import mse, binary_crossentropy"
   ]
  },
  {
   "cell_type": "code",
   "execution_count": 2,
   "metadata": {},
   "outputs": [],
   "source": [
    "# compute the number of labels\n",
    "num_labels = 4\n",
    "image_size = 128\n",
    "# network parameters\n",
    "input_shape = (image_size, image_size, 1)\n",
    "label_shape = (num_labels, )\n",
    "batch_size = 32\n",
    "kernel_size = 3\n",
    "filters = 16\n",
    "latent_dim = 64\n",
    "epochs = 30"
   ]
  },
  {
   "cell_type": "code",
   "execution_count": 3,
   "metadata": {},
   "outputs": [],
   "source": [
    "def sampling(args):\n",
    "    \"\"\"Implements reparameterization trick by sampling\n",
    "    from a gaussian with zero mean and std=1.\n",
    "    Arguments:\n",
    "        args (tensor): mean and log of variance of Q(z|X)\n",
    "    Returns:\n",
    "        sampled latent vector (tensor)\n",
    "    \"\"\"\n",
    "\n",
    "    z_mean, z_log_var = args\n",
    "    batch = K.shape(z_mean)[0]\n",
    "    dim = K.int_shape(z_mean)[1]\n",
    "    # by default, random_normal has mean=0 and std=1.0\n",
    "    epsilon = K.random_normal(shape=(batch, dim))\n",
    "    return z_mean + K.exp(0.5 * z_log_var) * epsilon"
   ]
  },
  {
   "cell_type": "code",
   "execution_count": 4,
   "metadata": {},
   "outputs": [
    {
     "name": "stdout",
     "output_type": "stream",
     "text": [
      "Model: \"encoder\"\n",
      "__________________________________________________________________________________________________\n",
      "Layer (type)                    Output Shape         Param #     Connected to                     \n",
      "==================================================================================================\n",
      "class_labels (InputLayer)       (None, 4)            0                                            \n",
      "__________________________________________________________________________________________________\n",
      "dense_1 (Dense)                 (None, 16384)        81920       class_labels[0][0]               \n",
      "__________________________________________________________________________________________________\n",
      "encoder_input (InputLayer)      (None, 128, 128, 1)  0                                            \n",
      "__________________________________________________________________________________________________\n",
      "reshape_1 (Reshape)             (None, 128, 128, 1)  0           dense_1[0][0]                    \n",
      "__________________________________________________________________________________________________\n",
      "concatenate_1 (Concatenate)     (None, 128, 128, 2)  0           encoder_input[0][0]              \n",
      "                                                                 reshape_1[0][0]                  \n",
      "__________________________________________________________________________________________________\n",
      "conv2d_1 (Conv2D)               (None, 64, 64, 32)   608         concatenate_1[0][0]              \n",
      "__________________________________________________________________________________________________\n",
      "conv2d_2 (Conv2D)               (None, 32, 32, 64)   18496       conv2d_1[0][0]                   \n",
      "__________________________________________________________________________________________________\n",
      "conv2d_3 (Conv2D)               (None, 16, 16, 128)  73856       conv2d_2[0][0]                   \n",
      "__________________________________________________________________________________________________\n",
      "conv2d_4 (Conv2D)               (None, 8, 8, 256)    295168      conv2d_3[0][0]                   \n",
      "__________________________________________________________________________________________________\n",
      "flatten_1 (Flatten)             (None, 16384)        0           conv2d_4[0][0]                   \n",
      "__________________________________________________________________________________________________\n",
      "dense_2 (Dense)                 (None, 16)           262160      flatten_1[0][0]                  \n",
      "__________________________________________________________________________________________________\n",
      "z_mean (Dense)                  (None, 64)           1088        dense_2[0][0]                    \n",
      "__________________________________________________________________________________________________\n",
      "z_log_var (Dense)               (None, 64)           1088        dense_2[0][0]                    \n",
      "__________________________________________________________________________________________________\n",
      "z (Lambda)                      (None, 64)           0           z_mean[0][0]                     \n",
      "                                                                 z_log_var[0][0]                  \n",
      "==================================================================================================\n",
      "Total params: 734,384\n",
      "Trainable params: 734,384\n",
      "Non-trainable params: 0\n",
      "__________________________________________________________________________________________________\n",
      "Model: \"decoder\"\n",
      "__________________________________________________________________________________________________\n",
      "Layer (type)                    Output Shape         Param #     Connected to                     \n",
      "==================================================================================================\n",
      "z_sampling (InputLayer)         (None, 64)           0                                            \n",
      "__________________________________________________________________________________________________\n",
      "class_labels (InputLayer)       (None, 4)            0                                            \n",
      "__________________________________________________________________________________________________\n",
      "concatenate_2 (Concatenate)     (None, 68)           0           z_sampling[0][0]                 \n",
      "                                                                 class_labels[0][0]               \n",
      "__________________________________________________________________________________________________\n",
      "dense_3 (Dense)                 (None, 16384)        1130496     concatenate_2[0][0]              \n",
      "__________________________________________________________________________________________________\n",
      "reshape_2 (Reshape)             (None, 8, 8, 256)    0           dense_3[0][0]                    \n",
      "__________________________________________________________________________________________________\n",
      "conv2d_transpose_1 (Conv2DTrans (None, 16, 16, 256)  590080      reshape_2[0][0]                  \n",
      "__________________________________________________________________________________________________\n",
      "conv2d_transpose_2 (Conv2DTrans (None, 32, 32, 128)  295040      conv2d_transpose_1[0][0]         \n",
      "__________________________________________________________________________________________________\n",
      "conv2d_transpose_3 (Conv2DTrans (None, 64, 64, 64)   73792       conv2d_transpose_2[0][0]         \n",
      "__________________________________________________________________________________________________\n",
      "conv2d_transpose_4 (Conv2DTrans (None, 128, 128, 32) 18464       conv2d_transpose_3[0][0]         \n",
      "__________________________________________________________________________________________________\n",
      "decoder_output (Conv2DTranspose (None, 128, 128, 1)  289         conv2d_transpose_4[0][0]         \n",
      "==================================================================================================\n",
      "Total params: 2,108,161\n",
      "Trainable params: 2,108,161\n",
      "Non-trainable params: 0\n",
      "__________________________________________________________________________________________________\n"
     ]
    }
   ],
   "source": [
    "inputs = Input(shape=input_shape, name='encoder_input')\n",
    "y_labels = Input(shape=label_shape, name='class_labels')\n",
    "x = Dense(image_size * image_size)(y_labels)\n",
    "x = Reshape((image_size, image_size, 1))(x)\n",
    "x = concatenate([inputs, x])\n",
    "for i in range(4):\n",
    "    filters *= 2\n",
    "    x = Conv2D(filters=filters,\n",
    "               kernel_size=kernel_size,\n",
    "               activation='relu',\n",
    "               strides=2,\n",
    "               padding='same')(x)\n",
    "\n",
    "# shape info needed to build decoder model\n",
    "shape = K.int_shape(x)\n",
    "\n",
    "# generate latent vector Q(z|X)\n",
    "x = Flatten()(x)\n",
    "x = Dense(16, activation='relu')(x)\n",
    "z_mean = Dense(latent_dim, name='z_mean')(x)\n",
    "z_log_var = Dense(latent_dim, name='z_log_var')(x)\n",
    "\n",
    "# use reparameterization trick to push the sampling out as input\n",
    "# note that \"output_shape\" isn't necessary \n",
    "# with the TensorFlow backend\n",
    "z = Lambda(sampling,\n",
    "           output_shape=(latent_dim,),\n",
    "           name='z')([z_mean, z_log_var])\n",
    "\n",
    "# instantiate encoder model\n",
    "encoder = Model([inputs, y_labels],\n",
    "                [z_mean, z_log_var, z], \n",
    "                name='encoder')\n",
    "encoder.summary()\n",
    "# plot_model(encoder,\n",
    "#            to_file='cvae_cnn_encoder.png', \n",
    "#            show_shapes=True)\n",
    "\n",
    "# build decoder model\n",
    "latent_inputs = Input(shape=(latent_dim,), name='z_sampling')\n",
    "x = concatenate([latent_inputs, y_labels])\n",
    "x = Dense(shape[1]*shape[2]*shape[3], activation='relu')(x)\n",
    "x = Reshape((shape[1], shape[2], shape[3]))(x)\n",
    "\n",
    "for i in range(4):\n",
    "    x = Conv2DTranspose(filters=filters,\n",
    "                        kernel_size=kernel_size,\n",
    "                        activation='relu',\n",
    "                        strides=2,\n",
    "                        padding='same')(x)\n",
    "    filters //= 2\n",
    "\n",
    "outputs = Conv2DTranspose(filters=1,\n",
    "                          kernel_size=kernel_size,\n",
    "                          activation='sigmoid',\n",
    "                          padding='same',\n",
    "                          name='decoder_output')(x)\n",
    "\n",
    "# instantiate decoder model\n",
    "decoder = Model([latent_inputs, y_labels],\n",
    "                outputs, \n",
    "                name='decoder')\n",
    "decoder.summary()\n",
    "outputs = decoder([encoder([inputs, y_labels])[2], y_labels])\n",
    "cvae = Model([inputs, y_labels], outputs, name='cvae')"
   ]
  },
  {
   "cell_type": "code",
   "execution_count": 5,
   "metadata": {},
   "outputs": [
    {
     "name": "stdout",
     "output_type": "stream",
     "text": [
      "Model: \"cvae\"\n",
      "__________________________________________________________________________________________________\n",
      "Layer (type)                    Output Shape         Param #     Connected to                     \n",
      "==================================================================================================\n",
      "encoder_input (InputLayer)      (None, 128, 128, 1)  0                                            \n",
      "__________________________________________________________________________________________________\n",
      "class_labels (InputLayer)       (None, 4)            0                                            \n",
      "__________________________________________________________________________________________________\n",
      "encoder (Model)                 [(None, 64), (None,  734384      encoder_input[0][0]              \n",
      "                                                                 class_labels[0][0]               \n",
      "__________________________________________________________________________________________________\n",
      "decoder (Model)                 (None, 128, 128, 1)  2108161     encoder[1][2]                    \n",
      "                                                                 class_labels[0][0]               \n",
      "==================================================================================================\n",
      "Total params: 2,842,545\n",
      "Trainable params: 2,842,545\n",
      "Non-trainable params: 0\n",
      "__________________________________________________________________________________________________\n"
     ]
    },
    {
     "name": "stderr",
     "output_type": "stream",
     "text": [
      "C:\\Users\\Lab620\\Anaconda3\\envs\\lawrence\\lib\\site-packages\\keras\\engine\\training_utils.py:819: UserWarning: Output decoder missing from loss dictionary. We assume this was done on purpose. The fit and evaluate APIs will not be expecting any data to be passed to decoder.\n",
      "  'be expecting any data to be passed to {0}.'.format(name))\n"
     ]
    }
   ],
   "source": [
    "reconstruction_loss = mse(K.flatten(inputs), K.flatten(outputs))\n",
    "reconstruction_loss *= image_size * image_size\n",
    "kl_loss = 1 + z_log_var - K.square(z_mean) - K.exp(z_log_var)\n",
    "kl_loss = K.sum(kl_loss, axis=-1)\n",
    "# kl_loss *= -0.5 * beta\n",
    "cvae_loss = K.mean(reconstruction_loss + kl_loss)\n",
    "cvae.add_loss(cvae_loss)\n",
    "cvae.compile(optimizer='rmsprop')\n",
    "cvae.summary()"
   ]
  },
  {
   "cell_type": "code",
   "execution_count": 6,
   "metadata": {},
   "outputs": [],
   "source": [
    "from Dental_Tool.Data_processing import *\n",
    "from Dental_Tool.Dental_Model import *\n",
    "from Dental_Tool.Process_results import *\n",
    "from Dental_Tool.Dataloader import *\n",
    "from Dental_Tool.KFold_v3 import *"
   ]
  },
  {
   "cell_type": "code",
   "execution_count": 7,
   "metadata": {},
   "outputs": [],
   "source": [
    "directory = [ \n",
    "                \"Dental_Data/PBL/10_20200901\", \n",
    "                \"Dental_Data/PBL/10_20200901_Flip\", \n",
    "                \"Dental_Data/PBL/10_clahe_20200901\", \n",
    "                \"Dental_Data/PBL/10_clahe_20200901_Flip\"\n",
    "            ]\n",
    "\n",
    "directory = [ i + \"/mapping.json\" for i in directory]\n",
    "argscale_num = len(directory) * 20\n",
    "data = load_json(directory, interdental=False)\n",
    "dataset = json_2_dataframe_PBL(data)\n",
    "dataset = dataset[dataset.Class == 2]"
   ]
  },
  {
   "cell_type": "code",
   "execution_count": 8,
   "metadata": {},
   "outputs": [
    {
     "data": {
      "application/vnd.jupyter.widget-view+json": {
       "model_id": "fc67b6d5344d485ca74d77943801113b",
       "version_major": 2,
       "version_minor": 0
      },
      "text/plain": [
       "HBox(children=(HTML(value=''), FloatProgress(value=0.0, max=19248.0), HTML(value='')))"
      ]
     },
     "metadata": {},
     "output_type": "display_data"
    },
    {
     "name": "stdout",
     "output_type": "stream",
     "text": [
      "\n"
     ]
    },
    {
     "data": {
      "application/vnd.jupyter.widget-view+json": {
       "model_id": "0b767557451f40428810660b51b54071",
       "version_major": 2,
       "version_minor": 0
      },
      "text/plain": [
       "HBox(children=(HTML(value=''), FloatProgress(value=0.0, max=6416.0), HTML(value='')))"
      ]
     },
     "metadata": {},
     "output_type": "display_data"
    },
    {
     "name": "stdout",
     "output_type": "stream",
     "text": [
      "\n"
     ]
    },
    {
     "data": {
      "application/vnd.jupyter.widget-view+json": {
       "model_id": "ca2a16243c5e4896b626690e543bfbcb",
       "version_major": 2,
       "version_minor": 0
      },
      "text/plain": [
       "HBox(children=(HTML(value=''), FloatProgress(value=0.0, max=6416.0), HTML(value='')))"
      ]
     },
     "metadata": {},
     "output_type": "display_data"
    },
    {
     "name": "stdout",
     "output_type": "stream",
     "text": [
      "\n",
      "(19248, 128, 128, 1)\n",
      "(19248, 4)\n"
     ]
    }
   ],
   "source": [
    "def load_images(path_list, resize):\n",
    "        X = []\n",
    "        for path in tqdm(path_list):\n",
    "                image = cv2.imread(path, 0)\n",
    "                image = cv2.resize(image, resize)\n",
    "                image = image.astype(\"float32\") / 255.0\n",
    "#                 image = image - np.mean(image)\n",
    "                image = np.expand_dims(image, axis=2)\n",
    "                X.append(image)\n",
    "        return np.array(X)\n",
    "\n",
    "dataset_size = len(dataset)\n",
    "\n",
    "dataset = shuffle(dataset).reset_index(drop=True)\n",
    "train_idx = int(dataset_size * 0.6)\n",
    "valid_idx = int(dataset_size * 0.2)\n",
    "\n",
    "train = dataset.iloc[:train_idx]\n",
    "valid = dataset.iloc[train_idx: train_idx + valid_idx]\n",
    "test  = dataset.iloc[train_idx + valid_idx: ]\n",
    "\n",
    "classes = 4\n",
    "x_train, y_train = load_images(train[\"Path\"], (image_size, image_size)), to_categorical(train[\"tooth_type\"], classes)\n",
    "x_valid, y_valid = load_images(valid[\"Path\"], (image_size, image_size)), to_categorical(valid[\"tooth_type\"], classes)\n",
    "x_test, y_test   = load_images(test[\"Path\"], (image_size, image_size)), to_categorical(test[\"tooth_type\"], classes)\n",
    "\n",
    "\n",
    "\n",
    "print(x_train.shape)\n",
    "print(y_train.shape)"
   ]
  },
  {
   "cell_type": "code",
   "execution_count": 9,
   "metadata": {},
   "outputs": [
    {
     "name": "stdout",
     "output_type": "stream",
     "text": [
      "Train on 19248 samples, validate on 6416 samples\n",
      "Epoch 1/30\n",
      "19248/19248 [==============================] - 20s 1ms/step - loss: nan - val_loss: nan\n",
      "Epoch 2/30\n",
      "19248/19248 [==============================] - 16s 843us/step - loss: nan - val_loss: nan\n",
      "Epoch 3/30\n",
      "19248/19248 [==============================] - 16s 844us/step - loss: nan - val_loss: nan\n",
      "Epoch 4/30\n",
      "19248/19248 [==============================] - 16s 847us/step - loss: nan - val_loss: nan\n",
      "Epoch 5/30\n",
      "19248/19248 [==============================] - 16s 850us/step - loss: nan - val_loss: nan\n",
      "Epoch 6/30\n",
      "19248/19248 [==============================] - 16s 851us/step - loss: nan - val_loss: nan\n",
      "Epoch 7/30\n",
      "19248/19248 [==============================] - 16s 855us/step - loss: nan - val_loss: nan\n",
      "Epoch 8/30\n",
      "19248/19248 [==============================] - 16s 856us/step - loss: nan - val_loss: nan\n",
      "Epoch 9/30\n",
      "19248/19248 [==============================] - 17s 862us/step - loss: nan - val_loss: nan\n",
      "Epoch 10/30\n",
      "19248/19248 [==============================] - 17s 865us/step - loss: nan - val_loss: nan\n",
      "Epoch 11/30\n",
      "19248/19248 [==============================] - 17s 866us/step - loss: nan - val_loss: nan\n",
      "Epoch 12/30\n",
      "19248/19248 [==============================] - 17s 867us/step - loss: nan - val_loss: nan\n",
      "Epoch 13/30\n",
      "19248/19248 [==============================] - 17s 867us/step - loss: nan - val_loss: nan\n",
      "Epoch 14/30\n",
      "19248/19248 [==============================] - 17s 867us/step - loss: nan - val_loss: nan\n",
      "Epoch 15/30\n",
      "19248/19248 [==============================] - 17s 875us/step - loss: nan - val_loss: nan\n",
      "Epoch 16/30\n",
      "19248/19248 [==============================] - 17s 873us/step - loss: nan - val_loss: nan\n",
      "Epoch 17/30\n",
      "19248/19248 [==============================] - 17s 867us/step - loss: nan - val_loss: nan\n",
      "Epoch 18/30\n",
      "19248/19248 [==============================] - 17s 866us/step - loss: nan - val_loss: nan\n",
      "Epoch 19/30\n",
      "19248/19248 [==============================] - 17s 870us/step - loss: nan - val_loss: nan\n",
      "Epoch 20/30\n",
      "19248/19248 [==============================] - 17s 868us/step - loss: nan - val_loss: nan\n",
      "Epoch 21/30\n",
      "19248/19248 [==============================] - 17s 869us/step - loss: nan - val_loss: nan\n",
      "Epoch 22/30\n",
      "19248/19248 [==============================] - 17s 866us/step - loss: nan - val_loss: nan\n",
      "Epoch 23/30\n",
      "19248/19248 [==============================] - 17s 863us/step - loss: nan - val_loss: nan\n",
      "Epoch 24/30\n",
      "19248/19248 [==============================] - 17s 864us/step - loss: nan - val_loss: nan\n",
      "Epoch 25/30\n",
      "19248/19248 [==============================] - 17s 868us/step - loss: nan - val_loss: nan\n",
      "Epoch 26/30\n",
      "19248/19248 [==============================] - 17s 870us/step - loss: nan - val_loss: nan\n",
      "Epoch 27/30\n",
      "19248/19248 [==============================] - 17s 869us/step - loss: nan - val_loss: nan\n",
      "Epoch 28/30\n",
      "19248/19248 [==============================] - 17s 869us/step - loss: nan - val_loss: nan\n",
      "Epoch 29/30\n",
      "19248/19248 [==============================] - 17s 862us/step - loss: nan - val_loss: nan\n",
      "Epoch 30/30\n",
      "19248/19248 [==============================] - 17s 867us/step - loss: nan - val_loss: nan\n"
     ]
    },
    {
     "data": {
      "text/plain": [
       "<keras.callbacks.callbacks.History at 0x244febda208>"
      ]
     },
     "execution_count": 9,
     "metadata": {},
     "output_type": "execute_result"
    }
   ],
   "source": [
    "cvae.fit([x_train, y_train],\n",
    "         epochs=epochs,\n",
    "         batch_size=batch_size,\n",
    "         validation_data=([x_test, y_test], None))"
   ]
  },
  {
   "cell_type": "code",
   "execution_count": null,
   "metadata": {},
   "outputs": [],
   "source": []
  }
 ],
 "metadata": {
  "kernelspec": {
   "display_name": "Python 3",
   "language": "python",
   "name": "python3"
  },
  "language_info": {
   "codemirror_mode": {
    "name": "ipython",
    "version": 3
   },
   "file_extension": ".py",
   "mimetype": "text/x-python",
   "name": "python",
   "nbconvert_exporter": "python",
   "pygments_lexer": "ipython3",
   "version": "3.6.12"
  }
 },
 "nbformat": 4,
 "nbformat_minor": 4
}
