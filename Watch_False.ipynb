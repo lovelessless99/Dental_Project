{
 "cells": [
  {
   "cell_type": "code",
   "execution_count": 1,
   "metadata": {},
   "outputs": [],
   "source": [
    "import matplotlib.pyplot as plt\n",
    "import seaborn as sns\n",
    "import pandas as pd\n",
    "import numpy as np\n",
    "import cv2\n",
    "import os"
   ]
  },
  {
   "cell_type": "code",
   "execution_count": 2,
   "metadata": {},
   "outputs": [
    {
     "name": "stdout",
     "output_type": "stream",
     "text": [
      "Gt: 2 , Predict: 0\n",
      "Gt: 0 , Predict: 2\n",
      "Gt: 2 , Predict: 0\n",
      "Gt: 0 , Predict: 2\n",
      "Gt: 2 , Predict: 0\n",
      "Gt: 0 , Predict: 2\n",
      "Gt: 2 , Predict: 0\n",
      "Gt: 0 , Predict: 2\n",
      "Gt: 2 , Predict: 0\n",
      "Gt: 0 , Predict: 2\n"
     ]
    },
    {
     "data": {
      "text/plain": [
       "<Figure size 1440x1296 with 0 Axes>"
      ]
     },
     "metadata": {},
     "output_type": "display_data"
    },
    {
     "data": {
      "text/plain": [
       "<Figure size 1440x1296 with 0 Axes>"
      ]
     },
     "metadata": {},
     "output_type": "display_data"
    },
    {
     "data": {
      "text/plain": [
       "<Figure size 1440x1296 with 0 Axes>"
      ]
     },
     "metadata": {},
     "output_type": "display_data"
    },
    {
     "data": {
      "text/plain": [
       "<Figure size 1440x1296 with 0 Axes>"
      ]
     },
     "metadata": {},
     "output_type": "display_data"
    },
    {
     "data": {
      "text/plain": [
       "<Figure size 1440x1296 with 0 Axes>"
      ]
     },
     "metadata": {},
     "output_type": "display_data"
    },
    {
     "data": {
      "text/plain": [
       "<Figure size 1440x1296 with 0 Axes>"
      ]
     },
     "metadata": {},
     "output_type": "display_data"
    },
    {
     "data": {
      "text/plain": [
       "<Figure size 1440x1296 with 0 Axes>"
      ]
     },
     "metadata": {},
     "output_type": "display_data"
    },
    {
     "data": {
      "text/plain": [
       "<Figure size 1440x1296 with 0 Axes>"
      ]
     },
     "metadata": {},
     "output_type": "display_data"
    },
    {
     "data": {
      "text/plain": [
       "<Figure size 1440x1296 with 0 Axes>"
      ]
     },
     "metadata": {},
     "output_type": "display_data"
    },
    {
     "data": {
      "text/plain": [
       "<Figure size 1440x1296 with 0 Axes>"
      ]
     },
     "metadata": {},
     "output_type": "display_data"
    }
   ],
   "source": [
    "def select_terrible_prediction(wrong_predict, save_dir):\n",
    "        \n",
    "        predict_0_GT_2 = wrong_predict[ ( (wrong_predict[\"Class\"] == 2 ) & (wrong_predict[\"Predict\"] == 0 ) ) ].reset_index(drop=True)\n",
    "        save_PT_0_GT_2 = f\"{save_dir}/GT_2_PT_0\"\n",
    "        if not os.path.isdir(save_PT_0_GT_2): os.makedirs(save_PT_0_GT_2)\n",
    "        \n",
    "        rows, cols = 5, 4\n",
    "        print(\"Gt: 2 , Predict: 0\")\n",
    "        plt.figure(figsize=(20, 18))\n",
    "        for idx, row in predict_0_GT_2.iterrows():\n",
    "#                 print(row[\"Path\"])\n",
    "                image = cv2.imread(row[\"Path\"], 0)        \n",
    "#                 image_resize = cv2.resize(image.copy(), (180, 200))\n",
    "                filename = os.path.basename(row[\"Path\"])\n",
    "                save_path = f\"{save_PT_0_GT_2}/{filename}\"\n",
    "                cv2.imwrite(save_path, image)\n",
    "#                 plt.subplot(rows, cols, idx+1)\n",
    "#                 plt.axis('off')\n",
    "#                 plt.imshow(image_resize, cmap=\"gray\")\n",
    "\n",
    "#         plt.show()\n",
    "        predict_0_GT_2.to_csv(f\"{save_PT_0_GT_2}/PT0_GT2_Table.csv\")\n",
    "        \n",
    "        \n",
    "        predict_2_GT_0 = wrong_predict[ ( (wrong_predict[\"Class\"] == 0 ) & (wrong_predict[\"Predict\"] == 2 ) ) ].reset_index(drop=True)\n",
    "        save_PT_2_GT_0 = f\"{save_dir}/GT_0_PT_2\"\n",
    "        if not os.path.isdir(save_PT_2_GT_0): os.makedirs(save_PT_2_GT_0)\n",
    "        \n",
    "        print(\"Gt: 0 , Predict: 2\")\n",
    "        plt.figure(figsize=(20, 18))\n",
    "        for idx, row in predict_2_GT_0.iterrows():\n",
    "#                 print(row[\"Path\"])\n",
    "                image = cv2.imread(row[\"Path\"], 0)        \n",
    "#                 image_resize = cv2.resize(image.copy(), (180, 200))\n",
    "                filename = os.path.basename(row[\"Path\"])\n",
    "                save_path = f\"{save_PT_2_GT_0}/{filename}\"\n",
    "                cv2.imwrite(save_path, image)\n",
    "#                 plt.subplot(rows, cols, idx+1)\n",
    "#                 plt.axis('off')\n",
    "#                 plt.imshow(image, cmap=\"gray\")\n",
    "#         plt.show()\n",
    "        predict_2_GT_0.to_csv(f\"{save_PT_2_GT_0}/PT2_GT0_Table.csv\")\n",
    "        \n",
    "\n",
    "# for fold in range(1, 6):\n",
    "#         fold_path = f\"Results/Emsemble_5_Fold______interdental20200909-170725/Fold_{fold}\"\n",
    "#         table_path = f\"{fold_path}/table/test_predict_vote.csv\"\n",
    "#         table = pd.read_csv(table_path)\n",
    "#         comparison_column = np.where(table[\"Class\"] == table[\"Predict\"], 1, 0)\n",
    "#         table[\"Match\"] = comparison_column\n",
    "#         false_predict = table[table[\"Match\"] == 0]\n",
    "#         false_predict = false_predict[[\"Path\", \"Class\", \"Predict\"]]\n",
    "#         false_predict = false_predict.reset_index(drop=True)\n",
    "#         select_terrible_prediction(false_predict, save_dir=fold_path)\n"
   ]
  },
  {
   "cell_type": "code",
   "execution_count": 3,
   "metadata": {},
   "outputs": [],
   "source": [
    "# predict_2_GT_0 = false_predict[ ( (false_predict[\"Class\"] == 0 ) & (false_predict[\"Predict\"] == 2 ) ) ].reset_index(drop=True)\n",
    "\n",
    "# rows, cols = 5, 4\n",
    "# print(\"Gt: 0 , Predict: 2\")\n",
    "# plt.figure(figsize=(20, 18))\n",
    "# for idx, row in predict_2_GT_0.head(rows * cols).iterrows():\n",
    "#         print(row[\"Path\"])\n",
    "#         image = cv2.imread(row[\"Path\"], 0)        \n",
    "#         image = cv2.resize(image, (180, 200))\n",
    "# #         title = f\"GT = {row.Class}, Predict = {row.Predict}\"\n",
    "        \n",
    "#         plt.subplot(rows, cols, idx+1)\n",
    "# #         plt.title(title)\n",
    "#         plt.axis('off')\n",
    "#         plt.imshow(image, cmap=\"gray\")\n",
    "        \n",
    "# plt.show()"
   ]
  },
  {
   "cell_type": "code",
   "execution_count": null,
   "metadata": {},
   "outputs": [],
   "source": [
    "def select_terrible_prediction_2_Class(wrong_predict, save_dir):\n",
    "        \n",
    "        predict_0_GT_2 = wrong_predict[ ( (wrong_predict[\"Class\"] == 2 ) & (wrong_predict[\"Predict\"] == 0 ) ) ].reset_index(drop=True)\n",
    "        save_PT_0_GT_2 = f\"{save_dir}/GT_2_PT_0\"\n",
    "        if not os.path.isdir(save_PT_0_GT_2): os.makedirs(save_PT_0_GT_2)\n",
    "        \n",
    "        rows, cols = 5, 4\n",
    "        plt.figure(figsize=(20, 18))\n",
    "        for idx, row in predict_0_GT_2.iterrows():\n",
    "                image = cv2.imread(row[\"Path\"], 0)        \n",
    "                filename = os.path.basename(row[\"Path\"])\n",
    "                save_path = f\"{save_PT_0_GT_2}/{filename}\"\n",
    "                cv2.imwrite(save_path, image)\n",
    "\n",
    "        predict_0_GT_2.to_csv(f\"{save_PT_0_GT_2}/PT0_GT2_Table.csv\")\n",
    "        \n",
    "        \n",
    "        predict_2_GT_0 = wrong_predict[ ( (wrong_predict[\"Class\"] == 0 ) & (wrong_predict[\"Predict\"] == 2 ) ) ].reset_index(drop=True)\n",
    "        save_PT_2_GT_0 = f\"{save_dir}/GT_0_PT_2\"\n",
    "        if not os.path.isdir(save_PT_2_GT_0): os.makedirs(save_PT_2_GT_0)\n",
    "        \n",
    "        print(\"Gt: 0 , Predict: 2\")\n",
    "        plt.figure(figsize=(20, 18))\n",
    "        for idx, row in predict_2_GT_0.iterrows():\n",
    "                image = cv2.imread(row[\"Path\"], 0)        \n",
    "                filename = os.path.basename(row[\"Path\"])\n",
    "                save_path = f\"{save_PT_2_GT_0}/{filename}\"\n",
    "                cv2.imwrite(save_path, image)\n",
    "#                 plt.subplot(rows, cols, idx+1)\n",
    "#                 plt.axis('off')\n",
    "#                 plt.imshow(image, cmap=\"gray\")\n",
    "#         plt.show()\n",
    "        predict_2_GT_0.to_csv(f\"{save_PT_2_GT_0}/PT2_GT0_Table.csv\")\n",
    "        \n",
    "\n",
    "for fold in range(1, 6):\n",
    "        fold_path = f\"Results/Emsemble_5_Fold______interdental20200909-170725/Fold_{fold}\"\n",
    "        table_path = f\"{fold_path}/table/test_predict_vote.csv\"\n",
    "        table = pd.read_csv(table_path)\n",
    "        comparison_column = np.where(table[\"Class\"] == table[\"Predict\"], 1, 0)\n",
    "        table[\"Match\"] = comparison_column\n",
    "        false_predict = table[table[\"Match\"] == 0]\n",
    "        false_predict = false_predict[[\"Path\", \"Class\", \"Predict\"]]\n",
    "        false_predict = false_predict.reset_index(drop=True)\n",
    "        select_terrible_prediction(false_predict, save_dir=fold_path)\n"
   ]
  }
 ],
 "metadata": {
  "kernelspec": {
   "display_name": "Python 3",
   "language": "python",
   "name": "python3"
  },
  "language_info": {
   "codemirror_mode": {
    "name": "ipython",
    "version": 3
   },
   "file_extension": ".py",
   "mimetype": "text/x-python",
   "name": "python",
   "nbconvert_exporter": "python",
   "pygments_lexer": "ipython3",
   "version": "3.6.12"
  },
  "widgets": {
   "application/vnd.jupyter.widget-state+json": {
    "state": {},
    "version_major": 2,
    "version_minor": 0
   }
  }
 },
 "nbformat": 4,
 "nbformat_minor": 4
}
