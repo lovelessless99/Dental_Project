{
 "cells": [
  {
   "cell_type": "code",
   "execution_count": 1,
   "metadata": {},
   "outputs": [],
   "source": [
    "import matplotlib.pyplot as plt\n",
    "import seaborn as sns\n",
    "import pandas as pd\n",
    "import numpy as np\n",
    "import collections"
   ]
  },
  {
   "cell_type": "code",
   "execution_count": 2,
   "metadata": {},
   "outputs": [],
   "source": [
    "root_dir = \"Results/Inception_Three_new_Balance_all_Chang_Fold_520201111-094935\"\n",
    "append_match_col = lambda df: [ 1 if Class == Predict else 0  for Class, Predict in zip(df.Class, df.Predict)]\n",
    "calculate_acc = lambda df: round(len(df[df.Match == 1]) / len(df) * 100, 3)\n",
    "        "
   ]
  },
  {
   "cell_type": "code",
   "execution_count": 3,
   "metadata": {},
   "outputs": [],
   "source": [
    "train_path = f\"{root_dir}/Fold_1/table/train_dataset.csv\"\n",
    "valid_path = f\"{root_dir}/Fold_1/table/valid_dataset.csv\"\n",
    "test_path = f\"{root_dir}/Fold_1/table/test_predict.csv\"\n",
    "\n",
    "train_data = pd.read_csv(train_path)\n",
    "valid_data = pd.read_csv(valid_path)\n",
    "test_data  = pd.read_csv(test_path)\n",
    "\n",
    "all_data_ID = set(pd.concat([train_data, valid_data, test_data]).ID)\n",
    "all_ID_dict = { pid: {\"Valid\": 0, \"Test\": 0} for pid in all_data_ID }\n",
    "        "
   ]
  },
  {
   "cell_type": "code",
   "execution_count": 4,
   "metadata": {},
   "outputs": [],
   "source": [
    "def create_correct_dict(df):\n",
    "        ID_groups = df.groupby(\"ID\")\n",
    "        all_ID = set(df.ID)\n",
    "        acc_dict = collections.OrderedDict()\n",
    "        for ID in all_ID:\n",
    "                ID_df = ID_groups.get_group(ID)\n",
    "                accuracy = calculate_acc(ID_df)\n",
    "                acc_dict[ID] = [len(ID_df), len(ID_df[ID_df.Match == 1]), accuracy]\n",
    "        return acc_dict"
   ]
  },
  {
   "cell_type": "code",
   "execution_count": 5,
   "metadata": {},
   "outputs": [
    {
     "name": "stdout",
     "output_type": "stream",
     "text": [
      "Test  Acc: 71.18 %\n",
      "Test  Acc: 71.48 %\n",
      "Test  Acc: 69.42 %\n",
      "Test  Acc: 73.31 %\n",
      "Test  Acc: 72.89 %\n"
     ]
    }
   ],
   "source": [
    "for fold_num in range(1, 6, 1):\n",
    "#         valid_path = f\"{root_dir}/Fold_{fold_num}/table/valid_predict.csv\"\n",
    "        test_path = f\"{root_dir}/Fold_{fold_num}/table/test_predict.csv\"\n",
    "        \n",
    "#         valid_data = pd.read_csv(valid_path)\n",
    "        test_data  = pd.read_csv(test_path)\n",
    "        \n",
    "#         valid_data[\"Match\"] = append_match_col(valid_data)\n",
    "        test_data[\"Match\"] = append_match_col(test_data)\n",
    "        \n",
    "        \n",
    "#         print(\"Valid Acc: %.2f %%\"  % ( calculate_acc(valid_data) ))\n",
    "        print(\"Test  Acc: %.2f %%\"  % ( calculate_acc(test_data ) ))\n",
    "        \n",
    "        \n",
    "#         val_acc_dict  = create_correct_dict(valid_data)\n",
    "#         for ID, value  in val_acc_dict.items(): \n",
    "#                 total, match, acc = value\n",
    "#                 all_ID_dict[ID][\"Valid_Total\"] = total\n",
    "#                 all_ID_dict[ID][\"Valid_Match\"] = match\n",
    "#                 all_ID_dict[ID][\"Valid_Acc\"] = acc\n",
    "#                 all_ID_dict[ID][\"Valid_fold\"] = fold_num\n",
    "                    \n",
    "                 \n",
    "            \n",
    "        test_acc_dict = create_correct_dict(test_data )\n",
    "        for ID, value  in test_acc_dict.items():\n",
    "                total, match, acc = value\n",
    "                all_ID_dict[ID][\"Test_Total\"] = total\n",
    "                all_ID_dict[ID][\"Test_Match\"] = match\n",
    "                all_ID_dict[ID][\"Test_Acc\"] = acc\n",
    "                all_ID_dict[ID][\"Test_fold\"] = fold_num\n",
    "                "
   ]
  },
  {
   "cell_type": "code",
   "execution_count": 7,
   "metadata": {},
   "outputs": [],
   "source": [
    "result_df = pd.DataFrame()\n",
    "result_df = result_df.from_dict(all_ID_dict).T\n",
    "\n",
    "result_df = result_df[[\"Test_fold\" , \"Test_Total\" , \"Test_Match\"  , \"Test_Acc\"]]\n",
    "# result_df = result_df[[\"Valid_fold\", \"Valid_Total\", \"Valid_Match\" , \"Valid_Acc\",\n",
    "#                        \"Test_fold\" , \"Test_Total\" , \"Test_Match\"  , \"Test_Acc\"]]"
   ]
  },
  {
   "cell_type": "code",
   "execution_count": 8,
   "metadata": {},
   "outputs": [
    {
     "data": {
      "text/html": [
       "<div>\n",
       "<style scoped>\n",
       "    .dataframe tbody tr th:only-of-type {\n",
       "        vertical-align: middle;\n",
       "    }\n",
       "\n",
       "    .dataframe tbody tr th {\n",
       "        vertical-align: top;\n",
       "    }\n",
       "\n",
       "    .dataframe thead th {\n",
       "        text-align: right;\n",
       "    }\n",
       "</style>\n",
       "<table border=\"1\" class=\"dataframe\">\n",
       "  <thead>\n",
       "    <tr style=\"text-align: right;\">\n",
       "      <th></th>\n",
       "      <th>Test_fold</th>\n",
       "      <th>Test_Total</th>\n",
       "      <th>Test_Match</th>\n",
       "      <th>Test_Acc</th>\n",
       "    </tr>\n",
       "  </thead>\n",
       "  <tbody>\n",
       "    <tr>\n",
       "      <th>C0A95B</th>\n",
       "      <td>4.0</td>\n",
       "      <td>34.0</td>\n",
       "      <td>34.0</td>\n",
       "      <td>100.0</td>\n",
       "    </tr>\n",
       "    <tr>\n",
       "      <th>C0A968</th>\n",
       "      <td>2.0</td>\n",
       "      <td>52.0</td>\n",
       "      <td>52.0</td>\n",
       "      <td>100.0</td>\n",
       "    </tr>\n",
       "    <tr>\n",
       "      <th>9E89D6</th>\n",
       "      <td>5.0</td>\n",
       "      <td>6.0</td>\n",
       "      <td>6.0</td>\n",
       "      <td>100.0</td>\n",
       "    </tr>\n",
       "    <tr>\n",
       "      <th>16F1AB</th>\n",
       "      <td>5.0</td>\n",
       "      <td>60.0</td>\n",
       "      <td>60.0</td>\n",
       "      <td>100.0</td>\n",
       "    </tr>\n",
       "    <tr>\n",
       "      <th>EB9A2</th>\n",
       "      <td>1.0</td>\n",
       "      <td>4.0</td>\n",
       "      <td>4.0</td>\n",
       "      <td>100.0</td>\n",
       "    </tr>\n",
       "    <tr>\n",
       "      <th>...</th>\n",
       "      <td>...</td>\n",
       "      <td>...</td>\n",
       "      <td>...</td>\n",
       "      <td>...</td>\n",
       "    </tr>\n",
       "    <tr>\n",
       "      <th>9F2F5D</th>\n",
       "      <td>1.0</td>\n",
       "      <td>5.0</td>\n",
       "      <td>0.0</td>\n",
       "      <td>0.0</td>\n",
       "    </tr>\n",
       "    <tr>\n",
       "      <th>6A820</th>\n",
       "      <td>5.0</td>\n",
       "      <td>6.0</td>\n",
       "      <td>0.0</td>\n",
       "      <td>0.0</td>\n",
       "    </tr>\n",
       "    <tr>\n",
       "      <th>C0A928</th>\n",
       "      <td>4.0</td>\n",
       "      <td>30.0</td>\n",
       "      <td>0.0</td>\n",
       "      <td>0.0</td>\n",
       "    </tr>\n",
       "    <tr>\n",
       "      <th>6A81F</th>\n",
       "      <td>4.0</td>\n",
       "      <td>30.0</td>\n",
       "      <td>0.0</td>\n",
       "      <td>0.0</td>\n",
       "    </tr>\n",
       "    <tr>\n",
       "      <th>EB80E</th>\n",
       "      <td>3.0</td>\n",
       "      <td>277.0</td>\n",
       "      <td>0.0</td>\n",
       "      <td>0.0</td>\n",
       "    </tr>\n",
       "  </tbody>\n",
       "</table>\n",
       "<p>2010 rows × 4 columns</p>\n",
       "</div>"
      ],
      "text/plain": [
       "        Test_fold  Test_Total  Test_Match  Test_Acc\n",
       "C0A95B        4.0        34.0        34.0     100.0\n",
       "C0A968        2.0        52.0        52.0     100.0\n",
       "9E89D6        5.0         6.0         6.0     100.0\n",
       "16F1AB        5.0        60.0        60.0     100.0\n",
       "EB9A2         1.0         4.0         4.0     100.0\n",
       "...           ...         ...         ...       ...\n",
       "9F2F5D        1.0         5.0         0.0       0.0\n",
       "6A820         5.0         6.0         0.0       0.0\n",
       "C0A928        4.0        30.0         0.0       0.0\n",
       "6A81F         4.0        30.0         0.0       0.0\n",
       "EB80E         3.0       277.0         0.0       0.0\n",
       "\n",
       "[2010 rows x 4 columns]"
      ]
     },
     "execution_count": 8,
     "metadata": {},
     "output_type": "execute_result"
    }
   ],
   "source": [
    "result_df = result_df.sort_values(by=['Test_Acc'], ascending=False)\n",
    "# result_df = result_df.sort_values(by=['Valid_Acc', 'Test_Acc'], ascending=False)\n",
    "result_df"
   ]
  },
  {
   "cell_type": "code",
   "execution_count": null,
   "metadata": {},
   "outputs": [],
   "source": [
    "# result_df.to_csv(f\"{root_dir}/id_acc.csv\")"
   ]
  },
  {
   "cell_type": "code",
   "execution_count": null,
   "metadata": {},
   "outputs": [],
   "source": [
    "weird_id = result_df[result_df.Test_fold == 1].sort_values(by=['Test_Acc'], ascending=False)\n",
    "weird_id"
   ]
  },
  {
   "cell_type": "code",
   "execution_count": null,
   "metadata": {},
   "outputs": [],
   "source": [
    "weird_id.to_csv(f\"{root_dir}/weird_id_acc.csv\")"
   ]
  },
  {
   "cell_type": "code",
   "execution_count": null,
   "metadata": {},
   "outputs": [],
   "source": []
  }
 ],
 "metadata": {
  "kernelspec": {
   "display_name": "Python 3",
   "language": "python",
   "name": "python3"
  },
  "language_info": {
   "codemirror_mode": {
    "name": "ipython",
    "version": 3
   },
   "file_extension": ".py",
   "mimetype": "text/x-python",
   "name": "python",
   "nbconvert_exporter": "python",
   "pygments_lexer": "ipython3",
   "version": "3.6.12"
  }
 },
 "nbformat": 4,
 "nbformat_minor": 4
}
