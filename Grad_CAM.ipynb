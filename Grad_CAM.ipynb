{
 "cells": [
  {
   "cell_type": "code",
   "execution_count": 1,
   "metadata": {},
   "outputs": [
    {
     "name": "stderr",
     "output_type": "stream",
     "text": [
      "Using TensorFlow backend.\n"
     ]
    }
   ],
   "source": [
    "from Dental_Tool.Grad_CAM import *\n",
    "from Dental_Tool.Process_results import *\n",
    "from scipy.ndimage.interpolation import zoom\n",
    "from tqdm.notebook import tqdm as tqdm\n",
    "from keras.models import load_model\n",
    "from keras import backend as K \n",
    "import matplotlib.pyplot as plt\n",
    "import tensorflow as tf\n",
    "import pandas as pd\n",
    "import numpy as np\n",
    "import random\n",
    "import keras\n",
    "import time\n",
    "import cv2\n",
    "import os"
   ]
  },
  {
   "cell_type": "code",
   "execution_count": 2,
   "metadata": {},
   "outputs": [],
   "source": [
    "root_dir = \"Results/Emsemble_5_Fold______interdental20200909-170725_Max\""
   ]
  },
  {
   "cell_type": "code",
   "execution_count": 3,
   "metadata": {},
   "outputs": [
    {
     "name": "stdout",
     "output_type": "stream",
     "text": [
      "Loading model......\n",
      "Finish Loading, cost 443.6230425834656 sec.....\n",
      "Loading model......\n",
      "Finish Loading, cost 456.5666937828064 sec.....\n",
      "Loading model......\n",
      "Finish Loading, cost 453.281183719635 sec.....\n",
      "Loading model......\n",
      "Finish Loading, cost 460.01553773880005 sec.....\n",
      "Loading model......\n",
      "Finish Loading, cost 467.0210380554199 sec.....\n"
     ]
    }
   ],
   "source": [
    "for i in range(1, 6, 1):\n",
    "        K.clear_session()\n",
    "        dataset_table = f\"{root_dir}/Fold_{i}/table/test_dataset.csv\"\n",
    "        param_path = f\"{root_dir}/Fold_{i}/Inception_Fold_{i}/parameter\"\n",
    "        grad_cam_dir = f\"{root_dir}/Fold_{i}/Inception_Fold_{i}/Grad_Cam\"\n",
    "        \n",
    "        if not os.path.isdir(grad_cam_dir) : os.makedirs(grad_cam_dir)\n",
    "        best_param = get_k_top_value(param_path, k_th=1)\n",
    "        \n",
    "        K.clear_session()\n",
    "        print(\"Loading model......\")\n",
    "        start = time.time()\n",
    "        model = load_model(best_param[0])\n",
    "        end   = time.time()\n",
    "        elapse = end - start\n",
    "        print(f\"Finish Loading, cost {elapse} sec.....\")\n",
    "        \n",
    "        test_data = pd.read_csv(dataset_table)\n",
    "        all_GT = list(test_data[\"Class\"])\n",
    "        all_image_path = list(test_data[\"Path\"])\n",
    "        count = 0\n",
    "        \n",
    "        for path, gt in zip(all_image_path, all_GT):\n",
    "                if count >= 200: break \n",
    "                basename = os.path.basename(path)\n",
    "                \n",
    "                test_image = cv2.imread(path, 0)\n",
    "                test_image = cv2.resize(test_image,(180, 200))\n",
    "                test_image = np.reshape(test_image, (*test_image.shape, 1))\n",
    "                test_image = np.expand_dims(test_image, axis=0)\n",
    "                prediction = model.predict(test_image)\n",
    "                predict    = np.argmax(prediction[0])\n",
    "                gradcam    = grad_cam(model,     test_image, layer_name='mixed10', H=180, W=200)\n",
    "                \n",
    "        #         gradcamplus = grad_cam_plus(model,test_image, layer_name='mixed10', H=200, W=180)\n",
    "\n",
    "                orig_img = cv2.imread(path)\n",
    "\n",
    "                gradcam = cv2.resize(gradcam, (orig_img.shape[1], orig_img.shape[0]))\n",
    "\n",
    "#                 fig, ax = plt.subplots(nrows=1,ncols=2)\n",
    "#                 plt.subplot(121)\n",
    "#                 plt.imshow(orig_img, cmap='gray')\n",
    "#                 plt.title(\"input image\")\n",
    "#                 plt.axis('off')\n",
    "\n",
    "\n",
    "#                 plt.subplot(122)\n",
    "                plt.imshow(orig_img, cmap='gray')\n",
    "                plt.imshow(gradcam,alpha=0.5,cmap=\"jet\")\n",
    "                plt.axis('off')\n",
    "            \n",
    "                image_name = os.path.splitext(basename)[0]\n",
    "                plt.savefig(f\"{grad_cam_dir}/{image_name}_GT_{gt}_PD_{predict}.png\")\n",
    "                plt.close()\n",
    "                count += 1\n",
    "        K.clear_session()\n",
    "#                 plt.title(\"Grad-CAM\")\n",
    "#                 plt.show()"
   ]
  },
  {
   "cell_type": "code",
   "execution_count": 4,
   "metadata": {},
   "outputs": [],
   "source": [
    "# path = all_image_path[0]\n",
    "# test_image = cv2.imread(path, 0)\n",
    "# test_image = cv2.resize(test_image,(180, 200))\n",
    "# test_image = np.reshape(test_image, (*test_image.shape, 1))\n",
    "# test_image = np.expand_dims(test_image, axis=0)\n",
    "\n",
    "# predictions = model.predict(test_image)\n",
    "# predictions"
   ]
  },
  {
   "cell_type": "code",
   "execution_count": 5,
   "metadata": {
    "scrolled": false
   },
   "outputs": [],
   "source": [
    "# for path in all_image_path:\n",
    "# #         path = all_image_path[0]\n",
    "#         test_image = cv2.imread(path, 0)\n",
    "#         test_image = cv2.resize(test_image,(180, 200))\n",
    "#         test_image = np.reshape(test_image, (*test_image.shape, 1))\n",
    "#         test_image = np.expand_dims(test_image, axis=0)\n",
    "\n",
    "#         gradcam     = grad_cam(model,     test_image, layer_name='mixed10', H=180, W=200)\n",
    "# #         gradcamplus = grad_cam_plus(model,test_image, layer_name='mixed10', H=200, W=180)\n",
    "\n",
    "#         orig_img = cv2.imread(path)\n",
    "        \n",
    "#         gradcam = cv2.resize(gradcam, (orig_img.shape[1], orig_img.shape[0]))\n",
    "                                          \n",
    "#         # print(\"class activation map for:\",top[0])\n",
    "#         fig, ax = plt.subplots(nrows=1,ncols=2)\n",
    "#         plt.subplot(121)\n",
    "#         plt.imshow(orig_img, cmap='gray')\n",
    "#         plt.title(\"input image\")\n",
    "#         plt.axis('off')\n",
    "\n",
    "\n",
    "#         plt.subplot(122)\n",
    "#         plt.imshow(orig_img, cmap='gray')\n",
    "#         plt.imshow(gradcam,alpha=0.4,cmap=\"jet\")\n",
    "#         plt.axis('off')\n",
    "#         plt.title(\"Grad-CAM\")\n",
    "#         plt.show()\n",
    "\n",
    "#         plt.subplot(133)\n",
    "#         plt.imshow(orig_img, cmap='gray')\n",
    "#         plt.imshow(gradcamplus,alpha=0.4,cmap=\"jet\")\n",
    "#         plt.title(\"Grad-CAM++\")\n",
    "#         plt.axis('off')\n",
    "#         plt.show()"
   ]
  },
  {
   "cell_type": "code",
   "execution_count": null,
   "metadata": {},
   "outputs": [],
   "source": []
  }
 ],
 "metadata": {
  "kernelspec": {
   "display_name": "Python 3",
   "language": "python",
   "name": "python3"
  },
  "language_info": {
   "codemirror_mode": {
    "name": "ipython",
    "version": 3
   },
   "file_extension": ".py",
   "mimetype": "text/x-python",
   "name": "python",
   "nbconvert_exporter": "python",
   "pygments_lexer": "ipython3",
   "version": "3.6.10"
  }
 },
 "nbformat": 4,
 "nbformat_minor": 4
}
