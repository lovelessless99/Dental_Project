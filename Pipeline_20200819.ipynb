{
 "cells": [
  {
   "cell_type": "code",
   "execution_count": 1,
   "metadata": {},
   "outputs": [],
   "source": [
    "from tqdm.notebook import tqdm as tqdm\n",
    "from scipy.spatial import distance\n",
    "from datetime import datetime\n",
    "from math import cos, sin\n",
    "\n",
    "import matplotlib.pyplot as plt\n",
    "import pandas as pd\n",
    "import numpy as np\n",
    "import json\n",
    "import glob\n",
    "import math\n",
    "import cv2\n",
    "import abc\n",
    "import os\n"
   ]
  },
  {
   "cell_type": "markdown",
   "metadata": {},
   "source": [
    "# Image Behavior Definition"
   ]
  },
  {
   "cell_type": "code",
   "execution_count": 2,
   "metadata": {},
   "outputs": [],
   "source": [
    "class Dental_Crop:\n",
    "        \n",
    "        @staticmethod\n",
    "        def polygon(image, points):\n",
    "                regular_point = points - points.min(axis=0)\n",
    "                rect = cv2.boundingRect(points)\n",
    "                x, y, w, h = rect\n",
    "                croped = image[y:y+h, x:x+w].copy() \n",
    "                mask = np.zeros(croped.shape, np.uint8)\n",
    "                cv2.drawContours(mask, [regular_point], -1, (255, 255, 255), -1, cv2.LINE_AA)\n",
    "                polygon_tooth = cv2.bitwise_and(croped, croped, mask=mask)\n",
    "                return polygon_tooth\n",
    "        \n",
    "        \n",
    "        @staticmethod\n",
    "        def quarter_polygon(image, points, right=True):\n",
    "                regular_point = points - points.min(axis=0)\n",
    "                \n",
    "                if right == True:\n",
    "                    points = get_quarter_points(points, right)\n",
    "                \n",
    "                rect = cv2.boundingRect(points)\n",
    "                x, y, w, h = rect\n",
    "                croped = image[y:y+h, x:x+w].copy() \n",
    "                mask = np.zeros(croped.shape, np.uint8)\n",
    "                cv2.drawContours(mask, [regular_point], -1, (255, 255, 255), -1, cv2.LINE_AA)\n",
    "                polygon_tooth = cv2.bitwise_and(croped, croped, mask=mask)\n",
    "                return polygon_tooth\n",
    "        \n",
    "        @staticmethod\n",
    "        def rectangle(image, points):\n",
    "                rect = cv2.boundingRect(points)\n",
    "                x, y, w, h = rect\n",
    "                croped = image[y:y+h, x:x+w].copy() \n",
    "                return croped"
   ]
  },
  {
   "cell_type": "code",
   "execution_count": 3,
   "metadata": {},
   "outputs": [],
   "source": [
    "class Dental_Rotation:\n",
    "        \n",
    "        @staticmethod\n",
    "        def rotate(image, points, image_center, rotate_angle, max_rect=True):\n",
    "                rotate_image = rotate(image, rotate_angle, image_center, max_rect)\n",
    "                return rotate_image\n",
    "            \n",
    "        @staticmethod\n",
    "        def centralize(image, points, max_rect=True):\n",
    "                rotate_angle = get_tooth_degree(image, points)\n",
    "                rotate_image = rotate(image, rotate_angle, max_rect)\n",
    "                return rotate_image\n"
   ]
  },
  {
   "cell_type": "code",
   "execution_count": 4,
   "metadata": {},
   "outputs": [],
   "source": [
    "class border_preprocessing:\n",
    "       \n",
    "        @staticmethod\n",
    "        def trim_border(image):\n",
    "                if not np.sum(image[0]):     \n",
    "                        return border_preprocessing.trim_border(image[1:])\n",
    "\n",
    "                elif not np.sum(image[-1]):  \n",
    "                        return border_preprocessing.trim_border(image[:-2])\n",
    "\n",
    "                elif not np.sum(image[:,0]):\n",
    "                        return border_preprocessing.trim_border(image[:,1:]) \n",
    "\n",
    "                elif not np.sum(image[:,-1]):\n",
    "                        return border_preprocessing.trim_border(image[:,:-2])    \n",
    "                return image\n",
    "        \n",
    "        @staticmethod\n",
    "        def padding(image, padding_height = 700, padding_width = 400):\n",
    "                mask_size = (padding_height, padding_width)\n",
    "                tooth_h, tooth_w = image.shape\n",
    "                mask = np.zeros(mask_size)\n",
    "                yoff = round((mask_size[0]-tooth_h)/2)\n",
    "                xoff = round((mask_size[1]-tooth_w)/2)\n",
    "                result = mask.copy()\n",
    "                result[yoff:yoff+tooth_h, xoff:xoff+tooth_w] = image\n",
    "                return result\n",
    "            "
   ]
  },
  {
   "cell_type": "code",
   "execution_count": 5,
   "metadata": {},
   "outputs": [],
   "source": [
    "def init_directory(directory): \n",
    "        if not os.path.exists(directory):\n",
    "                os.makedirs(directory)\n",
    "def pd_dict_2_pd_dataframe(pd_json):\n",
    "        table = pd.DataFrame(columns=[\"id\", \"left\", \"right\"])\n",
    "\n",
    "        for key in pd_json:\n",
    "                front = pd_json[key][\"lingual\"][\"CAL\"]\n",
    "                back  = pd_json[key][\"buccal\"][\"CAL\"]\n",
    "                left  = min(front[0], back[0])\n",
    "                right = min(front[2], back[2])\n",
    "                table = table.append({\n",
    "                        \"id\": key,\n",
    "                        \"left\": left,\n",
    "                        \"right\": right\n",
    "                }, ignore_index=True)\n",
    "\n",
    "        table.set_index(\"id\" , inplace=True) \n",
    "        return table\n",
    "\n",
    "def get_table_file(patient_id):\n",
    "        table_infos = [ i for i in glob.iglob(\"Data/*/*.json\")]\n",
    "        for table_name in table_infos:\n",
    "                if patient_id in table_name:\n",
    "                        pd_json   = json.load(open(table_name, \"r\"))\n",
    "                        pd_table = pd_dict_2_pd_dataframe(pd_json)\n",
    "                        return pd_table\n",
    "                    \n",
    "def get_PD_pair(pd_table, label_name):\n",
    "        \n",
    "        number, side = label_name.split(\"_\") \n",
    "        result = pd_table.loc[[number]].values[0]\n",
    "        \n",
    "        if side == \"LR\":\n",
    "                return (result[0], result[1])\n",
    "        elif side == \"L\" or side == \"LH\" or side == \"HL\": \n",
    "                return (result[0], -99)\n",
    "        elif side == \"R\" or side == \"RH\" or side == \"HR\":\n",
    "                return (-99, result[1])\n",
    "\n",
    "def rotate(image, angle, image_center, max_bound_rect=True):\n",
    "        \n",
    "        height, width = image.shape[:2] # image shape has 3 dimensions\n",
    "        rotation_mat = cv2.getRotationMatrix2D(image_center, angle, 1)\n",
    "        \n",
    "        if not max_bound_rect:\n",
    "                rotated_image = cv2.warpAffine(image, rotation_mat, (width, height))\n",
    "                return rotated_image\n",
    "            \n",
    "        # rotation calculates the cos and sin, taking absolutes of those.\n",
    "        abs_cos = abs(rotation_mat[0,0]) \n",
    "        abs_sin = abs(rotation_mat[0,1])\n",
    "\n",
    "        # find the new width and height bounds\n",
    "        bound_w = int(height * abs_sin + width * abs_cos)\n",
    "        bound_h = int(height * abs_cos + width * abs_sin)\n",
    "\n",
    "        rotation_mat[0, 2] += bound_w/2 - image_center[0]\n",
    "        rotation_mat[1, 2] += bound_h/2 - image_center[1]\n",
    "\n",
    "        # rotate image with the new bounds and translated rotation matrix\n",
    "        rotated_image = cv2.warpAffine(image, rotation_mat, (bound_w, bound_h))\n",
    "        return rotated_image\n",
    "\n",
    "def recognize_line(line):\n",
    "        sort_up_and_down = lambda line: [line[1], line[0]] if line[1][1] < line[0][1] else line\n",
    "        check_clockwise  = lambda line: True if line[0][0] > line[1][0] else False    # up >>>> down\n",
    "        line = sort_up_and_down(line)\n",
    "        clockwise = check_clockwise(line)\n",
    "        return line, clockwise\n",
    "    \n",
    "def get_line_angle(line, clockwise):\n",
    "        vector = line[1] - line[0]\n",
    "        length = np.linalg.norm(vector)\n",
    "        cos    = np.dot(vector, [0, 1]) / length\n",
    "        angle = math.acos(cos) *180 / math.pi\n",
    "        return angle if clockwise == True else -angle\n",
    "\n",
    "def get_tooth_degree(points):\n",
    "        points = sorted(points ,key=lambda point:point[1])\n",
    "        up_center_point   = [(points[0][0]+points[1][0])/2,(points[0][1]+points[1][1])/2]\n",
    "        down_center_point = [(points[2][0]+points[3][0])/2,(points[2][1]+points[3][1])/2]\n",
    "        midline = [up_center_point,down_center_point]\n",
    "        midline = np.array(midline)\n",
    "        midline , midline_direction = recognize_line(midline)\n",
    "        midline_angle = get_line_angle(midline, midline_direction)\n",
    "        \n",
    "#         clock = lambda x: \"clockwise\" if x == True else \"counterclockwise\"\n",
    "        return midline_angle\n",
    "\n",
    "\n",
    "\n",
    "def get_new_rotate_center(points, rotate_center):\n",
    "        points = sorted(points ,key=lambda point:point[1])\n",
    "        ux, uy = [(points[0][0]+points[1][0])/2,(points[0][1]+points[1][1])/2]\n",
    "        dx, dy = [(points[2][0]+points[3][0])/2,(points[2][1]+points[3][1])/2]\n",
    "        rcx, rcy = rotate_center\n",
    "        \n",
    "        t = (rcy-uy) / (dy-uy)\n",
    "        new_rcx = ux + ( dx - ux ) * t\n",
    "        return (int(new_rcx), rcy) \n",
    "        "
   ]
  },
  {
   "cell_type": "code",
   "execution_count": 6,
   "metadata": {},
   "outputs": [],
   "source": [
    "class Image_Pipeline:\n",
    "        def __init__(self, output_dir, input_dir, **kwargs):\n",
    "                self.output_dir = output_dir\n",
    "                self.input_dir  = input_dir\n",
    "                \n",
    "                for name, value in kwargs.items():\n",
    "                        setattr(self, name, value)\n",
    "                \n",
    "        def run(self):\n",
    "                raise NotImplementedError"
   ]
  },
  {
   "cell_type": "markdown",
   "metadata": {},
   "source": [
    "# CAL Pipeline ( To Do : Table to Dict , and need to decouple ! )"
   ]
  },
  {
   "cell_type": "code",
   "execution_count": 7,
   "metadata": {},
   "outputs": [],
   "source": [
    "class CAL_Pipeline(Image_Pipeline):\n",
    "        def __init__(self, output_dir, input_dir, **kwargs):\n",
    "                super(CAL_Pipeline, self).__init__(output_dir, input_dir, **kwargs) \n",
    "                if not hasattr(self, \"rotate_range\"):\n",
    "                        raise AttributeError\n",
    "                \n",
    "                if not hasattr(self, \"enhance\"):\n",
    "                        raise AttributeError\n",
    "        \n",
    "        def run(self):\n",
    "                jsons = [ i for i in glob.iglob(\"%s/*/*/*.json\" % self.input_dir)]\n",
    "                images = [ i.replace(\"json\", \"png\") for i in jsons]\n",
    "\n",
    "                mapping_dict = {}\n",
    "                no_table, no_side = set(), set()\n",
    "                init_directory(self.output_dir)\n",
    "                \n",
    "                \n",
    "                for data, image in tqdm(zip(jsons, images)):\n",
    "                        tooth_img  = cv2.imread(image, 0)\n",
    "                        tooth_data = json.load(open(data, \"r\"))[\"shapes\"]\n",
    "                        patient_id = image.split(\"\\\\\")[1]\n",
    "                        pd_table   = get_table_file(patient_id)\n",
    "            \n",
    "                        if pd_table is None:\n",
    "                                no_table.add(patient_id)\n",
    "                                continue\n",
    "\n",
    "                        for tooth in tooth_data:\n",
    "                                pd_pair  = get_PD_pair(pd_table, tooth[\"label\"])\n",
    "                                points   = np.array(tooth[\"points\"]).astype(int)\n",
    "                                points   = np.where(points < 0, 0, points)\n",
    "                                \n",
    "                                rect = cv2.boundingRect(points)\n",
    "                                x, y, w, h = rect\n",
    "                                mask = np.zeros(tooth_img.shape, np.uint8)\n",
    "                                mask[y:y+h, x:x+w] = 255\n",
    "                                rotate_center = ( (2*x+w)//2, (2*y+h)//2 )\n",
    "                                \n",
    "                                zero_degree = int(get_tooth_degree(points))\n",
    "                                deg_lowbound, deg_upperbound, step = self.rotate_range\n",
    "                                \n",
    "                                deg_lowbound -= zero_degree\n",
    "                                deg_upperbound -= zero_degree\n",
    "                                \n",
    "                                for idx, degree in enumerate(range(deg_lowbound, deg_upperbound, step), 1):\n",
    "                                        rect = cv2.boundingRect(points)\n",
    "                                        \n",
    "                                        ro_mask = Dental_Rotation.rotate(mask, points, rotate_center, degree, max_rect=False)\n",
    "                                        ro_tooth = cv2.bitwise_and(tooth_img, tooth_img, mask=ro_mask)\n",
    "                                        ro_tooth = rotate(ro_tooth, -degree, rotate_center)\n",
    "                                        ro_tooth = border_preprocessing.trim_border(ro_tooth)\n",
    "                                        \n",
    "                                        tooth_h, tooth_w = ro_tooth.shape\n",
    "                                        \n",
    "                                        if pd_pair == None:\n",
    "                                                no_side.add(data)\n",
    "                                                continue\n",
    "                                        \n",
    "                                        if self.enhance:\n",
    "                                                ro_tooth = cv2.equalizeHist(ro_tooth.astype(\"uint8\"))\n",
    "                                        \n",
    "                                        number, side = tooth[\"label\"].split(\"_\")\n",
    "\n",
    "                                        if int(number) <= 16:\n",
    "                                                ro_tooth = cv2.flip(ro_tooth, 0)\n",
    "\n",
    "                                        filename = datetime.utcnow().isoformat(sep='-', timespec='milliseconds').replace(\".\", \"-\").replace(\":\", \"-\")[-12:]\n",
    "                                        filename = '%s/%s_%s_%s_%d.png' % (self.output_dir, filename, image.split(\"\\\\\")[2], number, degree + zero_degree)   \n",
    "                                        \n",
    "                                        mapping_dict[filename] = pd_pair\n",
    "                                        if not cv2.imwrite(filename, ro_tooth):\n",
    "                                             raise Exception(\"Could not write image\")\n",
    "                                    \n",
    "                json.dump(mapping_dict, open(\"%s/mapping.json\" % self.output_dir, 'w'), indent=4)\n",
    "\n",
    "                with open(\"%s/loss_table\" % self.output_dir, \"w\") as f:\n",
    "                        no_table = list(no_table)\n",
    "                        no_table = \"\\n\".join(no_table)\n",
    "                        f.write(no_table)\n",
    "\n",
    "                with open(\"%s/loss_side\" % self.output_dir, \"w\") as f:\n",
    "                        no_side = list(no_side)\n",
    "                        no_side = \"\\n\".join(no_side)\n",
    "                        f.write(no_side)\n"
   ]
  },
  {
   "cell_type": "markdown",
   "metadata": {},
   "source": [
    "# PBL Pipeline"
   ]
  },
  {
   "cell_type": "code",
   "execution_count": 8,
   "metadata": {},
   "outputs": [],
   "source": [
    "class PBL_situation:\n",
    "        def __init__(self, PBLTable_path, DataPath, GT):\n",
    "                self.PBLTable_path = PBLTable_path\n",
    "                self.DataPath      = DataPath\n",
    "                self.GT            = GT\n",
    "                \n",
    "        def clean_invalid_value(self):\n",
    "                self.PBL_Table = pd.read_csv(self.PBLTable_path, sep=\",\")\n",
    "                dir_name = [ \"%s/\" % self.DataPath + i.split(\" \")[0] for i in list(self.PBL_Table[\"sub_dir_name\"]) ]\n",
    "                self.PBL_Table[\"dir_name\"] = dir_name\n",
    "                self.PBL_Table = self.PBL_Table[[\"dir_name\", \"sub_dir_name\", \"image_name\", \"tooth_num\", self.GT]]\n",
    "#                 self.PBL_Table = self.PBL_Table[~self.PBL_Table[\"tooth_num\"].isnull() & ~self.PBL_Table[\"state\"].isnull()]\n",
    "#                 self.PBL_Table = self.PBL_Table.astype(\"str\")\n",
    "#                 self.PBL_Table = self.PBL_Table.replace( {'state' : { '2': -999, '0'  : 0          }} )\n",
    "#                 self.PBL_Table = self.PBL_Table.replace( {'state' : { 'III' : 3, 'II' : 2, 'I' : 1 }} )\n",
    "#                 self.PBL_Table = self.PBL_Table.replace( {'state' : { 'iii' : 3, 'ii' : 2, 'i' : 1 }} )\n",
    "                self._PBL_directory = np.unique(self.PBL_Table[\"dir_name\"])\n",
    "                return self\n",
    "         \n",
    "        def MD_transfer_LR(self):\n",
    "                pathes = []\n",
    "                for idx, row in self.PBL_Table.iterrows():\n",
    "                        tooth_num = row[\"tooth_num\"][:-1]\n",
    "                        if not tooth_num.isdigit():\n",
    "                                self.PBL_Table.drop(idx, inplace=True)\n",
    "                                continue\n",
    "                        else:\n",
    "\n",
    "                                if  9 <= int(tooth_num) <= 24: # L--> M, R-->D\n",
    "                                        if \"M\" in row[\"tooth_num\"]:\n",
    "                                                self.PBL_Table.loc[ idx ,\"tooth_num\"] = tooth_num + \"L\"\n",
    "                                        if \"D\" in row[\"tooth_num\"]:\n",
    "                                                self.PBL_Table.loc[ idx ,\"tooth_num\"] = tooth_num + \"R\"\n",
    "\n",
    "                                elif 1 <= int(tooth_num) <= 8 or 24 < int(tooth_num) <= 32:\n",
    "                                        if \"M\" in row[\"tooth_num\"]:\n",
    "                                                self.PBL_Table.loc[ idx ,\"tooth_num\"] = tooth_num + \"R\"\n",
    "                                        if \"D\" in row[\"tooth_num\"]:\n",
    "                                                self.PBL_Table.loc[ idx ,\"tooth_num\"] = tooth_num + \"L\"\n",
    "\n",
    "                                else:\n",
    "                                        print(row)\n",
    "                                        raise ValueError\n",
    "\n",
    "                        path = \"%s/%s/%s.PNG\" % (row[\"dir_name\"], row[\"sub_dir_name\"], row[\"image_name\"])\n",
    "                        pathes.append(path)\n",
    "\n",
    "                self.PBL_Table[\"path\"] = pathes\n",
    "                self._Simple_PBL_Table = self.PBL_Table.loc[:, [\"path\", \"tooth_num\", self.GT]]\n",
    "                self._Simple_PBL_Table = self._Simple_PBL_Table[~self._Simple_PBL_Table[\"tooth_num\"].isnull()]\n",
    "                \n",
    "                return self\n",
    "        \n",
    "        \n",
    "        def table_2_dict(self):\n",
    "                raise NotImplementedError\n",
    "                \n",
    "        def run(self):\n",
    "                self.clean_invalid_value().MD_transfer_LR().table_2_dict()\n",
    "                return self\n",
    "\n",
    "            \n",
    "        @property\n",
    "        def label_dict(self):\n",
    "                return self._label_dict\n",
    "        \n",
    "        @property\n",
    "        def Simple_PBL_Table(self):\n",
    "                return self._Simple_PBL_Table\n",
    "        \n",
    "        @property\n",
    "        def PBL_directory(self):\n",
    "                return self._PBL_directory"
   ]
  },
  {
   "cell_type": "code",
   "execution_count": 9,
   "metadata": {},
   "outputs": [],
   "source": [
    "class PBL_situation_original(PBL_situation):\n",
    "        def __init__(self, PBLTable_path, DataPath, GT, **kwargs):\n",
    "                super(PBL_situation_original, self).__init__(PBLTable_path, DataPath, GT, **kwargs) \n",
    "        \n",
    "        def table_2_dict(self):\n",
    "                image_groups = self._Simple_PBL_Table.groupby(\"path\")\n",
    "                self._label_dict = {}\n",
    "\n",
    "                for group in image_groups.groups:\n",
    "                        if group not in self._label_dict:\n",
    "                                self._label_dict[group] = {}\n",
    "\n",
    "                        for idx, item in image_groups.get_group(group).iterrows():\n",
    "                                tooth_num = item[\"tooth_num\"][:-1]\n",
    "                                if tooth_num not in self._label_dict[group]:\n",
    "                                        self._label_dict[group][tooth_num] = [-99, -99]\n",
    "\n",
    "                                if item[\"tooth_num\"][-1] == \"L\":\n",
    "                                        self._label_dict[group][tooth_num][0] = item[self.GT]\n",
    "\n",
    "                                elif item[\"tooth_num\"][-1] == \"R\":\n",
    "                                        self._label_dict[group][tooth_num][1] = item[self.GT]\n",
    "\n",
    "                                else:\n",
    "                                        print(item[\"tooth_num\"])\n",
    "                                        raise ValueError \n",
    "                return self "
   ]
  },
  {
   "cell_type": "code",
   "execution_count": 10,
   "metadata": {},
   "outputs": [],
   "source": [
    "class PBL_situation_Max_4(PBL_situation):\n",
    "        def __init__(self, PBLTable_path, DataPath, GT, **kwargs):\n",
    "                super(PBL_situation_Max_4, self).__init__(PBLTable_path, DataPath, GT, **kwargs) \n",
    "                \n",
    "        def attend_hole(self, tooth_array):\n",
    "                tooth_dict = {}\n",
    "                length = len(tooth_array)\n",
    "                for idx in range(0, length):\n",
    "                        curr_num, curr_value = tooth_array[ idx ]\n",
    "                        \n",
    "                        if str(curr_num) not in tooth_dict:\n",
    "                                tooth_dict[str(curr_num)] = [-99, -99]\n",
    "\n",
    "                        if idx + 1 == length:\n",
    "                                prev_num, prev_value = tooth_array[ idx - 1 ]\n",
    "                                if curr_num != prev_num:\n",
    "                                        tooth_dict[str(curr_num)][0] = max(curr_value, prev_value)\n",
    "                                else:\n",
    "                                        tooth_dict[str(curr_num)][1] = curr_value\n",
    "                                break\n",
    "\n",
    "                        next_num, next_value = tooth_array[ idx + 1 ]\n",
    "                        if curr_num == next_num:\n",
    "\n",
    "                                if idx > 0: \n",
    "                                        prev_num, prev_value = tooth_array[ idx - 1 ] \n",
    "                                        if curr_num != prev_num:\n",
    "                                                tooth_dict[str(curr_num)][0] = max(curr_value, prev_value)\n",
    "                                else:\n",
    "                                        tooth_dict[str(curr_num)][0] = curr_value\n",
    "\n",
    "                        else:  \n",
    "                                tooth_dict[str(curr_num)][1] = max(curr_value, next_value)\n",
    "                return tooth_dict\n",
    "            \n",
    "        def table_2_dict(self):\n",
    "                image_groups = self._Simple_PBL_Table.groupby(\"path\")\n",
    "                self._label_dict = {}\n",
    "\n",
    "                for group in image_groups.groups:\n",
    "                        if group not in self._label_dict:\n",
    "                                self._label_dict[group] = {}\n",
    "\n",
    "                        temp_info = {}\n",
    "\n",
    "                        for idx, item in image_groups.get_group(group).iterrows():\n",
    "\n",
    "                                tooth_num = item[\"tooth_num\"][:-1]\n",
    "                                if item[\"tooth_num\"][-1] == \"L\":\n",
    "                                        temp_info[item[\"tooth_num\"]] = item[\"state\"]\n",
    "\n",
    "\n",
    "                                elif item[\"tooth_num\"][-1] == \"R\":\n",
    "                                        temp_info[item[\"tooth_num\"]] = item[\"state\"]  \n",
    "\n",
    "                                else:\n",
    "                                        print(item[\"tooth_num\"])\n",
    "                                        raise ValueError \n",
    "\n",
    "\n",
    "                        temp_info_array = [ [ int(k[:-1]), v ] for k, v in temp_info.items()] \n",
    "                        temp_dict = self.attend_hole(temp_info_array)\n",
    "\n",
    "                        for idx, item in image_groups.get_group(group).iterrows():\n",
    "                                tooth_num = item[\"tooth_num\"][:-1]\n",
    "                                self._label_dict[group][tooth_num] = temp_dict[tooth_num]\n",
    "                return self "
   ]
  },
  {
   "cell_type": "code",
   "execution_count": 11,
   "metadata": {},
   "outputs": [],
   "source": [
    "class PBL_Pipeline(Image_Pipeline):\n",
    "        def __init__(self, output_dir, input_dir, **kwargs):\n",
    "                super(PBL_Pipeline, self).__init__(output_dir, input_dir, **kwargs) \n",
    "                if not hasattr(self, \"rotate_range\"):\n",
    "                        raise AttributeError\n",
    "                \n",
    "                if not hasattr(self, \"enhance\"):\n",
    "                        raise AttributeError\n",
    "                \n",
    "                if not hasattr(self, \"GT_Table\"):\n",
    "                        raise AttributeError\n",
    "                \n",
    "                if not hasattr(self, \"GT\"):\n",
    "                        raise AttributeError\n",
    "                \n",
    "                \n",
    "                    \n",
    "                self.PBL_Info = PBL_situation_Max_4      ( self.GT_Table, \"Label\", self.GT).run() if self.max_4 else\\\n",
    "                                PBL_situation_original   ( self.GT_Table, \"Label\", self.GT).run()\n",
    "                        \n",
    "                self.jsons = [ i for directory in self.PBL_Info.PBL_directory for i in glob.iglob(\"%s/*/*.json\" % directory) ]\n",
    "                self.images = [ i.replace(\"json\", \"PNG\").replace(\"\\\\\", \"/\") for i in self.jsons ]\n",
    "                \n",
    "        def run(self):\n",
    "                mapping_dict = {}\n",
    "                no_table, no_side = set(), set()\n",
    "                init_directory(self.output_dir)\n",
    "                clahe = cv2.createCLAHE(clipLimit=2.0, tileGridSize=(8,8))\n",
    "                \n",
    "                for data, image in tqdm(zip(self.jsons, self.images)):\n",
    "                    \n",
    "                        tooth_img  = cv2.imread(image.replace(\"Label\", \"Data_Segmentation\") if self.segmentation else image, 0)\n",
    "                        if self.enhance: tooth_img = clahe.apply(tooth_img)\n",
    "                        tooth_data = json.load(open(data, \"r\"))[\"shapes\"]\n",
    "                        basename = os.path.basename(image)\n",
    "                        basename = os.path.splitext(basename)[0]\n",
    "                        \n",
    "                        if tooth_img is None:\n",
    "                                print(\"%s is non-exist\" % image.replace(\"Label\", \"Data_Segmentation\") if self.segmentation else image)\n",
    "                                continue\n",
    "                        \n",
    "                        if self.segmentation:\n",
    "                                tooth_img[tooth_img == 76] = 0\n",
    "                                tooth_img[tooth_img == 29] = 127\n",
    "                                tooth_img[tooth_img == 149] = 255\n",
    "                                \n",
    "                        if image not in self.PBL_Info.label_dict:\n",
    "                                no_table.add(image)\n",
    "                                continue\n",
    "\n",
    "                        for tooth in tooth_data:\n",
    "                                points   = np.array(tooth[\"points\"]).astype(int)\n",
    "                                points   = np.where(points < 0, 0, points)\n",
    "                                rect = cv2.boundingRect(points)\n",
    "                                x, y, w, h = rect\n",
    "#                                 mask = np.zeros(tooth_img.shape, np.uint8)\n",
    "#                                 mask[y:y+h, x:x+w] = 255\n",
    "#                                 rotate_center = ( (2*x+w)//2, (2*y+h)//2 )\n",
    "                                \n",
    "                                zero_degree = int(get_tooth_degree(points))\n",
    "                                \n",
    "                                alpha = 0.66\n",
    "                                delta_w = abs(w * math.sin( zero_degree * math.pi  / 180 ) * alpha)\n",
    "                                \n",
    "                                delta_degree = abs(zero_degree) - 12\n",
    "                                delta_extra = 0\n",
    "                                if delta_degree > 0 :\n",
    "                                        delta_extra = delta_degree ** 1.2 / 200 * w # 200 more or less\n",
    "                                \n",
    "                                x = int(x - 0.5 * (delta_w + delta_degree) )\n",
    "                                w = int(w - delta_w - delta_degree )\n",
    "                                \n",
    "                                rotate_center = ( (2*x+w)//2, (2*y+h)//2 )\n",
    "                                new_rotate_center = get_new_rotate_center(points, rotate_center)\n",
    "                                delta_x = new_rotate_center[0] -  rotate_center[0]\n",
    "                                rotate_center = new_rotate_center\n",
    "                                \n",
    "                                if x + delta_x < 0: \n",
    "                                        x = 0\n",
    "                                        w = w + x + delta_x\n",
    "                                else: \n",
    "                                        x = x + delta_x\n",
    "                                \n",
    "                                if x + w + delta_x > tooth_img.shape[1]: \n",
    "                                        w = x + 2 * w + delta_x - tooth_img.shape[1]\n",
    "                                \n",
    "                                \n",
    "                                deg_lowbound, deg_upperbound, step = self.rotate_range\n",
    "                                \n",
    "                                deg_lowbound -= zero_degree\n",
    "                                deg_upperbound -= zero_degree\n",
    "                                \n",
    "                                for idx, degree in enumerate(range(deg_lowbound, deg_upperbound, step), 1):\n",
    "                                        rect = cv2.boundingRect(points)\n",
    "                                        \n",
    "                                        delta_w2 = int(0.33 * h * math.sin( abs(degree + zero_degree ) * math.pi / 180 ))\n",
    "                                        mask = np.zeros(tooth_img.shape, np.uint8)\n",
    "                                        mask[y:y+h, max(x-delta_w2, 0): min(x+delta_w2+w, tooth_img.shape[1]) ] = 255\n",
    "                                        \n",
    "                                        \n",
    "                                        ro_mask = Dental_Rotation.rotate(mask, points, rotate_center, degree, max_rect=False)\n",
    "                                        ro_tooth = cv2.bitwise_and(tooth_img, tooth_img, mask=ro_mask)\n",
    "                                        ro_tooth = rotate(ro_tooth, -degree, rotate_center)\n",
    "                                        ro_tooth = border_preprocessing.trim_border(ro_tooth)\n",
    "                                        \n",
    "                                        tooth_h, tooth_w = ro_tooth.shape\n",
    "                                        number, side = tooth[\"label\"].split(\"_\")\n",
    "                                        \n",
    "                                        if number not in self.PBL_Info.label_dict[image]:\n",
    "                                                no_side.add(data)\n",
    "                                                continue\n",
    "                                                \n",
    "#                                         if self.enhance:\n",
    "#                                                 ro_tooth = cv2.equalizeHist(ro_tooth.astype(\"uint8\"))\n",
    "\n",
    "                                        if int(number) <= 16:\n",
    "                                                ro_tooth = cv2.flip(ro_tooth, 0)\n",
    "\n",
    "                                        filename = datetime.utcnow().isoformat(sep='-', timespec='milliseconds').replace(\".\", \"-\").replace(\":\", \"-\")[-12:]\n",
    "                                        filename = '%s/%s_%s_%s_%s_%d.png' % (self.output_dir, filename, image.split(\"/\")[2], basename, number, degree + zero_degree)   \n",
    "                                        \n",
    "                                        mapping_dict[filename] = self.PBL_Info.label_dict[image][number]\n",
    "                                        if not cv2.imwrite(filename, ro_tooth):\n",
    "                                                 raise Exception(\"Could not write image\")\n",
    "                                \n",
    "                \n",
    "                json.dump(mapping_dict, open(\"%s/mapping.json\" % self.output_dir, 'w'), indent=4)\n",
    "\n",
    "                with open(\"%s/loss_table\" % self.output_dir, \"w\") as f:\n",
    "                        no_table = list(no_table)\n",
    "                        no_table = \"\\n\".join(no_table)\n",
    "                        f.write(no_table)\n",
    "\n",
    "                with open(\"%s/loss_side\" % self.output_dir, \"w\") as f:\n",
    "                        no_side = list(no_side)\n",
    "                        no_side = \"\\n\".join(no_side)\n",
    "                        f.write(no_side)\n"
   ]
  },
  {
   "cell_type": "code",
   "execution_count": 12,
   "metadata": {},
   "outputs": [],
   "source": [
    "class PBL_Pipeline_Quarter(Image_Pipeline):\n",
    "        def __init__(self, output_dir, input_dir, **kwargs):\n",
    "                super(PBL_Pipeline_Quarter, self).__init__(output_dir, input_dir, **kwargs) \n",
    "                if not hasattr(self, \"rotate_range\"):\n",
    "                        raise AttributeError\n",
    "                \n",
    "                if not hasattr(self, \"enhance\"):\n",
    "                        raise AttributeError\n",
    "                \n",
    "                if not hasattr(self, \"GT_Table\"):\n",
    "                        raise AttributeError\n",
    "                \n",
    "                if not hasattr(self, \"GT\"):\n",
    "                        raise AttributeError\n",
    "                        \n",
    "                self.PBL_Info = PBL_situation_Max_4      ( self.GT_Table, \"Label\", self.GT).run() if self.max_4 else\\\n",
    "                                PBL_situation_original   ( self.GT_Table, \"Label\", self.GT).run()\n",
    "                        \n",
    "                self.jsons = [ i for directory in self.PBL_Info.PBL_directory for i in glob.iglob(\"%s/*/*.json\" % directory) ]\n",
    "                self.images = [ i.replace(\"json\", \"PNG\").replace(\"\\\\\", \"/\") for i in self.jsons ]\n",
    "        \n",
    "        \n",
    "        def run(self):\n",
    "                mapping_dict = {}\n",
    "                no_table, no_side = set(), set()\n",
    "                init_directory(self.output_dir)\n",
    "                \n",
    "                \n",
    "                for data, image in tqdm(zip(self.jsons, self.images)):\n",
    "                        \n",
    "                        tooth_img  = cv2.imread(image.replace(\"Label\", \"Data_Segmentation\") if self.segmentation else image, 0)\n",
    "                        tooth_data = json.load(open(data, \"r\"))[\"shapes\"]\n",
    "                        \n",
    "                        \n",
    "                        \n",
    "                        if tooth_img is None:\n",
    "                                print(\"%s is non-exist\" % image.replace(\"Label\", \"Data_Segmentation\") if self.segmentation else image)\n",
    "                                continue\n",
    "                        \n",
    "                        if image not in self.PBL_Info.label_dict:\n",
    "                                no_table.add(image)\n",
    "                                continue\n",
    "\n",
    "                        for tooth in tooth_data:\n",
    "                                points   = np.array(tooth[\"points\"]).astype(int)\n",
    "                                points   = np.where(points < 0, 0, points)\n",
    "                                rect = cv2.boundingRect(points)\n",
    "                                x, y, w, h = rect\n",
    "                                \n",
    "#                                 w_2 = int(w * 0.75)\n",
    "#                                 mask_L = np.zeros(tooth_img.shape, np.uint8)\n",
    "#                                 mask_R = np.zeros(tooth_img.shape, np.uint8)\n",
    "                                \n",
    "#                                 if int( x - 0.25 * w ) >= 0 : mask_L[y:y+h, int(x-0.25*w) : int(x+0.5*w)] = 255 \n",
    "#                                 else: mask_L[y:y+h, 0:int(x+0.5*w)] = 255\n",
    "\n",
    "#                                 if int( x + 1.25 * w ) <= tooth_img.shape[1]:  mask_R[y:y+h, int(x+0.5*w) : int(x+1.25*w)] = 255 \n",
    "#                                 else: mask_R[y:y+h, int(x+0.5*w): tooth_img.shape[1] ] = 255\n",
    "                                \n",
    "                                \n",
    "                                mask = np.zeros(tooth_img.shape, np.uint8)\n",
    "                                rotate_center = ( (2*x+w)//2, (2*y+h)//2 )\n",
    "                                \n",
    "                                zero_degree = int(get_tooth_degree(points))\n",
    "                                deg_lowbound, deg_upperbound, step = self.rotate_range\n",
    "                                \n",
    "                                deg_lowbound -= zero_degree\n",
    "                                deg_upperbound -= zero_degree\n",
    "                                \n",
    "                                for idx, degree in enumerate(range(deg_lowbound, deg_upperbound, step), 1):\n",
    "                                        rect = cv2.boundingRect(points)\n",
    "                                        \n",
    "                                        ro_mask = Dental_Rotation.rotate(mask, points, rotate_center, degree, max_rect=False)\n",
    "                                        ro_tooth = cv2.bitwise_and(tooth_img, tooth_img, mask=ro_mask)\n",
    "                                        ro_tooth = rotate(ro_tooth, -degree, rotate_center)\n",
    "                                        ro_tooth = border_preprocessing.trim_border(ro_tooth)\n",
    "                                        \n",
    "                                        tooth_h, tooth_w = ro_tooth.shape\n",
    "                                        number, side = tooth[\"label\"].split(\"_\")\n",
    "                                        \n",
    "                                        if number not in self.PBL_Info.label_dict[image]:\n",
    "                                                no_side.add(data)\n",
    "                                                continue\n",
    "                                                \n",
    "                                        if self.enhance: ro_tooth = cv2.equalizeHist(ro_tooth.astype(\"uint8\"))\n",
    "\n",
    "                                        if int(number) <= 16 : ro_tooth = cv2.flip(ro_tooth, 0)\n",
    "                                        \n",
    "#                                         quarter_L_tooth = ro_tooth[:, : int(0.5 * tooth_w )]\n",
    "                                        filename = datetime.utcnow().isoformat(sep='-', timespec='milliseconds').replace(\".\", \"-\").replace(\":\", \"-\")[-12:]\n",
    "                                        filename = '%s/%s_%s_%s_%d_L.png' % (self.output_dir, filename, image.split(\"/\")[2], number, degree + zero_degree)   \n",
    "                                        mapping_dict[filename] = self.PBL_Info.label_dict[image][number][0]\n",
    "                                        if not cv2.imwrite(filename, quarter_L_tooth):\n",
    "                                                 raise Exception(\"Could not write image\")\n",
    "                                                \n",
    "#                                         quarter_R_tooth = ro_tooth[:, int(0.5 * tooth_w ): ]\n",
    "                                        quarter_R_tooth = cv2.flip(quarter_R_tooth, 1)\n",
    "                                        filename = datetime.utcnow().isoformat(sep='-', timespec='milliseconds').replace(\".\", \"-\").replace(\":\", \"-\")[-12:]\n",
    "                                        filename = '%s/%s_%s_%s_%d_R.png' % (self.output_dir, filename, image.split(\"/\")[2], number, degree + zero_degree)   \n",
    "                                        mapping_dict[filename] = self.PBL_Info.label_dict[image][number][1]\n",
    "                                        if not cv2.imwrite(filename, quarter_R_tooth):\n",
    "                                                 raise Exception(\"Could not write image\")\n",
    "                                        \n",
    "                                        \n",
    "                                \n",
    "                \n",
    "                json.dump(mapping_dict, open(\"%s/mapping.json\" % self.output_dir, 'w'), indent=4)\n",
    "\n",
    "                with open(\"%s/loss_table\" % self.output_dir, \"w\") as f:\n",
    "                        no_table = list(no_table)\n",
    "                        no_table = \"\\n\".join(no_table)\n",
    "                        f.write(no_table)\n",
    "\n",
    "                with open(\"%s/loss_side\" % self.output_dir, \"w\") as f:\n",
    "                        no_side = list(no_side)\n",
    "                        no_side = \"\\n\".join(no_side)\n",
    "                        f.write(no_side)\n"
   ]
  },
  {
   "cell_type": "code",
   "execution_count": 13,
   "metadata": {},
   "outputs": [],
   "source": [
    "class PBL_Pipeline_Interdental(Image_Pipeline):\n",
    "        def __init__(self, output_dir, input_dir, **kwargs):\n",
    "                super(PBL_Pipeline_Interdental, self).__init__(output_dir, input_dir, **kwargs) \n",
    "                if not hasattr(self, \"rotate_range\"):\n",
    "                        raise AttributeError\n",
    "                \n",
    "                if not hasattr(self, \"enhance\"):\n",
    "                        raise AttributeError\n",
    "                \n",
    "                if not hasattr(self, \"GT_Table\"):\n",
    "                        raise AttributeError\n",
    "                \n",
    "                 \n",
    "                if not hasattr(self, \"GT\"):\n",
    "                        raise AttributeError\n",
    "                        \n",
    "                self.PBL_Info = PBL_situation_Max_4      ( self.GT_Table, \"Label\", self.GT).run() if self.max_4 else\\\n",
    "                                PBL_situation_original   ( self.GT_Table, \"Label\", self.GT).run()\n",
    "                        \n",
    "                self.jsons = [ i for directory in self.PBL_Info.PBL_directory for i in glob.iglob(\"%s/*/*.json\" % directory) ]\n",
    "                self.images = [ i.replace(\"json\", \"PNG\").replace(\"\\\\\", \"/\") for i in self.jsons ]\n",
    "        \n",
    "        \n",
    "        def run(self):\n",
    "                mapping_dict = {}\n",
    "                no_table, no_side = set(), set()\n",
    "                init_directory(self.output_dir)\n",
    "                clahe = cv2.createCLAHE(clipLimit=2.0, tileGridSize=(8,8))\n",
    "                \n",
    "                \n",
    "                for data, image in tqdm(zip(self.jsons, self.images)):\n",
    "                        \n",
    "                        tooth_img  = cv2.imread(image.replace(\"Label\", \"Data_Segmentation\") if self.segmentation else image, 0)\n",
    "                        if self.enhance: tooth_img = clahe.apply(tooth_img)\n",
    "                        tooth_data = json.load(open(data, \"r\"))[\"shapes\"]\n",
    "                        basename = os.path.basename(image)\n",
    "                        basename = os.path.splitext(basename)[0]\n",
    "                        if tooth_img is None:\n",
    "                                print(\"%s is non-exist\" % image.replace(\"Label\", \"Data_Segmentation\") if self.segmentation else image)\n",
    "                                continue\n",
    "                        \n",
    "                        if image not in self.PBL_Info.label_dict:\n",
    "                                no_table.add(image)\n",
    "                                continue\n",
    "\n",
    "                        for tooth in tooth_data:\n",
    "                                points   = np.array(tooth[\"points\"]).astype(int)\n",
    "                                points   = np.where(points < 0, 0, points)\n",
    "                                rect = cv2.boundingRect(points)\n",
    "                                x, y, w, h = rect\n",
    "                                \n",
    "                                zero_degree = int(get_tooth_degree(points))\n",
    "                                \n",
    "                                alpha = 0.66\n",
    "                                delta_w = abs(w * math.sin( zero_degree * math.pi  / 180 ) * alpha)\n",
    "                                \n",
    "#                                 beta = 0.7\n",
    "#                                 delta_w = abs(zero_degree) / 60 * beta \n",
    "                                delta_degree = abs(zero_degree) - 12\n",
    "                                delta_extra = 0\n",
    "                                if delta_degree > 0 :\n",
    "                                        delta_extra = delta_degree ** 1.2 / 200 * w # 200 more or less\n",
    "                                \n",
    "                                x = int(x - 0.5 * (delta_w + delta_degree) )\n",
    "                                w = int(w - delta_w - delta_degree )\n",
    "\n",
    "#                                 x = int(x - 0.5 * delta_w)\n",
    "#                                 w = int(w - delta_w)\n",
    "                                \n",
    "                                \n",
    "                                rotate_center = ( (2*x+w)//2, (2*y+h)//2 )\n",
    "                                new_rotate_center = get_new_rotate_center(points, rotate_center)\n",
    "                                delta_x = new_rotate_center[0] -  rotate_center[0]\n",
    "                                rotate_center = new_rotate_center\n",
    "                                \n",
    "                                if x + delta_x < 0: \n",
    "                                        x = 0\n",
    "                                        w = w + x + delta_x\n",
    "                                else: \n",
    "                                        x = x + delta_x\n",
    "                                \n",
    "                                if x + w + delta_x > tooth_img.shape[1]: \n",
    "                                        w = x + 2 * w + delta_x - tooth_img.shape[1]\n",
    "                                \n",
    "                                \n",
    "                                mask_L = np.zeros(tooth_img.shape, np.uint8)\n",
    "                                mask_R = np.zeros(tooth_img.shape, np.uint8)\n",
    "                                rotate_center_L, rotate_center_R = None, None\n",
    "                                \n",
    "                                if int( x - 0.25 * w ) >= 0 :\n",
    "                                        x_new_start, x_new_end = int(x-0.25*w), int(x+0.5*w)\n",
    "                                        mask_L[y:y+h, x_new_start : x_new_end] = 255\n",
    "                                        rotate_center_L = ( ( 2 * x_new_start + 0.75 * w )//2, (2*y+h)//2 ) \n",
    "                                        \n",
    "                                else: \n",
    "                                        x_new_start, x_new_end = 0, int(x+0.5*w)\n",
    "                                        mask_L[y:y+h, x_new_start: x_new_end ] = 255\n",
    "                                        rotate_center_L = ( ( 2 * x_new_start + 0.5 * w )//2, (2*y+h)//2 ) \n",
    "\n",
    "                                if int( x + 1.25 * w ) <= tooth_img.shape[1]:\n",
    "                                        x_new_start, x_new_end = int(x+0.5*w), int(x+1.25*w)\n",
    "                                        mask_R[y:y+h, x_new_start : x_new_end ] = 255\n",
    "                                        rotate_center_R = ( ( 2 * x_new_start + 0.75 * w )//2, (2*y+h)//2 )\n",
    "                                    \n",
    "                                else: \n",
    "                                        x_new_start, x_new_end = int(x+0.5*w) if int(x+0.5*w) < tooth_img.shape[1] else int(x+0.3*w), tooth_img.shape[1]\n",
    "                                        mask_R[y:y+h, x_new_start: x_new_end ] = 255\n",
    "                                        rotate_center_R = ( ( 2 * x_new_start + 0.5 * w )//2, (2*y+h)//2 ) \n",
    "                                \n",
    "                                \n",
    "                                # need to define by later\n",
    "#                                 rotate_center = ( (2*x+w)//2, (2*y+h)//2 )\n",
    "                                \n",
    "                                zero_degree = int(get_tooth_degree(points))\n",
    "                                deg_lowbound, deg_upperbound, step = self.rotate_range\n",
    "                                \n",
    "                                deg_lowbound -= zero_degree\n",
    "                                deg_upperbound -= zero_degree\n",
    "                                \n",
    "                                for idx, degree in enumerate(range(deg_lowbound, deg_upperbound, step), 1):\n",
    "                                        number, side = tooth[\"label\"].split(\"_\")\n",
    "                                        \n",
    "                                        rect = cv2.boundingRect(points)\n",
    "                                        \n",
    "                                        # --------------------- Mask L ----------------------------\n",
    "                                        ro_mask_L = Dental_Rotation.rotate(mask_L, points, rotate_center, degree, max_rect=False)\n",
    "                                        ro_tooth_L = cv2.bitwise_and(tooth_img, tooth_img, mask=ro_mask_L)\n",
    "                                        ro_tooth_L = rotate(ro_tooth_L, -degree, rotate_center)\n",
    "                                        ro_tooth_L = border_preprocessing.trim_border(ro_tooth_L)\n",
    "#                                         if self.enhance: ro_tooth_L = cv2.equalizeHist(ro_tooth_L.astype(\"uint8\"))\n",
    "                                        if int(number) <= 16 : ro_tooth_L = cv2.flip(ro_tooth_L, 0)\n",
    "                                        \n",
    "                                        if number not in self.PBL_Info.label_dict[image]:\n",
    "                                                no_side.add(data)\n",
    "                                                continue\n",
    "                                                \n",
    "                                       \n",
    "                                        filename = datetime.utcnow().isoformat(sep='-', timespec='milliseconds').replace(\".\", \"-\").replace(\":\", \"-\")[-12:]\n",
    "                                        filename = '%s/%s_%s_%s_%s_%d_L.png' % (self.output_dir, filename, image.split(\"/\")[2], basename, number, degree + zero_degree)   \n",
    "                                        mapping_dict[filename] = self.PBL_Info.label_dict[image][number][0]\n",
    "                                        if not cv2.imwrite(filename, ro_tooth_L):\n",
    "                                                 raise Exception(\"Could not write image\")\n",
    "                                                \n",
    "                                        #----------------------Mask R----------------------------------\n",
    "                                        ro_mask_R = Dental_Rotation.rotate(mask_R, points, rotate_center, degree, max_rect=False)\n",
    "                                        ro_tooth_R = cv2.bitwise_and(tooth_img, tooth_img, mask=ro_mask_R)\n",
    "                                        ro_tooth_R = rotate(ro_tooth_R, -degree, rotate_center)\n",
    "                                        ro_tooth_R = border_preprocessing.trim_border(ro_tooth_R)\n",
    "#                                         if self.enhance: ro_tooth_R = cv2.equalizeHist(ro_tooth_R.astype(\"uint8\"))\n",
    "                                        if int(number) <= 16 : ro_tooth_R = cv2.flip(ro_tooth_R, 0)\n",
    "                                            \n",
    "                                        quarter_R_tooth = cv2.flip(ro_tooth_R, 1)\n",
    "                                        filename = datetime.utcnow().isoformat(sep='-', timespec='milliseconds').replace(\".\", \"-\").replace(\":\", \"-\")[-12:]\n",
    "                                        filename = '%s/%s_%s_%s_%s_%d_R.png' % (self.output_dir, filename, image.split(\"/\")[2], basename, number, degree + zero_degree)   \n",
    "                                        mapping_dict[filename] = self.PBL_Info.label_dict[image][number][1]\n",
    "                                        if not cv2.imwrite(filename, quarter_R_tooth):\n",
    "                                                 raise Exception(\"Could not write image\")\n",
    "                                        \n",
    "                                        \n",
    "                                \n",
    "                \n",
    "                json.dump(mapping_dict, open(\"%s/mapping.json\" % self.output_dir, 'w'), indent=4)\n",
    "\n",
    "                with open(\"%s/loss_table\" % self.output_dir, \"w\") as f:\n",
    "                        no_table = list(no_table)\n",
    "                        no_table = \"\\n\".join(no_table)\n",
    "                        f.write(no_table)\n",
    "\n",
    "                with open(\"%s/loss_side\" % self.output_dir, \"w\") as f:\n",
    "                        no_side = list(no_side)\n",
    "                        no_side = \"\\n\".join(no_side)\n",
    "                        f.write(no_side)"
   ]
  },
  {
   "cell_type": "code",
   "execution_count": 14,
   "metadata": {},
   "outputs": [],
   "source": [
    "class Test(Image_Pipeline):\n",
    "        def __init__(self, output_dir, input_dir, **kwargs):\n",
    "                super(Test, self).__init__(output_dir, input_dir, **kwargs) \n",
    "                if not hasattr(self, \"rotate_range\"):\n",
    "                        raise AttributeError\n",
    "                \n",
    "                if not hasattr(self, \"enhance\"):\n",
    "                        raise AttributeError\n",
    "                \n",
    "                if not hasattr(self, \"GT_Table\"):\n",
    "                        raise AttributeError\n",
    "                \n",
    "                self.PBL_Info = PBL_situation_Max_4      ( self.GT_Table, \"Label\").run() if self.max_4 else\\\n",
    "                                PBL_situation_original   ( self.GT_Table, \"Label\").run()\n",
    "                        \n",
    "                self.jsons = [ i for directory in self.PBL_Info.PBL_directory for i in glob.iglob(\"%s/*/*.json\" % directory) ]\n",
    "                self.images = [ i.replace(\"json\", \"PNG\").replace(\"\\\\\", \"/\") for i in self.jsons ]\n",
    "        \n",
    "        \n",
    "        def run(self):\n",
    "                mapping_dict = {}\n",
    "                no_table, no_side = set(), set()\n",
    "                init_directory(self.output_dir)\n",
    "                \n",
    "                \n",
    "                for data, image in tqdm(zip(self.jsons, self.images)):\n",
    "                        \n",
    "                        tooth_img  = cv2.imread(image.replace(\"Label\", \"Data_Segmentation\") if self.segmentation else image, 0)\n",
    "                        tooth_data = json.load(open(data, \"r\"))[\"shapes\"]\n",
    "                        \n",
    "                        if tooth_img is None:\n",
    "                                print(\"%s is non-exist\" % image.replace(\"Label\", \"Data_Segmentation\") if self.segmentation else image)\n",
    "                                continue\n",
    "                        \n",
    "                        if image not in self.PBL_Info.label_dict:\n",
    "                                no_table.add(image)\n",
    "                                continue\n",
    "\n",
    "                        for tooth in tooth_data:\n",
    "                                points   = np.array(tooth[\"points\"]).astype(int)\n",
    "                                points   = np.where(points < 0, 0, points)\n",
    "                                rect = cv2.boundingRect(points)\n",
    "                                x, y, w, h = rect\n",
    "                                \n",
    "                                zero_degree = int(get_tooth_degree(points))\n",
    "                                print(zero_degree)\n",
    "                                alpha = 0.66\n",
    "                                delta_w = abs(w * math.sin( zero_degree * math.pi  / 180 ) * alpha)\n",
    "                                \n",
    "#                                 beta = 0.7\n",
    "#                                 delta_w = abs(zero_degree) / 60 * beta \n",
    "                                delta_degree = abs(zero_degree) - 12\n",
    "                                delta_extra = 0\n",
    "                                if delta_degree > 0 :\n",
    "                                        delta_extra = delta_degree ** 1.2 / 200 * w # 200 more or less\n",
    "                                \n",
    "                                x = int(x - 0.5 * (delta_w + delta_degree) )\n",
    "                                w = int(w - delta_w - delta_degree )\n",
    "\n",
    "#                                 x = int(x - 0.5 * delta_w)\n",
    "#                                 w = int(w - delta_w)\n",
    "                                \n",
    "                                \n",
    "                                rotate_center = ( (2*x+w)//2, (2*y+h)//2 )\n",
    "                                new_rotate_center = get_new_rotate_center(points, rotate_center)\n",
    "                                delta_x = new_rotate_center[0] -  rotate_center[0]\n",
    "                                rotate_center = new_rotate_center\n",
    "                                \n",
    "                                if x + delta_x < 0: \n",
    "                                        x = 0\n",
    "                                        w = w + x + delta_x\n",
    "                                else: \n",
    "                                        x = x + delta_x\n",
    "                                \n",
    "                                if x + w + delta_x > tooth_img.shape[1]: \n",
    "                                        w = x + 2 * w + delta_x - tooth_img.shape[1]\n",
    "                                \n",
    "#                                 x = max(x+delta_x, 0)\n",
    "                                \n",
    "                                \n",
    "                                \n",
    "                                mask_L = np.zeros(tooth_img.shape, np.uint8)\n",
    "                                mask_R = np.zeros(tooth_img.shape, np.uint8)\n",
    "                                rotate_center_L, rotate_center_R = None, None\n",
    "                                \n",
    "                                if int( x - 0.25 * w ) >= 0 : \n",
    "                                        x_new_start, x_new_end = int(x-0.25*w), int(x+0.5*w)\n",
    "                                        mask_L[y:y+h, x_new_start : x_new_end] = 255\n",
    "                                        rotate_center_L = ( ( 2 * x_new_start + 0.75 * w )//2, (2*y+h)//2 ) \n",
    "                                        \n",
    "                                else: \n",
    "                                        x_new_start, x_new_end = 0, int(x+0.5*w)\n",
    "                                        mask_L[y:y+h, x_new_start: x_new_end ] = 255\n",
    "                                        rotate_center_L = ( ( 2 * x_new_start + 0.5 * w )//2, (2*y+h)//2 ) \n",
    "\n",
    "                                if int( x + 1.25 * w ) <= tooth_img.shape[1]:\n",
    "                                        x_new_start, x_new_end = int(x+0.5*w), int(x+1.25*w)\n",
    "                                        mask_R[y:y+h, x_new_start : x_new_end ] = 255\n",
    "                                        rotate_center_R = ( ( 2 * x_new_start + 0.75 * w )//2, (2*y+h)//2 )\n",
    "                                    \n",
    "                                else: \n",
    "                                        x_new_start, x_new_end = int(x+0.5*w) , tooth_img.shape[1]\n",
    "                                        mask_R[y:y+h, x_new_start: x_new_end ] = 255\n",
    "                                        rotate_center_R = ( ( 2 * x_new_start + 0.5 * w )//2, (2*y+h)//2 ) \n",
    "                                \n",
    "                                \n",
    "                                \n",
    "                                \n",
    "                                \n",
    "                                \n",
    "                                deg_lowbound, deg_upperbound, step = self.rotate_range\n",
    "                                \n",
    "                                deg_lowbound -= zero_degree\n",
    "                                deg_upperbound -= zero_degree\n",
    "                                \n",
    "                                for idx, degree in enumerate(range(deg_lowbound, deg_upperbound, step), 1):\n",
    "                                        number, side = tooth[\"label\"].split(\"_\")\n",
    "                                        \n",
    "                                        \n",
    "                                        delta_w2 = int(0.33 * h * math.sin( abs(degree + zero_degree ) * math.pi / 180 ))\n",
    "                                        mask = np.zeros(tooth_img.shape, np.uint8)\n",
    "                                        mask[y:y+h, max(x-delta_w2, 0): min(x+delta_w2+w, tooth_img.shape[1]) ] = 255\n",
    "                                        \n",
    "                                        \n",
    "                                        rect = cv2.boundingRect(points)\n",
    "                                        \n",
    "                                        # --------------------- Mask Original ----------------------------\n",
    "                                        ro_mask = Dental_Rotation.rotate(mask, points, rotate_center, degree, max_rect=False)\n",
    "                                        ro_tooth = cv2.bitwise_and(tooth_img, tooth_img, mask=ro_mask)\n",
    "                                        ro_tooth = rotate(ro_tooth, -degree, rotate_center)\n",
    "                                        ro_tooth = border_preprocessing.trim_border(ro_tooth)\n",
    "                                        \n",
    "                                        if int(number) <= 16 : ro_tooth = cv2.flip(ro_tooth, 0)\n",
    "                                        if number not in self.PBL_Info.label_dict[image]: continue\n",
    "                                        \n",
    "                                        plt.figure(figsize=(16, 5))\n",
    "                                        plt.subplot(131)\n",
    "                                        plt.title(\"Original\")\n",
    "                                        plt.imshow(ro_tooth, cmap=\"gray\")\n",
    "                                        \n",
    "                                        \n",
    "                                        \n",
    "                                        # --------------------- Mask L ----------------------------\n",
    "                                        ro_mask_L = Dental_Rotation.rotate(mask_L, points, rotate_center, degree, max_rect=False)\n",
    "                                        ro_tooth_L = cv2.bitwise_and(tooth_img, tooth_img, mask=ro_mask_L)\n",
    "                                        ro_tooth_L = rotate(ro_tooth_L, -degree, rotate_center)\n",
    "                                        ro_tooth_L = border_preprocessing.trim_border(ro_tooth_L)\n",
    "                                        \n",
    "                                        if int(number) <= 16 : ro_tooth_L = cv2.flip(ro_tooth_L, 0)\n",
    "                                        if number not in self.PBL_Info.label_dict[image]: continue\n",
    "                                                \n",
    "                                        plt.subplot(132)\n",
    "                                        plt.title(\"Left Shift\")\n",
    "                                        plt.imshow(ro_tooth_L, cmap=\"gray\")\n",
    "                                        \n",
    "\n",
    "                                                \n",
    "                                        #----------------------Mask R----------------------------------\n",
    "                                        ro_mask_R = Dental_Rotation.rotate(mask_R, points, rotate_center, degree, max_rect=False)\n",
    "                                        ro_tooth_R = cv2.bitwise_and(tooth_img, tooth_img, mask=ro_mask_R)\n",
    "                                        ro_tooth_R = rotate(ro_tooth_R, -degree, rotate_center)\n",
    "                                        ro_tooth_R = border_preprocessing.trim_border(ro_tooth_R)\n",
    "                                        \n",
    "                                        if int(number) <= 16 : ro_tooth_R = cv2.flip(ro_tooth_R, 0)\n",
    "                                        if number not in self.PBL_Info.label_dict[image]: continue\n",
    "                                        \n",
    "                                        quarter_R_tooth = cv2.flip(ro_tooth_R, 1)\n",
    "                                        \n",
    "                                        plt.subplot(133)\n",
    "                                        plt.title(\"Right Shift\")\n",
    "                                        plt.imshow(ro_tooth_R, cmap=\"gray\")\n",
    "                                        \n",
    "                        plt.show()\n",
    "                                \n",
    "                \n",
    "#                 json.dump(mapping_dict, open(\"%s/mapping.json\" % self.output_dir, 'w'), indent=4)\n",
    "\n",
    "#                 with open(\"%s/loss_table\" % self.output_dir, \"w\") as f:\n",
    "#                         no_table = list(no_table)\n",
    "#                         no_table = \"\\n\".join(no_table)\n",
    "#                         f.write(no_table)\n",
    "\n",
    "#                 with open(\"%s/loss_side\" % self.output_dir, \"w\") as f:\n",
    "#                         no_side = list(no_side)\n",
    "#                         no_side = \"\\n\".join(no_side)\n",
    "#                         f.write(no_side)"
   ]
  },
  {
   "cell_type": "markdown",
   "metadata": {},
   "source": [
    "# Generating Data"
   ]
  },
  {
   "cell_type": "code",
   "execution_count": 15,
   "metadata": {},
   "outputs": [
    {
     "data": {
      "application/vnd.jupyter.widget-view+json": {
       "model_id": "e539abcec5b1404d9406ad3fba5cf052",
       "version_major": 2,
       "version_minor": 0
      },
      "text/plain": [
       "HBox(children=(FloatProgress(value=1.0, bar_style='info', layout=Layout(width='20px'), max=1.0), HTML(value=''…"
      ]
     },
     "metadata": {},
     "output_type": "display_data"
    },
    {
     "name": "stdout",
     "output_type": "stream",
     "text": [
      "\n"
     ]
    },
    {
     "data": {
      "application/vnd.jupyter.widget-view+json": {
       "model_id": "39a613cc579d42c098641707e3c1877c",
       "version_major": 2,
       "version_minor": 0
      },
      "text/plain": [
       "HBox(children=(FloatProgress(value=1.0, bar_style='info', layout=Layout(width='20px'), max=1.0), HTML(value=''…"
      ]
     },
     "metadata": {},
     "output_type": "display_data"
    },
    {
     "name": "stdout",
     "output_type": "stream",
     "text": [
      "\n"
     ]
    }
   ],
   "source": [
    "parameters = [  \n",
    "#                 {\n",
    "#                         \"GT_Table\"    : \"GT_Clean_Table.csv\",\n",
    "#                         \"output_dir\"  : \"Dental_Data/PBL/Major_Segment_max\",\n",
    "#                         \"input_dir\"   : \"Label\",\n",
    "#                         \"rotate_range\": (-10, 10, 1),\n",
    "#                         \"enhance\"     : False,\n",
    "#                         \"segmentation\": True,\n",
    "#                         \"max_4\"       : True\n",
    "#                 },\n",
    "                \n",
    "#                 {\n",
    "#                         \"GT_Table\"    : \"GT_Clean_Table.csv\",\n",
    "#                         \"output_dir\"  : \"Dental_Data/PBL/Major_Segment\",\n",
    "#                         \"input_dir\"   : \"Label\",\n",
    "#                         \"rotate_range\": (-10, 10, 1),\n",
    "#                         \"enhance\"     : False,\n",
    "#                         \"segmentation\": True,\n",
    "#                         \"max_4\"       : False\n",
    "#                 },\n",
    "                \n",
    "#                 {\n",
    "#                         \"GT_Table\"    : \"GT_Clean_Table.csv\",\n",
    "#                         \"output_dir\"  : \"Dental_Data/PBL/Segment_max_14\",\n",
    "#                         \"input_dir\"   : \"Label\",\n",
    "#                         \"rotate_range\": (-10, 10, 1),\n",
    "#                         \"enhance\"     : False,\n",
    "#                         \"segmentation\": True,\n",
    "#                         \"max_4\"       : True,\n",
    "#                         \"quarter\"     : True\n",
    "#                 },\n",
    "                \n",
    "#                 {\n",
    "#                         \"GT_Table\"    : \"GT_Clean_Table.csv\",\n",
    "#                         \"output_dir\"  : \"Dental_Data/PBL/Segment_14\",\n",
    "#                         \"input_dir\"   : \"Label\",\n",
    "#                         \"rotate_range\": (-10, 10, 1),\n",
    "#                         \"enhance\"     : False,\n",
    "#                         \"segmentation\": True,\n",
    "#                         \"max_4\"       : False,\n",
    "#                         \"quarter\"     : True\n",
    "#                 },\n",
    "    \n",
    "    \n",
    "#                 {\n",
    "#                         \"GT_Table\"    : \"PBL_Table_2020_08_Clean.csv\",\n",
    "#                         \"output_dir\"  : \"Dental_Data/PBL/10_20200901\",\n",
    "#                         \"input_dir\"   : \"Label\",\n",
    "#                         \"rotate_range\": (-10, 10, 1),\n",
    "#                         \"enhance\"     : False,\n",
    "#                         \"segmentation\": False,\n",
    "#                         \"max_4\"       : False,\n",
    "#                         \"GT\"          : \"state\"\n",
    "#                 },\n",
    "                \n",
    "#                 {\n",
    "#                         \"GT_Table\"    : \"PBL_Table_2020_08_Clean.csv\",\n",
    "#                         \"output_dir\"  : \"Dental_Data/PBL/10_clahe_20200901\",\n",
    "#                         \"input_dir\"   : \"Label\",\n",
    "#                         \"rotate_range\": (-10, 10, 1),\n",
    "#                         \"enhance\"     : True,\n",
    "#                         \"segmentation\": False,\n",
    "#                         \"max_4\"       : False,\n",
    "#                         \"GT\"          : \"state\"\n",
    "#                 },\n",
    "              # ***************************************  \n",
    "#                 {\n",
    "#                         \"GT_Table\"    : \"PBL_Table_2020_08_Clean.csv\",\n",
    "#                         \"output_dir\"  : \"Dental_Data/PBL/10_20200901\",\n",
    "#                         \"input_dir\"   : \"Label\",\n",
    "#                         \"rotate_range\": (-10, 10, 1),\n",
    "#                         \"enhance\"     : False,\n",
    "#                         \"segmentation\": False,\n",
    "#                         \"max_4\"       : False,\n",
    "#                         \"GT\"          : \"state\"\n",
    "#                 },\n",
    "                \n",
    "#                 {\n",
    "#                         \"GT_Table\"    : \"PBL_Table_2020_08_Clean.csv\",\n",
    "#                         \"output_dir\"  : \"Dental_Data/PBL/10_clahe_20200901\",\n",
    "#                         \"input_dir\"   : \"Label\",\n",
    "#                         \"rotate_range\": (-10, 10, 1),\n",
    "#                         \"enhance\"     : True,\n",
    "#                         \"segmentation\": False,\n",
    "#                         \"max_4\"       : False,\n",
    "#                         \"GT\"          : \"state\"\n",
    "#                 },\n",
    "    \n",
    "    # *************************************** up\n",
    "#                 {\n",
    "#                         \"GT_Table\"    : \"PBL_Table_2020_08_Clean.csv\",\n",
    "#                         \"output_dir\"  : \"Dental_Data/PBL/10_20200810_norot\",\n",
    "#                         \"input_dir\"   : \"Label\",\n",
    "#                         \"rotate_range\": (0, 1, 1),\n",
    "#                         \"enhance\"     : False,\n",
    "#                         \"segmentation\": False,\n",
    "#                         \"max_4\"       : False,\n",
    "#                         \"GT\"          : \"state\"\n",
    "#                 },\n",
    "                \n",
    "#                 {\n",
    "#                         \"GT_Table\"    : \"PBL_Table_2020_08_Clean.csv\",\n",
    "#                         \"output_dir\"  : \"Dental_Data/PBL/10_clahe_20200810_norot\",\n",
    "#                         \"input_dir\"   : \"Label\",\n",
    "#                         \"rotate_range\": (0, 1, 1),\n",
    "#                         \"enhance\"     : True,\n",
    "#                         \"segmentation\": False,\n",
    "#                         \"max_4\"       : False,\n",
    "#                         \"GT\"          : \"state\"\n",
    "#                 },\n",
    "    \n",
    "                {\n",
    "                        \"GT_Table\"    : \"PBL_Table_2020_08_Clean.csv\",\n",
    "                        \"output_dir\"  : \"Dental_Data/PBL/10_interdental_20200901_Max_4\",\n",
    "                        \"input_dir\"   : \"Label\",\n",
    "                        \"rotate_range\": (-10, 10, 1),\n",
    "                        \"enhance\"     : False,\n",
    "                        \"segmentation\": False,\n",
    "                        \"max_4\"       : True,\n",
    "                        \"Interdental\" : True,\n",
    "                        \"GT\"          : \"state\"\n",
    "                },\n",
    "                \n",
    "                {\n",
    "                        \"GT_Table\"    : \"PBL_Table_2020_08_Clean.csv\",\n",
    "                        \"output_dir\"  : \"Dental_Data/PBL/10_interdental_clahe_20200901_Max_4\",\n",
    "                        \"input_dir\"   : \"Label\",\n",
    "                        \"rotate_range\": (-10, 10, 1),\n",
    "                        \"enhance\"     : True,\n",
    "                        \"segmentation\": False,\n",
    "                        \"max_4\"       : True,\n",
    "                        \"Interdental\" : True,\n",
    "                        \"GT\"          : \"state\"\n",
    "                },\n",
    "    \n",
    "#                 {\n",
    "#                         \"GT_Table\"    : \"PBL_Table_2020_08_Clean.csv\",\n",
    "#                         \"output_dir\"  : \"Dental_Data/PBL/5_20200810\",\n",
    "#                         \"input_dir\"   : \"Label\",\n",
    "#                         \"rotate_range\": (-5, 5, 1),\n",
    "#                         \"enhance\"     : False,\n",
    "#                         \"segmentation\": False,\n",
    "#                         \"max_4\"       : False,\n",
    "#                         \"GT\"          : \"state\"\n",
    "#                 },\n",
    "                \n",
    "#                 {\n",
    "#                         \"GT_Table\"    : \"PBL_Table_2020_08_Clean.csv\",\n",
    "#                         \"output_dir\"  : \"Dental_Data/PBL/5_clahe_20200810\",\n",
    "#                         \"input_dir\"   : \"Label\",\n",
    "#                         \"rotate_range\": (-5, 5, 1),\n",
    "#                         \"enhance\"     : True,\n",
    "#                         \"segmentation\": False,\n",
    "#                         \"max_4\"       : False,\n",
    "#                         \"GT\"          : \"state\"\n",
    "#                 },\n",
    "    \n",
    "#                 {\n",
    "#                         \"GT_Table\"    : \"PBL_Table_2020_08_Clean.csv\",\n",
    "#                         \"output_dir\"  : \"Dental_Data/PBL/5_interdental_20200810\",\n",
    "#                         \"input_dir\"   : \"Label\",\n",
    "#                         \"rotate_range\": (-5, 5, 1),\n",
    "#                         \"enhance\"     : False,\n",
    "#                         \"segmentation\": False,\n",
    "#                         \"max_4\"       : False,\n",
    "#                         \"Interdental\" : True,\n",
    "#                         \"GT\"          : \"state\"\n",
    "#                 },\n",
    "    \n",
    "#                  {\n",
    "#                         \"GT_Table\"    : \"PBL_Table_2020_08_Clean.csv\",\n",
    "#                         \"output_dir\"  : \"Dental_Data/PBL/5_interdental_clahe_20200810\",\n",
    "#                         \"input_dir\"   : \"Label\",\n",
    "#                         \"rotate_range\": (-5, 5, 1),\n",
    "#                         \"enhance\"     : True,\n",
    "#                         \"segmentation\": False,\n",
    "#                         \"max_4\"       : False,\n",
    "#                         \"Interdental\" : True,\n",
    "#                         \"GT\"          : \"state\"\n",
    "#                 },\n",
    "                \n",
    "#                 {\n",
    "#                         \"GT_Table\"    : \"PBL_Table_2020_08.csv\",\n",
    "#                         \"output_dir\"  : \"Dental_Data/PBL/Major_10_clahe_Segment\",\n",
    "#                         \"input_dir\"   : \"Label\",\n",
    "#                         \"rotate_range\": (-10, 10, 1),\n",
    "#                         \"enhance\"     : True,\n",
    "#                         \"segmentation\": True,\n",
    "#                         \"max_4\"       : False,\n",
    "#                         \"GT\"          : \"state\"\n",
    "#                 },\n",
    "    \n",
    "#                 {\n",
    "#                         \"GT_Table\"    : \"GT_Clean_Table.csv\",\n",
    "#                         \"output_dir\"  : \"Dental_Data/PBL/Major_10_max\",\n",
    "#                         \"input_dir\"   : \"Label\",\n",
    "#                         \"rotate_range\": (-10, 10, 1),\n",
    "#                         \"enhance\"     : False,\n",
    "#                         \"segmentation\": False,\n",
    "#                         \"max_4\"       : True\n",
    "#                 },\n",
    "                \n",
    "#                 {\n",
    "#                         \"GT_Table\"    : \"GT_Clean_Table.csv\",\n",
    "#                         \"output_dir\"  : \"Dental_Data/PBL/10_quarter_max_1_4\",\n",
    "#                         \"input_dir\"   : \"Label\",\n",
    "#                         \"rotate_range\": (-10, 10, 1),\n",
    "#                         \"enhance\"     : False,\n",
    "#                         \"segmentation\": False,\n",
    "#                         \"max_4\"       : True ,\n",
    "#                         \"quarter\"     : True \n",
    "#                 },\n",
    "    \n",
    "#                 {\n",
    "#                         \"GT_Table\"    : \"HV_Clean_GT_Table_20200721.csv\",\n",
    "#                         \"output_dir\"  : \"Dental_Data/PBL/10_HV_interdental_clahe\",\n",
    "#                         \"input_dir\"   : \"Label\",\n",
    "#                         \"rotate_range\": (-10, 10, 1),\n",
    "#                         \"enhance\"     : True,\n",
    "#                         \"segmentation\": False,\n",
    "#                         \"max_4\"       : False,\n",
    "#                         \"Interdental\" : True ,\n",
    "#                         \"GT\"          : \"bone_loss\" \n",
    "#                 },\n",
    "]\n",
    "\n",
    "\n",
    "for parameter in parameters:\n",
    "        if \"PBL\" in parameter[\"output_dir\"]:\n",
    "                if \"Interdental\" in parameter: PBL_Pipeline_Interdental(**parameter).run()\n",
    "                else: PBL_Pipeline(**parameter).run()                    \n",
    "        if \"CAL\" in parameter[\"output_dir\"]: CAL_Pipeline(**parameter).run()\n"
   ]
  },
  {
   "cell_type": "code",
   "execution_count": null,
   "metadata": {},
   "outputs": [],
   "source": []
  },
  {
   "cell_type": "code",
   "execution_count": null,
   "metadata": {},
   "outputs": [],
   "source": []
  }
 ],
 "metadata": {
  "kernelspec": {
   "display_name": "Python 3",
   "language": "python",
   "name": "python3"
  },
  "language_info": {
   "codemirror_mode": {
    "name": "ipython",
    "version": 3
   },
   "file_extension": ".py",
   "mimetype": "text/x-python",
   "name": "python",
   "nbconvert_exporter": "python",
   "pygments_lexer": "ipython3",
   "version": "3.6.10"
  },
  "widgets": {
   "application/vnd.jupyter.widget-state+json": {
    "state": {
     "02da6b9623524b4086db11deb08a381d": {
      "model_module": "@jupyter-widgets/base",
      "model_module_version": "1.2.0",
      "model_name": "LayoutModel",
      "state": {}
     },
     "02fdef3cd6fd43e3b2fa3f7a5c6a81ec": {
      "model_module": "@jupyter-widgets/controls",
      "model_module_version": "1.5.0",
      "model_name": "IntProgressModel",
      "state": {
       "bar_style": "success",
       "layout": "IPY_MODEL_de6ba0715fff438b8e6b736305c3d065",
       "max": 1,
       "style": "IPY_MODEL_1df85fe58fcc48f19d74d138a7282baa",
       "value": 1
      }
     },
     "031e2c07687f4313b213c1e409eb3cd7": {
      "model_module": "@jupyter-widgets/base",
      "model_module_version": "1.2.0",
      "model_name": "LayoutModel",
      "state": {}
     },
     "039970439f194a84906bdea3b1a0bd95": {
      "model_module": "@jupyter-widgets/controls",
      "model_module_version": "1.5.0",
      "model_name": "ProgressStyleModel",
      "state": {
       "description_width": "initial"
      }
     },
     "046311a603844cb6bbf383ca13978a5c": {
      "model_module": "@jupyter-widgets/base",
      "model_module_version": "1.2.0",
      "model_name": "LayoutModel",
      "state": {}
     },
     "049dc6e3f5094cdc8b1977a2a1df220d": {
      "model_module": "@jupyter-widgets/controls",
      "model_module_version": "1.5.0",
      "model_name": "DescriptionStyleModel",
      "state": {
       "description_width": ""
      }
     },
     "057b4a71f91340068f4569e87d4e3936": {
      "model_module": "@jupyter-widgets/controls",
      "model_module_version": "1.5.0",
      "model_name": "HTMLModel",
      "state": {
       "layout": "IPY_MODEL_14023262728a4a3a805193e208f26a3d",
       "style": "IPY_MODEL_53abeb2692044430888cf8a37096f8aa",
       "value": "2107it [15:40,  2.24it/s]"
      }
     },
     "05c5cc6883d14aafa587a6f8f6c6d60b": {
      "model_module": "@jupyter-widgets/base",
      "model_module_version": "1.2.0",
      "model_name": "LayoutModel",
      "state": {}
     },
     "061b4c16c0c444448a63d3786ffa2535": {
      "model_module": "@jupyter-widgets/controls",
      "model_module_version": "1.5.0",
      "model_name": "IntProgressModel",
      "state": {
       "bar_style": "danger",
       "layout": "IPY_MODEL_70681c2c4f6541269d65226636f8fc14",
       "max": 1,
       "style": "IPY_MODEL_690bc2d062354840bc2c6cad3f8227fd",
       "value": 1
      }
     },
     "06547b5894634c57ab1dd530cd832d72": {
      "model_module": "@jupyter-widgets/base",
      "model_module_version": "1.2.0",
      "model_name": "LayoutModel",
      "state": {}
     },
     "0794367c62314d5f9f65e61521e71625": {
      "model_module": "@jupyter-widgets/base",
      "model_module_version": "1.2.0",
      "model_name": "LayoutModel",
      "state": {}
     },
     "079af9d806cb433c9f57032c9da9ee7b": {
      "model_module": "@jupyter-widgets/controls",
      "model_module_version": "1.5.0",
      "model_name": "ProgressStyleModel",
      "state": {
       "description_width": "initial"
      }
     },
     "088937c388c14b65a99cce16ac860b9f": {
      "model_module": "@jupyter-widgets/controls",
      "model_module_version": "1.5.0",
      "model_name": "FloatProgressModel",
      "state": {
       "bar_style": "success",
       "layout": "IPY_MODEL_8dd66be8185640829fdaa68994aa0424",
       "max": 1,
       "style": "IPY_MODEL_f415a35f9d724bcf936b3bb759507356",
       "value": 1
      }
     },
     "08a2598554cc4384b0de1d29c2fed37e": {
      "model_module": "@jupyter-widgets/base",
      "model_module_version": "1.2.0",
      "model_name": "LayoutModel",
      "state": {}
     },
     "08ff6aab8d25469eb4c8d9069a4d3371": {
      "model_module": "@jupyter-widgets/base",
      "model_module_version": "1.2.0",
      "model_name": "LayoutModel",
      "state": {}
     },
     "097d205530594512b4b8d5751916df9e": {
      "model_module": "@jupyter-widgets/controls",
      "model_module_version": "1.5.0",
      "model_name": "ProgressStyleModel",
      "state": {
       "description_width": "initial"
      }
     },
     "09df368ed72b427e8307e9c938f25112": {
      "model_module": "@jupyter-widgets/controls",
      "model_module_version": "1.5.0",
      "model_name": "HTMLModel",
      "state": {
       "layout": "IPY_MODEL_7b6194f4f1e9472e8c5a3e1561caf022",
       "style": "IPY_MODEL_441167d7aded41b2a40a6bfac2b87808",
       "value": " 1334/? [23:41&lt;00:00,  1.07s/it]"
      }
     },
     "09f01391046c41e99dba51d6fe71f33d": {
      "model_module": "@jupyter-widgets/base",
      "model_module_version": "1.2.0",
      "model_name": "LayoutModel",
      "state": {}
     },
     "0ab1d88f11fc426ea76a3b57209b8f7d": {
      "model_module": "@jupyter-widgets/controls",
      "model_module_version": "1.5.0",
      "model_name": "HTMLModel",
      "state": {
       "layout": "IPY_MODEL_a5126f81669540bc8c5309b990861667",
       "style": "IPY_MODEL_697d7564597e4fb89d2d7ef41c5c77c8",
       "value": "2270it [20:05,  1.88it/s]"
      }
     },
     "0bca540978f84049a5c53f470664631b": {
      "model_module": "@jupyter-widgets/base",
      "model_module_version": "1.2.0",
      "model_name": "LayoutModel",
      "state": {}
     },
     "0c143d1298f04deab732df040c15adc5": {
      "model_module": "@jupyter-widgets/controls",
      "model_module_version": "1.5.0",
      "model_name": "HBoxModel",
      "state": {
       "children": [
        "IPY_MODEL_70aee837a2bc42c8aecf9f1cf8199824",
        "IPY_MODEL_9f80ee58869e4dad82decc696c50c06a"
       ],
       "layout": "IPY_MODEL_d96603bd0c8a4ef6bde62770be25ffe6"
      }
     },
     "0c3c6263f51348c9b06a6f330bf2b7d6": {
      "model_module": "@jupyter-widgets/controls",
      "model_module_version": "1.5.0",
      "model_name": "ProgressStyleModel",
      "state": {
       "description_width": "initial"
      }
     },
     "0c60b50cd7b848a79b0463d3b192fd65": {
      "model_module": "@jupyter-widgets/controls",
      "model_module_version": "1.5.0",
      "model_name": "HBoxModel",
      "state": {
       "children": [
        "IPY_MODEL_2d80bc12d9ff45c78c36c831dfecc026",
        "IPY_MODEL_e96943a110e149889c952aaf39686566"
       ],
       "layout": "IPY_MODEL_291fa6cfd7f048928d6560329ccbf9cb"
      }
     },
     "0c7c1a68f7114b05b87f37ba631def87": {
      "model_module": "@jupyter-widgets/base",
      "model_module_version": "1.2.0",
      "model_name": "LayoutModel",
      "state": {}
     },
     "0da61f0fbf8d490cb763ef0497212797": {
      "model_module": "@jupyter-widgets/base",
      "model_module_version": "1.2.0",
      "model_name": "LayoutModel",
      "state": {}
     },
     "0dcc45559a564358961b15ccf893eda1": {
      "model_module": "@jupyter-widgets/controls",
      "model_module_version": "1.5.0",
      "model_name": "IntProgressModel",
      "state": {
       "bar_style": "success",
       "layout": "IPY_MODEL_9b85b095e0be4ed79700f9ac54b5e3e4",
       "max": 1,
       "style": "IPY_MODEL_039970439f194a84906bdea3b1a0bd95",
       "value": 1
      }
     },
     "0decb603d3cd480a83982ab8bf715b60": {
      "model_module": "@jupyter-widgets/base",
      "model_module_version": "1.2.0",
      "model_name": "LayoutModel",
      "state": {}
     },
     "0e2de67045404aef9b2ba261b7115219": {
      "model_module": "@jupyter-widgets/base",
      "model_module_version": "1.2.0",
      "model_name": "LayoutModel",
      "state": {}
     },
     "0e5e2ab28d4244199905b02fd3ae8ab4": {
      "model_module": "@jupyter-widgets/base",
      "model_module_version": "1.2.0",
      "model_name": "LayoutModel",
      "state": {}
     },
     "0f83c2662eb0445baf1649c070281e13": {
      "model_module": "@jupyter-widgets/base",
      "model_module_version": "1.2.0",
      "model_name": "LayoutModel",
      "state": {}
     },
     "10267ee604c2420699d3cacf4c7fc692": {
      "model_module": "@jupyter-widgets/controls",
      "model_module_version": "1.5.0",
      "model_name": "IntProgressModel",
      "state": {
       "bar_style": "success",
       "layout": "IPY_MODEL_ea0a5cf3b68b4d10a039fb2f7c2c10cf",
       "max": 1,
       "style": "IPY_MODEL_2e447652332747f9a6a51bd90e999754",
       "value": 1
      }
     },
     "10ac4d8ccf2c46bca12fb727930acb4f": {
      "model_module": "@jupyter-widgets/controls",
      "model_module_version": "1.5.0",
      "model_name": "ProgressStyleModel",
      "state": {
       "description_width": "initial"
      }
     },
     "10b3a5bb170d481e92ea552ccb4041a8": {
      "model_module": "@jupyter-widgets/base",
      "model_module_version": "1.2.0",
      "model_name": "LayoutModel",
      "state": {}
     },
     "113ab6d3946347bcbc4b1a1236dc4247": {
      "model_module": "@jupyter-widgets/controls",
      "model_module_version": "1.5.0",
      "model_name": "HTMLModel",
      "state": {
       "layout": "IPY_MODEL_ca169099e5c34434b7b7a3ae54a43048",
       "style": "IPY_MODEL_fbf84f9fd2f444d58c06ce47fb28d940",
       "value": " 1334/? [2:36:08&lt;00:00,  7.02s/it]"
      }
     },
     "11580d9db9764dd4bc88ebb932ad5349": {
      "model_module": "@jupyter-widgets/controls",
      "model_module_version": "1.5.0",
      "model_name": "IntProgressModel",
      "state": {
       "bar_style": "danger",
       "layout": "IPY_MODEL_45c7ecc2472a4af3a8f2be7fcdf8e32b",
       "max": 1,
       "style": "IPY_MODEL_d4e6d71f6b5a48dc8defe0c7af8f7eaf",
       "value": 1
      }
     },
     "121e5a5f03684c19905bb332739224ed": {
      "model_module": "@jupyter-widgets/controls",
      "model_module_version": "1.5.0",
      "model_name": "HTMLModel",
      "state": {
       "layout": "IPY_MODEL_6e4f6cc37775495283f2de3509c1621b",
       "style": "IPY_MODEL_049dc6e3f5094cdc8b1977a2a1df220d",
       "value": "2107it [01:09, 30.40it/s]"
      }
     },
     "122603e45ce24bb2a622d62a3581c44f": {
      "model_module": "@jupyter-widgets/controls",
      "model_module_version": "1.5.0",
      "model_name": "ProgressStyleModel",
      "state": {
       "description_width": "initial"
      }
     },
     "12606f87d5ee48df96c0b7c6480d9d43": {
      "model_module": "@jupyter-widgets/base",
      "model_module_version": "1.2.0",
      "model_name": "LayoutModel",
      "state": {}
     },
     "131fe5fb01b542ee8b9b244df6a4ab1a": {
      "model_module": "@jupyter-widgets/controls",
      "model_module_version": "1.5.0",
      "model_name": "IntProgressModel",
      "state": {
       "bar_style": "success",
       "layout": "IPY_MODEL_168b88ccb9a34f5dab1fb9eddd20aa6f",
       "max": 1,
       "style": "IPY_MODEL_d32260bc0e5c44dabd7e214e73c34138",
       "value": 1
      }
     },
     "132443c96e074d9a9ddae48811b4e517": {
      "model_module": "@jupyter-widgets/controls",
      "model_module_version": "1.5.0",
      "model_name": "DescriptionStyleModel",
      "state": {
       "description_width": ""
      }
     },
     "13f6fe311b1a4163921d491ab3bc8643": {
      "model_module": "@jupyter-widgets/controls",
      "model_module_version": "1.5.0",
      "model_name": "ProgressStyleModel",
      "state": {
       "description_width": "initial"
      }
     },
     "14023262728a4a3a805193e208f26a3d": {
      "model_module": "@jupyter-widgets/base",
      "model_module_version": "1.2.0",
      "model_name": "LayoutModel",
      "state": {}
     },
     "141cd83f84c64ab8b2312f69b999ae91": {
      "model_module": "@jupyter-widgets/base",
      "model_module_version": "1.2.0",
      "model_name": "LayoutModel",
      "state": {}
     },
     "15438c7d49bf4d80b84be617867eb184": {
      "model_module": "@jupyter-widgets/controls",
      "model_module_version": "1.5.0",
      "model_name": "ProgressStyleModel",
      "state": {
       "description_width": "initial"
      }
     },
     "15a241a66a6641a7bf9ded805ed1445d": {
      "model_module": "@jupyter-widgets/base",
      "model_module_version": "1.2.0",
      "model_name": "LayoutModel",
      "state": {}
     },
     "15c7ffa1b69a4919ab9a0acfdb7b3180": {
      "model_module": "@jupyter-widgets/controls",
      "model_module_version": "1.5.0",
      "model_name": "IntProgressModel",
      "state": {
       "bar_style": "danger",
       "layout": "IPY_MODEL_45f0a4b9e8f44f188d2bad7d18fb49c8",
       "max": 1,
       "style": "IPY_MODEL_5cf234e46fcd4e27bf9c51bd12716d4a",
       "value": 1
      }
     },
     "15fe1ae892e04ec1884917951d9ada72": {
      "model_module": "@jupyter-widgets/base",
      "model_module_version": "1.2.0",
      "model_name": "LayoutModel",
      "state": {}
     },
     "16008833e9af47928cfbdbc8e789a875": {
      "model_module": "@jupyter-widgets/controls",
      "model_module_version": "1.5.0",
      "model_name": "IntProgressModel",
      "state": {
       "bar_style": "success",
       "layout": "IPY_MODEL_50127a4d9b1048308bb8c4aaceecdf16",
       "max": 1,
       "style": "IPY_MODEL_7c63c6d3d7bb42d588be9a53d8267526",
       "value": 1
      }
     },
     "168b88ccb9a34f5dab1fb9eddd20aa6f": {
      "model_module": "@jupyter-widgets/base",
      "model_module_version": "1.2.0",
      "model_name": "LayoutModel",
      "state": {}
     },
     "16a669d84e38416c8089ccf3eaa94b29": {
      "model_module": "@jupyter-widgets/controls",
      "model_module_version": "1.5.0",
      "model_name": "IntProgressModel",
      "state": {
       "bar_style": "success",
       "layout": "IPY_MODEL_899c33554e1d4ae7b37ab9b71005fce4",
       "max": 1,
       "style": "IPY_MODEL_33e90321980347119e71c6d647f3c722",
       "value": 1
      }
     },
     "17898457637b447f87950f431961c9dd": {
      "model_module": "@jupyter-widgets/base",
      "model_module_version": "1.2.0",
      "model_name": "LayoutModel",
      "state": {
       "width": "20px"
      }
     },
     "1789c60d5ef54df189d6f4dfd9ed8ad0": {
      "model_module": "@jupyter-widgets/controls",
      "model_module_version": "1.5.0",
      "model_name": "FloatProgressModel",
      "state": {
       "bar_style": "danger",
       "layout": "IPY_MODEL_2d3709c35b884f7aba74f7742312fd27",
       "max": 1,
       "style": "IPY_MODEL_2e396f22b57c4347a0a2792d01718b0e",
       "value": 1
      }
     },
     "1912740689c24e6fb611c94c1fc06ec3": {
      "model_module": "@jupyter-widgets/controls",
      "model_module_version": "1.5.0",
      "model_name": "HBoxModel",
      "state": {
       "children": [
        "IPY_MODEL_543a0239c8df4a26bff204a8fdc7ef52",
        "IPY_MODEL_b61bbf7ea3804b2b97833266015bc8c5"
       ],
       "layout": "IPY_MODEL_379dc48d2dae4cb5ae4e8bea4af9c148"
      }
     },
     "19219141ec984e9cbbdb5e169736eae5": {
      "model_module": "@jupyter-widgets/controls",
      "model_module_version": "1.5.0",
      "model_name": "IntProgressModel",
      "state": {
       "bar_style": "success",
       "layout": "IPY_MODEL_046311a603844cb6bbf383ca13978a5c",
       "max": 1,
       "style": "IPY_MODEL_af9a94190cf247f5b2631b6c9a138166",
       "value": 1
      }
     },
     "1a325ee002094eea94b629a75f37dbb4": {
      "model_module": "@jupyter-widgets/controls",
      "model_module_version": "1.5.0",
      "model_name": "ProgressStyleModel",
      "state": {
       "description_width": "initial"
      }
     },
     "1a32b71ae3f242dcbec666e3ed985391": {
      "model_module": "@jupyter-widgets/base",
      "model_module_version": "1.2.0",
      "model_name": "LayoutModel",
      "state": {
       "width": "20px"
      }
     },
     "1a76760ab35346d3bc7caa9207368b86": {
      "model_module": "@jupyter-widgets/controls",
      "model_module_version": "1.5.0",
      "model_name": "DescriptionStyleModel",
      "state": {
       "description_width": ""
      }
     },
     "1bcdda7e6bdf4d9cab325fdafde5aaad": {
      "model_module": "@jupyter-widgets/controls",
      "model_module_version": "1.5.0",
      "model_name": "DescriptionStyleModel",
      "state": {
       "description_width": ""
      }
     },
     "1c2e32184e764155aee3c4bdb9398f4f": {
      "model_module": "@jupyter-widgets/base",
      "model_module_version": "1.2.0",
      "model_name": "LayoutModel",
      "state": {}
     },
     "1dbb9e24f820442292d14933c861e00f": {
      "model_module": "@jupyter-widgets/base",
      "model_module_version": "1.2.0",
      "model_name": "LayoutModel",
      "state": {}
     },
     "1de529454daa4bbe80c761295cbf12f4": {
      "model_module": "@jupyter-widgets/controls",
      "model_module_version": "1.5.0",
      "model_name": "HTMLModel",
      "state": {
       "layout": "IPY_MODEL_27ffc11335454f2d87ab1e7e884d83c1",
       "style": "IPY_MODEL_6804c3b1c3dc40e6807e1dca1ada74ef",
       "value": " 1966/? [38:17&lt;00:00,  1.17s/it]"
      }
     },
     "1df85fe58fcc48f19d74d138a7282baa": {
      "model_module": "@jupyter-widgets/controls",
      "model_module_version": "1.5.0",
      "model_name": "ProgressStyleModel",
      "state": {
       "description_width": "initial"
      }
     },
     "1ee7524a5af1418eae37c98053b48dec": {
      "model_module": "@jupyter-widgets/base",
      "model_module_version": "1.2.0",
      "model_name": "LayoutModel",
      "state": {}
     },
     "1f29a27bc8be42c2b2452b332172dcc3": {
      "model_module": "@jupyter-widgets/controls",
      "model_module_version": "1.5.0",
      "model_name": "HBoxModel",
      "state": {
       "children": [
        "IPY_MODEL_424e456ae8da4b668ccf2b9b77ddd7a9",
        "IPY_MODEL_ef6014e90b5745b69821132f419d4af6"
       ],
       "layout": "IPY_MODEL_3e296dc9b34c4472aefe01f2d9f52d6d"
      }
     },
     "1fdedaacb8ee45d79d000525cc5ef1e0": {
      "model_module": "@jupyter-widgets/base",
      "model_module_version": "1.2.0",
      "model_name": "LayoutModel",
      "state": {}
     },
     "2066db5bc9c64172b1e743c135a6f6ed": {
      "model_module": "@jupyter-widgets/controls",
      "model_module_version": "1.5.0",
      "model_name": "HBoxModel",
      "state": {
       "children": [
        "IPY_MODEL_2dd195c567be4eb6aba3975a75b3c46c",
        "IPY_MODEL_24c2993b89c34c1f96df49564d5560c0"
       ],
       "layout": "IPY_MODEL_09f01391046c41e99dba51d6fe71f33d"
      }
     },
     "20681fa2666c4808831d170668526d7a": {
      "model_module": "@jupyter-widgets/controls",
      "model_module_version": "1.5.0",
      "model_name": "ProgressStyleModel",
      "state": {
       "description_width": "initial"
      }
     },
     "20a39846981448798d49a748d66d9d5a": {
      "model_module": "@jupyter-widgets/controls",
      "model_module_version": "1.5.0",
      "model_name": "ProgressStyleModel",
      "state": {
       "description_width": "initial"
      }
     },
     "20f6ef96ffca4abcb419867c8b29b62f": {
      "model_module": "@jupyter-widgets/controls",
      "model_module_version": "1.5.0",
      "model_name": "DescriptionStyleModel",
      "state": {
       "description_width": ""
      }
     },
     "2119108af8bc41278648e8e03144af4c": {
      "model_module": "@jupyter-widgets/controls",
      "model_module_version": "1.5.0",
      "model_name": "DescriptionStyleModel",
      "state": {
       "description_width": ""
      }
     },
     "214eb01042fc42eb800e425630fc6d78": {
      "model_module": "@jupyter-widgets/base",
      "model_module_version": "1.2.0",
      "model_name": "LayoutModel",
      "state": {}
     },
     "2169802701b34aeaaf0eebf2ea4ffcae": {
      "model_module": "@jupyter-widgets/base",
      "model_module_version": "1.2.0",
      "model_name": "LayoutModel",
      "state": {}
     },
     "2245f8329c15455a8b456e0a3ed01db7": {
      "model_module": "@jupyter-widgets/controls",
      "model_module_version": "1.5.0",
      "model_name": "HTMLModel",
      "state": {
       "layout": "IPY_MODEL_7102ff24b14444d5a473808bd8ecde56",
       "style": "IPY_MODEL_a46cb31d108a4c87a7ec839fa0dfc887",
       "value": " 1097/? [09:29&lt;00:00,  1.93it/s]"
      }
     },
     "23055859bfbc4567856024100d620f8b": {
      "model_module": "@jupyter-widgets/base",
      "model_module_version": "1.2.0",
      "model_name": "LayoutModel",
      "state": {}
     },
     "2399341144c04012af5a94cd417709d4": {
      "model_module": "@jupyter-widgets/base",
      "model_module_version": "1.2.0",
      "model_name": "LayoutModel",
      "state": {}
     },
     "2430e1c30058420a8d59edcf90b2ed5a": {
      "model_module": "@jupyter-widgets/controls",
      "model_module_version": "1.5.0",
      "model_name": "DescriptionStyleModel",
      "state": {
       "description_width": ""
      }
     },
     "24c2993b89c34c1f96df49564d5560c0": {
      "model_module": "@jupyter-widgets/controls",
      "model_module_version": "1.5.0",
      "model_name": "HTMLModel",
      "state": {
       "layout": "IPY_MODEL_7af0ad9fad104a54af115cfecf4d1c41",
       "style": "IPY_MODEL_1a76760ab35346d3bc7caa9207368b86",
       "value": "2265it [37:45,  1.00s/it]"
      }
     },
     "250a7daa3380445f98628424a985d7e8": {
      "model_module": "@jupyter-widgets/controls",
      "model_module_version": "1.5.0",
      "model_name": "HTMLModel",
      "state": {
       "layout": "IPY_MODEL_34edd789af90457f9a4ebbd9fbd0e00b",
       "style": "IPY_MODEL_132443c96e074d9a9ddae48811b4e517",
       "value": " 1334/? [09:43&lt;00:00,  2.29it/s]"
      }
     },
     "257ae8981a44440e9ab548e0692ea480": {
      "model_module": "@jupyter-widgets/controls",
      "model_module_version": "1.5.0",
      "model_name": "ProgressStyleModel",
      "state": {
       "description_width": "initial"
      }
     },
     "271f7d5425a84c15870ff315bcf30fe7": {
      "model_module": "@jupyter-widgets/base",
      "model_module_version": "1.2.0",
      "model_name": "LayoutModel",
      "state": {}
     },
     "27d0f46936144537bd015191c7228fa6": {
      "model_module": "@jupyter-widgets/base",
      "model_module_version": "1.2.0",
      "model_name": "LayoutModel",
      "state": {}
     },
     "27d78b02bfe8439d8b9b2b73ea8193da": {
      "model_module": "@jupyter-widgets/controls",
      "model_module_version": "1.5.0",
      "model_name": "ProgressStyleModel",
      "state": {
       "description_width": "initial"
      }
     },
     "27ffc11335454f2d87ab1e7e884d83c1": {
      "model_module": "@jupyter-widgets/base",
      "model_module_version": "1.2.0",
      "model_name": "LayoutModel",
      "state": {}
     },
     "282eff64e8904cbca22f684acb5d76cc": {
      "model_module": "@jupyter-widgets/controls",
      "model_module_version": "1.5.0",
      "model_name": "HBoxModel",
      "state": {
       "children": [
        "IPY_MODEL_bde2ba512c38402ca890e466d0fdf513",
        "IPY_MODEL_6fae37901ee2436fb921dfd593630bba"
       ],
       "layout": "IPY_MODEL_536cbc4eb85b45c393b1700e5e60086f"
      }
     },
     "284bd323c6ef457d83a39a6a12d92442": {
      "model_module": "@jupyter-widgets/controls",
      "model_module_version": "1.5.0",
      "model_name": "DescriptionStyleModel",
      "state": {
       "description_width": ""
      }
     },
     "2851c343339a4f069e9a224b3f832e24": {
      "model_module": "@jupyter-widgets/controls",
      "model_module_version": "1.5.0",
      "model_name": "HTMLModel",
      "state": {
       "layout": "IPY_MODEL_f87ed2c0f4d84dd2b7f337180a8ed6db",
       "style": "IPY_MODEL_e3871b799fdb474683092943655edb53",
       "value": " 1367/? [31:40&lt;00:00,  1.39s/it]"
      }
     },
     "286dc32409cd4508b1f53abd708cd707": {
      "model_module": "@jupyter-widgets/base",
      "model_module_version": "1.2.0",
      "model_name": "LayoutModel",
      "state": {}
     },
     "28f18b24c5974bb7b9766f5df63b3931": {
      "model_module": "@jupyter-widgets/controls",
      "model_module_version": "1.5.0",
      "model_name": "DescriptionStyleModel",
      "state": {
       "description_width": ""
      }
     },
     "291fa6cfd7f048928d6560329ccbf9cb": {
      "model_module": "@jupyter-widgets/base",
      "model_module_version": "1.2.0",
      "model_name": "LayoutModel",
      "state": {}
     },
     "29763c3b5ad24f54ae4583a5ec1ec6bf": {
      "model_module": "@jupyter-widgets/controls",
      "model_module_version": "1.5.0",
      "model_name": "FloatProgressModel",
      "state": {
       "bar_style": "success",
       "layout": "IPY_MODEL_f4e23a45905e44a3879d85f9422c643d",
       "max": 1,
       "style": "IPY_MODEL_ca3dc6dfbd54471f8a9aced426815db2",
       "value": 1
      }
     },
     "2a7ad5893e3947ba8dc6eac42345f1ee": {
      "model_module": "@jupyter-widgets/base",
      "model_module_version": "1.2.0",
      "model_name": "LayoutModel",
      "state": {}
     },
     "2b9ab291c928450ca646ece58e9c2ea4": {
      "model_module": "@jupyter-widgets/controls",
      "model_module_version": "1.5.0",
      "model_name": "HBoxModel",
      "state": {
       "children": [
        "IPY_MODEL_19219141ec984e9cbbdb5e169736eae5",
        "IPY_MODEL_7e516d7847f34650a6b9285a097812d1"
       ],
       "layout": "IPY_MODEL_06547b5894634c57ab1dd530cd832d72"
      }
     },
     "2c46ecbf9fc441918f50e59636d32ed7": {
      "model_module": "@jupyter-widgets/controls",
      "model_module_version": "1.5.0",
      "model_name": "HBoxModel",
      "state": {
       "children": [
        "IPY_MODEL_9284ba60f27f4dffae115b6dbec840cd",
        "IPY_MODEL_c4945eb362b64b6883566eabb6d3ca32"
       ],
       "layout": "IPY_MODEL_a117d03ee4f344cfb9aecb7044578a99"
      }
     },
     "2cee3e3517cf412baa735eeefcbffe8c": {
      "model_module": "@jupyter-widgets/base",
      "model_module_version": "1.2.0",
      "model_name": "LayoutModel",
      "state": {}
     },
     "2d0da3e64ff845aa90dc0358b357749f": {
      "model_module": "@jupyter-widgets/controls",
      "model_module_version": "1.5.0",
      "model_name": "DescriptionStyleModel",
      "state": {
       "description_width": ""
      }
     },
     "2d3709c35b884f7aba74f7742312fd27": {
      "model_module": "@jupyter-widgets/base",
      "model_module_version": "1.2.0",
      "model_name": "LayoutModel",
      "state": {
       "width": "20px"
      }
     },
     "2d80bc12d9ff45c78c36c831dfecc026": {
      "model_module": "@jupyter-widgets/controls",
      "model_module_version": "1.5.0",
      "model_name": "IntProgressModel",
      "state": {
       "bar_style": "success",
       "layout": "IPY_MODEL_0c7c1a68f7114b05b87f37ba631def87",
       "max": 1,
       "style": "IPY_MODEL_d7206dc0e79e40cfb80e8ba18a1c8fbb",
       "value": 1
      }
     },
     "2dd195c567be4eb6aba3975a75b3c46c": {
      "model_module": "@jupyter-widgets/controls",
      "model_module_version": "1.5.0",
      "model_name": "FloatProgressModel",
      "state": {
       "bar_style": "success",
       "layout": "IPY_MODEL_5d24b960bb774e26a71f41e2c84a1ca9",
       "max": 1,
       "style": "IPY_MODEL_c9f20f64895e4b16aea3c397bc1b3aba",
       "value": 1
      }
     },
     "2df8a751adab4f6e8406612548c8110a": {
      "model_module": "@jupyter-widgets/base",
      "model_module_version": "1.2.0",
      "model_name": "LayoutModel",
      "state": {}
     },
     "2e396f22b57c4347a0a2792d01718b0e": {
      "model_module": "@jupyter-widgets/controls",
      "model_module_version": "1.5.0",
      "model_name": "ProgressStyleModel",
      "state": {
       "description_width": "initial"
      }
     },
     "2e447652332747f9a6a51bd90e999754": {
      "model_module": "@jupyter-widgets/controls",
      "model_module_version": "1.5.0",
      "model_name": "ProgressStyleModel",
      "state": {
       "description_width": "initial"
      }
     },
     "2f2a5f7917954bc5bc09a21f0d5ee779": {
      "model_module": "@jupyter-widgets/controls",
      "model_module_version": "1.5.0",
      "model_name": "HBoxModel",
      "state": {
       "children": [
        "IPY_MODEL_9ce706175e764661a0f65c5593a35c93",
        "IPY_MODEL_4afba5fae6684dbe8f9e94b46dccb0f9"
       ],
       "layout": "IPY_MODEL_48a2d70a664447468f1b99cdd79aac1c"
      }
     },
     "2f662668c295446596ac18cc8967558d": {
      "model_module": "@jupyter-widgets/controls",
      "model_module_version": "1.5.0",
      "model_name": "HBoxModel",
      "state": {
       "children": [
        "IPY_MODEL_749ba2481b944e80bd59d76387969b3c",
        "IPY_MODEL_56d41c3ce0214261a1981166bcd4e0cc"
       ],
       "layout": "IPY_MODEL_15a241a66a6641a7bf9ded805ed1445d"
      }
     },
     "30469ce7ad254637bb466aa331e46635": {
      "model_module": "@jupyter-widgets/base",
      "model_module_version": "1.2.0",
      "model_name": "LayoutModel",
      "state": {}
     },
     "304e06c7c8e44bf6bf5c6d5d55f8685c": {
      "model_module": "@jupyter-widgets/base",
      "model_module_version": "1.2.0",
      "model_name": "LayoutModel",
      "state": {}
     },
     "304e80cb9d7d4dcca9e3290e93d7883a": {
      "model_module": "@jupyter-widgets/controls",
      "model_module_version": "1.5.0",
      "model_name": "HTMLModel",
      "state": {
       "layout": "IPY_MODEL_7f21f6f30dde442ab211bc4b6f844544",
       "style": "IPY_MODEL_66576edba22e42459efc55292d02fc37",
       "value": " 998/? [30:05&lt;00:00,  1.81s/it]"
      }
     },
     "31119bcd6dda4980bf15e03e59a802b6": {
      "model_module": "@jupyter-widgets/base",
      "model_module_version": "1.2.0",
      "model_name": "LayoutModel",
      "state": {}
     },
     "31e9be71aa474f8fb924a245fe693bdf": {
      "model_module": "@jupyter-widgets/base",
      "model_module_version": "1.2.0",
      "model_name": "LayoutModel",
      "state": {}
     },
     "31ec49a1d25a46428667c6551369e5fe": {
      "model_module": "@jupyter-widgets/base",
      "model_module_version": "1.2.0",
      "model_name": "LayoutModel",
      "state": {}
     },
     "3237f9291e744082905ee5e67da84901": {
      "model_module": "@jupyter-widgets/controls",
      "model_module_version": "1.5.0",
      "model_name": "IntProgressModel",
      "state": {
       "bar_style": "danger",
       "layout": "IPY_MODEL_95f04c32d7f946a5b142a3f983426f0b",
       "max": 1,
       "style": "IPY_MODEL_10ac4d8ccf2c46bca12fb727930acb4f"
      }
     },
     "3296d70bb7454091a1f9eeca7fb05a1b": {
      "model_module": "@jupyter-widgets/controls",
      "model_module_version": "1.5.0",
      "model_name": "HBoxModel",
      "state": {
       "children": [
        "IPY_MODEL_984c9040854a43cc8df315fc870503fb",
        "IPY_MODEL_e1a556c91381442ab841db36cb753af8"
       ],
       "layout": "IPY_MODEL_9e1da20212b649cfaba262843ac473e7"
      }
     },
     "3296de54b5804f27a925d23a9689459a": {
      "model_module": "@jupyter-widgets/base",
      "model_module_version": "1.2.0",
      "model_name": "LayoutModel",
      "state": {}
     },
     "32bb2274aab94db5a9029afad0d16266": {
      "model_module": "@jupyter-widgets/base",
      "model_module_version": "1.2.0",
      "model_name": "LayoutModel",
      "state": {}
     },
     "330f4ef1fe4b44b28ceeb3868aa5ffa8": {
      "model_module": "@jupyter-widgets/controls",
      "model_module_version": "1.5.0",
      "model_name": "HTMLModel",
      "state": {
       "layout": "IPY_MODEL_9a2e83a9008547859190ad07dec7b2c5",
       "style": "IPY_MODEL_e0afe7f5c2114d1a9287e85bb3b88f4b",
       "value": "2107it [00:59, 35.55it/s]"
      }
     },
     "33143628fc944ae09360ba791e804f56": {
      "model_module": "@jupyter-widgets/controls",
      "model_module_version": "1.5.0",
      "model_name": "DescriptionStyleModel",
      "state": {
       "description_width": ""
      }
     },
     "33e503da1a114dd088e80e6481228ec6": {
      "model_module": "@jupyter-widgets/base",
      "model_module_version": "1.2.0",
      "model_name": "LayoutModel",
      "state": {}
     },
     "33e90321980347119e71c6d647f3c722": {
      "model_module": "@jupyter-widgets/controls",
      "model_module_version": "1.5.0",
      "model_name": "ProgressStyleModel",
      "state": {
       "description_width": "initial"
      }
     },
     "34edd789af90457f9a4ebbd9fbd0e00b": {
      "model_module": "@jupyter-widgets/base",
      "model_module_version": "1.2.0",
      "model_name": "LayoutModel",
      "state": {}
     },
     "35ee0e34aebd4d28a723a32b551b76cc": {
      "model_module": "@jupyter-widgets/controls",
      "model_module_version": "1.5.0",
      "model_name": "DescriptionStyleModel",
      "state": {
       "description_width": ""
      }
     },
     "367040f391034f4fa831248bfe66620f": {
      "model_module": "@jupyter-widgets/base",
      "model_module_version": "1.2.0",
      "model_name": "LayoutModel",
      "state": {}
     },
     "379dc48d2dae4cb5ae4e8bea4af9c148": {
      "model_module": "@jupyter-widgets/base",
      "model_module_version": "1.2.0",
      "model_name": "LayoutModel",
      "state": {}
     },
     "37bf4faaf339484c94bd31a01fdd1c4e": {
      "model_module": "@jupyter-widgets/base",
      "model_module_version": "1.2.0",
      "model_name": "LayoutModel",
      "state": {}
     },
     "387c5a7153374bdea6023884a301e3f8": {
      "model_module": "@jupyter-widgets/base",
      "model_module_version": "1.2.0",
      "model_name": "LayoutModel",
      "state": {}
     },
     "387f01b179a54d7f962ba5fb65218e92": {
      "model_module": "@jupyter-widgets/controls",
      "model_module_version": "1.5.0",
      "model_name": "HTMLModel",
      "state": {
       "layout": "IPY_MODEL_2df8a751adab4f6e8406612548c8110a",
       "style": "IPY_MODEL_495a6c06e76d4185ac358d5125032b9b",
       "value": " 1942/? [45:22&lt;00:00,  1.40s/it]"
      }
     },
     "39795d8108d74c758114857cda91edbb": {
      "model_module": "@jupyter-widgets/controls",
      "model_module_version": "1.5.0",
      "model_name": "HTMLModel",
      "state": {
       "layout": "IPY_MODEL_8b0a6ae1d3dd408aa3758b9f6254f44c",
       "style": "IPY_MODEL_621ecbacda6844c782c53a8a9509d097",
       "value": " 1334/? [01:03&lt;00:00, 21.01it/s]"
      }
     },
     "398802c10b7242a4a564e50dbf105f7a": {
      "model_module": "@jupyter-widgets/controls",
      "model_module_version": "1.5.0",
      "model_name": "IntProgressModel",
      "state": {
       "bar_style": "danger",
       "layout": "IPY_MODEL_e173949fb14c4e6f8fadb04bf920dc24",
       "max": 1,
       "style": "IPY_MODEL_27d78b02bfe8439d8b9b2b73ea8193da"
      }
     },
     "3ba0355c1ed24f8ead74c06499bb70a9": {
      "model_module": "@jupyter-widgets/base",
      "model_module_version": "1.2.0",
      "model_name": "LayoutModel",
      "state": {}
     },
     "3bd9a19a2da641d6b396cc741172baab": {
      "model_module": "@jupyter-widgets/controls",
      "model_module_version": "1.5.0",
      "model_name": "IntProgressModel",
      "state": {
       "bar_style": "success",
       "layout": "IPY_MODEL_d0f51bfaf1a64b9aba73c3ba75fa44ca",
       "max": 1,
       "style": "IPY_MODEL_553ffdc61e3a40f9bc33bf3b606cd714",
       "value": 1
      }
     },
     "3c7665fd801f47baa82bd805c7727a34": {
      "model_module": "@jupyter-widgets/controls",
      "model_module_version": "1.5.0",
      "model_name": "ProgressStyleModel",
      "state": {
       "description_width": "initial"
      }
     },
     "3ce10872492f44c9b7475de875da52e7": {
      "model_module": "@jupyter-widgets/controls",
      "model_module_version": "1.5.0",
      "model_name": "DescriptionStyleModel",
      "state": {
       "description_width": ""
      }
     },
     "3d860c6974cd45e4bbf90ca3208c7027": {
      "model_module": "@jupyter-widgets/base",
      "model_module_version": "1.2.0",
      "model_name": "LayoutModel",
      "state": {
       "width": "20px"
      }
     },
     "3d8d9bfdf59b4d9780c2c517ac520bcf": {
      "model_module": "@jupyter-widgets/controls",
      "model_module_version": "1.5.0",
      "model_name": "ProgressStyleModel",
      "state": {
       "description_width": "initial"
      }
     },
     "3e0c5efe097447fbbd8293635082d72b": {
      "model_module": "@jupyter-widgets/base",
      "model_module_version": "1.2.0",
      "model_name": "LayoutModel",
      "state": {}
     },
     "3e296dc9b34c4472aefe01f2d9f52d6d": {
      "model_module": "@jupyter-widgets/base",
      "model_module_version": "1.2.0",
      "model_name": "LayoutModel",
      "state": {}
     },
     "3fbf49883e5c475a95e82e95e80958cc": {
      "model_module": "@jupyter-widgets/base",
      "model_module_version": "1.2.0",
      "model_name": "LayoutModel",
      "state": {}
     },
     "409429b895df433ea6a1cfa52aada1c0": {
      "model_module": "@jupyter-widgets/controls",
      "model_module_version": "1.5.0",
      "model_name": "HBoxModel",
      "state": {
       "children": [
        "IPY_MODEL_7beec8a7697541048dd4757449668036",
        "IPY_MODEL_c3c4300a851241e7ab2e754ef3082b0c"
       ],
       "layout": "IPY_MODEL_02da6b9623524b4086db11deb08a381d"
      }
     },
     "40f0c4c5cc904affb3796100f18d166c": {
      "model_module": "@jupyter-widgets/controls",
      "model_module_version": "1.5.0",
      "model_name": "ProgressStyleModel",
      "state": {
       "description_width": "initial"
      }
     },
     "424e456ae8da4b668ccf2b9b77ddd7a9": {
      "model_module": "@jupyter-widgets/controls",
      "model_module_version": "1.5.0",
      "model_name": "IntProgressModel",
      "state": {
       "bar_style": "success",
       "layout": "IPY_MODEL_4ef60444fef742e0b45ef164fde3401b",
       "max": 1,
       "style": "IPY_MODEL_eda48863e8094b81b9354b7a819c0d86",
       "value": 1
      }
     },
     "441167d7aded41b2a40a6bfac2b87808": {
      "model_module": "@jupyter-widgets/controls",
      "model_module_version": "1.5.0",
      "model_name": "DescriptionStyleModel",
      "state": {
       "description_width": ""
      }
     },
     "447d15f35bd046a0baf88118640257db": {
      "model_module": "@jupyter-widgets/controls",
      "model_module_version": "1.5.0",
      "model_name": "HBoxModel",
      "state": {
       "children": [
        "IPY_MODEL_6cf0e58cb8b944abaac33e1143062932",
        "IPY_MODEL_bd8410fdb8164906a08fc8c00d6f9de2"
       ],
       "layout": "IPY_MODEL_3fbf49883e5c475a95e82e95e80958cc"
      }
     },
     "44bf3bc5c4d24a40a528174dfc4a7c3a": {
      "model_module": "@jupyter-widgets/controls",
      "model_module_version": "1.5.0",
      "model_name": "HTMLModel",
      "state": {
       "layout": "IPY_MODEL_286dc32409cd4508b1f53abd708cd707",
       "style": "IPY_MODEL_68644141fa81430cbcf4ad5031e807cf",
       "value": " 1367/? [25:34&lt;00:00,  1.12s/it]"
      }
     },
     "45c7ecc2472a4af3a8f2be7fcdf8e32b": {
      "model_module": "@jupyter-widgets/base",
      "model_module_version": "1.2.0",
      "model_name": "LayoutModel",
      "state": {}
     },
     "45f0a4b9e8f44f188d2bad7d18fb49c8": {
      "model_module": "@jupyter-widgets/base",
      "model_module_version": "1.2.0",
      "model_name": "LayoutModel",
      "state": {}
     },
     "46b8c32857284c55bcc8dcbd279adf39": {
      "model_module": "@jupyter-widgets/controls",
      "model_module_version": "1.5.0",
      "model_name": "HBoxModel",
      "state": {
       "children": [
        "IPY_MODEL_3bd9a19a2da641d6b396cc741172baab",
        "IPY_MODEL_09df368ed72b427e8307e9c938f25112"
       ],
       "layout": "IPY_MODEL_f7d19bfdbdc24e68b923d3143d108fee"
      }
     },
     "473487f43b734668a28e6c507c7e4ddf": {
      "model_module": "@jupyter-widgets/controls",
      "model_module_version": "1.5.0",
      "model_name": "ProgressStyleModel",
      "state": {
       "description_width": "initial"
      }
     },
     "4804d4624bb54ed7b78a1451a0d622ef": {
      "model_module": "@jupyter-widgets/controls",
      "model_module_version": "1.5.0",
      "model_name": "ProgressStyleModel",
      "state": {
       "description_width": "initial"
      }
     },
     "48a2d70a664447468f1b99cdd79aac1c": {
      "model_module": "@jupyter-widgets/base",
      "model_module_version": "1.2.0",
      "model_name": "LayoutModel",
      "state": {}
     },
     "48e15ec98d804d0b8f2959d2af71d971": {
      "model_module": "@jupyter-widgets/controls",
      "model_module_version": "1.5.0",
      "model_name": "ProgressStyleModel",
      "state": {
       "description_width": "initial"
      }
     },
     "491f3bb35fe04765bca4ad3a5c9deb8c": {
      "model_module": "@jupyter-widgets/controls",
      "model_module_version": "1.5.0",
      "model_name": "HBoxModel",
      "state": {
       "children": [
        "IPY_MODEL_da18a3b20e384d38a86309cbfe1ea439",
        "IPY_MODEL_84862fe6aa714368a8f00b97ab8c4d24"
       ],
       "layout": "IPY_MODEL_895d6fa68d984909b8e1a4898cefb70b"
      }
     },
     "495a6c06e76d4185ac358d5125032b9b": {
      "model_module": "@jupyter-widgets/controls",
      "model_module_version": "1.5.0",
      "model_name": "DescriptionStyleModel",
      "state": {
       "description_width": ""
      }
     },
     "4973030728ac43a09e372e19e826fb8d": {
      "model_module": "@jupyter-widgets/base",
      "model_module_version": "1.2.0",
      "model_name": "LayoutModel",
      "state": {}
     },
     "49afbb31f9474a07a06ad579a5d4aac3": {
      "model_module": "@jupyter-widgets/base",
      "model_module_version": "1.2.0",
      "model_name": "LayoutModel",
      "state": {}
     },
     "4a433bbc55f84c388e845e019fa5af18": {
      "model_module": "@jupyter-widgets/controls",
      "model_module_version": "1.5.0",
      "model_name": "HBoxModel",
      "state": {
       "children": [
        "IPY_MODEL_cd4fa668fcc6448c8762b3227822b0a5",
        "IPY_MODEL_0ab1d88f11fc426ea76a3b57209b8f7d"
       ],
       "layout": "IPY_MODEL_08ff6aab8d25469eb4c8d9069a4d3371"
      }
     },
     "4a85675a67d54e318812e464aaf8f8b4": {
      "model_module": "@jupyter-widgets/base",
      "model_module_version": "1.2.0",
      "model_name": "LayoutModel",
      "state": {}
     },
     "4afba5fae6684dbe8f9e94b46dccb0f9": {
      "model_module": "@jupyter-widgets/controls",
      "model_module_version": "1.5.0",
      "model_name": "HTMLModel",
      "state": {
       "layout": "IPY_MODEL_15fe1ae892e04ec1884917951d9ada72",
       "style": "IPY_MODEL_aee38fd2d7cb478ab92f9aa002ab4435",
       "value": "2270it [23:17,  1.62it/s]"
      }
     },
     "4bedb2b63f79417d91fdef500f0b8f2e": {
      "model_module": "@jupyter-widgets/controls",
      "model_module_version": "1.5.0",
      "model_name": "HTMLModel",
      "state": {
       "layout": "IPY_MODEL_d5de5e1970674bd3915d5f68768736a6",
       "style": "IPY_MODEL_c56e81dddac144ed9b9fac583b33236d",
       "value": "2205it [16:55,  2.17it/s]"
      }
     },
     "4dfd127a60fd4c989b511737f6c04102": {
      "model_module": "@jupyter-widgets/controls",
      "model_module_version": "1.5.0",
      "model_name": "DescriptionStyleModel",
      "state": {
       "description_width": ""
      }
     },
     "4e68dec1b4b349d8b600cf5e63be73d3": {
      "model_module": "@jupyter-widgets/controls",
      "model_module_version": "1.5.0",
      "model_name": "HBoxModel",
      "state": {
       "children": [
        "IPY_MODEL_088937c388c14b65a99cce16ac860b9f",
        "IPY_MODEL_057b4a71f91340068f4569e87d4e3936"
       ],
       "layout": "IPY_MODEL_8d07eedbf6754f5eb5561beceb1c067f"
      }
     },
     "4e9e91b8c63d40349d6b883c6aac4ffc": {
      "model_module": "@jupyter-widgets/controls",
      "model_module_version": "1.5.0",
      "model_name": "ProgressStyleModel",
      "state": {
       "description_width": "initial"
      }
     },
     "4ef60444fef742e0b45ef164fde3401b": {
      "model_module": "@jupyter-widgets/base",
      "model_module_version": "1.2.0",
      "model_name": "LayoutModel",
      "state": {}
     },
     "4f1937dbae1d46d38564e13d61cafd99": {
      "model_module": "@jupyter-widgets/controls",
      "model_module_version": "1.5.0",
      "model_name": "HTMLModel",
      "state": {
       "layout": "IPY_MODEL_bab5bfa2640e417cb26b67d056186993",
       "style": "IPY_MODEL_284bd323c6ef457d83a39a6a12d92442",
       "value": " 300/? [06:47&lt;00:00,  1.48s/it]"
      }
     },
     "4fa3b1d2b95f4945941aeb7c115dffae": {
      "model_module": "@jupyter-widgets/controls",
      "model_module_version": "1.5.0",
      "model_name": "HTMLModel",
      "state": {
       "layout": "IPY_MODEL_c9345f7ea1d8489686730b61b9543aaa",
       "style": "IPY_MODEL_a92f07a1760542aeabcf07f6c700acab",
       "value": " 1942/? [36:23&lt;00:00,  1.12s/it]"
      }
     },
     "50127a4d9b1048308bb8c4aaceecdf16": {
      "model_module": "@jupyter-widgets/base",
      "model_module_version": "1.2.0",
      "model_name": "LayoutModel",
      "state": {}
     },
     "506fc7382777469f87c4c5b54bb44435": {
      "model_module": "@jupyter-widgets/controls",
      "model_module_version": "1.5.0",
      "model_name": "HTMLModel",
      "state": {
       "layout": "IPY_MODEL_49afbb31f9474a07a06ad579a5d4aac3",
       "style": "IPY_MODEL_f27016c8d4d84ccaa72967e4f6ed701d",
       "value": " 1334/? [33:59&lt;00:00,  1.53s/it]"
      }
     },
     "50a49433bb4b425aaade933b7cd2e0b6": {
      "model_module": "@jupyter-widgets/controls",
      "model_module_version": "1.5.0",
      "model_name": "HBoxModel",
      "state": {
       "children": [
        "IPY_MODEL_29763c3b5ad24f54ae4583a5ec1ec6bf",
        "IPY_MODEL_330f4ef1fe4b44b28ceeb3868aa5ffa8"
       ],
       "layout": "IPY_MODEL_e01d61ac524042e6bfb1954dd506e6bf"
      }
     },
     "50fdeef4d6cb49cd8082bab1300e4c80": {
      "model_module": "@jupyter-widgets/base",
      "model_module_version": "1.2.0",
      "model_name": "LayoutModel",
      "state": {}
     },
     "5103c93b17ab435c8a0f6d32f17f0c2e": {
      "model_module": "@jupyter-widgets/controls",
      "model_module_version": "1.5.0",
      "model_name": "IntProgressModel",
      "state": {
       "bar_style": "danger",
       "layout": "IPY_MODEL_de238ddfdc624ca0ad752cadea80989e",
       "max": 1,
       "style": "IPY_MODEL_d4a48d7007eb47fdb3679d75808a83e9",
       "value": 1
      }
     },
     "5236e81bd40b4bddad92396492c0c14f": {
      "model_module": "@jupyter-widgets/base",
      "model_module_version": "1.2.0",
      "model_name": "LayoutModel",
      "state": {
       "width": "20px"
      }
     },
     "5261fe635b1a45b68e14f35df213cd3c": {
      "model_module": "@jupyter-widgets/base",
      "model_module_version": "1.2.0",
      "model_name": "LayoutModel",
      "state": {}
     },
     "5307410cd5304204818fb4c7e3715f8d": {
      "model_module": "@jupyter-widgets/base",
      "model_module_version": "1.2.0",
      "model_name": "LayoutModel",
      "state": {}
     },
     "531de4dc5694454dbf421de5862de6e4": {
      "model_module": "@jupyter-widgets/controls",
      "model_module_version": "1.5.0",
      "model_name": "HTMLModel",
      "state": {
       "layout": "IPY_MODEL_8efb325713ab4d85951387a0e1e93a74",
       "style": "IPY_MODEL_d98a632c97694780bb7b689d94e70f4c",
       "value": " 1367/? [2:21:27&lt;00:00,  6.21s/it]"
      }
     },
     "536cbc4eb85b45c393b1700e5e60086f": {
      "model_module": "@jupyter-widgets/base",
      "model_module_version": "1.2.0",
      "model_name": "LayoutModel",
      "state": {}
     },
     "53abeb2692044430888cf8a37096f8aa": {
      "model_module": "@jupyter-widgets/controls",
      "model_module_version": "1.5.0",
      "model_name": "DescriptionStyleModel",
      "state": {
       "description_width": ""
      }
     },
     "53be45385d0e4e9086c131a72aab54d7": {
      "model_module": "@jupyter-widgets/base",
      "model_module_version": "1.2.0",
      "model_name": "LayoutModel",
      "state": {}
     },
     "5418f26ea4134bf7822b8e8e0bab02fa": {
      "model_module": "@jupyter-widgets/base",
      "model_module_version": "1.2.0",
      "model_name": "LayoutModel",
      "state": {}
     },
     "54337ec1507f4057a22ac298d9e4b983": {
      "model_module": "@jupyter-widgets/base",
      "model_module_version": "1.2.0",
      "model_name": "LayoutModel",
      "state": {}
     },
     "543a0239c8df4a26bff204a8fdc7ef52": {
      "model_module": "@jupyter-widgets/controls",
      "model_module_version": "1.5.0",
      "model_name": "IntProgressModel",
      "state": {
       "bar_style": "danger",
       "layout": "IPY_MODEL_387c5a7153374bdea6023884a301e3f8",
       "max": 1,
       "style": "IPY_MODEL_e4fa8e28fb9a41229f9e719fb75fffdb"
      }
     },
     "54cfda5a51c141d78154a02fb8bd1730": {
      "model_module": "@jupyter-widgets/base",
      "model_module_version": "1.2.0",
      "model_name": "LayoutModel",
      "state": {}
     },
     "553ffdc61e3a40f9bc33bf3b606cd714": {
      "model_module": "@jupyter-widgets/controls",
      "model_module_version": "1.5.0",
      "model_name": "ProgressStyleModel",
      "state": {
       "description_width": "initial"
      }
     },
     "56d41c3ce0214261a1981166bcd4e0cc": {
      "model_module": "@jupyter-widgets/controls",
      "model_module_version": "1.5.0",
      "model_name": "HTMLModel",
      "state": {
       "layout": "IPY_MODEL_31ec49a1d25a46428667c6551369e5fe",
       "style": "IPY_MODEL_c4d86d37ddb64353b4932f911729a11e",
       "value": "2205it [18:02,  2.04it/s]"
      }
     },
     "57ae48ace983402abe53278c654e5ea7": {
      "model_module": "@jupyter-widgets/controls",
      "model_module_version": "1.5.0",
      "model_name": "ProgressStyleModel",
      "state": {
       "description_width": "initial"
      }
     },
     "58559ba105024c9ba87a3fc97caf8d68": {
      "model_module": "@jupyter-widgets/base",
      "model_module_version": "1.2.0",
      "model_name": "LayoutModel",
      "state": {}
     },
     "589c4258329d4400afe7ce05672e0e77": {
      "model_module": "@jupyter-widgets/controls",
      "model_module_version": "1.5.0",
      "model_name": "IntProgressModel",
      "state": {
       "bar_style": "danger",
       "layout": "IPY_MODEL_5cc0f087633c4aa0b37fa4a7087e529e",
       "max": 1,
       "style": "IPY_MODEL_1a325ee002094eea94b629a75f37dbb4",
       "value": 1
      }
     },
     "58fb8ba8c10c40a4a69763dda835ad72": {
      "model_module": "@jupyter-widgets/base",
      "model_module_version": "1.2.0",
      "model_name": "LayoutModel",
      "state": {}
     },
     "59cefe1f6ca94a87973f010b001a76ef": {
      "model_module": "@jupyter-widgets/controls",
      "model_module_version": "1.5.0",
      "model_name": "ProgressStyleModel",
      "state": {
       "description_width": "initial"
      }
     },
     "5a19c3dab9324c01a393363756c6e7b8": {
      "model_module": "@jupyter-widgets/controls",
      "model_module_version": "1.5.0",
      "model_name": "IntProgressModel",
      "state": {
       "bar_style": "success",
       "layout": "IPY_MODEL_c1db00872ddd45d2894a40e1873c8793",
       "max": 1,
       "style": "IPY_MODEL_13f6fe311b1a4163921d491ab3bc8643",
       "value": 1
      }
     },
     "5b50c6c55c41476a9812f0541d8b17d6": {
      "model_module": "@jupyter-widgets/base",
      "model_module_version": "1.2.0",
      "model_name": "LayoutModel",
      "state": {}
     },
     "5ba3ecdd2f25466a9c131b144799ad95": {
      "model_module": "@jupyter-widgets/base",
      "model_module_version": "1.2.0",
      "model_name": "LayoutModel",
      "state": {}
     },
     "5cc0f087633c4aa0b37fa4a7087e529e": {
      "model_module": "@jupyter-widgets/base",
      "model_module_version": "1.2.0",
      "model_name": "LayoutModel",
      "state": {}
     },
     "5cc3283a15cc46d3845121748727d0bc": {
      "model_module": "@jupyter-widgets/controls",
      "model_module_version": "1.5.0",
      "model_name": "HBoxModel",
      "state": {
       "children": [
        "IPY_MODEL_e6d323ee0e1e4151990ed0bb2b22a28e",
        "IPY_MODEL_6bc4584afe4b4c6192e37cf88e7892c7"
       ],
       "layout": "IPY_MODEL_e7b704604a3f4e8d91308b631312a32e"
      }
     },
     "5cf234e46fcd4e27bf9c51bd12716d4a": {
      "model_module": "@jupyter-widgets/controls",
      "model_module_version": "1.5.0",
      "model_name": "ProgressStyleModel",
      "state": {
       "description_width": "initial"
      }
     },
     "5d24b960bb774e26a71f41e2c84a1ca9": {
      "model_module": "@jupyter-widgets/base",
      "model_module_version": "1.2.0",
      "model_name": "LayoutModel",
      "state": {
       "width": "20px"
      }
     },
     "5d4f1bafd526472a9bf53eed1d10157a": {
      "model_module": "@jupyter-widgets/controls",
      "model_module_version": "1.5.0",
      "model_name": "HBoxModel",
      "state": {
       "children": [
        "IPY_MODEL_f00cc5981e004cf1aa4b88776b35f8d4",
        "IPY_MODEL_9b1006490d814f339b9ec369e09b8dc2"
       ],
       "layout": "IPY_MODEL_3296de54b5804f27a925d23a9689459a"
      }
     },
     "5d73f980018a4e998a49bf07a4b64210": {
      "model_module": "@jupyter-widgets/base",
      "model_module_version": "1.2.0",
      "model_name": "LayoutModel",
      "state": {}
     },
     "5f79d63e250d41c895cd91911dced643": {
      "model_module": "@jupyter-widgets/controls",
      "model_module_version": "1.5.0",
      "model_name": "HBoxModel",
      "state": {
       "children": [
        "IPY_MODEL_64577cc054c34ee4a23f010d1ab9807a",
        "IPY_MODEL_cba927a130bb4d879863159abb89be1e"
       ],
       "layout": "IPY_MODEL_7179908f26e6496690d3d4990dc7d998"
      }
     },
     "60f4f4f094c3450fac81f32385f11427": {
      "model_module": "@jupyter-widgets/controls",
      "model_module_version": "1.5.0",
      "model_name": "IntProgressModel",
      "state": {
       "bar_style": "success",
       "layout": "IPY_MODEL_0bca540978f84049a5c53f470664631b",
       "max": 1,
       "style": "IPY_MODEL_3c7665fd801f47baa82bd805c7727a34",
       "value": 1
      }
     },
     "621ecbacda6844c782c53a8a9509d097": {
      "model_module": "@jupyter-widgets/controls",
      "model_module_version": "1.5.0",
      "model_name": "DescriptionStyleModel",
      "state": {
       "description_width": ""
      }
     },
     "629eb2d1efd84ea38f91a03dfc6a5323": {
      "model_module": "@jupyter-widgets/controls",
      "model_module_version": "1.5.0",
      "model_name": "DescriptionStyleModel",
      "state": {
       "description_width": ""
      }
     },
     "63007b41fd604530abb3ba829ac1cb85": {
      "model_module": "@jupyter-widgets/base",
      "model_module_version": "1.2.0",
      "model_name": "LayoutModel",
      "state": {}
     },
     "642699fa39ff45108fccd04d76be2235": {
      "model_module": "@jupyter-widgets/base",
      "model_module_version": "1.2.0",
      "model_name": "LayoutModel",
      "state": {}
     },
     "64577cc054c34ee4a23f010d1ab9807a": {
      "model_module": "@jupyter-widgets/controls",
      "model_module_version": "1.5.0",
      "model_name": "FloatProgressModel",
      "state": {
       "bar_style": "success",
       "layout": "IPY_MODEL_3d860c6974cd45e4bbf90ca3208c7027",
       "max": 1,
       "style": "IPY_MODEL_59cefe1f6ca94a87973f010b001a76ef",
       "value": 1
      }
     },
     "654e0ff6bfc7419282fdc531633c0a7b": {
      "model_module": "@jupyter-widgets/controls",
      "model_module_version": "1.5.0",
      "model_name": "HBoxModel",
      "state": {
       "children": [
        "IPY_MODEL_131fe5fb01b542ee8b9b244df6a4ab1a",
        "IPY_MODEL_4fa3b1d2b95f4945941aeb7c115dffae"
       ],
       "layout": "IPY_MODEL_8e375a5397e544a18044908bff715cb4"
      }
     },
     "65ba3b8401374551bb40274f5a8784c8": {
      "model_module": "@jupyter-widgets/controls",
      "model_module_version": "1.5.0",
      "model_name": "HBoxModel",
      "state": {
       "children": [
        "IPY_MODEL_061b4c16c0c444448a63d3786ffa2535",
        "IPY_MODEL_cf123e16508c4278896edbfff1c6a8a5"
       ],
       "layout": "IPY_MODEL_3ba0355c1ed24f8ead74c06499bb70a9"
      }
     },
     "665395be92ab44bcb85fb9284dc91aab": {
      "model_module": "@jupyter-widgets/base",
      "model_module_version": "1.2.0",
      "model_name": "LayoutModel",
      "state": {}
     },
     "66576edba22e42459efc55292d02fc37": {
      "model_module": "@jupyter-widgets/controls",
      "model_module_version": "1.5.0",
      "model_name": "DescriptionStyleModel",
      "state": {
       "description_width": ""
      }
     },
     "668d31f3e661403fbdc2b219b70be7e0": {
      "model_module": "@jupyter-widgets/base",
      "model_module_version": "1.2.0",
      "model_name": "LayoutModel",
      "state": {
       "width": "20px"
      }
     },
     "6727f74701bc4327a5f4fea25036e51c": {
      "model_module": "@jupyter-widgets/base",
      "model_module_version": "1.2.0",
      "model_name": "LayoutModel",
      "state": {}
     },
     "6804c3b1c3dc40e6807e1dca1ada74ef": {
      "model_module": "@jupyter-widgets/controls",
      "model_module_version": "1.5.0",
      "model_name": "DescriptionStyleModel",
      "state": {
       "description_width": ""
      }
     },
     "6813e4a109694984b0fcfb2771ae8dd8": {
      "model_module": "@jupyter-widgets/base",
      "model_module_version": "1.2.0",
      "model_name": "LayoutModel",
      "state": {}
     },
     "68644141fa81430cbcf4ad5031e807cf": {
      "model_module": "@jupyter-widgets/controls",
      "model_module_version": "1.5.0",
      "model_name": "DescriptionStyleModel",
      "state": {
       "description_width": ""
      }
     },
     "690bc2d062354840bc2c6cad3f8227fd": {
      "model_module": "@jupyter-widgets/controls",
      "model_module_version": "1.5.0",
      "model_name": "ProgressStyleModel",
      "state": {
       "description_width": "initial"
      }
     },
     "697d7564597e4fb89d2d7ef41c5c77c8": {
      "model_module": "@jupyter-widgets/controls",
      "model_module_version": "1.5.0",
      "model_name": "DescriptionStyleModel",
      "state": {
       "description_width": ""
      }
     },
     "699f1a09e22f42ffb064e8d1b8fae93a": {
      "model_module": "@jupyter-widgets/controls",
      "model_module_version": "1.5.0",
      "model_name": "HTMLModel",
      "state": {
       "layout": "IPY_MODEL_74f1fb136e5d44619c801da592ba497e",
       "style": "IPY_MODEL_bf4cffdc13374270a7fb363ec146a032",
       "value": " 1942/? [41:35&lt;00:00,  1.29s/it]"
      }
     },
     "6aa97aac4c054a96a065c806efcc678e": {
      "model_module": "@jupyter-widgets/controls",
      "model_module_version": "1.5.0",
      "model_name": "ProgressStyleModel",
      "state": {
       "description_width": "initial"
      }
     },
     "6bc4584afe4b4c6192e37cf88e7892c7": {
      "model_module": "@jupyter-widgets/controls",
      "model_module_version": "1.5.0",
      "model_name": "HTMLModel",
      "state": {
       "layout": "IPY_MODEL_0f83c2662eb0445baf1649c070281e13",
       "style": "IPY_MODEL_20f6ef96ffca4abcb419867c8b29b62f",
       "value": "2265it [32:11,  1.17it/s]"
      }
     },
     "6c220668b2364801b907b4c1c5b46552": {
      "model_module": "@jupyter-widgets/controls",
      "model_module_version": "1.5.0",
      "model_name": "IntProgressModel",
      "state": {
       "bar_style": "success",
       "layout": "IPY_MODEL_30469ce7ad254637bb466aa331e46635",
       "max": 1,
       "style": "IPY_MODEL_b6d6078cbbc6468b9e7649009f9bc1df",
       "value": 1
      }
     },
     "6cf0e58cb8b944abaac33e1143062932": {
      "model_module": "@jupyter-widgets/controls",
      "model_module_version": "1.5.0",
      "model_name": "IntProgressModel",
      "state": {
       "bar_style": "success",
       "layout": "IPY_MODEL_6dcf2af7b7a44592803f0b3ee0772383",
       "max": 1,
       "style": "IPY_MODEL_f12faedd278e4ec7ba3ea3ba070d3414",
       "value": 1
      }
     },
     "6d579dd52653410c92593f13b09a2c2d": {
      "model_module": "@jupyter-widgets/controls",
      "model_module_version": "1.5.0",
      "model_name": "ProgressStyleModel",
      "state": {
       "description_width": "initial"
      }
     },
     "6dcf2af7b7a44592803f0b3ee0772383": {
      "model_module": "@jupyter-widgets/base",
      "model_module_version": "1.2.0",
      "model_name": "LayoutModel",
      "state": {}
     },
     "6e49d530753c472cb89309e0324c8bc5": {
      "model_module": "@jupyter-widgets/base",
      "model_module_version": "1.2.0",
      "model_name": "LayoutModel",
      "state": {}
     },
     "6e4f6cc37775495283f2de3509c1621b": {
      "model_module": "@jupyter-widgets/base",
      "model_module_version": "1.2.0",
      "model_name": "LayoutModel",
      "state": {}
     },
     "6ebf062b163347818457e3c62ace69aa": {
      "model_module": "@jupyter-widgets/base",
      "model_module_version": "1.2.0",
      "model_name": "LayoutModel",
      "state": {}
     },
     "6fae37901ee2436fb921dfd593630bba": {
      "model_module": "@jupyter-widgets/controls",
      "model_module_version": "1.5.0",
      "model_name": "HTMLModel",
      "state": {
       "layout": "IPY_MODEL_214eb01042fc42eb800e425630fc6d78",
       "style": "IPY_MODEL_ba9b692817674d0bb36173f8c4289e3e",
       "value": " 1099/? [31:12&lt;00:00,  1.70s/it]"
      }
     },
     "70681c2c4f6541269d65226636f8fc14": {
      "model_module": "@jupyter-widgets/base",
      "model_module_version": "1.2.0",
      "model_name": "LayoutModel",
      "state": {}
     },
     "70aee837a2bc42c8aecf9f1cf8199824": {
      "model_module": "@jupyter-widgets/controls",
      "model_module_version": "1.5.0",
      "model_name": "IntProgressModel",
      "state": {
       "bar_style": "danger",
       "layout": "IPY_MODEL_a78473714316415b868790cf6eaa921b",
       "max": 1,
       "style": "IPY_MODEL_40f0c4c5cc904affb3796100f18d166c",
       "value": 1
      }
     },
     "7102ff24b14444d5a473808bd8ecde56": {
      "model_module": "@jupyter-widgets/base",
      "model_module_version": "1.2.0",
      "model_name": "LayoutModel",
      "state": {}
     },
     "714229b5ae714ce0bdcf618d20d751b0": {
      "model_module": "@jupyter-widgets/controls",
      "model_module_version": "1.5.0",
      "model_name": "DescriptionStyleModel",
      "state": {
       "description_width": ""
      }
     },
     "714cde46a14748cfa513d910d90aa40e": {
      "model_module": "@jupyter-widgets/controls",
      "model_module_version": "1.5.0",
      "model_name": "HTMLModel",
      "state": {
       "layout": "IPY_MODEL_f229854d827b40d3ad0a75c10e15767d",
       "style": "IPY_MODEL_d1293b8863e24f8181afcc03626e4917",
       "value": " 1334/? [01:16&lt;00:00, 17.33it/s]"
      }
     },
     "71794948b6704d21b2f34509c999d95a": {
      "model_module": "@jupyter-widgets/controls",
      "model_module_version": "1.5.0",
      "model_name": "ProgressStyleModel",
      "state": {
       "description_width": "initial"
      }
     },
     "7179908f26e6496690d3d4990dc7d998": {
      "model_module": "@jupyter-widgets/base",
      "model_module_version": "1.2.0",
      "model_name": "LayoutModel",
      "state": {}
     },
     "72c71a4e8353419e89dd5b951cb452b3": {
      "model_module": "@jupyter-widgets/base",
      "model_module_version": "1.2.0",
      "model_name": "LayoutModel",
      "state": {}
     },
     "749ba2481b944e80bd59d76387969b3c": {
      "model_module": "@jupyter-widgets/controls",
      "model_module_version": "1.5.0",
      "model_name": "FloatProgressModel",
      "state": {
       "bar_style": "success",
       "layout": "IPY_MODEL_17898457637b447f87950f431961c9dd",
       "max": 1,
       "style": "IPY_MODEL_96dc91000123404c906a7a97fe112b2e",
       "value": 1
      }
     },
     "74df3bb7f95748749f03a99515399ca5": {
      "model_module": "@jupyter-widgets/controls",
      "model_module_version": "1.5.0",
      "model_name": "HBoxModel",
      "state": {
       "children": [
        "IPY_MODEL_02fdef3cd6fd43e3b2fa3f7a5c6a81ec",
        "IPY_MODEL_efd3c699beac4d2697aee1a9b617544d"
       ],
       "layout": "IPY_MODEL_27d0f46936144537bd015191c7228fa6"
      }
     },
     "74f1fb136e5d44619c801da592ba497e": {
      "model_module": "@jupyter-widgets/base",
      "model_module_version": "1.2.0",
      "model_name": "LayoutModel",
      "state": {}
     },
     "76df568e1f794a31851247716c4bb6cc": {
      "model_module": "@jupyter-widgets/controls",
      "model_module_version": "1.5.0",
      "model_name": "DescriptionStyleModel",
      "state": {
       "description_width": ""
      }
     },
     "771d31d0a9a34522bb3594df02474e02": {
      "model_module": "@jupyter-widgets/controls",
      "model_module_version": "1.5.0",
      "model_name": "HBoxModel",
      "state": {
       "children": [
        "IPY_MODEL_a6abb0b34ab04fdbb40e79f93d7f5600",
        "IPY_MODEL_44bf3bc5c4d24a40a528174dfc4a7c3a"
       ],
       "layout": "IPY_MODEL_54337ec1507f4057a22ac298d9e4b983"
      }
     },
     "77751a39dfca4d9ca5771247c3c03668": {
      "model_module": "@jupyter-widgets/base",
      "model_module_version": "1.2.0",
      "model_name": "LayoutModel",
      "state": {}
     },
     "79f4d3a4d9c349fea2055c3d50849799": {
      "model_module": "@jupyter-widgets/base",
      "model_module_version": "1.2.0",
      "model_name": "LayoutModel",
      "state": {}
     },
     "7a173840e95542e0bbb0bfdf4d100e2f": {
      "model_module": "@jupyter-widgets/controls",
      "model_module_version": "1.5.0",
      "model_name": "ProgressStyleModel",
      "state": {
       "description_width": "initial"
      }
     },
     "7af0ad9fad104a54af115cfecf4d1c41": {
      "model_module": "@jupyter-widgets/base",
      "model_module_version": "1.2.0",
      "model_name": "LayoutModel",
      "state": {}
     },
     "7afaca48de5d4dff81292ab14f48a8ff": {
      "model_module": "@jupyter-widgets/base",
      "model_module_version": "1.2.0",
      "model_name": "LayoutModel",
      "state": {}
     },
     "7b578d0a614e477bb99e94fca19ae4a6": {
      "model_module": "@jupyter-widgets/base",
      "model_module_version": "1.2.0",
      "model_name": "LayoutModel",
      "state": {}
     },
     "7b6194f4f1e9472e8c5a3e1561caf022": {
      "model_module": "@jupyter-widgets/base",
      "model_module_version": "1.2.0",
      "model_name": "LayoutModel",
      "state": {}
     },
     "7beec8a7697541048dd4757449668036": {
      "model_module": "@jupyter-widgets/controls",
      "model_module_version": "1.5.0",
      "model_name": "IntProgressModel",
      "state": {
       "bar_style": "success",
       "layout": "IPY_MODEL_8c4b4f08a29949fdbc285071d6abe4e3",
       "max": 1,
       "style": "IPY_MODEL_e06eab41274d45378865d3ea45c4951c",
       "value": 1
      }
     },
     "7c27732ed4fa4ab78aa8cdad9d78823a": {
      "model_module": "@jupyter-widgets/base",
      "model_module_version": "1.2.0",
      "model_name": "LayoutModel",
      "state": {}
     },
     "7c63c6d3d7bb42d588be9a53d8267526": {
      "model_module": "@jupyter-widgets/controls",
      "model_module_version": "1.5.0",
      "model_name": "ProgressStyleModel",
      "state": {
       "description_width": "initial"
      }
     },
     "7c68c65cefe145e288280194f369364e": {
      "model_module": "@jupyter-widgets/controls",
      "model_module_version": "1.5.0",
      "model_name": "HBoxModel",
      "state": {
       "children": [
        "IPY_MODEL_d9e1ff60219544f684e02f6ad2f035f5",
        "IPY_MODEL_113ab6d3946347bcbc4b1a1236dc4247"
       ],
       "layout": "IPY_MODEL_50fdeef4d6cb49cd8082bab1300e4c80"
      }
     },
     "7cc66fef686b47728a3448088a0af93b": {
      "model_module": "@jupyter-widgets/base",
      "model_module_version": "1.2.0",
      "model_name": "LayoutModel",
      "state": {}
     },
     "7dd59f7ecda345fe95f9b5e89ac18818": {
      "model_module": "@jupyter-widgets/controls",
      "model_module_version": "1.5.0",
      "model_name": "HTMLModel",
      "state": {
       "layout": "IPY_MODEL_10b3a5bb170d481e92ea552ccb4041a8",
       "style": "IPY_MODEL_9eb4605e28cc4c018d8d078cc9c0d709",
       "value": " 1942/? [57:40&lt;00:00,  1.78s/it]"
      }
     },
     "7e09f3d5632b4252888c9c7ad4af27d9": {
      "model_module": "@jupyter-widgets/base",
      "model_module_version": "1.2.0",
      "model_name": "LayoutModel",
      "state": {}
     },
     "7e34e33d8e674d2ea4f5859782640f9a": {
      "model_module": "@jupyter-widgets/base",
      "model_module_version": "1.2.0",
      "model_name": "LayoutModel",
      "state": {}
     },
     "7e516d7847f34650a6b9285a097812d1": {
      "model_module": "@jupyter-widgets/controls",
      "model_module_version": "1.5.0",
      "model_name": "HTMLModel",
      "state": {
       "layout": "IPY_MODEL_fa48a5be27c043178e98997b870b692d",
       "style": "IPY_MODEL_f094dae967c14cc58fbd1b96f7bf9469",
       "value": " 1897/? [1:13:03&lt;00:00,  2.31s/it]"
      }
     },
     "7f21f6f30dde442ab211bc4b6f844544": {
      "model_module": "@jupyter-widgets/base",
      "model_module_version": "1.2.0",
      "model_name": "LayoutModel",
      "state": {}
     },
     "801e7080ed184220bc9a099e8f3ee792": {
      "model_module": "@jupyter-widgets/controls",
      "model_module_version": "1.5.0",
      "model_name": "HTMLModel",
      "state": {
       "layout": "IPY_MODEL_2169802701b34aeaaf0eebf2ea4ffcae",
       "style": "IPY_MODEL_2d0da3e64ff845aa90dc0358b357749f",
       "value": " 1966/? [36:18&lt;00:00,  1.11s/it]"
      }
     },
     "80e2b78410414410920dbd799ac63b41": {
      "model_module": "@jupyter-widgets/controls",
      "model_module_version": "1.5.0",
      "model_name": "IntProgressModel",
      "state": {
       "bar_style": "danger",
       "layout": "IPY_MODEL_58559ba105024c9ba87a3fc97caf8d68",
       "max": 1,
       "style": "IPY_MODEL_4e9e91b8c63d40349d6b883c6aac4ffc",
       "value": 1
      }
     },
     "810823a37a874f2582bc7b338057d4b3": {
      "model_module": "@jupyter-widgets/controls",
      "model_module_version": "1.5.0",
      "model_name": "HTMLModel",
      "state": {
       "layout": "IPY_MODEL_304e06c7c8e44bf6bf5c6d5d55f8685c",
       "style": "IPY_MODEL_8211fd6cd6494f5f93e1ee0bd2d25548",
       "value": " 690/? [04:47&lt;00:00,  2.40it/s]"
      }
     },
     "8178bc6e66c8411cbf1b362ecbda856d": {
      "model_module": "@jupyter-widgets/controls",
      "model_module_version": "1.5.0",
      "model_name": "ProgressStyleModel",
      "state": {
       "description_width": "initial"
      }
     },
     "8211fd6cd6494f5f93e1ee0bd2d25548": {
      "model_module": "@jupyter-widgets/controls",
      "model_module_version": "1.5.0",
      "model_name": "DescriptionStyleModel",
      "state": {
       "description_width": ""
      }
     },
     "84862fe6aa714368a8f00b97ab8c4d24": {
      "model_module": "@jupyter-widgets/controls",
      "model_module_version": "1.5.0",
      "model_name": "HTMLModel",
      "state": {
       "layout": "IPY_MODEL_665395be92ab44bcb85fb9284dc91aab",
       "style": "IPY_MODEL_974df232f48e49fcb7233f87bf3b7926",
       "value": " 1334/? [24:36&lt;00:00,  1.11s/it]"
      }
     },
     "85055f0e301648ccb2c8fbc2d398e89c": {
      "model_module": "@jupyter-widgets/controls",
      "model_module_version": "1.5.0",
      "model_name": "HTMLModel",
      "state": {
       "layout": "IPY_MODEL_2a7ad5893e3947ba8dc6eac42345f1ee",
       "style": "IPY_MODEL_2430e1c30058420a8d59edcf90b2ed5a",
       "value": " 1334/? [29:26&lt;00:00,  1.32s/it]"
      }
     },
     "8505b95e5c854e3d90a1cf1b1078bfaf": {
      "model_module": "@jupyter-widgets/controls",
      "model_module_version": "1.5.0",
      "model_name": "ProgressStyleModel",
      "state": {
       "description_width": "initial"
      }
     },
     "86194d6b9eba4fc0aa90072cdf43fb9d": {
      "model_module": "@jupyter-widgets/controls",
      "model_module_version": "1.5.0",
      "model_name": "HTMLModel",
      "state": {
       "layout": "IPY_MODEL_972465d0f61e4f9fbd8b0da75d63d441",
       "style": "IPY_MODEL_2119108af8bc41278648e8e03144af4c",
       "value": " 1897/? [14:09:58&lt;00:00, 26.88s/it]"
      }
     },
     "861e8db3437d427d8e1524ee3b45dfc5": {
      "model_module": "@jupyter-widgets/controls",
      "model_module_version": "1.5.0",
      "model_name": "ProgressStyleModel",
      "state": {
       "description_width": "initial"
      }
     },
     "870d96829e2e43afb2b06ce1133b687b": {
      "model_module": "@jupyter-widgets/controls",
      "model_module_version": "1.5.0",
      "model_name": "HBoxModel",
      "state": {
       "children": [
        "IPY_MODEL_f3de6ca531cd4434b3d80ad3d13e2614",
        "IPY_MODEL_121e5a5f03684c19905bb332739224ed"
       ],
       "layout": "IPY_MODEL_63007b41fd604530abb3ba829ac1cb85"
      }
     },
     "895d6fa68d984909b8e1a4898cefb70b": {
      "model_module": "@jupyter-widgets/base",
      "model_module_version": "1.2.0",
      "model_name": "LayoutModel",
      "state": {}
     },
     "896865d4c7bd4eb2b4c0ea43849f1278": {
      "model_module": "@jupyter-widgets/base",
      "model_module_version": "1.2.0",
      "model_name": "LayoutModel",
      "state": {
       "width": "20px"
      }
     },
     "899c33554e1d4ae7b37ab9b71005fce4": {
      "model_module": "@jupyter-widgets/base",
      "model_module_version": "1.2.0",
      "model_name": "LayoutModel",
      "state": {}
     },
     "89fb6a48474b467082bdb312d7e95529": {
      "model_module": "@jupyter-widgets/base",
      "model_module_version": "1.2.0",
      "model_name": "LayoutModel",
      "state": {}
     },
     "8ac05662d2b4415cb562b45d82c82bc6": {
      "model_module": "@jupyter-widgets/controls",
      "model_module_version": "1.5.0",
      "model_name": "IntProgressModel",
      "state": {
       "bar_style": "danger",
       "layout": "IPY_MODEL_6813e4a109694984b0fcfb2771ae8dd8",
       "max": 1,
       "style": "IPY_MODEL_122603e45ce24bb2a622d62a3581c44f",
       "value": 1
      }
     },
     "8b0a6ae1d3dd408aa3758b9f6254f44c": {
      "model_module": "@jupyter-widgets/base",
      "model_module_version": "1.2.0",
      "model_name": "LayoutModel",
      "state": {}
     },
     "8c4b4f08a29949fdbc285071d6abe4e3": {
      "model_module": "@jupyter-widgets/base",
      "model_module_version": "1.2.0",
      "model_name": "LayoutModel",
      "state": {}
     },
     "8d07eedbf6754f5eb5561beceb1c067f": {
      "model_module": "@jupyter-widgets/base",
      "model_module_version": "1.2.0",
      "model_name": "LayoutModel",
      "state": {}
     },
     "8dd66be8185640829fdaa68994aa0424": {
      "model_module": "@jupyter-widgets/base",
      "model_module_version": "1.2.0",
      "model_name": "LayoutModel",
      "state": {
       "width": "20px"
      }
     },
     "8e375a5397e544a18044908bff715cb4": {
      "model_module": "@jupyter-widgets/base",
      "model_module_version": "1.2.0",
      "model_name": "LayoutModel",
      "state": {}
     },
     "8e64721c886949428f2ad1e40bb6f7f5": {
      "model_module": "@jupyter-widgets/controls",
      "model_module_version": "1.5.0",
      "model_name": "HTMLModel",
      "state": {
       "layout": "IPY_MODEL_37bf4faaf339484c94bd31a01fdd1c4e",
       "style": "IPY_MODEL_4dfd127a60fd4c989b511737f6c04102",
       "value": " 1232/? [23:01&lt;00:00,  1.12s/it]"
      }
     },
     "8eb78565f42545d98cfb18a1cd8fc508": {
      "model_module": "@jupyter-widgets/controls",
      "model_module_version": "1.5.0",
      "model_name": "ProgressStyleModel",
      "state": {
       "description_width": "initial"
      }
     },
     "8efb325713ab4d85951387a0e1e93a74": {
      "model_module": "@jupyter-widgets/base",
      "model_module_version": "1.2.0",
      "model_name": "LayoutModel",
      "state": {}
     },
     "8f99064cccc245539338a8c7795fdcc5": {
      "model_module": "@jupyter-widgets/controls",
      "model_module_version": "1.5.0",
      "model_name": "HBoxModel",
      "state": {
       "children": [
        "IPY_MODEL_16008833e9af47928cfbdbc8e789a875",
        "IPY_MODEL_250a7daa3380445f98628424a985d7e8"
       ],
       "layout": "IPY_MODEL_53be45385d0e4e9086c131a72aab54d7"
      }
     },
     "906dbfa9aa62499688aae3f6f23aa93f": {
      "model_module": "@jupyter-widgets/base",
      "model_module_version": "1.2.0",
      "model_name": "LayoutModel",
      "state": {}
     },
     "914af88584934713bff9eebe53228f52": {
      "model_module": "@jupyter-widgets/controls",
      "model_module_version": "1.5.0",
      "model_name": "HBoxModel",
      "state": {
       "children": [
        "IPY_MODEL_db63eb4b2ca84e64b894efa806500b53",
        "IPY_MODEL_531de4dc5694454dbf421de5862de6e4"
       ],
       "layout": "IPY_MODEL_0794367c62314d5f9f65e61521e71625"
      }
     },
     "91ac7fe5c6df4de3a84687b700af7d27": {
      "model_module": "@jupyter-widgets/base",
      "model_module_version": "1.2.0",
      "model_name": "LayoutModel",
      "state": {}
     },
     "923768b303a4470facac88e912695b56": {
      "model_module": "@jupyter-widgets/controls",
      "model_module_version": "1.5.0",
      "model_name": "DescriptionStyleModel",
      "state": {
       "description_width": ""
      }
     },
     "9284ba60f27f4dffae115b6dbec840cd": {
      "model_module": "@jupyter-widgets/controls",
      "model_module_version": "1.5.0",
      "model_name": "IntProgressModel",
      "state": {
       "bar_style": "success",
       "layout": "IPY_MODEL_cb61bfabc26f4462a2656042606e67bc",
       "max": 1,
       "style": "IPY_MODEL_6d579dd52653410c92593f13b09a2c2d",
       "value": 1
      }
     },
     "944f874fba764bd89a53734b7f0fdb3e": {
      "model_module": "@jupyter-widgets/controls",
      "model_module_version": "1.5.0",
      "model_name": "ProgressStyleModel",
      "state": {
       "description_width": "initial"
      }
     },
     "95f04c32d7f946a5b142a3f983426f0b": {
      "model_module": "@jupyter-widgets/base",
      "model_module_version": "1.2.0",
      "model_name": "LayoutModel",
      "state": {}
     },
     "95f4ce8d60de49cb83c3f9ee48605c22": {
      "model_module": "@jupyter-widgets/base",
      "model_module_version": "1.2.0",
      "model_name": "LayoutModel",
      "state": {}
     },
     "965b73574d1340118bf070cd55f70a81": {
      "model_module": "@jupyter-widgets/controls",
      "model_module_version": "1.5.0",
      "model_name": "HBoxModel",
      "state": {
       "children": [
        "IPY_MODEL_d8bb151dec4f4b47b2105d2a9e868597",
        "IPY_MODEL_7dd59f7ecda345fe95f9b5e89ac18818"
       ],
       "layout": "IPY_MODEL_77751a39dfca4d9ca5771247c3c03668"
      }
     },
     "96dc91000123404c906a7a97fe112b2e": {
      "model_module": "@jupyter-widgets/controls",
      "model_module_version": "1.5.0",
      "model_name": "ProgressStyleModel",
      "state": {
       "description_width": "initial"
      }
     },
     "972465d0f61e4f9fbd8b0da75d63d441": {
      "model_module": "@jupyter-widgets/base",
      "model_module_version": "1.2.0",
      "model_name": "LayoutModel",
      "state": {}
     },
     "974df232f48e49fcb7233f87bf3b7926": {
      "model_module": "@jupyter-widgets/controls",
      "model_module_version": "1.5.0",
      "model_name": "DescriptionStyleModel",
      "state": {
       "description_width": ""
      }
     },
     "984c9040854a43cc8df315fc870503fb": {
      "model_module": "@jupyter-widgets/controls",
      "model_module_version": "1.5.0",
      "model_name": "IntProgressModel",
      "state": {
       "bar_style": "success",
       "layout": "IPY_MODEL_5261fe635b1a45b68e14f35df213cd3c",
       "max": 1,
       "style": "IPY_MODEL_71794948b6704d21b2f34509c999d95a",
       "value": 1
      }
     },
     "9881bc567d0e49e08860631597b8ed72": {
      "model_module": "@jupyter-widgets/controls",
      "model_module_version": "1.5.0",
      "model_name": "HBoxModel",
      "state": {
       "children": [
        "IPY_MODEL_1789c60d5ef54df189d6f4dfd9ed8ad0",
        "IPY_MODEL_a5ea38b2e0c1473db62ea82cea2aedad"
       ],
       "layout": "IPY_MODEL_5418f26ea4134bf7822b8e8e0bab02fa"
      }
     },
     "98919c40fbba441382374bf985cfbaa6": {
      "model_module": "@jupyter-widgets/base",
      "model_module_version": "1.2.0",
      "model_name": "LayoutModel",
      "state": {}
     },
     "98beb2985c4e4a6e8ab080eb10b186a6": {
      "model_module": "@jupyter-widgets/controls",
      "model_module_version": "1.5.0",
      "model_name": "HTMLModel",
      "state": {
       "layout": "IPY_MODEL_e43d55293d414b0885a89ed9d223ce8e",
       "style": "IPY_MODEL_af3a9260ad75401faaf63fc0cfcd998d",
       "value": " 53/? [01:58&lt;00:00,  2.24s/it]"
      }
     },
     "995df3e653b14c29ade3e86d90b4d730": {
      "model_module": "@jupyter-widgets/base",
      "model_module_version": "1.2.0",
      "model_name": "LayoutModel",
      "state": {}
     },
     "997f2707a7ca4776a152c2588d1d4647": {
      "model_module": "@jupyter-widgets/controls",
      "model_module_version": "1.5.0",
      "model_name": "HBoxModel",
      "state": {
       "children": [
        "IPY_MODEL_a23fad7b4f5948b1991b070c7389b992",
        "IPY_MODEL_506fc7382777469f87c4c5b54bb44435"
       ],
       "layout": "IPY_MODEL_31e9be71aa474f8fb924a245fe693bdf"
      }
     },
     "9a2e83a9008547859190ad07dec7b2c5": {
      "model_module": "@jupyter-widgets/base",
      "model_module_version": "1.2.0",
      "model_name": "LayoutModel",
      "state": {}
     },
     "9a3a50f79db044e29ad551a2839d7076": {
      "model_module": "@jupyter-widgets/base",
      "model_module_version": "1.2.0",
      "model_name": "LayoutModel",
      "state": {}
     },
     "9b1006490d814f339b9ec369e09b8dc2": {
      "model_module": "@jupyter-widgets/controls",
      "model_module_version": "1.5.0",
      "model_name": "HTMLModel",
      "state": {
       "layout": "IPY_MODEL_6727f74701bc4327a5f4fea25036e51c",
       "style": "IPY_MODEL_923768b303a4470facac88e912695b56",
       "value": " 1356/? [34:13&lt;00:00,  1.51s/it]"
      }
     },
     "9b85b095e0be4ed79700f9ac54b5e3e4": {
      "model_module": "@jupyter-widgets/base",
      "model_module_version": "1.2.0",
      "model_name": "LayoutModel",
      "state": {}
     },
     "9ce706175e764661a0f65c5593a35c93": {
      "model_module": "@jupyter-widgets/controls",
      "model_module_version": "1.5.0",
      "model_name": "FloatProgressModel",
      "state": {
       "bar_style": "success",
       "layout": "IPY_MODEL_ee1622563ba845b1bc8b77a6194bb515",
       "max": 1,
       "style": "IPY_MODEL_8178bc6e66c8411cbf1b362ecbda856d",
       "value": 1
      }
     },
     "9d1892f71c8f4a01af5e454fa314bcbe": {
      "model_module": "@jupyter-widgets/base",
      "model_module_version": "1.2.0",
      "model_name": "LayoutModel",
      "state": {
       "width": "20px"
      }
     },
     "9e1da20212b649cfaba262843ac473e7": {
      "model_module": "@jupyter-widgets/base",
      "model_module_version": "1.2.0",
      "model_name": "LayoutModel",
      "state": {}
     },
     "9e51609f521e4a6ca1c3a60647485338": {
      "model_module": "@jupyter-widgets/controls",
      "model_module_version": "1.5.0",
      "model_name": "HBoxModel",
      "state": {
       "children": [
        "IPY_MODEL_5a19c3dab9324c01a393363756c6e7b8",
        "IPY_MODEL_699f1a09e22f42ffb064e8d1b8fae93a"
       ],
       "layout": "IPY_MODEL_271f7d5425a84c15870ff315bcf30fe7"
      }
     },
     "9eb4605e28cc4c018d8d078cc9c0d709": {
      "model_module": "@jupyter-widgets/controls",
      "model_module_version": "1.5.0",
      "model_name": "DescriptionStyleModel",
      "state": {
       "description_width": ""
      }
     },
     "9f80ee58869e4dad82decc696c50c06a": {
      "model_module": "@jupyter-widgets/controls",
      "model_module_version": "1.5.0",
      "model_name": "HTMLModel",
      "state": {
       "layout": "IPY_MODEL_6e49d530753c472cb89309e0324c8bc5",
       "style": "IPY_MODEL_fae9380a50ac4006a906cdc2a457ae78",
       "value": " 140/? [03:24&lt;00:00,  1.46s/it]"
      }
     },
     "9f88e1a1c6f646c888078e28d44ce6d1": {
      "model_module": "@jupyter-widgets/controls",
      "model_module_version": "1.5.0",
      "model_name": "FloatProgressModel",
      "state": {
       "bar_style": "success",
       "layout": "IPY_MODEL_1a32b71ae3f242dcbec666e3ed985391",
       "max": 1,
       "style": "IPY_MODEL_8505b95e5c854e3d90a1cf1b1078bfaf",
       "value": 1
      }
     },
     "a117d03ee4f344cfb9aecb7044578a99": {
      "model_module": "@jupyter-widgets/base",
      "model_module_version": "1.2.0",
      "model_name": "LayoutModel",
      "state": {}
     },
     "a23fad7b4f5948b1991b070c7389b992": {
      "model_module": "@jupyter-widgets/controls",
      "model_module_version": "1.5.0",
      "model_name": "IntProgressModel",
      "state": {
       "bar_style": "success",
       "layout": "IPY_MODEL_1c2e32184e764155aee3c4bdb9398f4f",
       "max": 1,
       "style": "IPY_MODEL_097d205530594512b4b8d5751916df9e",
       "value": 1
      }
     },
     "a278f2c38ec1483f9af8ef8ade37604f": {
      "model_module": "@jupyter-widgets/controls",
      "model_module_version": "1.5.0",
      "model_name": "HBoxModel",
      "state": {
       "children": [
        "IPY_MODEL_80e2b78410414410920dbd799ac63b41",
        "IPY_MODEL_810823a37a874f2582bc7b338057d4b3"
       ],
       "layout": "IPY_MODEL_1dbb9e24f820442292d14933c861e00f"
      }
     },
     "a28cbe8e8a3a4848afd51dd866447b30": {
      "model_module": "@jupyter-widgets/base",
      "model_module_version": "1.2.0",
      "model_name": "LayoutModel",
      "state": {}
     },
     "a46cb31d108a4c87a7ec839fa0dfc887": {
      "model_module": "@jupyter-widgets/controls",
      "model_module_version": "1.5.0",
      "model_name": "DescriptionStyleModel",
      "state": {
       "description_width": ""
      }
     },
     "a5126f81669540bc8c5309b990861667": {
      "model_module": "@jupyter-widgets/base",
      "model_module_version": "1.2.0",
      "model_name": "LayoutModel",
      "state": {}
     },
     "a5ea38b2e0c1473db62ea82cea2aedad": {
      "model_module": "@jupyter-widgets/controls",
      "model_module_version": "1.5.0",
      "model_name": "HTMLModel",
      "state": {
       "layout": "IPY_MODEL_23055859bfbc4567856024100d620f8b",
       "style": "IPY_MODEL_bbf02e8999924320aaf41c6828537d6e",
       "value": "111it [01:09,  1.59it/s]"
      }
     },
     "a6abb0b34ab04fdbb40e79f93d7f5600": {
      "model_module": "@jupyter-widgets/controls",
      "model_module_version": "1.5.0",
      "model_name": "IntProgressModel",
      "state": {
       "bar_style": "success",
       "layout": "IPY_MODEL_31119bcd6dda4980bf15e03e59a802b6",
       "max": 1,
       "style": "IPY_MODEL_4804d4624bb54ed7b78a1451a0d622ef",
       "value": 1
      }
     },
     "a771def288e14e93b851f9284a963766": {
      "model_module": "@jupyter-widgets/controls",
      "model_module_version": "1.5.0",
      "model_name": "HBoxModel",
      "state": {
       "children": [
        "IPY_MODEL_ef144d74702a423eb12f4239f1e1932f",
        "IPY_MODEL_c30e72676c004655a9a88fdcb0e7a605"
       ],
       "layout": "IPY_MODEL_995df3e653b14c29ade3e86d90b4d730"
      }
     },
     "a78473714316415b868790cf6eaa921b": {
      "model_module": "@jupyter-widgets/base",
      "model_module_version": "1.2.0",
      "model_name": "LayoutModel",
      "state": {}
     },
     "a80317bebb0945bea47ef51c3942cd3d": {
      "model_module": "@jupyter-widgets/controls",
      "model_module_version": "1.5.0",
      "model_name": "HBoxModel",
      "state": {
       "children": [
        "IPY_MODEL_f71c35522c34451ab2f7303290d5b34b",
        "IPY_MODEL_4f1937dbae1d46d38564e13d61cafd99"
       ],
       "layout": "IPY_MODEL_72c71a4e8353419e89dd5b951cb452b3"
      }
     },
     "a855073012104305828b3f8cc3697ea5": {
      "model_module": "@jupyter-widgets/controls",
      "model_module_version": "1.5.0",
      "model_name": "IntProgressModel",
      "state": {
       "bar_style": "success",
       "layout": "IPY_MODEL_c10faea00e91463c9418c9f34647005c",
       "max": 1,
       "style": "IPY_MODEL_bff362b16f1e475eb9658af5e13876b9",
       "value": 1
      }
     },
     "a92f07a1760542aeabcf07f6c700acab": {
      "model_module": "@jupyter-widgets/controls",
      "model_module_version": "1.5.0",
      "model_name": "DescriptionStyleModel",
      "state": {
       "description_width": ""
      }
     },
     "a9ffb269d9d84c829db4f043a30d9838": {
      "model_module": "@jupyter-widgets/controls",
      "model_module_version": "1.5.0",
      "model_name": "HBoxModel",
      "state": {
       "children": [
        "IPY_MODEL_6c220668b2364801b907b4c1c5b46552",
        "IPY_MODEL_bbf334b18ad64645824e44ef4a8bc850"
       ],
       "layout": "IPY_MODEL_141cd83f84c64ab8b2312f69b999ae91"
      }
     },
     "aaba1186dae547b282371e75b34093e8": {
      "model_module": "@jupyter-widgets/controls",
      "model_module_version": "1.5.0",
      "model_name": "HBoxModel",
      "state": {
       "children": [
        "IPY_MODEL_5103c93b17ab435c8a0f6d32f17f0c2e",
        "IPY_MODEL_bc532f6de25c4499916a904213f21053"
       ],
       "layout": "IPY_MODEL_89fb6a48474b467082bdb312d7e95529"
      }
     },
     "ab01d556c1334031aca19ac64a9a87cd": {
      "model_module": "@jupyter-widgets/controls",
      "model_module_version": "1.5.0",
      "model_name": "HBoxModel",
      "state": {
       "children": [
        "IPY_MODEL_ad3b597bcf0f4a55980236c0efd63534",
        "IPY_MODEL_2245f8329c15455a8b456e0a3ed01db7"
       ],
       "layout": "IPY_MODEL_7e09f3d5632b4252888c9c7ad4af27d9"
      }
     },
     "abf8eef8edcf42dabf0f9b0b7e5bcf00": {
      "model_module": "@jupyter-widgets/controls",
      "model_module_version": "1.5.0",
      "model_name": "HBoxModel",
      "state": {
       "children": [
        "IPY_MODEL_9f88e1a1c6f646c888078e28d44ce6d1",
        "IPY_MODEL_4bedb2b63f79417d91fdef500f0b8f2e"
       ],
       "layout": "IPY_MODEL_5ba3ecdd2f25466a9c131b144799ad95"
      }
     },
     "ac11796204dd4477821393f1bedc07dc": {
      "model_module": "@jupyter-widgets/controls",
      "model_module_version": "1.5.0",
      "model_name": "HBoxModel",
      "state": {
       "children": [
        "IPY_MODEL_ff47147eb9084e09b9944d1d1c0c61c0",
        "IPY_MODEL_e0cc70cd3039407fb40ff6486e0d437c"
       ],
       "layout": "IPY_MODEL_d921d927bfb44468a98db6985f7fb28e"
      }
     },
     "ac2575d37c8c46068479010befef157c": {
      "model_module": "@jupyter-widgets/base",
      "model_module_version": "1.2.0",
      "model_name": "LayoutModel",
      "state": {}
     },
     "ac6d39c373224417ba8e6a41a5419752": {
      "model_module": "@jupyter-widgets/controls",
      "model_module_version": "1.5.0",
      "model_name": "HTMLModel",
      "state": {
       "layout": "IPY_MODEL_95f4ce8d60de49cb83c3f9ee48605c22",
       "style": "IPY_MODEL_d06b0520b5ef4e339d64dd1bb309c8df",
       "value": " 1334/? [29:07&lt;00:00,  1.31s/it]"
      }
     },
     "acace81bc1dc474db00902e4cdcaa490": {
      "model_module": "@jupyter-widgets/base",
      "model_module_version": "1.2.0",
      "model_name": "LayoutModel",
      "state": {}
     },
     "ad3b597bcf0f4a55980236c0efd63534": {
      "model_module": "@jupyter-widgets/controls",
      "model_module_version": "1.5.0",
      "model_name": "IntProgressModel",
      "state": {
       "bar_style": "danger",
       "layout": "IPY_MODEL_031e2c07687f4313b213c1e409eb3cd7",
       "max": 1,
       "style": "IPY_MODEL_48e15ec98d804d0b8f2959d2af71d971",
       "value": 1
      }
     },
     "ad6fcc99708444f58f651a874fe53769": {
      "model_module": "@jupyter-widgets/controls",
      "model_module_version": "1.5.0",
      "model_name": "HBoxModel",
      "state": {
       "children": [
        "IPY_MODEL_10267ee604c2420699d3cacf4c7fc692",
        "IPY_MODEL_714cde46a14748cfa513d910d90aa40e"
       ],
       "layout": "IPY_MODEL_dfd16cf9339f4869b92878960c7df640"
      }
     },
     "add563f208234486b4dd299810983794": {
      "model_module": "@jupyter-widgets/base",
      "model_module_version": "1.2.0",
      "model_name": "LayoutModel",
      "state": {}
     },
     "ade9c14bc9cc4441a664b79b3b3a6ef6": {
      "model_module": "@jupyter-widgets/controls",
      "model_module_version": "1.5.0",
      "model_name": "HBoxModel",
      "state": {
       "children": [
        "IPY_MODEL_11580d9db9764dd4bc88ebb932ad5349",
        "IPY_MODEL_deeb68932e2a45ba96f23615d681a417"
       ],
       "layout": "IPY_MODEL_0da61f0fbf8d490cb763ef0497212797"
      }
     },
     "ae351ca5a2784c0c95e7f3fe92c23c7e": {
      "model_module": "@jupyter-widgets/controls",
      "model_module_version": "1.5.0",
      "model_name": "FloatProgressModel",
      "state": {
       "bar_style": "success",
       "layout": "IPY_MODEL_668d31f3e661403fbdc2b219b70be7e0",
       "max": 1,
       "style": "IPY_MODEL_fee2444115134844ae8760fbb7a4d3d4",
       "value": 1
      }
     },
     "ae695599e8e84fcfa6fa41793480d6b4": {
      "model_module": "@jupyter-widgets/controls",
      "model_module_version": "1.5.0",
      "model_name": "HBoxModel",
      "state": {
       "children": [
        "IPY_MODEL_398802c10b7242a4a564e50dbf105f7a",
        "IPY_MODEL_cb073e18807442c9accc565ca5e03a2b"
       ],
       "layout": "IPY_MODEL_e9b781a90c2c403a86fb86ec72b80c6a"
      }
     },
     "aee38fd2d7cb478ab92f9aa002ab4435": {
      "model_module": "@jupyter-widgets/controls",
      "model_module_version": "1.5.0",
      "model_name": "DescriptionStyleModel",
      "state": {
       "description_width": ""
      }
     },
     "af3a9260ad75401faaf63fc0cfcd998d": {
      "model_module": "@jupyter-widgets/controls",
      "model_module_version": "1.5.0",
      "model_name": "DescriptionStyleModel",
      "state": {
       "description_width": ""
      }
     },
     "af9a94190cf247f5b2631b6c9a138166": {
      "model_module": "@jupyter-widgets/controls",
      "model_module_version": "1.5.0",
      "model_name": "ProgressStyleModel",
      "state": {
       "description_width": "initial"
      }
     },
     "b02ee55309de42ac875cd7c46c15ca0d": {
      "model_module": "@jupyter-widgets/controls",
      "model_module_version": "1.5.0",
      "model_name": "HBoxModel",
      "state": {
       "children": [
        "IPY_MODEL_db59ed40fff14493b724acde6d8cba0b",
        "IPY_MODEL_ac6d39c373224417ba8e6a41a5419752"
       ],
       "layout": "IPY_MODEL_5b50c6c55c41476a9812f0541d8b17d6"
      }
     },
     "b17b96227ffd4da0aca0806a2f6678cd": {
      "model_module": "@jupyter-widgets/controls",
      "model_module_version": "1.5.0",
      "model_name": "DescriptionStyleModel",
      "state": {
       "description_width": ""
      }
     },
     "b1f09f3e630b40c49f785f1123017ac7": {
      "model_module": "@jupyter-widgets/controls",
      "model_module_version": "1.5.0",
      "model_name": "HBoxModel",
      "state": {
       "children": [
        "IPY_MODEL_fa9df5365c5749e68ac60aa52d936714",
        "IPY_MODEL_86194d6b9eba4fc0aa90072cdf43fb9d"
       ],
       "layout": "IPY_MODEL_98919c40fbba441382374bf985cfbaa6"
      }
     },
     "b2616ff9ee694f9aa50594006b5fb682": {
      "model_module": "@jupyter-widgets/controls",
      "model_module_version": "1.5.0",
      "model_name": "ProgressStyleModel",
      "state": {
       "description_width": "initial"
      }
     },
     "b267fb4303bc490f867c866971848807": {
      "model_module": "@jupyter-widgets/base",
      "model_module_version": "1.2.0",
      "model_name": "LayoutModel",
      "state": {}
     },
     "b2c3b637c56a49e7ae6a98c219864a9d": {
      "model_module": "@jupyter-widgets/controls",
      "model_module_version": "1.5.0",
      "model_name": "HBoxModel",
      "state": {
       "children": [
        "IPY_MODEL_a855073012104305828b3f8cc3697ea5",
        "IPY_MODEL_387f01b179a54d7f962ba5fb65218e92"
       ],
       "layout": "IPY_MODEL_f4cd8c3c1bf84b5eae492423bc0e1103"
      }
     },
     "b36045dde7c14136b6e88ae047a956a5": {
      "model_module": "@jupyter-widgets/controls",
      "model_module_version": "1.5.0",
      "model_name": "DescriptionStyleModel",
      "state": {
       "description_width": ""
      }
     },
     "b491d338b04b4cc6aee8362878a51496": {
      "model_module": "@jupyter-widgets/controls",
      "model_module_version": "1.5.0",
      "model_name": "HBoxModel",
      "state": {
       "children": [
        "IPY_MODEL_f050ce118d894b859f5db522751c4db6",
        "IPY_MODEL_801e7080ed184220bc9a099e8f3ee792"
       ],
       "layout": "IPY_MODEL_08a2598554cc4384b0de1d29c2fed37e"
      }
     },
     "b578929d787741eeada81ebfdf93f24f": {
      "model_module": "@jupyter-widgets/controls",
      "model_module_version": "1.5.0",
      "model_name": "HBoxModel",
      "state": {
       "children": [
        "IPY_MODEL_60f4f4f094c3450fac81f32385f11427",
        "IPY_MODEL_f739b2e2b73245ffaa91e061340ceb68"
       ],
       "layout": "IPY_MODEL_5d73f980018a4e998a49bf07a4b64210"
      }
     },
     "b61bbf7ea3804b2b97833266015bc8c5": {
      "model_module": "@jupyter-widgets/controls",
      "model_module_version": "1.5.0",
      "model_name": "HTMLModel",
      "state": {
       "layout": "IPY_MODEL_ba7541a85e9f472199537b1662443431",
       "style": "IPY_MODEL_f6ff7f5409544e989becd01c0cff0d80",
       "value": " 0/? [05:21&lt;?, ?it/s]"
      }
     },
     "b6d6078cbbc6468b9e7649009f9bc1df": {
      "model_module": "@jupyter-widgets/controls",
      "model_module_version": "1.5.0",
      "model_name": "ProgressStyleModel",
      "state": {
       "description_width": "initial"
      }
     },
     "b6dd4ff5a1ca4bfe8039154f57a5392c": {
      "model_module": "@jupyter-widgets/base",
      "model_module_version": "1.2.0",
      "model_name": "LayoutModel",
      "state": {}
     },
     "b7bdffaf3c684110aaddebcee157710b": {
      "model_module": "@jupyter-widgets/controls",
      "model_module_version": "1.5.0",
      "model_name": "IntProgressModel",
      "state": {
       "bar_style": "danger",
       "layout": "IPY_MODEL_ac2575d37c8c46068479010befef157c",
       "max": 1,
       "style": "IPY_MODEL_bf587c1dad394f5fafde635199222d0b",
       "value": 1
      }
     },
     "ba7541a85e9f472199537b1662443431": {
      "model_module": "@jupyter-widgets/base",
      "model_module_version": "1.2.0",
      "model_name": "LayoutModel",
      "state": {}
     },
     "ba9b692817674d0bb36173f8c4289e3e": {
      "model_module": "@jupyter-widgets/controls",
      "model_module_version": "1.5.0",
      "model_name": "DescriptionStyleModel",
      "state": {
       "description_width": ""
      }
     },
     "bab5bfa2640e417cb26b67d056186993": {
      "model_module": "@jupyter-widgets/base",
      "model_module_version": "1.2.0",
      "model_name": "LayoutModel",
      "state": {}
     },
     "bbf02e8999924320aaf41c6828537d6e": {
      "model_module": "@jupyter-widgets/controls",
      "model_module_version": "1.5.0",
      "model_name": "DescriptionStyleModel",
      "state": {
       "description_width": ""
      }
     },
     "bbf334b18ad64645824e44ef4a8bc850": {
      "model_module": "@jupyter-widgets/controls",
      "model_module_version": "1.5.0",
      "model_name": "HTMLModel",
      "state": {
       "layout": "IPY_MODEL_0decb603d3cd480a83982ab8bf715b60",
       "style": "IPY_MODEL_b17b96227ffd4da0aca0806a2f6678cd",
       "value": " 1334/? [02:29&lt;00:00,  8.94it/s]"
      }
     },
     "bc31d4243f7f4a0388eda82a5b75f269": {
      "model_module": "@jupyter-widgets/base",
      "model_module_version": "1.2.0",
      "model_name": "LayoutModel",
      "state": {}
     },
     "bc532f6de25c4499916a904213f21053": {
      "model_module": "@jupyter-widgets/controls",
      "model_module_version": "1.5.0",
      "model_name": "HTMLModel",
      "state": {
       "layout": "IPY_MODEL_ea6fb264189a48d88655443843153f8a",
       "style": "IPY_MODEL_28f18b24c5974bb7b9766f5df63b3931",
       "value": " 601/? [25:33&lt;00:00,  2.55s/it]"
      }
     },
     "bce8ae870fb5403a84a3e68f42e41656": {
      "model_module": "@jupyter-widgets/controls",
      "model_module_version": "1.5.0",
      "model_name": "ProgressStyleModel",
      "state": {
       "description_width": "initial"
      }
     },
     "bd8410fdb8164906a08fc8c00d6f9de2": {
      "model_module": "@jupyter-widgets/controls",
      "model_module_version": "1.5.0",
      "model_name": "HTMLModel",
      "state": {
       "layout": "IPY_MODEL_367040f391034f4fa831248bfe66620f",
       "style": "IPY_MODEL_db6137da45524569ac0a0d3443fe6c15",
       "value": " 1334/? [02:16&lt;00:00,  9.76it/s]"
      }
     },
     "bde2ba512c38402ca890e466d0fdf513": {
      "model_module": "@jupyter-widgets/controls",
      "model_module_version": "1.5.0",
      "model_name": "IntProgressModel",
      "state": {
       "bar_style": "danger",
       "layout": "IPY_MODEL_1ee7524a5af1418eae37c98053b48dec",
       "max": 1,
       "style": "IPY_MODEL_20a39846981448798d49a748d66d9d5a",
       "value": 1
      }
     },
     "be957f855a46492d9715353539118f2b": {
      "model_module": "@jupyter-widgets/base",
      "model_module_version": "1.2.0",
      "model_name": "LayoutModel",
      "state": {}
     },
     "bf0b34c076494708b71f3d4dbfbf64f1": {
      "model_module": "@jupyter-widgets/base",
      "model_module_version": "1.2.0",
      "model_name": "LayoutModel",
      "state": {
       "width": "20px"
      }
     },
     "bf4c2973179945eba808212ddb955062": {
      "model_module": "@jupyter-widgets/controls",
      "model_module_version": "1.5.0",
      "model_name": "IntProgressModel",
      "state": {
       "bar_style": "success",
       "layout": "IPY_MODEL_2399341144c04012af5a94cd417709d4",
       "max": 1,
       "style": "IPY_MODEL_861e8db3437d427d8e1524ee3b45dfc5",
       "value": 1
      }
     },
     "bf4cffdc13374270a7fb363ec146a032": {
      "model_module": "@jupyter-widgets/controls",
      "model_module_version": "1.5.0",
      "model_name": "DescriptionStyleModel",
      "state": {
       "description_width": ""
      }
     },
     "bf587c1dad394f5fafde635199222d0b": {
      "model_module": "@jupyter-widgets/controls",
      "model_module_version": "1.5.0",
      "model_name": "ProgressStyleModel",
      "state": {
       "description_width": "initial"
      }
     },
     "bff362b16f1e475eb9658af5e13876b9": {
      "model_module": "@jupyter-widgets/controls",
      "model_module_version": "1.5.0",
      "model_name": "ProgressStyleModel",
      "state": {
       "description_width": "initial"
      }
     },
     "c0a3ce413892434cbd58e293b49fc383": {
      "model_module": "@jupyter-widgets/controls",
      "model_module_version": "1.5.0",
      "model_name": "HBoxModel",
      "state": {
       "children": [
        "IPY_MODEL_bf4c2973179945eba808212ddb955062",
        "IPY_MODEL_85055f0e301648ccb2c8fbc2d398e89c"
       ],
       "layout": "IPY_MODEL_f8f4eede74654c5ab65d29eb81c9c4bf"
      }
     },
     "c10faea00e91463c9418c9f34647005c": {
      "model_module": "@jupyter-widgets/base",
      "model_module_version": "1.2.0",
      "model_name": "LayoutModel",
      "state": {}
     },
     "c1db00872ddd45d2894a40e1873c8793": {
      "model_module": "@jupyter-widgets/base",
      "model_module_version": "1.2.0",
      "model_name": "LayoutModel",
      "state": {}
     },
     "c30e72676c004655a9a88fdcb0e7a605": {
      "model_module": "@jupyter-widgets/controls",
      "model_module_version": "1.5.0",
      "model_name": "HTMLModel",
      "state": {
       "layout": "IPY_MODEL_fa47756793b04f1ab14269adacaeb8f6",
       "style": "IPY_MODEL_e2ff7463bd524e2a84f986b3d46129bc",
       "value": " 1334/? [50:57&lt;00:00,  2.29s/it]"
      }
     },
     "c3c4300a851241e7ab2e754ef3082b0c": {
      "model_module": "@jupyter-widgets/controls",
      "model_module_version": "1.5.0",
      "model_name": "HTMLModel",
      "state": {
       "layout": "IPY_MODEL_3e0c5efe097447fbbd8293635082d72b",
       "style": "IPY_MODEL_33143628fc944ae09360ba791e804f56",
       "value": " 1367/? [50:35&lt;00:00,  2.22s/it]"
      }
     },
     "c4945eb362b64b6883566eabb6d3ca32": {
      "model_module": "@jupyter-widgets/controls",
      "model_module_version": "1.5.0",
      "model_name": "HTMLModel",
      "state": {
       "layout": "IPY_MODEL_54cfda5a51c141d78154a02fb8bd1730",
       "style": "IPY_MODEL_1bcdda7e6bdf4d9cab325fdafde5aaad",
       "value": " 1334/? [01:39&lt;00:00, 13.36it/s]"
      }
     },
     "c4d86d37ddb64353b4932f911729a11e": {
      "model_module": "@jupyter-widgets/controls",
      "model_module_version": "1.5.0",
      "model_name": "DescriptionStyleModel",
      "state": {
       "description_width": ""
      }
     },
     "c502afb2e5784dde9b5a53b13f687d5b": {
      "model_module": "@jupyter-widgets/controls",
      "model_module_version": "1.5.0",
      "model_name": "DescriptionStyleModel",
      "state": {
       "description_width": ""
      }
     },
     "c56e81dddac144ed9b9fac583b33236d": {
      "model_module": "@jupyter-widgets/controls",
      "model_module_version": "1.5.0",
      "model_name": "DescriptionStyleModel",
      "state": {
       "description_width": ""
      }
     },
     "c682081ae76341778fdd2d417e10f073": {
      "model_module": "@jupyter-widgets/controls",
      "model_module_version": "1.5.0",
      "model_name": "HBoxModel",
      "state": {
       "children": [
        "IPY_MODEL_8ac05662d2b4415cb562b45d82c82bc6",
        "IPY_MODEL_8e64721c886949428f2ad1e40bb6f7f5"
       ],
       "layout": "IPY_MODEL_0e5e2ab28d4244199905b02fd3ae8ab4"
      }
     },
     "c9345f7ea1d8489686730b61b9543aaa": {
      "model_module": "@jupyter-widgets/base",
      "model_module_version": "1.2.0",
      "model_name": "LayoutModel",
      "state": {}
     },
     "c9f20f64895e4b16aea3c397bc1b3aba": {
      "model_module": "@jupyter-widgets/controls",
      "model_module_version": "1.5.0",
      "model_name": "ProgressStyleModel",
      "state": {
       "description_width": "initial"
      }
     },
     "ca169099e5c34434b7b7a3ae54a43048": {
      "model_module": "@jupyter-widgets/base",
      "model_module_version": "1.2.0",
      "model_name": "LayoutModel",
      "state": {}
     },
     "ca3dc6dfbd54471f8a9aced426815db2": {
      "model_module": "@jupyter-widgets/controls",
      "model_module_version": "1.5.0",
      "model_name": "ProgressStyleModel",
      "state": {
       "description_width": "initial"
      }
     },
     "ca66d848800a4f5ca52c1bb7602ec31d": {
      "model_module": "@jupyter-widgets/controls",
      "model_module_version": "1.5.0",
      "model_name": "HTMLModel",
      "state": {
       "layout": "IPY_MODEL_ee67a14d395543628344faa2dd2d6d65",
       "style": "IPY_MODEL_c502afb2e5784dde9b5a53b13f687d5b",
       "value": " 1102/? [44:34&lt;00:00,  2.43s/it]"
      }
     },
     "cb073e18807442c9accc565ca5e03a2b": {
      "model_module": "@jupyter-widgets/controls",
      "model_module_version": "1.5.0",
      "model_name": "HTMLModel",
      "state": {
       "layout": "IPY_MODEL_79f4d3a4d9c349fea2055c3d50849799",
       "style": "IPY_MODEL_76df568e1f794a31851247716c4bb6cc",
       "value": " 0/? [01:07&lt;?, ?it/s]"
      }
     },
     "cb14addcaeff45acba0f552d0990dc92": {
      "model_module": "@jupyter-widgets/base",
      "model_module_version": "1.2.0",
      "model_name": "LayoutModel",
      "state": {}
     },
     "cb39787b19b34417b4b9b216fb9914d4": {
      "model_module": "@jupyter-widgets/controls",
      "model_module_version": "1.5.0",
      "model_name": "ProgressStyleModel",
      "state": {
       "description_width": "initial"
      }
     },
     "cb40957551794852be8131eedcbca723": {
      "model_module": "@jupyter-widgets/controls",
      "model_module_version": "1.5.0",
      "model_name": "IntProgressModel",
      "state": {
       "bar_style": "success",
       "layout": "IPY_MODEL_91ac7fe5c6df4de3a84687b700af7d27",
       "max": 1,
       "style": "IPY_MODEL_8eb78565f42545d98cfb18a1cd8fc508",
       "value": 1
      }
     },
     "cb4ec7fd170647e7b65c049f4152e377": {
      "model_module": "@jupyter-widgets/controls",
      "model_module_version": "1.5.0",
      "model_name": "HBoxModel",
      "state": {
       "children": [
        "IPY_MODEL_ae351ca5a2784c0c95e7f3fe92c23c7e",
        "IPY_MODEL_cbe146e218a7419990bd7b70e2ca055f"
       ],
       "layout": "IPY_MODEL_a28cbe8e8a3a4848afd51dd866447b30"
      }
     },
     "cb61bfabc26f4462a2656042606e67bc": {
      "model_module": "@jupyter-widgets/base",
      "model_module_version": "1.2.0",
      "model_name": "LayoutModel",
      "state": {}
     },
     "cba927a130bb4d879863159abb89be1e": {
      "model_module": "@jupyter-widgets/controls",
      "model_module_version": "1.5.0",
      "model_name": "HTMLModel",
      "state": {
       "layout": "IPY_MODEL_6ebf062b163347818457e3c62ace69aa",
       "style": "IPY_MODEL_e3d57f291f224ff3a4ec88b8f4589002",
       "value": "2107it [16:16,  2.16it/s]"
      }
     },
     "cbe146e218a7419990bd7b70e2ca055f": {
      "model_module": "@jupyter-widgets/controls",
      "model_module_version": "1.5.0",
      "model_name": "HTMLModel",
      "state": {
       "layout": "IPY_MODEL_d22396aad35b46aa808d236121a02a50",
       "style": "IPY_MODEL_f50e8e23d26b44f190e4dec4212436b3",
       "value": "2107it [17:09,  2.05it/s]"
      }
     },
     "cc08925e6bcc48158fa03919a3dd4f42": {
      "model_module": "@jupyter-widgets/controls",
      "model_module_version": "1.5.0",
      "model_name": "HBoxModel",
      "state": {
       "children": [
        "IPY_MODEL_e8820718eb524d56b7ddda221bdff2a1",
        "IPY_MODEL_edf3e89309f5487dbb155a43ba916a9d"
       ],
       "layout": "IPY_MODEL_05c5cc6883d14aafa587a6f8f6c6d60b"
      }
     },
     "ccd90083ec534e7799f99d787f541d94": {
      "model_module": "@jupyter-widgets/controls",
      "model_module_version": "1.5.0",
      "model_name": "HBoxModel",
      "state": {
       "children": [
        "IPY_MODEL_16a669d84e38416c8089ccf3eaa94b29",
        "IPY_MODEL_2851c343339a4f069e9a224b3f832e24"
       ],
       "layout": "IPY_MODEL_4973030728ac43a09e372e19e826fb8d"
      }
     },
     "cd4fa668fcc6448c8762b3227822b0a5": {
      "model_module": "@jupyter-widgets/controls",
      "model_module_version": "1.5.0",
      "model_name": "FloatProgressModel",
      "state": {
       "bar_style": "success",
       "layout": "IPY_MODEL_5236e81bd40b4bddad92396492c0c14f",
       "max": 1,
       "style": "IPY_MODEL_944f874fba764bd89a53734b7f0fdb3e",
       "value": 1
      }
     },
     "ce7a43e708b947ec9bf325fe3d38587f": {
      "model_module": "@jupyter-widgets/controls",
      "model_module_version": "1.5.0",
      "model_name": "HTMLModel",
      "state": {
       "layout": "IPY_MODEL_7e34e33d8e674d2ea4f5859782640f9a",
       "style": "IPY_MODEL_fce1eefa338544cc906d8dce682d4d65",
       "value": " 0/? [01:12&lt;?, ?it/s]"
      }
     },
     "cf123e16508c4278896edbfff1c6a8a5": {
      "model_module": "@jupyter-widgets/controls",
      "model_module_version": "1.5.0",
      "model_name": "HTMLModel",
      "state": {
       "layout": "IPY_MODEL_7cc66fef686b47728a3448088a0af93b",
       "style": "IPY_MODEL_f776005311574ee0baf5e85dd399bbfb",
       "value": " 648/? [36:25&lt;00:00,  3.37s/it]"
      }
     },
     "cf41caa1cb8f4b089fe2d82f8c33370c": {
      "model_module": "@jupyter-widgets/controls",
      "model_module_version": "1.5.0",
      "model_name": "HBoxModel",
      "state": {
       "children": [
        "IPY_MODEL_0dcc45559a564358961b15ccf893eda1",
        "IPY_MODEL_1de529454daa4bbe80c761295cbf12f4"
       ],
       "layout": "IPY_MODEL_5307410cd5304204818fb4c7e3715f8d"
      }
     },
     "d06b0520b5ef4e339d64dd1bb309c8df": {
      "model_module": "@jupyter-widgets/controls",
      "model_module_version": "1.5.0",
      "model_name": "DescriptionStyleModel",
      "state": {
       "description_width": ""
      }
     },
     "d0f51bfaf1a64b9aba73c3ba75fa44ca": {
      "model_module": "@jupyter-widgets/base",
      "model_module_version": "1.2.0",
      "model_name": "LayoutModel",
      "state": {}
     },
     "d1293b8863e24f8181afcc03626e4917": {
      "model_module": "@jupyter-widgets/controls",
      "model_module_version": "1.5.0",
      "model_name": "DescriptionStyleModel",
      "state": {
       "description_width": ""
      }
     },
     "d1ceb0e28ca8413c8801ab8740071118": {
      "model_module": "@jupyter-widgets/controls",
      "model_module_version": "1.5.0",
      "model_name": "ProgressStyleModel",
      "state": {
       "description_width": "initial"
      }
     },
     "d22396aad35b46aa808d236121a02a50": {
      "model_module": "@jupyter-widgets/base",
      "model_module_version": "1.2.0",
      "model_name": "LayoutModel",
      "state": {}
     },
     "d32260bc0e5c44dabd7e214e73c34138": {
      "model_module": "@jupyter-widgets/controls",
      "model_module_version": "1.5.0",
      "model_name": "ProgressStyleModel",
      "state": {
       "description_width": "initial"
      }
     },
     "d4a48d7007eb47fdb3679d75808a83e9": {
      "model_module": "@jupyter-widgets/controls",
      "model_module_version": "1.5.0",
      "model_name": "ProgressStyleModel",
      "state": {
       "description_width": "initial"
      }
     },
     "d4e6d71f6b5a48dc8defe0c7af8f7eaf": {
      "model_module": "@jupyter-widgets/controls",
      "model_module_version": "1.5.0",
      "model_name": "ProgressStyleModel",
      "state": {
       "description_width": "initial"
      }
     },
     "d5de5e1970674bd3915d5f68768736a6": {
      "model_module": "@jupyter-widgets/base",
      "model_module_version": "1.2.0",
      "model_name": "LayoutModel",
      "state": {}
     },
     "d62f98dff9754c62a09b0df1ac8584fc": {
      "model_module": "@jupyter-widgets/controls",
      "model_module_version": "1.5.0",
      "model_name": "DescriptionStyleModel",
      "state": {
       "description_width": ""
      }
     },
     "d7206dc0e79e40cfb80e8ba18a1c8fbb": {
      "model_module": "@jupyter-widgets/controls",
      "model_module_version": "1.5.0",
      "model_name": "ProgressStyleModel",
      "state": {
       "description_width": "initial"
      }
     },
     "d7464ea8fed94594818cfc0cda00d130": {
      "model_module": "@jupyter-widgets/controls",
      "model_module_version": "1.5.0",
      "model_name": "HTMLModel",
      "state": {
       "layout": "IPY_MODEL_12606f87d5ee48df96c0b7c6480d9d43",
       "style": "IPY_MODEL_35ee0e34aebd4d28a723a32b551b76cc",
       "value": " 1356/? [26:35&lt;00:00,  1.18s/it]"
      }
     },
     "d8bb151dec4f4b47b2105d2a9e868597": {
      "model_module": "@jupyter-widgets/controls",
      "model_module_version": "1.5.0",
      "model_name": "IntProgressModel",
      "state": {
       "bar_style": "success",
       "layout": "IPY_MODEL_b267fb4303bc490f867c866971848807",
       "max": 1,
       "style": "IPY_MODEL_079af9d806cb433c9f57032c9da9ee7b",
       "value": 1
      }
     },
     "d921d927bfb44468a98db6985f7fb28e": {
      "model_module": "@jupyter-widgets/base",
      "model_module_version": "1.2.0",
      "model_name": "LayoutModel",
      "state": {}
     },
     "d96603bd0c8a4ef6bde62770be25ffe6": {
      "model_module": "@jupyter-widgets/base",
      "model_module_version": "1.2.0",
      "model_name": "LayoutModel",
      "state": {}
     },
     "d98a632c97694780bb7b689d94e70f4c": {
      "model_module": "@jupyter-widgets/controls",
      "model_module_version": "1.5.0",
      "model_name": "DescriptionStyleModel",
      "state": {
       "description_width": ""
      }
     },
     "d9e1ff60219544f684e02f6ad2f035f5": {
      "model_module": "@jupyter-widgets/controls",
      "model_module_version": "1.5.0",
      "model_name": "IntProgressModel",
      "state": {
       "bar_style": "success",
       "layout": "IPY_MODEL_2cee3e3517cf412baa735eeefcbffe8c",
       "max": 1,
       "style": "IPY_MODEL_6aa97aac4c054a96a065c806efcc678e",
       "value": 1
      }
     },
     "da18a3b20e384d38a86309cbfe1ea439": {
      "model_module": "@jupyter-widgets/controls",
      "model_module_version": "1.5.0",
      "model_name": "IntProgressModel",
      "state": {
       "bar_style": "success",
       "layout": "IPY_MODEL_cb14addcaeff45acba0f552d0990dc92",
       "max": 1,
       "style": "IPY_MODEL_d1ceb0e28ca8413c8801ab8740071118",
       "value": 1
      }
     },
     "db59ed40fff14493b724acde6d8cba0b": {
      "model_module": "@jupyter-widgets/controls",
      "model_module_version": "1.5.0",
      "model_name": "IntProgressModel",
      "state": {
       "bar_style": "success",
       "layout": "IPY_MODEL_7afaca48de5d4dff81292ab14f48a8ff",
       "max": 1,
       "style": "IPY_MODEL_473487f43b734668a28e6c507c7e4ddf",
       "value": 1
      }
     },
     "db6137da45524569ac0a0d3443fe6c15": {
      "model_module": "@jupyter-widgets/controls",
      "model_module_version": "1.5.0",
      "model_name": "DescriptionStyleModel",
      "state": {
       "description_width": ""
      }
     },
     "db63eb4b2ca84e64b894efa806500b53": {
      "model_module": "@jupyter-widgets/controls",
      "model_module_version": "1.5.0",
      "model_name": "IntProgressModel",
      "state": {
       "bar_style": "success",
       "layout": "IPY_MODEL_0e2de67045404aef9b2ba261b7115219",
       "max": 1,
       "style": "IPY_MODEL_20681fa2666c4808831d170668526d7a",
       "value": 1
      }
     },
     "de238ddfdc624ca0ad752cadea80989e": {
      "model_module": "@jupyter-widgets/base",
      "model_module_version": "1.2.0",
      "model_name": "LayoutModel",
      "state": {}
     },
     "de6ba0715fff438b8e6b736305c3d065": {
      "model_module": "@jupyter-widgets/base",
      "model_module_version": "1.2.0",
      "model_name": "LayoutModel",
      "state": {}
     },
     "de9e579792f2487d8f859c74b7da30f1": {
      "model_module": "@jupyter-widgets/controls",
      "model_module_version": "1.5.0",
      "model_name": "HBoxModel",
      "state": {
       "children": [
        "IPY_MODEL_b7bdffaf3c684110aaddebcee157710b",
        "IPY_MODEL_d7464ea8fed94594818cfc0cda00d130"
       ],
       "layout": "IPY_MODEL_eb2913d4917342d8acf40b3187c931f2"
      }
     },
     "deeb68932e2a45ba96f23615d681a417": {
      "model_module": "@jupyter-widgets/controls",
      "model_module_version": "1.5.0",
      "model_name": "HTMLModel",
      "state": {
       "layout": "IPY_MODEL_906dbfa9aa62499688aae3f6f23aa93f",
       "style": "IPY_MODEL_d62f98dff9754c62a09b0df1ac8584fc",
       "value": " 648/? [37:36&lt;00:00,  3.48s/it]"
      }
     },
     "dfd16cf9339f4869b92878960c7df640": {
      "model_module": "@jupyter-widgets/base",
      "model_module_version": "1.2.0",
      "model_name": "LayoutModel",
      "state": {}
     },
     "e01d61ac524042e6bfb1954dd506e6bf": {
      "model_module": "@jupyter-widgets/base",
      "model_module_version": "1.2.0",
      "model_name": "LayoutModel",
      "state": {}
     },
     "e06eab41274d45378865d3ea45c4951c": {
      "model_module": "@jupyter-widgets/controls",
      "model_module_version": "1.5.0",
      "model_name": "ProgressStyleModel",
      "state": {
       "description_width": "initial"
      }
     },
     "e0afe7f5c2114d1a9287e85bb3b88f4b": {
      "model_module": "@jupyter-widgets/controls",
      "model_module_version": "1.5.0",
      "model_name": "DescriptionStyleModel",
      "state": {
       "description_width": ""
      }
     },
     "e0c27a94c3844c42acb5a76152e9e5c5": {
      "model_module": "@jupyter-widgets/base",
      "model_module_version": "1.2.0",
      "model_name": "LayoutModel",
      "state": {}
     },
     "e0cc70cd3039407fb40ff6486e0d437c": {
      "model_module": "@jupyter-widgets/controls",
      "model_module_version": "1.5.0",
      "model_name": "HTMLModel",
      "state": {
       "layout": "IPY_MODEL_7c27732ed4fa4ab78aa8cdad9d78823a",
       "style": "IPY_MODEL_b36045dde7c14136b6e88ae047a956a5",
       "value": " 1942/? [37:31&lt;00:00,  1.16s/it]"
      }
     },
     "e173949fb14c4e6f8fadb04bf920dc24": {
      "model_module": "@jupyter-widgets/base",
      "model_module_version": "1.2.0",
      "model_name": "LayoutModel",
      "state": {}
     },
     "e1a556c91381442ab841db36cb753af8": {
      "model_module": "@jupyter-widgets/controls",
      "model_module_version": "1.5.0",
      "model_name": "HTMLModel",
      "state": {
       "layout": "IPY_MODEL_642699fa39ff45108fccd04d76be2235",
       "style": "IPY_MODEL_714229b5ae714ce0bdcf618d20d751b0",
       "value": " 1334/? [30:08&lt;00:00,  1.36s/it]"
      }
     },
     "e2ff7463bd524e2a84f986b3d46129bc": {
      "model_module": "@jupyter-widgets/controls",
      "model_module_version": "1.5.0",
      "model_name": "DescriptionStyleModel",
      "state": {
       "description_width": ""
      }
     },
     "e30c91517b4f49e08739e44612ee2f51": {
      "model_module": "@jupyter-widgets/controls",
      "model_module_version": "1.5.0",
      "model_name": "DescriptionStyleModel",
      "state": {
       "description_width": ""
      }
     },
     "e3871b799fdb474683092943655edb53": {
      "model_module": "@jupyter-widgets/controls",
      "model_module_version": "1.5.0",
      "model_name": "DescriptionStyleModel",
      "state": {
       "description_width": ""
      }
     },
     "e3d57f291f224ff3a4ec88b8f4589002": {
      "model_module": "@jupyter-widgets/controls",
      "model_module_version": "1.5.0",
      "model_name": "DescriptionStyleModel",
      "state": {
       "description_width": ""
      }
     },
     "e43d55293d414b0885a89ed9d223ce8e": {
      "model_module": "@jupyter-widgets/base",
      "model_module_version": "1.2.0",
      "model_name": "LayoutModel",
      "state": {}
     },
     "e4fa8e28fb9a41229f9e719fb75fffdb": {
      "model_module": "@jupyter-widgets/controls",
      "model_module_version": "1.5.0",
      "model_name": "ProgressStyleModel",
      "state": {
       "description_width": "initial"
      }
     },
     "e6d323ee0e1e4151990ed0bb2b22a28e": {
      "model_module": "@jupyter-widgets/controls",
      "model_module_version": "1.5.0",
      "model_name": "FloatProgressModel",
      "state": {
       "bar_style": "success",
       "layout": "IPY_MODEL_9d1892f71c8f4a01af5e454fa314bcbe",
       "max": 1,
       "style": "IPY_MODEL_b2616ff9ee694f9aa50594006b5fb682",
       "value": 1
      }
     },
     "e74a1b9363054f42a6909151481d2b27": {
      "model_module": "@jupyter-widgets/controls",
      "model_module_version": "1.5.0",
      "model_name": "ProgressStyleModel",
      "state": {
       "description_width": "initial"
      }
     },
     "e7b704604a3f4e8d91308b631312a32e": {
      "model_module": "@jupyter-widgets/base",
      "model_module_version": "1.2.0",
      "model_name": "LayoutModel",
      "state": {}
     },
     "e8820718eb524d56b7ddda221bdff2a1": {
      "model_module": "@jupyter-widgets/controls",
      "model_module_version": "1.5.0",
      "model_name": "FloatProgressModel",
      "state": {
       "bar_style": "success",
       "layout": "IPY_MODEL_896865d4c7bd4eb2b4c0ea43849f1278",
       "max": 1,
       "style": "IPY_MODEL_bce8ae870fb5403a84a3e68f42e41656",
       "value": 1
      }
     },
     "e96943a110e149889c952aaf39686566": {
      "model_module": "@jupyter-widgets/controls",
      "model_module_version": "1.5.0",
      "model_name": "HTMLModel",
      "state": {
       "layout": "IPY_MODEL_33e503da1a114dd088e80e6481228ec6",
       "style": "IPY_MODEL_e30c91517b4f49e08739e44612ee2f51",
       "value": " 1334/? [24:47&lt;00:00,  1.12s/it]"
      }
     },
     "e9b781a90c2c403a86fb86ec72b80c6a": {
      "model_module": "@jupyter-widgets/base",
      "model_module_version": "1.2.0",
      "model_name": "LayoutModel",
      "state": {}
     },
     "e9c0b657263e4f31a7db2e4b48213261": {
      "model_module": "@jupyter-widgets/controls",
      "model_module_version": "1.5.0",
      "model_name": "HBoxModel",
      "state": {
       "children": [
        "IPY_MODEL_cb40957551794852be8131eedcbca723",
        "IPY_MODEL_39795d8108d74c758114857cda91edbb"
       ],
       "layout": "IPY_MODEL_fd45e798859d4c93849375c4130efbca"
      }
     },
     "ea0a5cf3b68b4d10a039fb2f7c2c10cf": {
      "model_module": "@jupyter-widgets/base",
      "model_module_version": "1.2.0",
      "model_name": "LayoutModel",
      "state": {}
     },
     "ea6fb264189a48d88655443843153f8a": {
      "model_module": "@jupyter-widgets/base",
      "model_module_version": "1.2.0",
      "model_name": "LayoutModel",
      "state": {}
     },
     "eab18abc84e244968dd5a3b75a68558f": {
      "model_module": "@jupyter-widgets/controls",
      "model_module_version": "1.5.0",
      "model_name": "HBoxModel",
      "state": {
       "children": [
        "IPY_MODEL_fcd01bbcdd6646bf8e8ffb78898bda56",
        "IPY_MODEL_98beb2985c4e4a6e8ab080eb10b186a6"
       ],
       "layout": "IPY_MODEL_7b578d0a614e477bb99e94fca19ae4a6"
      }
     },
     "eab69e088dba4646951dbc7150856b0c": {
      "model_module": "@jupyter-widgets/controls",
      "model_module_version": "1.5.0",
      "model_name": "HBoxModel",
      "state": {
       "children": [
        "IPY_MODEL_3237f9291e744082905ee5e67da84901",
        "IPY_MODEL_ce7a43e708b947ec9bf325fe3d38587f"
       ],
       "layout": "IPY_MODEL_9a3a50f79db044e29ad551a2839d7076"
      }
     },
     "eb2913d4917342d8acf40b3187c931f2": {
      "model_module": "@jupyter-widgets/base",
      "model_module_version": "1.2.0",
      "model_name": "LayoutModel",
      "state": {}
     },
     "ed5f87f3e37f4f9993a3599cc72f8000": {
      "model_module": "@jupyter-widgets/controls",
      "model_module_version": "1.5.0",
      "model_name": "DescriptionStyleModel",
      "state": {
       "description_width": ""
      }
     },
     "eda48863e8094b81b9354b7a819c0d86": {
      "model_module": "@jupyter-widgets/controls",
      "model_module_version": "1.5.0",
      "model_name": "ProgressStyleModel",
      "state": {
       "description_width": "initial"
      }
     },
     "edf3e89309f5487dbb155a43ba916a9d": {
      "model_module": "@jupyter-widgets/controls",
      "model_module_version": "1.5.0",
      "model_name": "HTMLModel",
      "state": {
       "layout": "IPY_MODEL_bc31d4243f7f4a0388eda82a5b75f269",
       "style": "IPY_MODEL_ed5f87f3e37f4f9993a3599cc72f8000",
       "value": "2107it [17:31,  2.00it/s]"
      }
     },
     "ee1622563ba845b1bc8b77a6194bb515": {
      "model_module": "@jupyter-widgets/base",
      "model_module_version": "1.2.0",
      "model_name": "LayoutModel",
      "state": {
       "width": "20px"
      }
     },
     "ee67a14d395543628344faa2dd2d6d65": {
      "model_module": "@jupyter-widgets/base",
      "model_module_version": "1.2.0",
      "model_name": "LayoutModel",
      "state": {}
     },
     "ee9f2d33e57044dfabd3f29c9bc42163": {
      "model_module": "@jupyter-widgets/controls",
      "model_module_version": "1.5.0",
      "model_name": "HBoxModel",
      "state": {
       "children": [
        "IPY_MODEL_589c4258329d4400afe7ce05672e0e77",
        "IPY_MODEL_304e80cb9d7d4dcca9e3290e93d7883a"
       ],
       "layout": "IPY_MODEL_32bb2274aab94db5a9029afad0d16266"
      }
     },
     "ef144d74702a423eb12f4239f1e1932f": {
      "model_module": "@jupyter-widgets/controls",
      "model_module_version": "1.5.0",
      "model_name": "IntProgressModel",
      "state": {
       "bar_style": "success",
       "layout": "IPY_MODEL_ff9f5b7ffe74402f83232cd182b0fd49",
       "max": 1,
       "style": "IPY_MODEL_cb39787b19b34417b4b9b216fb9914d4",
       "value": 1
      }
     },
     "ef6014e90b5745b69821132f419d4af6": {
      "model_module": "@jupyter-widgets/controls",
      "model_module_version": "1.5.0",
      "model_name": "HTMLModel",
      "state": {
       "layout": "IPY_MODEL_f4cb900c2fca47df8347e2cac3fdb6c0",
       "style": "IPY_MODEL_629eb2d1efd84ea38f91a03dfc6a5323",
       "value": " 1334/? [25:23&lt;00:00,  1.14s/it]"
      }
     },
     "efd3c699beac4d2697aee1a9b617544d": {
      "model_module": "@jupyter-widgets/controls",
      "model_module_version": "1.5.0",
      "model_name": "HTMLModel",
      "state": {
       "layout": "IPY_MODEL_acace81bc1dc474db00902e4cdcaa490",
       "style": "IPY_MODEL_3ce10872492f44c9b7475de875da52e7",
       "value": " 1334/? [28:05&lt;00:00,  1.26s/it]"
      }
     },
     "f00cc5981e004cf1aa4b88776b35f8d4": {
      "model_module": "@jupyter-widgets/controls",
      "model_module_version": "1.5.0",
      "model_name": "IntProgressModel",
      "state": {
       "bar_style": "danger",
       "layout": "IPY_MODEL_58fb8ba8c10c40a4a69763dda835ad72",
       "max": 1,
       "style": "IPY_MODEL_257ae8981a44440e9ab548e0692ea480",
       "value": 1
      }
     },
     "f015337107014d2592532defb9fc9185": {
      "model_module": "@jupyter-widgets/controls",
      "model_module_version": "1.5.0",
      "model_name": "DescriptionStyleModel",
      "state": {
       "description_width": ""
      }
     },
     "f050ce118d894b859f5db522751c4db6": {
      "model_module": "@jupyter-widgets/controls",
      "model_module_version": "1.5.0",
      "model_name": "IntProgressModel",
      "state": {
       "bar_style": "success",
       "layout": "IPY_MODEL_f17e9e21a15c4d9ba8991ffc573c78bb",
       "max": 1,
       "style": "IPY_MODEL_e74a1b9363054f42a6909151481d2b27",
       "value": 1
      }
     },
     "f094dae967c14cc58fbd1b96f7bf9469": {
      "model_module": "@jupyter-widgets/controls",
      "model_module_version": "1.5.0",
      "model_name": "DescriptionStyleModel",
      "state": {
       "description_width": ""
      }
     },
     "f12faedd278e4ec7ba3ea3ba070d3414": {
      "model_module": "@jupyter-widgets/controls",
      "model_module_version": "1.5.0",
      "model_name": "ProgressStyleModel",
      "state": {
       "description_width": "initial"
      }
     },
     "f17e9e21a15c4d9ba8991ffc573c78bb": {
      "model_module": "@jupyter-widgets/base",
      "model_module_version": "1.2.0",
      "model_name": "LayoutModel",
      "state": {}
     },
     "f229854d827b40d3ad0a75c10e15767d": {
      "model_module": "@jupyter-widgets/base",
      "model_module_version": "1.2.0",
      "model_name": "LayoutModel",
      "state": {}
     },
     "f27016c8d4d84ccaa72967e4f6ed701d": {
      "model_module": "@jupyter-widgets/controls",
      "model_module_version": "1.5.0",
      "model_name": "DescriptionStyleModel",
      "state": {
       "description_width": ""
      }
     },
     "f3de6ca531cd4434b3d80ad3d13e2614": {
      "model_module": "@jupyter-widgets/controls",
      "model_module_version": "1.5.0",
      "model_name": "FloatProgressModel",
      "state": {
       "bar_style": "success",
       "layout": "IPY_MODEL_bf0b34c076494708b71f3d4dbfbf64f1",
       "max": 1,
       "style": "IPY_MODEL_3d8d9bfdf59b4d9780c2c517ac520bcf",
       "value": 1
      }
     },
     "f415a35f9d724bcf936b3bb759507356": {
      "model_module": "@jupyter-widgets/controls",
      "model_module_version": "1.5.0",
      "model_name": "ProgressStyleModel",
      "state": {
       "description_width": "initial"
      }
     },
     "f4cb900c2fca47df8347e2cac3fdb6c0": {
      "model_module": "@jupyter-widgets/base",
      "model_module_version": "1.2.0",
      "model_name": "LayoutModel",
      "state": {}
     },
     "f4cd8c3c1bf84b5eae492423bc0e1103": {
      "model_module": "@jupyter-widgets/base",
      "model_module_version": "1.2.0",
      "model_name": "LayoutModel",
      "state": {}
     },
     "f4e23a45905e44a3879d85f9422c643d": {
      "model_module": "@jupyter-widgets/base",
      "model_module_version": "1.2.0",
      "model_name": "LayoutModel",
      "state": {
       "width": "20px"
      }
     },
     "f50e8e23d26b44f190e4dec4212436b3": {
      "model_module": "@jupyter-widgets/controls",
      "model_module_version": "1.5.0",
      "model_name": "DescriptionStyleModel",
      "state": {
       "description_width": ""
      }
     },
     "f6ff7f5409544e989becd01c0cff0d80": {
      "model_module": "@jupyter-widgets/controls",
      "model_module_version": "1.5.0",
      "model_name": "DescriptionStyleModel",
      "state": {
       "description_width": ""
      }
     },
     "f71c35522c34451ab2f7303290d5b34b": {
      "model_module": "@jupyter-widgets/controls",
      "model_module_version": "1.5.0",
      "model_name": "IntProgressModel",
      "state": {
       "bar_style": "info",
       "layout": "IPY_MODEL_b6dd4ff5a1ca4bfe8039154f57a5392c",
       "max": 1,
       "style": "IPY_MODEL_7a173840e95542e0bbb0bfdf4d100e2f",
       "value": 1
      }
     },
     "f739b2e2b73245ffaa91e061340ceb68": {
      "model_module": "@jupyter-widgets/controls",
      "model_module_version": "1.5.0",
      "model_name": "HTMLModel",
      "state": {
       "layout": "IPY_MODEL_be957f855a46492d9715353539118f2b",
       "style": "IPY_MODEL_f015337107014d2592532defb9fc9185",
       "value": " 1367/? [27:53&lt;00:00,  1.22s/it]"
      }
     },
     "f776005311574ee0baf5e85dd399bbfb": {
      "model_module": "@jupyter-widgets/controls",
      "model_module_version": "1.5.0",
      "model_name": "DescriptionStyleModel",
      "state": {
       "description_width": ""
      }
     },
     "f7d19bfdbdc24e68b923d3143d108fee": {
      "model_module": "@jupyter-widgets/base",
      "model_module_version": "1.2.0",
      "model_name": "LayoutModel",
      "state": {}
     },
     "f87ed2c0f4d84dd2b7f337180a8ed6db": {
      "model_module": "@jupyter-widgets/base",
      "model_module_version": "1.2.0",
      "model_name": "LayoutModel",
      "state": {}
     },
     "f8f4eede74654c5ab65d29eb81c9c4bf": {
      "model_module": "@jupyter-widgets/base",
      "model_module_version": "1.2.0",
      "model_name": "LayoutModel",
      "state": {}
     },
     "f98deef6cc544442a0e9e4fd85a06255": {
      "model_module": "@jupyter-widgets/controls",
      "model_module_version": "1.5.0",
      "model_name": "HBoxModel",
      "state": {
       "children": [
        "IPY_MODEL_15c7ffa1b69a4919ab9a0acfdb7b3180",
        "IPY_MODEL_ca66d848800a4f5ca52c1bb7602ec31d"
       ],
       "layout": "IPY_MODEL_e0c27a94c3844c42acb5a76152e9e5c5"
      }
     },
     "fa47756793b04f1ab14269adacaeb8f6": {
      "model_module": "@jupyter-widgets/base",
      "model_module_version": "1.2.0",
      "model_name": "LayoutModel",
      "state": {}
     },
     "fa48a5be27c043178e98997b870b692d": {
      "model_module": "@jupyter-widgets/base",
      "model_module_version": "1.2.0",
      "model_name": "LayoutModel",
      "state": {}
     },
     "fa9df5365c5749e68ac60aa52d936714": {
      "model_module": "@jupyter-widgets/controls",
      "model_module_version": "1.5.0",
      "model_name": "IntProgressModel",
      "state": {
       "bar_style": "success",
       "layout": "IPY_MODEL_1fdedaacb8ee45d79d000525cc5ef1e0",
       "max": 1,
       "style": "IPY_MODEL_0c3c6263f51348c9b06a6f330bf2b7d6",
       "value": 1
      }
     },
     "fae9380a50ac4006a906cdc2a457ae78": {
      "model_module": "@jupyter-widgets/controls",
      "model_module_version": "1.5.0",
      "model_name": "DescriptionStyleModel",
      "state": {
       "description_width": ""
      }
     },
     "fbf84f9fd2f444d58c06ce47fb28d940": {
      "model_module": "@jupyter-widgets/controls",
      "model_module_version": "1.5.0",
      "model_name": "DescriptionStyleModel",
      "state": {
       "description_width": ""
      }
     },
     "fcd01bbcdd6646bf8e8ffb78898bda56": {
      "model_module": "@jupyter-widgets/controls",
      "model_module_version": "1.5.0",
      "model_name": "IntProgressModel",
      "state": {
       "bar_style": "danger",
       "layout": "IPY_MODEL_4a85675a67d54e318812e464aaf8f8b4",
       "max": 1,
       "style": "IPY_MODEL_15438c7d49bf4d80b84be617867eb184",
       "value": 1
      }
     },
     "fce1eefa338544cc906d8dce682d4d65": {
      "model_module": "@jupyter-widgets/controls",
      "model_module_version": "1.5.0",
      "model_name": "DescriptionStyleModel",
      "state": {
       "description_width": ""
      }
     },
     "fd45e798859d4c93849375c4130efbca": {
      "model_module": "@jupyter-widgets/base",
      "model_module_version": "1.2.0",
      "model_name": "LayoutModel",
      "state": {}
     },
     "fee2444115134844ae8760fbb7a4d3d4": {
      "model_module": "@jupyter-widgets/controls",
      "model_module_version": "1.5.0",
      "model_name": "ProgressStyleModel",
      "state": {
       "description_width": "initial"
      }
     },
     "ff47147eb9084e09b9944d1d1c0c61c0": {
      "model_module": "@jupyter-widgets/controls",
      "model_module_version": "1.5.0",
      "model_name": "IntProgressModel",
      "state": {
       "bar_style": "success",
       "layout": "IPY_MODEL_add563f208234486b4dd299810983794",
       "max": 1,
       "style": "IPY_MODEL_57ae48ace983402abe53278c654e5ea7",
       "value": 1
      }
     },
     "ff9f5b7ffe74402f83232cd182b0fd49": {
      "model_module": "@jupyter-widgets/base",
      "model_module_version": "1.2.0",
      "model_name": "LayoutModel",
      "state": {}
     }
    },
    "version_major": 2,
    "version_minor": 0
   }
  }
 },
 "nbformat": 4,
 "nbformat_minor": 4
}
