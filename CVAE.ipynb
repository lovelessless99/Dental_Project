{
 "cells": [
  {
   "cell_type": "code",
   "execution_count": 1,
   "metadata": {},
   "outputs": [
    {
     "name": "stderr",
     "output_type": "stream",
     "text": [
      "Using TensorFlow backend.\n"
     ]
    }
   ],
   "source": [
    "from keras.models import Model\n",
    "from keras import backend as K\n",
    "from scipy.stats import norm\n",
    "from keras import metrics\n",
    "from keras.layers import *\n",
    "from tqdm.notebook import tqdm as tqdm\n",
    "from keras.losses import mse, binary_crossentropy\n",
    "from Dental_Tool.KFold_v2 import *\n",
    "\n",
    "from keras.utils import *\n",
    "import matplotlib.pyplot as plt\n",
    "import tensorflow as tf\n",
    "import numpy as np"
   ]
  },
  {
   "cell_type": "code",
   "execution_count": 2,
   "metadata": {},
   "outputs": [],
   "source": [
    "batch_size = 8\n",
    "original_dim = 128 * 128\n",
    "latent_dim = 2\n",
    "intermediate_dim = 256\n",
    "epochs = 50\n",
    "epsilon_std = 1.0\n",
    "classes = 3"
   ]
  },
  {
   "cell_type": "code",
   "execution_count": 3,
   "metadata": {},
   "outputs": [],
   "source": [
    "def sampling(args: tuple):\n",
    "        # we grab the variables from the tuple\n",
    "        z_mean, z_log_var = args\n",
    "        epsilon = K.random_normal(shape=(K.shape(z_mean)[0], latent_dim), mean=0.,\n",
    "                                  stddev=epsilon_std)\n",
    "        return z_mean + K.exp(z_log_var / 2) * epsilon"
   ]
  },
  {
   "cell_type": "code",
   "execution_count": 4,
   "metadata": {},
   "outputs": [],
   "source": [
    "def build_encoder(input_shape = (200, 180, 1)): \n",
    "        inputs = Input(shape=input_shape)\n",
    "        x = Conv2D(32, kernel_size=3, strides=(2, 2), padding=\"same\")(inputs)\n",
    "        x = LeakyReLU(alpha=0.2)(x)\n",
    "        x = Dropout(0.25)(x)\n",
    "\n",
    "        x = Conv2D(64, kernel_size=3, strides=(2, 2), padding=\"same\")(x)\n",
    "        x = BatchNormalization(momentum=0.8)(x)\n",
    "        x = LeakyReLU(alpha=0.2)(x)\n",
    "        x = Dropout(0.25)(x)\n",
    "\n",
    "        x = Conv2D(128, kernel_size=3, strides=(2, 2), padding=\"same\")(x)\n",
    "        x = BatchNormalization(momentum=0.8)(x)\n",
    "        x = LeakyReLU(alpha=0.2)(x)\n",
    "        x = Dropout(0.25)(x)\n",
    "\n",
    "        x = Conv2D(256, kernel_size=3, strides=(2, 2), padding=\"same\")(x)\n",
    "        x = BatchNormalization(momentum=0.8)(x)\n",
    "        x = LeakyReLU(alpha=0.2)(x)\n",
    "        x = Dropout(0.25)(x)\n",
    "\n",
    "        x = Conv2D(512, kernel_size=3, strides=(2, 2), padding=\"same\")(x)\n",
    "        x = BatchNormalization(momentum=0.8)(x)\n",
    "        x = LeakyReLU(alpha=0.2)(x)\n",
    "        x = Dropout(0.25)(x)\n",
    "\n",
    "        x = Conv2D(1024, kernel_size=3, strides=(2, 2), padding=\"same\")(x)\n",
    "        x = BatchNormalization(momentum=0.8)(x)\n",
    "        x = LeakyReLU(alpha=0.2)(x)\n",
    "        x = Dropout(0.25)(x)\n",
    "\n",
    "        x = Flatten()(x)\n",
    "        x = Dense(1024)(x)\n",
    "        x = LeakyReLU(alpha=0.2)(x)\n",
    "        \n",
    "        global z_mean\n",
    "        global z_log_var\n",
    "        # defining the mean of the latent space\n",
    "        z_mean = Dense(latent_dim, name=\"mean\")(x)\n",
    "        # defining the log variance of the latent space\n",
    "        z_log_var = Dense(latent_dim, name=\"log-variance\")(x)\n",
    "\n",
    "        z = Lambda(sampling, output_shape=(latent_dim,))([z_mean, z_log_var])\n",
    "        # defining the encoder as a keras model\n",
    "        encoder = Model(inputs, [z_mean, z_log_var, z], name=\"encoder\")\n",
    "        # print out summary of what we just did\n",
    "\n",
    "        encoder.summary()\n",
    "        return encoder"
   ]
  },
  {
   "cell_type": "code",
   "execution_count": 5,
   "metadata": {},
   "outputs": [
    {
     "name": "stdout",
     "output_type": "stream",
     "text": [
      "Model: \"encoder\"\n",
      "__________________________________________________________________________________________________\n",
      "Layer (type)                    Output Shape         Param #     Connected to                     \n",
      "==================================================================================================\n",
      "input_1 (InputLayer)            (None, 128, 128, 1)  0                                            \n",
      "__________________________________________________________________________________________________\n",
      "conv2d_1 (Conv2D)               (None, 64, 64, 32)   320         input_1[0][0]                    \n",
      "__________________________________________________________________________________________________\n",
      "leaky_re_lu_1 (LeakyReLU)       (None, 64, 64, 32)   0           conv2d_1[0][0]                   \n",
      "__________________________________________________________________________________________________\n",
      "dropout_1 (Dropout)             (None, 64, 64, 32)   0           leaky_re_lu_1[0][0]              \n",
      "__________________________________________________________________________________________________\n",
      "conv2d_2 (Conv2D)               (None, 32, 32, 64)   18496       dropout_1[0][0]                  \n",
      "__________________________________________________________________________________________________\n",
      "batch_normalization_1 (BatchNor (None, 32, 32, 64)   256         conv2d_2[0][0]                   \n",
      "__________________________________________________________________________________________________\n",
      "leaky_re_lu_2 (LeakyReLU)       (None, 32, 32, 64)   0           batch_normalization_1[0][0]      \n",
      "__________________________________________________________________________________________________\n",
      "dropout_2 (Dropout)             (None, 32, 32, 64)   0           leaky_re_lu_2[0][0]              \n",
      "__________________________________________________________________________________________________\n",
      "conv2d_3 (Conv2D)               (None, 16, 16, 128)  73856       dropout_2[0][0]                  \n",
      "__________________________________________________________________________________________________\n",
      "batch_normalization_2 (BatchNor (None, 16, 16, 128)  512         conv2d_3[0][0]                   \n",
      "__________________________________________________________________________________________________\n",
      "leaky_re_lu_3 (LeakyReLU)       (None, 16, 16, 128)  0           batch_normalization_2[0][0]      \n",
      "__________________________________________________________________________________________________\n",
      "dropout_3 (Dropout)             (None, 16, 16, 128)  0           leaky_re_lu_3[0][0]              \n",
      "__________________________________________________________________________________________________\n",
      "conv2d_4 (Conv2D)               (None, 8, 8, 256)    295168      dropout_3[0][0]                  \n",
      "__________________________________________________________________________________________________\n",
      "batch_normalization_3 (BatchNor (None, 8, 8, 256)    1024        conv2d_4[0][0]                   \n",
      "__________________________________________________________________________________________________\n",
      "leaky_re_lu_4 (LeakyReLU)       (None, 8, 8, 256)    0           batch_normalization_3[0][0]      \n",
      "__________________________________________________________________________________________________\n",
      "dropout_4 (Dropout)             (None, 8, 8, 256)    0           leaky_re_lu_4[0][0]              \n",
      "__________________________________________________________________________________________________\n",
      "conv2d_5 (Conv2D)               (None, 4, 4, 512)    1180160     dropout_4[0][0]                  \n",
      "__________________________________________________________________________________________________\n",
      "batch_normalization_4 (BatchNor (None, 4, 4, 512)    2048        conv2d_5[0][0]                   \n",
      "__________________________________________________________________________________________________\n",
      "leaky_re_lu_5 (LeakyReLU)       (None, 4, 4, 512)    0           batch_normalization_4[0][0]      \n",
      "__________________________________________________________________________________________________\n",
      "dropout_5 (Dropout)             (None, 4, 4, 512)    0           leaky_re_lu_5[0][0]              \n",
      "__________________________________________________________________________________________________\n",
      "conv2d_6 (Conv2D)               (None, 2, 2, 1024)   4719616     dropout_5[0][0]                  \n",
      "__________________________________________________________________________________________________\n",
      "batch_normalization_5 (BatchNor (None, 2, 2, 1024)   4096        conv2d_6[0][0]                   \n",
      "__________________________________________________________________________________________________\n",
      "leaky_re_lu_6 (LeakyReLU)       (None, 2, 2, 1024)   0           batch_normalization_5[0][0]      \n",
      "__________________________________________________________________________________________________\n",
      "dropout_6 (Dropout)             (None, 2, 2, 1024)   0           leaky_re_lu_6[0][0]              \n",
      "__________________________________________________________________________________________________\n",
      "flatten_1 (Flatten)             (None, 4096)         0           dropout_6[0][0]                  \n",
      "__________________________________________________________________________________________________\n",
      "dense_1 (Dense)                 (None, 1024)         4195328     flatten_1[0][0]                  \n",
      "__________________________________________________________________________________________________\n",
      "leaky_re_lu_7 (LeakyReLU)       (None, 1024)         0           dense_1[0][0]                    \n",
      "__________________________________________________________________________________________________\n",
      "mean (Dense)                    (None, 2)            2050        leaky_re_lu_7[0][0]              \n",
      "__________________________________________________________________________________________________\n",
      "log-variance (Dense)            (None, 2)            2050        leaky_re_lu_7[0][0]              \n",
      "__________________________________________________________________________________________________\n",
      "lambda_1 (Lambda)               (None, 2)            0           mean[0][0]                       \n",
      "                                                                 log-variance[0][0]               \n",
      "==================================================================================================\n",
      "Total params: 10,494,980\n",
      "Trainable params: 10,491,012\n",
      "Non-trainable params: 3,968\n",
      "__________________________________________________________________________________________________\n"
     ]
    }
   ],
   "source": [
    "encoder = build_encoder(input_shape = (128, 128, 1))"
   ]
  },
  {
   "cell_type": "code",
   "execution_count": 6,
   "metadata": {},
   "outputs": [],
   "source": [
    "def build_decoder(input_shape):\n",
    "        latent_inputs = Input(shape=(latent_dim,), name='z_sampling')\n",
    "        label_inputs = Input(shape=(classes,), name='label')\n",
    "        x = Concatenate()([latent_inputs, label_inputs])\n",
    "        x = Dense(128, activation='relu')(x)\n",
    "        x = Dense(4 * 4 * 32, activation='relu')(x)\n",
    "        x = Reshape((4, 4, 32))(x)\n",
    "        x = Dropout(0.25)(x)\n",
    "        \n",
    "        x = Conv2DTranspose(256, kernel_size=3, strides=(2, 2), padding=\"same\")(x)\n",
    "        x = BatchNormalization()(x)\n",
    "        x = Activation(\"relu\")(x)\n",
    "        \n",
    "        x = Conv2DTranspose(128, kernel_size=3, strides=(2, 2), padding=\"same\")(x)\n",
    "        x = BatchNormalization()(x)\n",
    "        x = Activation(\"relu\")(x)\n",
    "        \n",
    "        x = Conv2DTranspose(64, kernel_size=3, strides=(2, 2), padding=\"same\")(x)\n",
    "        x = BatchNormalization()(x)\n",
    "        x = Activation(\"relu\")(x)\n",
    "        \n",
    "        x = Conv2DTranspose(32, kernel_size=3, strides=(2, 2), padding=\"same\")(x)\n",
    "        x = BatchNormalization()(x)\n",
    "        x = Activation(\"relu\")(x)\n",
    "        \n",
    "        x = Conv2DTranspose(16, kernel_size=3, strides=(2, 2), padding=\"same\")(x)\n",
    "        x = BatchNormalization()(x)\n",
    "        x = Activation(\"relu\")(x)\n",
    "        \n",
    "        x = Conv2D(32, (3, 3), activation='relu', padding='same')(x)\n",
    "        x = Conv2D(1, (3, 3), activation='sigmoid', padding='same')(x)\n",
    "        \n",
    "        outputs = Reshape(input_shape)(x)\n",
    "        \n",
    "        decoder = Model([latent_inputs, label_inputs], outputs, name='decoder')\n",
    "        decoder.summary()\n",
    "        return decoder"
   ]
  },
  {
   "cell_type": "code",
   "execution_count": 7,
   "metadata": {},
   "outputs": [
    {
     "name": "stdout",
     "output_type": "stream",
     "text": [
      "Model: \"decoder\"\n",
      "__________________________________________________________________________________________________\n",
      "Layer (type)                    Output Shape         Param #     Connected to                     \n",
      "==================================================================================================\n",
      "z_sampling (InputLayer)         (None, 2)            0                                            \n",
      "__________________________________________________________________________________________________\n",
      "label (InputLayer)              (None, 3)            0                                            \n",
      "__________________________________________________________________________________________________\n",
      "concatenate_1 (Concatenate)     (None, 5)            0           z_sampling[0][0]                 \n",
      "                                                                 label[0][0]                      \n",
      "__________________________________________________________________________________________________\n",
      "dense_2 (Dense)                 (None, 128)          768         concatenate_1[0][0]              \n",
      "__________________________________________________________________________________________________\n",
      "dense_3 (Dense)                 (None, 512)          66048       dense_2[0][0]                    \n",
      "__________________________________________________________________________________________________\n",
      "reshape_1 (Reshape)             (None, 4, 4, 32)     0           dense_3[0][0]                    \n",
      "__________________________________________________________________________________________________\n",
      "dropout_7 (Dropout)             (None, 4, 4, 32)     0           reshape_1[0][0]                  \n",
      "__________________________________________________________________________________________________\n",
      "conv2d_transpose_1 (Conv2DTrans (None, 8, 8, 256)    73984       dropout_7[0][0]                  \n",
      "__________________________________________________________________________________________________\n",
      "batch_normalization_6 (BatchNor (None, 8, 8, 256)    1024        conv2d_transpose_1[0][0]         \n",
      "__________________________________________________________________________________________________\n",
      "activation_1 (Activation)       (None, 8, 8, 256)    0           batch_normalization_6[0][0]      \n",
      "__________________________________________________________________________________________________\n",
      "conv2d_transpose_2 (Conv2DTrans (None, 16, 16, 128)  295040      activation_1[0][0]               \n",
      "__________________________________________________________________________________________________\n",
      "batch_normalization_7 (BatchNor (None, 16, 16, 128)  512         conv2d_transpose_2[0][0]         \n",
      "__________________________________________________________________________________________________\n",
      "activation_2 (Activation)       (None, 16, 16, 128)  0           batch_normalization_7[0][0]      \n",
      "__________________________________________________________________________________________________\n",
      "conv2d_transpose_3 (Conv2DTrans (None, 32, 32, 64)   73792       activation_2[0][0]               \n",
      "__________________________________________________________________________________________________\n",
      "batch_normalization_8 (BatchNor (None, 32, 32, 64)   256         conv2d_transpose_3[0][0]         \n",
      "__________________________________________________________________________________________________\n",
      "activation_3 (Activation)       (None, 32, 32, 64)   0           batch_normalization_8[0][0]      \n",
      "__________________________________________________________________________________________________\n",
      "conv2d_transpose_4 (Conv2DTrans (None, 64, 64, 32)   18464       activation_3[0][0]               \n",
      "__________________________________________________________________________________________________\n",
      "batch_normalization_9 (BatchNor (None, 64, 64, 32)   128         conv2d_transpose_4[0][0]         \n",
      "__________________________________________________________________________________________________\n",
      "activation_4 (Activation)       (None, 64, 64, 32)   0           batch_normalization_9[0][0]      \n",
      "__________________________________________________________________________________________________\n",
      "conv2d_transpose_5 (Conv2DTrans (None, 128, 128, 16) 4624        activation_4[0][0]               \n",
      "__________________________________________________________________________________________________\n",
      "batch_normalization_10 (BatchNo (None, 128, 128, 16) 64          conv2d_transpose_5[0][0]         \n",
      "__________________________________________________________________________________________________\n",
      "activation_5 (Activation)       (None, 128, 128, 16) 0           batch_normalization_10[0][0]     \n",
      "__________________________________________________________________________________________________\n",
      "conv2d_7 (Conv2D)               (None, 128, 128, 32) 4640        activation_5[0][0]               \n",
      "__________________________________________________________________________________________________\n",
      "conv2d_8 (Conv2D)               (None, 128, 128, 1)  289         conv2d_7[0][0]                   \n",
      "__________________________________________________________________________________________________\n",
      "reshape_2 (Reshape)             (None, 128, 128, 1)  0           conv2d_8[0][0]                   \n",
      "==================================================================================================\n",
      "Total params: 539,633\n",
      "Trainable params: 538,641\n",
      "Non-trainable params: 992\n",
      "__________________________________________________________________________________________________\n"
     ]
    },
    {
     "data": {
      "text/plain": [
       "<keras.engine.training.Model at 0x224f849a208>"
      ]
     },
     "execution_count": 7,
     "metadata": {},
     "output_type": "execute_result"
    }
   ],
   "source": [
    "build_decoder(input_shape=(128, 128, 1))"
   ]
  },
  {
   "cell_type": "code",
   "execution_count": 8,
   "metadata": {},
   "outputs": [
    {
     "name": "stdout",
     "output_type": "stream",
     "text": [
      "Model: \"encoder\"\n",
      "__________________________________________________________________________________________________\n",
      "Layer (type)                    Output Shape         Param #     Connected to                     \n",
      "==================================================================================================\n",
      "input_2 (InputLayer)            (None, 128, 128, 1)  0                                            \n",
      "__________________________________________________________________________________________________\n",
      "conv2d_9 (Conv2D)               (None, 64, 64, 32)   320         input_2[0][0]                    \n",
      "__________________________________________________________________________________________________\n",
      "leaky_re_lu_8 (LeakyReLU)       (None, 64, 64, 32)   0           conv2d_9[0][0]                   \n",
      "__________________________________________________________________________________________________\n",
      "dropout_8 (Dropout)             (None, 64, 64, 32)   0           leaky_re_lu_8[0][0]              \n",
      "__________________________________________________________________________________________________\n",
      "conv2d_10 (Conv2D)              (None, 32, 32, 64)   18496       dropout_8[0][0]                  \n",
      "__________________________________________________________________________________________________\n",
      "batch_normalization_11 (BatchNo (None, 32, 32, 64)   256         conv2d_10[0][0]                  \n",
      "__________________________________________________________________________________________________\n",
      "leaky_re_lu_9 (LeakyReLU)       (None, 32, 32, 64)   0           batch_normalization_11[0][0]     \n",
      "__________________________________________________________________________________________________\n",
      "dropout_9 (Dropout)             (None, 32, 32, 64)   0           leaky_re_lu_9[0][0]              \n",
      "__________________________________________________________________________________________________\n",
      "conv2d_11 (Conv2D)              (None, 16, 16, 128)  73856       dropout_9[0][0]                  \n",
      "__________________________________________________________________________________________________\n",
      "batch_normalization_12 (BatchNo (None, 16, 16, 128)  512         conv2d_11[0][0]                  \n",
      "__________________________________________________________________________________________________\n",
      "leaky_re_lu_10 (LeakyReLU)      (None, 16, 16, 128)  0           batch_normalization_12[0][0]     \n",
      "__________________________________________________________________________________________________\n",
      "dropout_10 (Dropout)            (None, 16, 16, 128)  0           leaky_re_lu_10[0][0]             \n",
      "__________________________________________________________________________________________________\n",
      "conv2d_12 (Conv2D)              (None, 8, 8, 256)    295168      dropout_10[0][0]                 \n",
      "__________________________________________________________________________________________________\n",
      "batch_normalization_13 (BatchNo (None, 8, 8, 256)    1024        conv2d_12[0][0]                  \n",
      "__________________________________________________________________________________________________\n",
      "leaky_re_lu_11 (LeakyReLU)      (None, 8, 8, 256)    0           batch_normalization_13[0][0]     \n",
      "__________________________________________________________________________________________________\n",
      "dropout_11 (Dropout)            (None, 8, 8, 256)    0           leaky_re_lu_11[0][0]             \n",
      "__________________________________________________________________________________________________\n",
      "conv2d_13 (Conv2D)              (None, 4, 4, 512)    1180160     dropout_11[0][0]                 \n",
      "__________________________________________________________________________________________________\n",
      "batch_normalization_14 (BatchNo (None, 4, 4, 512)    2048        conv2d_13[0][0]                  \n",
      "__________________________________________________________________________________________________\n",
      "leaky_re_lu_12 (LeakyReLU)      (None, 4, 4, 512)    0           batch_normalization_14[0][0]     \n",
      "__________________________________________________________________________________________________\n",
      "dropout_12 (Dropout)            (None, 4, 4, 512)    0           leaky_re_lu_12[0][0]             \n",
      "__________________________________________________________________________________________________\n",
      "conv2d_14 (Conv2D)              (None, 2, 2, 1024)   4719616     dropout_12[0][0]                 \n",
      "__________________________________________________________________________________________________\n",
      "batch_normalization_15 (BatchNo (None, 2, 2, 1024)   4096        conv2d_14[0][0]                  \n",
      "__________________________________________________________________________________________________\n",
      "leaky_re_lu_13 (LeakyReLU)      (None, 2, 2, 1024)   0           batch_normalization_15[0][0]     \n",
      "__________________________________________________________________________________________________\n",
      "dropout_13 (Dropout)            (None, 2, 2, 1024)   0           leaky_re_lu_13[0][0]             \n",
      "__________________________________________________________________________________________________\n",
      "flatten_2 (Flatten)             (None, 4096)         0           dropout_13[0][0]                 \n",
      "__________________________________________________________________________________________________\n",
      "dense_4 (Dense)                 (None, 1024)         4195328     flatten_2[0][0]                  \n",
      "__________________________________________________________________________________________________\n",
      "leaky_re_lu_14 (LeakyReLU)      (None, 1024)         0           dense_4[0][0]                    \n",
      "__________________________________________________________________________________________________\n",
      "mean (Dense)                    (None, 2)            2050        leaky_re_lu_14[0][0]             \n",
      "__________________________________________________________________________________________________\n",
      "log-variance (Dense)            (None, 2)            2050        leaky_re_lu_14[0][0]             \n",
      "__________________________________________________________________________________________________\n",
      "lambda_2 (Lambda)               (None, 2)            0           mean[0][0]                       \n",
      "                                                                 log-variance[0][0]               \n",
      "==================================================================================================\n",
      "Total params: 10,494,980\n",
      "Trainable params: 10,491,012\n",
      "Non-trainable params: 3,968\n",
      "__________________________________________________________________________________________________\n",
      "Model: \"decoder\"\n",
      "__________________________________________________________________________________________________\n",
      "Layer (type)                    Output Shape         Param #     Connected to                     \n",
      "==================================================================================================\n",
      "z_sampling (InputLayer)         (None, 2)            0                                            \n",
      "__________________________________________________________________________________________________\n",
      "label (InputLayer)              (None, 3)            0                                            \n",
      "__________________________________________________________________________________________________\n",
      "concatenate_2 (Concatenate)     (None, 5)            0           z_sampling[0][0]                 \n",
      "                                                                 label[0][0]                      \n",
      "__________________________________________________________________________________________________\n",
      "dense_5 (Dense)                 (None, 128)          768         concatenate_2[0][0]              \n",
      "__________________________________________________________________________________________________\n",
      "dense_6 (Dense)                 (None, 512)          66048       dense_5[0][0]                    \n",
      "__________________________________________________________________________________________________\n",
      "reshape_3 (Reshape)             (None, 4, 4, 32)     0           dense_6[0][0]                    \n",
      "__________________________________________________________________________________________________\n",
      "dropout_14 (Dropout)            (None, 4, 4, 32)     0           reshape_3[0][0]                  \n",
      "__________________________________________________________________________________________________\n",
      "conv2d_transpose_6 (Conv2DTrans (None, 8, 8, 256)    73984       dropout_14[0][0]                 \n",
      "__________________________________________________________________________________________________\n",
      "batch_normalization_16 (BatchNo (None, 8, 8, 256)    1024        conv2d_transpose_6[0][0]         \n",
      "__________________________________________________________________________________________________\n",
      "activation_6 (Activation)       (None, 8, 8, 256)    0           batch_normalization_16[0][0]     \n",
      "__________________________________________________________________________________________________\n",
      "conv2d_transpose_7 (Conv2DTrans (None, 16, 16, 128)  295040      activation_6[0][0]               \n",
      "__________________________________________________________________________________________________\n",
      "batch_normalization_17 (BatchNo (None, 16, 16, 128)  512         conv2d_transpose_7[0][0]         \n",
      "__________________________________________________________________________________________________\n",
      "activation_7 (Activation)       (None, 16, 16, 128)  0           batch_normalization_17[0][0]     \n",
      "__________________________________________________________________________________________________\n",
      "conv2d_transpose_8 (Conv2DTrans (None, 32, 32, 64)   73792       activation_7[0][0]               \n",
      "__________________________________________________________________________________________________\n",
      "batch_normalization_18 (BatchNo (None, 32, 32, 64)   256         conv2d_transpose_8[0][0]         \n",
      "__________________________________________________________________________________________________\n",
      "activation_8 (Activation)       (None, 32, 32, 64)   0           batch_normalization_18[0][0]     \n",
      "__________________________________________________________________________________________________\n",
      "conv2d_transpose_9 (Conv2DTrans (None, 64, 64, 32)   18464       activation_8[0][0]               \n",
      "__________________________________________________________________________________________________\n",
      "batch_normalization_19 (BatchNo (None, 64, 64, 32)   128         conv2d_transpose_9[0][0]         \n",
      "__________________________________________________________________________________________________\n",
      "activation_9 (Activation)       (None, 64, 64, 32)   0           batch_normalization_19[0][0]     \n",
      "__________________________________________________________________________________________________\n",
      "conv2d_transpose_10 (Conv2DTran (None, 128, 128, 16) 4624        activation_9[0][0]               \n",
      "__________________________________________________________________________________________________\n",
      "batch_normalization_20 (BatchNo (None, 128, 128, 16) 64          conv2d_transpose_10[0][0]        \n",
      "__________________________________________________________________________________________________\n",
      "activation_10 (Activation)      (None, 128, 128, 16) 0           batch_normalization_20[0][0]     \n",
      "__________________________________________________________________________________________________\n",
      "conv2d_15 (Conv2D)              (None, 128, 128, 32) 4640        activation_10[0][0]              \n",
      "__________________________________________________________________________________________________\n",
      "conv2d_16 (Conv2D)              (None, 128, 128, 1)  289         conv2d_15[0][0]                  \n",
      "__________________________________________________________________________________________________\n",
      "reshape_4 (Reshape)             (None, 128, 128, 1)  0           conv2d_16[0][0]                  \n",
      "==================================================================================================\n",
      "Total params: 539,633\n",
      "Trainable params: 538,641\n",
      "Non-trainable params: 992\n",
      "__________________________________________________________________________________________________\n"
     ]
    },
    {
     "name": "stdout",
     "output_type": "stream",
     "text": [
      "Model: \"vae_mlp\"\n",
      "__________________________________________________________________________________________________\n",
      "Layer (type)                    Output Shape         Param #     Connected to                     \n",
      "==================================================================================================\n",
      "input_3 (InputLayer)            (None, 128, 128, 1)  0                                            \n",
      "__________________________________________________________________________________________________\n",
      "encoder (Model)                 [(None, 2), (None, 2 10494980    input_3[0][0]                    \n",
      "__________________________________________________________________________________________________\n",
      "label (InputLayer)              (None, 3)            0                                            \n",
      "__________________________________________________________________________________________________\n",
      "decoder (Model)                 (None, 128, 128, 1)  539633      encoder[1][2]                    \n",
      "                                                                 label[0][0]                      \n",
      "==================================================================================================\n",
      "Total params: 11,034,613\n",
      "Trainable params: 11,029,653\n",
      "Non-trainable params: 4,960\n",
      "__________________________________________________________________________________________________\n"
     ]
    }
   ],
   "source": [
    "def vae_loss(x: tf.Tensor, x_decoded_mean: tf.Tensor,\n",
    "                z_log_var=z_log_var, z_mean=z_mean,\n",
    "                original_dim=original_dim):\n",
    "                xent_loss = original_dim * metrics.binary_crossentropy(x, x_decoded_mean)\n",
    "                kl_loss = - 0.5 * K.sum(\n",
    "                    1 + z_log_var - K.square(z_mean) - K.exp(z_log_var), axis=-1)\n",
    "                vae_loss = K.mean(xent_loss + kl_loss)\n",
    "                return vae_loss\n",
    "            \n",
    "def build_vae(encoder, decoder, input_shape):\n",
    "        inputs = Input(shape=input_shape)\n",
    "        label_inputs = Input(shape=(classes,), name='label')\n",
    "        z_mean, z_log_var, z = encoder(inputs)\n",
    "#         outputs = decoder(z)\n",
    "#         vae = Model(inputs, outputs, name='vae_mlp')\n",
    "        outputs = decoder([z, label_inputs])\n",
    "        vae = Model([inputs, label_inputs], outputs, name='vae_mlp')\n",
    "        \n",
    "#         z_mean = encoder(inputs)[0]\n",
    "#         z_log_var = encoder(inputs)[1]\n",
    "        \n",
    "#         reconstruction_loss = mse(inputs, outputs)\n",
    "#         reconstruction_loss *= original_dim\n",
    "#         kl_loss = 1 + z_log_var - K.square(z_mean) - K.exp(z_log_var)\n",
    "#         kl_loss = K.sum(kl_loss, axis=-1)\n",
    "#         kl_loss *= -0.5\n",
    "#         vae_loss = K.mean(reconstruction_loss + kl_loss)\n",
    "#         vae.add_loss(vae_loss)\n",
    "        vae.compile(optimizer='adam', loss=vae_loss)\n",
    "        vae.summary()\n",
    "        return vae\n",
    "\n",
    "input_shape = (128, 128, 1)\n",
    "encoder = build_encoder(input_shape=input_shape)\n",
    "decoder = build_decoder(input_shape=input_shape)\n",
    "vae = build_vae(encoder, decoder, input_shape)"
   ]
  },
  {
   "cell_type": "code",
   "execution_count": 9,
   "metadata": {},
   "outputs": [
    {
     "name": "stdout",
     "output_type": "stream",
     "text": [
      "Model: \"vae_mlp\"\n",
      "__________________________________________________________________________________________________\n",
      "Layer (type)                    Output Shape         Param #     Connected to                     \n",
      "==================================================================================================\n",
      "input_3 (InputLayer)            (None, 128, 128, 1)  0                                            \n",
      "__________________________________________________________________________________________________\n",
      "encoder (Model)                 [(None, 2), (None, 2 10494980    input_3[0][0]                    \n",
      "__________________________________________________________________________________________________\n",
      "label (InputLayer)              (None, 3)            0                                            \n",
      "__________________________________________________________________________________________________\n",
      "decoder (Model)                 (None, 128, 128, 1)  539633      encoder[1][2]                    \n",
      "                                                                 label[0][0]                      \n",
      "==================================================================================================\n",
      "Total params: 11,034,613\n",
      "Trainable params: 11,029,653\n",
      "Non-trainable params: 4,960\n",
      "__________________________________________________________________________________________________\n"
     ]
    }
   ],
   "source": [
    "vae.summary()"
   ]
  },
  {
   "cell_type": "code",
   "execution_count": 10,
   "metadata": {},
   "outputs": [
    {
     "data": {
      "text/html": [
       "<div>\n",
       "<style scoped>\n",
       "    .dataframe tbody tr th:only-of-type {\n",
       "        vertical-align: middle;\n",
       "    }\n",
       "\n",
       "    .dataframe tbody tr th {\n",
       "        vertical-align: top;\n",
       "    }\n",
       "\n",
       "    .dataframe thead th {\n",
       "        text-align: right;\n",
       "    }\n",
       "</style>\n",
       "<table border=\"1\" class=\"dataframe\">\n",
       "  <thead>\n",
       "    <tr style=\"text-align: right;\">\n",
       "      <th></th>\n",
       "      <th>Path</th>\n",
       "      <th>State</th>\n",
       "      <th>Class</th>\n",
       "      <th>source</th>\n",
       "      <th>tooth_num</th>\n",
       "      <th>angle</th>\n",
       "    </tr>\n",
       "  </thead>\n",
       "  <tbody>\n",
       "    <tr>\n",
       "      <th>0</th>\n",
       "      <td>Dental_Data/PBL/10_20200901/15-53-19-666_00040...</td>\n",
       "      <td>3</td>\n",
       "      <td>2</td>\n",
       "      <td>NN_191024_151631_BE78BA_2</td>\n",
       "      <td>2</td>\n",
       "      <td>-10</td>\n",
       "    </tr>\n",
       "    <tr>\n",
       "      <th>1</th>\n",
       "      <td>Dental_Data/PBL/10_20200901_Flip/15-53-19-666_...</td>\n",
       "      <td>3</td>\n",
       "      <td>2</td>\n",
       "      <td>NN_191024_151631_BE78BA_2</td>\n",
       "      <td>2</td>\n",
       "      <td>-10</td>\n",
       "    </tr>\n",
       "    <tr>\n",
       "      <th>2</th>\n",
       "      <td>Dental_Data/PBL/10_clahe_20200901/16-31-09-808...</td>\n",
       "      <td>3</td>\n",
       "      <td>2</td>\n",
       "      <td>NN_191024_151631_BE78BA_2</td>\n",
       "      <td>2</td>\n",
       "      <td>-10</td>\n",
       "    </tr>\n",
       "    <tr>\n",
       "      <th>3</th>\n",
       "      <td>Dental_Data/PBL/10_clahe_20200901_Flip/16-31-0...</td>\n",
       "      <td>3</td>\n",
       "      <td>2</td>\n",
       "      <td>NN_191024_151631_BE78BA_2</td>\n",
       "      <td>2</td>\n",
       "      <td>-10</td>\n",
       "    </tr>\n",
       "    <tr>\n",
       "      <th>4</th>\n",
       "      <td>Dental_Data/PBL/10_20200901/15-53-19-697_00040...</td>\n",
       "      <td>3</td>\n",
       "      <td>2</td>\n",
       "      <td>NN_191024_151631_BE78BA_2</td>\n",
       "      <td>2</td>\n",
       "      <td>-9</td>\n",
       "    </tr>\n",
       "    <tr>\n",
       "      <th>...</th>\n",
       "      <td>...</td>\n",
       "      <td>...</td>\n",
       "      <td>...</td>\n",
       "      <td>...</td>\n",
       "      <td>...</td>\n",
       "      <td>...</td>\n",
       "    </tr>\n",
       "    <tr>\n",
       "      <th>106475</th>\n",
       "      <td>Dental_Data/PBL/10_clahe_20200901_Flip/17-03-1...</td>\n",
       "      <td>1</td>\n",
       "      <td>0</td>\n",
       "      <td>NN_140521_095055_C0A4EA_19</td>\n",
       "      <td>19</td>\n",
       "      <td>8</td>\n",
       "    </tr>\n",
       "    <tr>\n",
       "      <th>106476</th>\n",
       "      <td>Dental_Data/PBL/10_20200901/16-30-47-021_S4210...</td>\n",
       "      <td>1</td>\n",
       "      <td>0</td>\n",
       "      <td>NN_140521_095055_C0A4EA_19</td>\n",
       "      <td>19</td>\n",
       "      <td>9</td>\n",
       "    </tr>\n",
       "    <tr>\n",
       "      <th>106477</th>\n",
       "      <td>Dental_Data/PBL/10_20200901_Flip/16-30-47-021_...</td>\n",
       "      <td>1</td>\n",
       "      <td>0</td>\n",
       "      <td>NN_140521_095055_C0A4EA_19</td>\n",
       "      <td>19</td>\n",
       "      <td>9</td>\n",
       "    </tr>\n",
       "    <tr>\n",
       "      <th>106478</th>\n",
       "      <td>Dental_Data/PBL/10_clahe_20200901/17-03-16-474...</td>\n",
       "      <td>1</td>\n",
       "      <td>0</td>\n",
       "      <td>NN_140521_095055_C0A4EA_19</td>\n",
       "      <td>19</td>\n",
       "      <td>9</td>\n",
       "    </tr>\n",
       "    <tr>\n",
       "      <th>106479</th>\n",
       "      <td>Dental_Data/PBL/10_clahe_20200901_Flip/17-03-1...</td>\n",
       "      <td>1</td>\n",
       "      <td>0</td>\n",
       "      <td>NN_140521_095055_C0A4EA_19</td>\n",
       "      <td>19</td>\n",
       "      <td>9</td>\n",
       "    </tr>\n",
       "  </tbody>\n",
       "</table>\n",
       "<p>106480 rows × 6 columns</p>\n",
       "</div>"
      ],
      "text/plain": [
       "                                                     Path  State  Class  \\\n",
       "0       Dental_Data/PBL/10_20200901/15-53-19-666_00040...      3      2   \n",
       "1       Dental_Data/PBL/10_20200901_Flip/15-53-19-666_...      3      2   \n",
       "2       Dental_Data/PBL/10_clahe_20200901/16-31-09-808...      3      2   \n",
       "3       Dental_Data/PBL/10_clahe_20200901_Flip/16-31-0...      3      2   \n",
       "4       Dental_Data/PBL/10_20200901/15-53-19-697_00040...      3      2   \n",
       "...                                                   ...    ...    ...   \n",
       "106475  Dental_Data/PBL/10_clahe_20200901_Flip/17-03-1...      1      0   \n",
       "106476  Dental_Data/PBL/10_20200901/16-30-47-021_S4210...      1      0   \n",
       "106477  Dental_Data/PBL/10_20200901_Flip/16-30-47-021_...      1      0   \n",
       "106478  Dental_Data/PBL/10_clahe_20200901/17-03-16-474...      1      0   \n",
       "106479  Dental_Data/PBL/10_clahe_20200901_Flip/17-03-1...      1      0   \n",
       "\n",
       "                            source  tooth_num  angle  \n",
       "0        NN_191024_151631_BE78BA_2          2    -10  \n",
       "1        NN_191024_151631_BE78BA_2          2    -10  \n",
       "2        NN_191024_151631_BE78BA_2          2    -10  \n",
       "3        NN_191024_151631_BE78BA_2          2    -10  \n",
       "4        NN_191024_151631_BE78BA_2          2     -9  \n",
       "...                            ...        ...    ...  \n",
       "106475  NN_140521_095055_C0A4EA_19         19      8  \n",
       "106476  NN_140521_095055_C0A4EA_19         19      9  \n",
       "106477  NN_140521_095055_C0A4EA_19         19      9  \n",
       "106478  NN_140521_095055_C0A4EA_19         19      9  \n",
       "106479  NN_140521_095055_C0A4EA_19         19      9  \n",
       "\n",
       "[106480 rows x 6 columns]"
      ]
     },
     "execution_count": 10,
     "metadata": {},
     "output_type": "execute_result"
    }
   ],
   "source": [
    "# dir_path = \"10_20200901_Original\"\n",
    "\n",
    "# mapping_data = json.load(open(f\"Dental_Data/PBL/{dir_path}/mapping.json\", \"r\"))\n",
    "# filter_data = { path: max(list(map(int, state))) for path, state in mapping_data.items() if max(list(map(int, state))) >= 0 }\n",
    "\n",
    "from Dental_Tool.Data_processing import *\n",
    "from Dental_Tool.Dental_Model import *\n",
    "from Dental_Tool.Process_results import *\n",
    "from Dental_Tool.Dataloader import *\n",
    "from Dental_Tool.KFold_v3 import *\n",
    "\n",
    "directory = [ \n",
    "                \"Dental_Data/PBL/10_20200901\", \n",
    "                \"Dental_Data/PBL/10_20200901_Flip\", \n",
    "                \"Dental_Data/PBL/10_clahe_20200901\", \n",
    "                \"Dental_Data/PBL/10_clahe_20200901_Flip\"\n",
    "            ]\n",
    "\n",
    "directory = [ i + \"/mapping.json\" for i in directory]\n",
    "argscale_num = len(directory) * 20\n",
    "\n",
    "\n",
    "\n",
    "data = load_json(directory, interdental=False)\n",
    "dataset = json_2_dataframe_PBL(data, mode=\"molar\")\n",
    "dataset\n",
    "# dataset = pd.DataFrame(columns=PBL_Columns)\n",
    "# dataset = json_2_dataframe_PBL(dataset, filter_data, mode=\"premolar\")\n",
    "\n",
    "# severe = dataset[dataset[\"Class\"] == 2]\n",
    "# severe"
   ]
  },
  {
   "cell_type": "code",
   "execution_count": 11,
   "metadata": {
    "scrolled": true
   },
   "outputs": [
    {
     "name": "stdout",
     "output_type": "stream",
     "text": [
      "stage 0: 10400, stage 1: 27120, stage 2: 17360, stage 3: 8640\n",
      "stage 0: 3600, stage 1: 9120, stage 2: 5680, stage 3: 2880\n",
      "stage 0: 3520, stage 1: 9200, stage 2: 5840, stage 3: 3120\n"
     ]
    },
    {
     "data": {
      "application/vnd.jupyter.widget-view+json": {
       "model_id": "4b3fe86347864e47823acebeb8433b06",
       "version_major": 2,
       "version_minor": 0
      },
      "text/plain": [
       "HBox(children=(HTML(value=''), FloatProgress(value=0.0, max=25920.0), HTML(value='')))"
      ]
     },
     "metadata": {},
     "output_type": "display_data"
    },
    {
     "name": "stdout",
     "output_type": "stream",
     "text": [
      "\n"
     ]
    },
    {
     "data": {
      "application/vnd.jupyter.widget-view+json": {
       "model_id": "0470895dc700410089b0a41bc3bd8cea",
       "version_major": 2,
       "version_minor": 0
      },
      "text/plain": [
       "HBox(children=(HTML(value=''), FloatProgress(value=0.0, max=8640.0), HTML(value='')))"
      ]
     },
     "metadata": {},
     "output_type": "display_data"
    },
    {
     "name": "stdout",
     "output_type": "stream",
     "text": [
      "\n"
     ]
    },
    {
     "data": {
      "application/vnd.jupyter.widget-view+json": {
       "model_id": "7c0038dccbaa401993b72c4ff76d1943",
       "version_major": 2,
       "version_minor": 0
      },
      "text/plain": [
       "HBox(children=(HTML(value=''), FloatProgress(value=0.0, max=9360.0), HTML(value='')))"
      ]
     },
     "metadata": {},
     "output_type": "display_data"
    },
    {
     "name": "stdout",
     "output_type": "stream",
     "text": [
      "\n",
      "(25920, 128, 128, 1)\n",
      "(25920, 3)\n",
      "Train on 25920 samples, validate on 8640 samples\n",
      "Epoch 1/50\n"
     ]
    },
    {
     "ename": "InvalidArgumentError",
     "evalue": "2 root error(s) found.\n  (0) Invalid argument:  You must feed a value for placeholder tensor 'input_1' with dtype float and shape [?,128,128,1]\n\t [[node input_1 (defined at C:\\Users\\Lab620\\Anaconda3\\envs\\lawrence\\lib\\site-packages\\tensorflow_core\\python\\framework\\ops.py:1751) ]]\n  (1) Invalid argument:  You must feed a value for placeholder tensor 'input_1' with dtype float and shape [?,128,128,1]\n\t [[node input_1 (defined at C:\\Users\\Lab620\\Anaconda3\\envs\\lawrence\\lib\\site-packages\\tensorflow_core\\python\\framework\\ops.py:1751) ]]\n\t [[gradients/loss/decoder_loss/vae_loss/weighted_loss/mul_grad/Shape/_181]]\n0 successful operations.\n0 derived errors ignored. [Op:__inference_keras_scratch_graph_17079]\n\nFunction call stack:\nkeras_scratch_graph -> keras_scratch_graph\n",
     "output_type": "error",
     "traceback": [
      "\u001b[1;31m---------------------------------------------------------------------------\u001b[0m",
      "\u001b[1;31mInvalidArgumentError\u001b[0m                      Traceback (most recent call last)",
      "\u001b[1;32m<ipython-input-11-70022f1faef6>\u001b[0m in \u001b[0;36m<module>\u001b[1;34m\u001b[0m\n\u001b[0;32m     23\u001b[0m                  \u001b[0mepochs\u001b[0m\u001b[1;33m=\u001b[0m\u001b[0mepochs\u001b[0m\u001b[1;33m,\u001b[0m\u001b[1;33m\u001b[0m\u001b[1;33m\u001b[0m\u001b[0m\n\u001b[0;32m     24\u001b[0m                  \u001b[0mbatch_size\u001b[0m\u001b[1;33m=\u001b[0m\u001b[0mbatch_size\u001b[0m\u001b[1;33m,\u001b[0m\u001b[0mvalidation_data\u001b[0m\u001b[1;33m=\u001b[0m\u001b[1;33m(\u001b[0m\u001b[1;33m[\u001b[0m\u001b[0mx_valid\u001b[0m\u001b[1;33m,\u001b[0m \u001b[0my_valid\u001b[0m\u001b[1;33m]\u001b[0m\u001b[1;33m,\u001b[0m \u001b[1;32mNone\u001b[0m\u001b[1;33m)\u001b[0m\u001b[1;33m,\u001b[0m\u001b[1;33m\u001b[0m\u001b[1;33m\u001b[0m\u001b[0m\n\u001b[1;32m---> 25\u001b[1;33m                  verbose=2)\n\u001b[0m",
      "\u001b[1;32m~\\Anaconda3\\envs\\lawrence\\lib\\site-packages\\keras\\engine\\training.py\u001b[0m in \u001b[0;36mfit\u001b[1;34m(self, x, y, batch_size, epochs, verbose, callbacks, validation_split, validation_data, shuffle, class_weight, sample_weight, initial_epoch, steps_per_epoch, validation_steps, validation_freq, max_queue_size, workers, use_multiprocessing, **kwargs)\u001b[0m\n\u001b[0;32m   1237\u001b[0m                                         \u001b[0msteps_per_epoch\u001b[0m\u001b[1;33m=\u001b[0m\u001b[0msteps_per_epoch\u001b[0m\u001b[1;33m,\u001b[0m\u001b[1;33m\u001b[0m\u001b[1;33m\u001b[0m\u001b[0m\n\u001b[0;32m   1238\u001b[0m                                         \u001b[0mvalidation_steps\u001b[0m\u001b[1;33m=\u001b[0m\u001b[0mvalidation_steps\u001b[0m\u001b[1;33m,\u001b[0m\u001b[1;33m\u001b[0m\u001b[1;33m\u001b[0m\u001b[0m\n\u001b[1;32m-> 1239\u001b[1;33m                                         validation_freq=validation_freq)\n\u001b[0m\u001b[0;32m   1240\u001b[0m \u001b[1;33m\u001b[0m\u001b[0m\n\u001b[0;32m   1241\u001b[0m     def evaluate(self,\n",
      "\u001b[1;32m~\\Anaconda3\\envs\\lawrence\\lib\\site-packages\\keras\\engine\\training_arrays.py\u001b[0m in \u001b[0;36mfit_loop\u001b[1;34m(model, fit_function, fit_inputs, out_labels, batch_size, epochs, verbose, callbacks, val_function, val_inputs, shuffle, initial_epoch, steps_per_epoch, validation_steps, validation_freq)\u001b[0m\n\u001b[0;32m    194\u001b[0m                     \u001b[0mins_batch\u001b[0m\u001b[1;33m[\u001b[0m\u001b[0mi\u001b[0m\u001b[1;33m]\u001b[0m \u001b[1;33m=\u001b[0m \u001b[0mins_batch\u001b[0m\u001b[1;33m[\u001b[0m\u001b[0mi\u001b[0m\u001b[1;33m]\u001b[0m\u001b[1;33m.\u001b[0m\u001b[0mtoarray\u001b[0m\u001b[1;33m(\u001b[0m\u001b[1;33m)\u001b[0m\u001b[1;33m\u001b[0m\u001b[1;33m\u001b[0m\u001b[0m\n\u001b[0;32m    195\u001b[0m \u001b[1;33m\u001b[0m\u001b[0m\n\u001b[1;32m--> 196\u001b[1;33m                 \u001b[0mouts\u001b[0m \u001b[1;33m=\u001b[0m \u001b[0mfit_function\u001b[0m\u001b[1;33m(\u001b[0m\u001b[0mins_batch\u001b[0m\u001b[1;33m)\u001b[0m\u001b[1;33m\u001b[0m\u001b[1;33m\u001b[0m\u001b[0m\n\u001b[0m\u001b[0;32m    197\u001b[0m                 \u001b[0mouts\u001b[0m \u001b[1;33m=\u001b[0m \u001b[0mto_list\u001b[0m\u001b[1;33m(\u001b[0m\u001b[0mouts\u001b[0m\u001b[1;33m)\u001b[0m\u001b[1;33m\u001b[0m\u001b[1;33m\u001b[0m\u001b[0m\n\u001b[0;32m    198\u001b[0m                 \u001b[1;32mfor\u001b[0m \u001b[0ml\u001b[0m\u001b[1;33m,\u001b[0m \u001b[0mo\u001b[0m \u001b[1;32min\u001b[0m \u001b[0mzip\u001b[0m\u001b[1;33m(\u001b[0m\u001b[0mout_labels\u001b[0m\u001b[1;33m,\u001b[0m \u001b[0mouts\u001b[0m\u001b[1;33m)\u001b[0m\u001b[1;33m:\u001b[0m\u001b[1;33m\u001b[0m\u001b[1;33m\u001b[0m\u001b[0m\n",
      "\u001b[1;32m~\\Anaconda3\\envs\\lawrence\\lib\\site-packages\\tensorflow_core\\python\\keras\\backend.py\u001b[0m in \u001b[0;36m__call__\u001b[1;34m(self, inputs)\u001b[0m\n\u001b[0;32m   3738\u001b[0m         \u001b[0mvalue\u001b[0m \u001b[1;33m=\u001b[0m \u001b[0mmath_ops\u001b[0m\u001b[1;33m.\u001b[0m\u001b[0mcast\u001b[0m\u001b[1;33m(\u001b[0m\u001b[0mvalue\u001b[0m\u001b[1;33m,\u001b[0m \u001b[0mtensor\u001b[0m\u001b[1;33m.\u001b[0m\u001b[0mdtype\u001b[0m\u001b[1;33m)\u001b[0m\u001b[1;33m\u001b[0m\u001b[1;33m\u001b[0m\u001b[0m\n\u001b[0;32m   3739\u001b[0m       \u001b[0mconverted_inputs\u001b[0m\u001b[1;33m.\u001b[0m\u001b[0mappend\u001b[0m\u001b[1;33m(\u001b[0m\u001b[0mvalue\u001b[0m\u001b[1;33m)\u001b[0m\u001b[1;33m\u001b[0m\u001b[1;33m\u001b[0m\u001b[0m\n\u001b[1;32m-> 3740\u001b[1;33m     \u001b[0moutputs\u001b[0m \u001b[1;33m=\u001b[0m \u001b[0mself\u001b[0m\u001b[1;33m.\u001b[0m\u001b[0m_graph_fn\u001b[0m\u001b[1;33m(\u001b[0m\u001b[1;33m*\u001b[0m\u001b[0mconverted_inputs\u001b[0m\u001b[1;33m)\u001b[0m\u001b[1;33m\u001b[0m\u001b[1;33m\u001b[0m\u001b[0m\n\u001b[0m\u001b[0;32m   3741\u001b[0m \u001b[1;33m\u001b[0m\u001b[0m\n\u001b[0;32m   3742\u001b[0m     \u001b[1;31m# EagerTensor.numpy() will often make a copy to ensure memory safety.\u001b[0m\u001b[1;33m\u001b[0m\u001b[1;33m\u001b[0m\u001b[1;33m\u001b[0m\u001b[0m\n",
      "\u001b[1;32m~\\Anaconda3\\envs\\lawrence\\lib\\site-packages\\tensorflow_core\\python\\eager\\function.py\u001b[0m in \u001b[0;36m__call__\u001b[1;34m(self, *args, **kwargs)\u001b[0m\n\u001b[0;32m   1079\u001b[0m       \u001b[0mTypeError\u001b[0m\u001b[1;33m:\u001b[0m \u001b[0mFor\u001b[0m \u001b[0minvalid\u001b[0m \u001b[0mpositional\u001b[0m\u001b[1;33m/\u001b[0m\u001b[0mkeyword\u001b[0m \u001b[0margument\u001b[0m \u001b[0mcombinations\u001b[0m\u001b[1;33m.\u001b[0m\u001b[1;33m\u001b[0m\u001b[1;33m\u001b[0m\u001b[0m\n\u001b[0;32m   1080\u001b[0m     \"\"\"\n\u001b[1;32m-> 1081\u001b[1;33m     \u001b[1;32mreturn\u001b[0m \u001b[0mself\u001b[0m\u001b[1;33m.\u001b[0m\u001b[0m_call_impl\u001b[0m\u001b[1;33m(\u001b[0m\u001b[0margs\u001b[0m\u001b[1;33m,\u001b[0m \u001b[0mkwargs\u001b[0m\u001b[1;33m)\u001b[0m\u001b[1;33m\u001b[0m\u001b[1;33m\u001b[0m\u001b[0m\n\u001b[0m\u001b[0;32m   1082\u001b[0m \u001b[1;33m\u001b[0m\u001b[0m\n\u001b[0;32m   1083\u001b[0m   \u001b[1;32mdef\u001b[0m \u001b[0m_call_impl\u001b[0m\u001b[1;33m(\u001b[0m\u001b[0mself\u001b[0m\u001b[1;33m,\u001b[0m \u001b[0margs\u001b[0m\u001b[1;33m,\u001b[0m \u001b[0mkwargs\u001b[0m\u001b[1;33m,\u001b[0m \u001b[0mcancellation_manager\u001b[0m\u001b[1;33m=\u001b[0m\u001b[1;32mNone\u001b[0m\u001b[1;33m)\u001b[0m\u001b[1;33m:\u001b[0m\u001b[1;33m\u001b[0m\u001b[1;33m\u001b[0m\u001b[0m\n",
      "\u001b[1;32m~\\Anaconda3\\envs\\lawrence\\lib\\site-packages\\tensorflow_core\\python\\eager\\function.py\u001b[0m in \u001b[0;36m_call_impl\u001b[1;34m(self, args, kwargs, cancellation_manager)\u001b[0m\n\u001b[0;32m   1119\u001b[0m       raise TypeError(\"Keyword arguments {} unknown. Expected {}.\".format(\n\u001b[0;32m   1120\u001b[0m           list(kwargs.keys()), list(self._arg_keywords)))\n\u001b[1;32m-> 1121\u001b[1;33m     \u001b[1;32mreturn\u001b[0m \u001b[0mself\u001b[0m\u001b[1;33m.\u001b[0m\u001b[0m_call_flat\u001b[0m\u001b[1;33m(\u001b[0m\u001b[0margs\u001b[0m\u001b[1;33m,\u001b[0m \u001b[0mself\u001b[0m\u001b[1;33m.\u001b[0m\u001b[0mcaptured_inputs\u001b[0m\u001b[1;33m,\u001b[0m \u001b[0mcancellation_manager\u001b[0m\u001b[1;33m)\u001b[0m\u001b[1;33m\u001b[0m\u001b[1;33m\u001b[0m\u001b[0m\n\u001b[0m\u001b[0;32m   1122\u001b[0m \u001b[1;33m\u001b[0m\u001b[0m\n\u001b[0;32m   1123\u001b[0m   \u001b[1;32mdef\u001b[0m \u001b[0m_filtered_call\u001b[0m\u001b[1;33m(\u001b[0m\u001b[0mself\u001b[0m\u001b[1;33m,\u001b[0m \u001b[0margs\u001b[0m\u001b[1;33m,\u001b[0m \u001b[0mkwargs\u001b[0m\u001b[1;33m)\u001b[0m\u001b[1;33m:\u001b[0m\u001b[1;33m\u001b[0m\u001b[1;33m\u001b[0m\u001b[0m\n",
      "\u001b[1;32m~\\Anaconda3\\envs\\lawrence\\lib\\site-packages\\tensorflow_core\\python\\eager\\function.py\u001b[0m in \u001b[0;36m_call_flat\u001b[1;34m(self, args, captured_inputs, cancellation_manager)\u001b[0m\n\u001b[0;32m   1222\u001b[0m     \u001b[1;32mif\u001b[0m \u001b[0mexecuting_eagerly\u001b[0m\u001b[1;33m:\u001b[0m\u001b[1;33m\u001b[0m\u001b[1;33m\u001b[0m\u001b[0m\n\u001b[0;32m   1223\u001b[0m       flat_outputs = forward_function.call(\n\u001b[1;32m-> 1224\u001b[1;33m           ctx, args, cancellation_manager=cancellation_manager)\n\u001b[0m\u001b[0;32m   1225\u001b[0m     \u001b[1;32melse\u001b[0m\u001b[1;33m:\u001b[0m\u001b[1;33m\u001b[0m\u001b[1;33m\u001b[0m\u001b[0m\n\u001b[0;32m   1226\u001b[0m       \u001b[0mgradient_name\u001b[0m \u001b[1;33m=\u001b[0m \u001b[0mself\u001b[0m\u001b[1;33m.\u001b[0m\u001b[0m_delayed_rewrite_functions\u001b[0m\u001b[1;33m.\u001b[0m\u001b[0mregister\u001b[0m\u001b[1;33m(\u001b[0m\u001b[1;33m)\u001b[0m\u001b[1;33m\u001b[0m\u001b[1;33m\u001b[0m\u001b[0m\n",
      "\u001b[1;32m~\\Anaconda3\\envs\\lawrence\\lib\\site-packages\\tensorflow_core\\python\\eager\\function.py\u001b[0m in \u001b[0;36mcall\u001b[1;34m(self, ctx, args, cancellation_manager)\u001b[0m\n\u001b[0;32m    509\u001b[0m               \u001b[0minputs\u001b[0m\u001b[1;33m=\u001b[0m\u001b[0margs\u001b[0m\u001b[1;33m,\u001b[0m\u001b[1;33m\u001b[0m\u001b[1;33m\u001b[0m\u001b[0m\n\u001b[0;32m    510\u001b[0m               \u001b[0mattrs\u001b[0m\u001b[1;33m=\u001b[0m\u001b[1;33m(\u001b[0m\u001b[1;34m\"executor_type\"\u001b[0m\u001b[1;33m,\u001b[0m \u001b[0mexecutor_type\u001b[0m\u001b[1;33m,\u001b[0m \u001b[1;34m\"config_proto\"\u001b[0m\u001b[1;33m,\u001b[0m \u001b[0mconfig\u001b[0m\u001b[1;33m)\u001b[0m\u001b[1;33m,\u001b[0m\u001b[1;33m\u001b[0m\u001b[1;33m\u001b[0m\u001b[0m\n\u001b[1;32m--> 511\u001b[1;33m               ctx=ctx)\n\u001b[0m\u001b[0;32m    512\u001b[0m         \u001b[1;32melse\u001b[0m\u001b[1;33m:\u001b[0m\u001b[1;33m\u001b[0m\u001b[1;33m\u001b[0m\u001b[0m\n\u001b[0;32m    513\u001b[0m           outputs = execute.execute_with_cancellation(\n",
      "\u001b[1;32m~\\Anaconda3\\envs\\lawrence\\lib\\site-packages\\tensorflow_core\\python\\eager\\execute.py\u001b[0m in \u001b[0;36mquick_execute\u001b[1;34m(op_name, num_outputs, inputs, attrs, ctx, name)\u001b[0m\n\u001b[0;32m     65\u001b[0m     \u001b[1;32melse\u001b[0m\u001b[1;33m:\u001b[0m\u001b[1;33m\u001b[0m\u001b[1;33m\u001b[0m\u001b[0m\n\u001b[0;32m     66\u001b[0m       \u001b[0mmessage\u001b[0m \u001b[1;33m=\u001b[0m \u001b[0me\u001b[0m\u001b[1;33m.\u001b[0m\u001b[0mmessage\u001b[0m\u001b[1;33m\u001b[0m\u001b[1;33m\u001b[0m\u001b[0m\n\u001b[1;32m---> 67\u001b[1;33m     \u001b[0msix\u001b[0m\u001b[1;33m.\u001b[0m\u001b[0mraise_from\u001b[0m\u001b[1;33m(\u001b[0m\u001b[0mcore\u001b[0m\u001b[1;33m.\u001b[0m\u001b[0m_status_to_exception\u001b[0m\u001b[1;33m(\u001b[0m\u001b[0me\u001b[0m\u001b[1;33m.\u001b[0m\u001b[0mcode\u001b[0m\u001b[1;33m,\u001b[0m \u001b[0mmessage\u001b[0m\u001b[1;33m)\u001b[0m\u001b[1;33m,\u001b[0m \u001b[1;32mNone\u001b[0m\u001b[1;33m)\u001b[0m\u001b[1;33m\u001b[0m\u001b[1;33m\u001b[0m\u001b[0m\n\u001b[0m\u001b[0;32m     68\u001b[0m   \u001b[1;32mexcept\u001b[0m \u001b[0mTypeError\u001b[0m \u001b[1;32mas\u001b[0m \u001b[0me\u001b[0m\u001b[1;33m:\u001b[0m\u001b[1;33m\u001b[0m\u001b[1;33m\u001b[0m\u001b[0m\n\u001b[0;32m     69\u001b[0m     keras_symbolic_tensors = [\n",
      "\u001b[1;32m~\\Anaconda3\\envs\\lawrence\\lib\\site-packages\\six.py\u001b[0m in \u001b[0;36mraise_from\u001b[1;34m(value, from_value)\u001b[0m\n",
      "\u001b[1;31mInvalidArgumentError\u001b[0m: 2 root error(s) found.\n  (0) Invalid argument:  You must feed a value for placeholder tensor 'input_1' with dtype float and shape [?,128,128,1]\n\t [[node input_1 (defined at C:\\Users\\Lab620\\Anaconda3\\envs\\lawrence\\lib\\site-packages\\tensorflow_core\\python\\framework\\ops.py:1751) ]]\n  (1) Invalid argument:  You must feed a value for placeholder tensor 'input_1' with dtype float and shape [?,128,128,1]\n\t [[node input_1 (defined at C:\\Users\\Lab620\\Anaconda3\\envs\\lawrence\\lib\\site-packages\\tensorflow_core\\python\\framework\\ops.py:1751) ]]\n\t [[gradients/loss/decoder_loss/vae_loss/weighted_loss/mul_grad/Shape/_181]]\n0 successful operations.\n0 derived errors ignored. [Op:__inference_keras_scratch_graph_17079]\n\nFunction call stack:\nkeras_scratch_graph -> keras_scratch_graph\n"
     ]
    }
   ],
   "source": [
    "def load_images(path_list, resize):\n",
    "        X = []\n",
    "        for path in tqdm(path_list):\n",
    "                image = cv2.imread(path, 0)\n",
    "                image = cv2.resize(image, resize)\n",
    "                image = image.astype(\"float32\") / 255.0\n",
    "#                 image = image - np.mean(image)\n",
    "                image = np.expand_dims(image, axis=2)\n",
    "                X.append(image)\n",
    "        return np.array(X)\n",
    "\n",
    "\n",
    "for train, valid, test, train_gen, valid_gen, test_gen in \\\n",
    "    K_Fold_balance_data_generator(dataset, argscale_num, batch_size=32, k_fold_num=5):\n",
    "        \n",
    "        x_train, y_train = load_images(train[\"Path\"], (128, 128)), to_categorical(train[\"tooth_type\"], classes)\n",
    "        x_valid, y_valid = load_images(valid[\"Path\"], (128, 128)), to_categorical(valid[\"tooth_type\"], classes)\n",
    "        x_test, y_test = load_images(test[\"Path\"], (128, 128)), to_categorical(test[\"tooth_type\"], classes)\n",
    "        \n",
    "        print(x_train.shape), print(y_train.shape)\n",
    "        \n",
    "#         vae.fit([x_train, y_train], x_train,\n",
    "#                  epochs=epochs, \n",
    "#                  batch_size=batch_size,validation_data=([x_valid, y_valid], None),\n",
    "#                  verbose=2)\n"
   ]
  },
  {
   "cell_type": "code",
   "execution_count": null,
   "metadata": {},
   "outputs": [],
   "source": [
    "batch_size = 100\n",
    "original_dim = 128*128\n",
    "latent_dim = 128 # 隐变量取2维只是为了方便后面画图\n",
    "intermediate_dim = 256\n",
    "epochs = 20000\n",
    "num_classes = 3\n",
    "\n",
    "x = Input(shape=(original_dim,))\n",
    "h = Dense(intermediate_dim, activation='relu')(x)\n",
    "\n",
    "# 算p(Z|X)的均值和方差\n",
    "z_mean = Dense(latent_dim)(h)\n",
    "z_log_var = Dense(latent_dim)(h)\n",
    "\n",
    "y = Input(shape=(num_classes,)) # 输入类别\n",
    "yh = Dense(latent_dim)(y) # 这里就是直接构建每个类别的均值\n",
    "\n",
    "# 重参数技巧\n",
    "def sampling(args):\n",
    "    z_mean, z_log_var = args\n",
    "    epsilon = K.random_normal(shape=K.shape(z_mean))\n",
    "    return z_mean + K.exp(z_log_var / 2) * epsilon\n",
    "\n",
    "# 重参数层，相当于给输入加入噪声\n",
    "z = Lambda(sampling, output_shape=(latent_dim,))([z_mean, z_log_var])\n",
    "\n",
    "# 解码层，也就是生成器部分\n",
    "decoder_h = Dense(intermediate_dim, activation='relu')\n",
    "decoder_mean = Dense(original_dim, activation='sigmoid')\n",
    "h_decoded = decoder_h(z)\n",
    "x_decoded_mean = decoder_mean(h_decoded)\n",
    "\n",
    "# 建立模型\n",
    "vae = Model([x, y], [x_decoded_mean, yh])\n",
    "\n",
    "# xent_loss是重构loss，kl_loss是KL loss\n",
    "xent_loss = K.sum(K.binary_crossentropy(x, x_decoded_mean), axis=-1)\n",
    "\n",
    "# 只需要修改K.square(z_mean)为K.square(z_mean - yh)，也就是让隐变量向类内均值看齐\n",
    "kl_loss = - 0.5 * K.sum(1 + z_log_var - K.square(z_mean - yh) - K.exp(z_log_var), axis=-1)\n",
    "vae_loss = K.mean(xent_loss + kl_loss)\n",
    "\n",
    "# add_loss是新增的方法，用于更灵活地添加各种loss\n",
    "vae.add_loss(vae_loss)\n",
    "vae.compile(optimizer='rmsprop')\n",
    "vae.summary()\n",
    "\n",
    "\n",
    "\n",
    "x_train, y_train = load_images(train[\"Path\"], (128, 128)), to_categorical(train[\"Class\"], classes)\n",
    "x_valid, y_valid = load_images(valid[\"Path\"], (128, 128)), to_categorical(valid[\"Class\"], classes)\n",
    "        \n",
    "x_train = x_train.reshape((len(x_train), np.prod(x_train.shape[1:])))\n",
    "x_valid = x_valid.reshape((len(x_valid), np.prod(x_valid.shape[1:])))\n",
    "\n",
    "vae.fit([x_train, y_train], \n",
    "        shuffle=True,\n",
    "        epochs=epochs,\n",
    "        batch_size=batch_size,\n",
    "        validation_data=([x_valid, y_valid], None))\n"
   ]
  },
  {
   "cell_type": "code",
   "execution_count": null,
   "metadata": {},
   "outputs": [],
   "source": [
    "# 构建encoder，然后观察各个数字在隐空间的分布\n",
    "encoder = Model(x, z_mean)\n",
    "\n",
    "# x_test_encoded = encoder.predict(x_valid, batch_size=batch_size)\n",
    "# plt.figure(figsize=(6, 6))\n",
    "# plt.scatter(x_test_encoded[:, 0], x_test_encoded[:, 1], c=y_valid)\n",
    "# plt.colorbar()\n",
    "# plt.show()\n",
    "\n",
    "# 构建生成器\n",
    "decoder_input = Input(shape=(latent_dim,))\n",
    "_h_decoded = decoder_h(decoder_input)\n",
    "_x_decoded_mean = decoder_mean(_h_decoded)\n",
    "generator = Model(decoder_input, _x_decoded_mean)\n",
    "\n",
    "# 输出每个类的均值向量\n",
    "mu = Model(y, yh)\n",
    "mu = mu.predict(np.eye(num_classes))\n",
    "\n",
    "# 观察能否通过控制隐变量的均值来输出特定类别的数字\n",
    "n = 15  # figure with 15x15 digits\n",
    "digit_size = 128\n",
    "figure = np.zeros((digit_size * n, digit_size * n))\n",
    "\n",
    "output_digit = 2 # 指定输出数字\n",
    "\n",
    "# 用正态分布的分位数来构建隐变量对\n",
    "grid_x = norm.ppf(np.linspace(0.05, 0.95, n)) + mu[output_digit][1]\n",
    "grid_y = norm.ppf(np.linspace(0.05, 0.95, n)) + mu[output_digit][0]\n",
    "\n",
    "for i, yi in enumerate(grid_x):\n",
    "    for j, xi in enumerate(grid_y):\n",
    "        z_sample = np.array([[xi, yi]])\n",
    "        x_decoded = generator.predict(z_sample)\n",
    "        digit = x_decoded[0].reshape(digit_size, digit_size)\n",
    "        figure[i * digit_size: (i + 1) * digit_size,\n",
    "               j * digit_size: (j + 1) * digit_size] = digit\n",
    "\n",
    "plt.figure(figsize=(10, 10))\n",
    "plt.imshow(figure, cmap='Greys_r')\n",
    "plt.show()"
   ]
  },
  {
   "cell_type": "code",
   "execution_count": null,
   "metadata": {},
   "outputs": [],
   "source": [
    "def fc(input_img):\n",
    "#         flat = Flatten()(enco)\n",
    "#         x = Input(shape=(original_dim,))\n",
    "        h = Dense(intermediate_dim, activation='relu')(input_img)\n",
    "\n",
    "        # 算p(Z|X)的均值和方差\n",
    "        z_mean = Dense(latent_dim)(h)\n",
    "        z_log_var = Dense(latent_dim)(h)\n",
    "        z = Lambda(sampling, output_shape=(latent_dim,))([z_mean, z_log_var])\n",
    "        \n",
    "        den = Dense(128, activation='relu')(z)\n",
    "        out = Dense(num_classes, activation='softmax')(den)\n",
    "        return out\n",
    "\n",
    "input_img = Input(shape=(original_dim,))\n",
    "# encoder = Model(x, z_mean)\n",
    "# encode = encoder(input_img)\n",
    "# print(encode)\n",
    "full_model = Model(input_img, fc(input_img))\n",
    "# for l1,l2 in zip(full_model.layers[:3],vae.layers[0:3]):\n",
    "#     l1.set_weights(l2.get_weights())\n",
    "\n",
    "full_model.summary()"
   ]
  },
  {
   "cell_type": "code",
   "execution_count": null,
   "metadata": {},
   "outputs": [],
   "source": [
    "vae.summary()"
   ]
  },
  {
   "cell_type": "code",
   "execution_count": null,
   "metadata": {},
   "outputs": [],
   "source": [
    "for l1,l2 in zip(full_model.layers[:5], vae.layers[0:5]):\n",
    "    l1.set_weights(l2.get_weights())\n",
    "    \n",
    "for layer in full_model.layers[0:5]:\n",
    "    layer.trainable = False\n",
    "full_model.compile(loss=keras.losses.categorical_crossentropy, optimizer=keras.optimizers.Adam(),metrics=['accuracy'])"
   ]
  },
  {
   "cell_type": "code",
   "execution_count": null,
   "metadata": {},
   "outputs": [],
   "source": [
    "classify_train = full_model.fit(x_train, y_train, batch_size=64,epochs=20000,verbose=1,validation_data=(x_valid, y_valid))"
   ]
  },
  {
   "cell_type": "code",
   "execution_count": null,
   "metadata": {},
   "outputs": [],
   "source": [
    "full_model.evaluate(x_valid, y_valid, batch_size=batch_size, verbose=1)"
   ]
  },
  {
   "cell_type": "code",
   "execution_count": null,
   "metadata": {},
   "outputs": [],
   "source": []
  }
 ],
 "metadata": {
  "kernelspec": {
   "display_name": "Python 3",
   "language": "python",
   "name": "python3"
  },
  "language_info": {
   "codemirror_mode": {
    "name": "ipython",
    "version": 3
   },
   "file_extension": ".py",
   "mimetype": "text/x-python",
   "name": "python",
   "nbconvert_exporter": "python",
   "pygments_lexer": "ipython3",
   "version": "3.6.12"
  },
  "widgets": {
   "application/vnd.jupyter.widget-state+json": {
    "state": {
     "01d2da49ce4046c59ed017dd841519a5": {
      "model_module": "@jupyter-widgets/controls",
      "model_module_version": "1.5.0",
      "model_name": "ProgressStyleModel",
      "state": {
       "description_width": ""
      }
     },
     "028783ac711d482d9d76f9910c5a672e": {
      "model_module": "@jupyter-widgets/base",
      "model_module_version": "1.2.0",
      "model_name": "LayoutModel",
      "state": {}
     },
     "02cc240249004e8fadeb7932fde27771": {
      "model_module": "@jupyter-widgets/controls",
      "model_module_version": "1.5.0",
      "model_name": "HBoxModel",
      "state": {
       "children": [
        "IPY_MODEL_03efde205edf470fadd7c4a147f237a7",
        "IPY_MODEL_1d040b0e0f82477b84cd61077cb10a54",
        "IPY_MODEL_9c4a73c886284e699b815792dc104183"
       ],
       "layout": "IPY_MODEL_7fbdd1ca46be4079a0691452256370ae"
      }
     },
     "035d8289589d40a4913de40cd8355615": {
      "model_module": "@jupyter-widgets/controls",
      "model_module_version": "1.5.0",
      "model_name": "FloatProgressModel",
      "state": {
       "bar_style": "success",
       "layout": "IPY_MODEL_5a3fc45c826845b5be1217e618eb3241",
       "max": 140,
       "style": "IPY_MODEL_6d6bb85a0d154bfba2261da30482e896",
       "value": 140
      }
     },
     "03efde205edf470fadd7c4a147f237a7": {
      "model_module": "@jupyter-widgets/controls",
      "model_module_version": "1.5.0",
      "model_name": "HTMLModel",
      "state": {
       "layout": "IPY_MODEL_7306557d99af4776a64880bea1d347db",
       "style": "IPY_MODEL_ae7046a1afb6450eb8c0eb143d8773f1",
       "value": "100%"
      }
     },
     "048ae7b48cdc4948906c10af48d4d59e": {
      "model_module": "@jupyter-widgets/controls",
      "model_module_version": "1.5.0",
      "model_name": "HTMLModel",
      "state": {
       "layout": "IPY_MODEL_6378e9b1b2b544ae9106ed3b5307f882",
       "style": "IPY_MODEL_1b7fb04b128d4aff8c7f3de96d5d4bb1",
       "value": " 140/140 [00:02&lt;00:00, 55.01it/s]"
      }
     },
     "04f5c423fedc4d39895b69cff14c100e": {
      "model_module": "@jupyter-widgets/base",
      "model_module_version": "1.2.0",
      "model_name": "LayoutModel",
      "state": {}
     },
     "05d0cef1524b4b62988ad440c8657e8a": {
      "model_module": "@jupyter-widgets/controls",
      "model_module_version": "1.5.0",
      "model_name": "HBoxModel",
      "state": {
       "children": [
        "IPY_MODEL_094ad19a11b44e2aac9468d214ac7a10",
        "IPY_MODEL_d241a91b79be4974b7826eab017a0965",
        "IPY_MODEL_75c102489ffa4bd4a32a8211deb45fc8"
       ],
       "layout": "IPY_MODEL_e1b6a4a835034e2fa1fbc7cf8cfb0b71"
      }
     },
     "05f80b27683c4d80a2f5aca3634ff60a": {
      "model_module": "@jupyter-widgets/controls",
      "model_module_version": "1.5.0",
      "model_name": "HTMLModel",
      "state": {
       "layout": "IPY_MODEL_49cff60011f74fd49f319514fb3c13c3",
       "style": "IPY_MODEL_60af42f2099a462ea4995fcbd4fa5f12",
       "value": " 14%"
      }
     },
     "07067a0670ab4ddb8e26ff075cc74b9d": {
      "model_module": "@jupyter-widgets/base",
      "model_module_version": "1.2.0",
      "model_name": "LayoutModel",
      "state": {}
     },
     "094ad19a11b44e2aac9468d214ac7a10": {
      "model_module": "@jupyter-widgets/controls",
      "model_module_version": "1.5.0",
      "model_name": "HTMLModel",
      "state": {
       "layout": "IPY_MODEL_cc32886cd3e04006a30ded4fdf0196cd",
       "style": "IPY_MODEL_d98afdcd1f2a42dcb1744a1440926fdd",
       "value": "100%"
      }
     },
     "09f5eb3a1ff14cd59ab6547fd4d30005": {
      "model_module": "@jupyter-widgets/controls",
      "model_module_version": "1.5.0",
      "model_name": "FloatProgressModel",
      "state": {
       "bar_style": "success",
       "layout": "IPY_MODEL_115afcda88e74332a3d2f67906b02292",
       "max": 8640,
       "style": "IPY_MODEL_b83560c1f5d24efd9c2efaf2be83bad1",
       "value": 8640
      }
     },
     "0b0fde03092c43c780b0a734c131ae9b": {
      "model_module": "@jupyter-widgets/controls",
      "model_module_version": "1.5.0",
      "model_name": "ProgressStyleModel",
      "state": {
       "description_width": ""
      }
     },
     "115ab36c52294f5dbde19c7e16fbbab9": {
      "model_module": "@jupyter-widgets/base",
      "model_module_version": "1.2.0",
      "model_name": "LayoutModel",
      "state": {}
     },
     "115afcda88e74332a3d2f67906b02292": {
      "model_module": "@jupyter-widgets/base",
      "model_module_version": "1.2.0",
      "model_name": "LayoutModel",
      "state": {}
     },
     "130b506342064dfe8660725ad721d173": {
      "model_module": "@jupyter-widgets/controls",
      "model_module_version": "1.5.0",
      "model_name": "DescriptionStyleModel",
      "state": {
       "description_width": ""
      }
     },
     "13a2ba6c83df4dc68c5a204b6563deeb": {
      "model_module": "@jupyter-widgets/controls",
      "model_module_version": "1.5.0",
      "model_name": "HTMLModel",
      "state": {
       "layout": "IPY_MODEL_be27349865b844088742e58a63a47e1a",
       "style": "IPY_MODEL_71325cf1563e4307aea0e2628cf7c9eb",
       "value": "100%"
      }
     },
     "14359e84a492416692ddafd943e561b0": {
      "model_module": "@jupyter-widgets/base",
      "model_module_version": "1.2.0",
      "model_name": "LayoutModel",
      "state": {}
     },
     "14bb007c50c24ccb9f36f77ca1e38e57": {
      "model_module": "@jupyter-widgets/base",
      "model_module_version": "1.2.0",
      "model_name": "LayoutModel",
      "state": {}
     },
     "14c60585fb33467e950bf61b1706462c": {
      "model_module": "@jupyter-widgets/controls",
      "model_module_version": "1.5.0",
      "model_name": "ProgressStyleModel",
      "state": {
       "description_width": ""
      }
     },
     "1571e5c2b5be448f8ef48cc6aab6761e": {
      "model_module": "@jupyter-widgets/base",
      "model_module_version": "1.2.0",
      "model_name": "LayoutModel",
      "state": {}
     },
     "175dd21d97064e7aa6576a6b1f68894b": {
      "model_module": "@jupyter-widgets/controls",
      "model_module_version": "1.5.0",
      "model_name": "DescriptionStyleModel",
      "state": {
       "description_width": ""
      }
     },
     "180f4806b45e4f63b5a2c2b4d8447665": {
      "model_module": "@jupyter-widgets/controls",
      "model_module_version": "1.5.0",
      "model_name": "DescriptionStyleModel",
      "state": {
       "description_width": ""
      }
     },
     "19c999cdb214490890ad41d04ded5c08": {
      "model_module": "@jupyter-widgets/base",
      "model_module_version": "1.2.0",
      "model_name": "LayoutModel",
      "state": {}
     },
     "1ad222bea4024d7482f918dfb745b64a": {
      "model_module": "@jupyter-widgets/base",
      "model_module_version": "1.2.0",
      "model_name": "LayoutModel",
      "state": {}
     },
     "1b7fb04b128d4aff8c7f3de96d5d4bb1": {
      "model_module": "@jupyter-widgets/controls",
      "model_module_version": "1.5.0",
      "model_name": "DescriptionStyleModel",
      "state": {
       "description_width": ""
      }
     },
     "1bd0f80d8b17430a9e5dcd01a573c915": {
      "model_module": "@jupyter-widgets/controls",
      "model_module_version": "1.5.0",
      "model_name": "HBoxModel",
      "state": {
       "children": [
        "IPY_MODEL_472636c9a9a0468caa832881ec937cae",
        "IPY_MODEL_ace4c6fb54144f10b3ec22613604feba",
        "IPY_MODEL_2120611459f64c098a27fae47c83a425"
       ],
       "layout": "IPY_MODEL_a3757e61384a44998a3ecdfddb3f20ae"
      }
     },
     "1c380e0d2ee7432b911b6b827c737102": {
      "model_module": "@jupyter-widgets/base",
      "model_module_version": "1.2.0",
      "model_name": "LayoutModel",
      "state": {}
     },
     "1c65807f872547cf8a19e465bf925828": {
      "model_module": "@jupyter-widgets/base",
      "model_module_version": "1.2.0",
      "model_name": "LayoutModel",
      "state": {}
     },
     "1d040b0e0f82477b84cd61077cb10a54": {
      "model_module": "@jupyter-widgets/controls",
      "model_module_version": "1.5.0",
      "model_name": "FloatProgressModel",
      "state": {
       "bar_style": "success",
       "layout": "IPY_MODEL_e76a16c7f5c64f58ad8ee23b05a6678c",
       "max": 26352,
       "style": "IPY_MODEL_0b0fde03092c43c780b0a734c131ae9b",
       "value": 26352
      }
     },
     "1e328634293340dd8b2616f7eb1aa231": {
      "model_module": "@jupyter-widgets/controls",
      "model_module_version": "1.5.0",
      "model_name": "HTMLModel",
      "state": {
       "layout": "IPY_MODEL_fc3d2bb954464562900cf44004aaf7c7",
       "style": "IPY_MODEL_f91e9853979e456c899cabef7f2aa6a7",
       "value": " 3746/25920 [00:34&lt;03:25, 107.77it/s]"
      }
     },
     "206772d836124e858dc0c08e8325cc5e": {
      "model_module": "@jupyter-widgets/controls",
      "model_module_version": "1.5.0",
      "model_name": "HBoxModel",
      "state": {
       "children": [
        "IPY_MODEL_29b075be2a0447249725fa583543a9b8",
        "IPY_MODEL_92247c0f060540ddbc2599fbd7c8a9b6",
        "IPY_MODEL_f6da35588e1b421a9799fe65529d2ead"
       ],
       "layout": "IPY_MODEL_3ca8c6c6fcf8424db18c24cdf766dcc4"
      }
     },
     "2120611459f64c098a27fae47c83a425": {
      "model_module": "@jupyter-widgets/controls",
      "model_module_version": "1.5.0",
      "model_name": "HTMLModel",
      "state": {
       "layout": "IPY_MODEL_3dc47c9972db4d57b223fa50afe725ae",
       "style": "IPY_MODEL_c6ca69ada1094a98b190b453fb9ed46f",
       "value": " 48/48 [00:00&lt;00:00, 142.48it/s]"
      }
     },
     "21f540ad99ff4d7881a282bc69a1778f": {
      "model_module": "@jupyter-widgets/controls",
      "model_module_version": "1.5.0",
      "model_name": "HTMLModel",
      "state": {
       "layout": "IPY_MODEL_3ef3aabf14cb43cb91e76b73c112e902",
       "style": "IPY_MODEL_960643d476964bb7b98fe18cb948fb87",
       "value": "100%"
      }
     },
     "220b281cfadf4c9b9bb3a1560f677cc6": {
      "model_module": "@jupyter-widgets/controls",
      "model_module_version": "1.5.0",
      "model_name": "ProgressStyleModel",
      "state": {
       "description_width": ""
      }
     },
     "230f2c2c8fb547f0aa006f875e2d4f37": {
      "model_module": "@jupyter-widgets/controls",
      "model_module_version": "1.5.0",
      "model_name": "HTMLModel",
      "state": {
       "layout": "IPY_MODEL_c04bf7c70c4845dabc4934dcb5be769d",
       "style": "IPY_MODEL_eb446b35eddf4cc9a582fe45ff77b007",
       "value": "100%"
      }
     },
     "2313ced7000d4cba881a1ecbeef94ead": {
      "model_module": "@jupyter-widgets/controls",
      "model_module_version": "1.5.0",
      "model_name": "HTMLModel",
      "state": {
       "layout": "IPY_MODEL_da7a4d97889b4d5b9169f0a758abb486",
       "style": "IPY_MODEL_cbc161256ea440fbb020c682b0833f97",
       "value": "100%"
      }
     },
     "23b9a6504caf479cbb92ef6c33c133b7": {
      "model_module": "@jupyter-widgets/base",
      "model_module_version": "1.2.0",
      "model_name": "LayoutModel",
      "state": {}
     },
     "2720d822e6204225a984984d574152bc": {
      "model_module": "@jupyter-widgets/controls",
      "model_module_version": "1.5.0",
      "model_name": "HTMLModel",
      "state": {
       "layout": "IPY_MODEL_6d7aa82c58aa41d1bb9c70ee8c1a520f",
       "style": "IPY_MODEL_4bbccf06367346b19fac2f6cea5d8975",
       "value": "100%"
      }
     },
     "280c7ae8ff454049942dd66c0d7aaf5a": {
      "model_module": "@jupyter-widgets/controls",
      "model_module_version": "1.5.0",
      "model_name": "HTMLModel",
      "state": {
       "layout": "IPY_MODEL_b8502ffefb9d437db62139a900ff4348",
       "style": "IPY_MODEL_d42ca9573f5c41bcb2c3697cb8382c7e",
       "value": " 140/140 [00:00&lt;00:00, 153.89it/s]"
      }
     },
     "282a810544d4479ca1b06d3e58d1f200": {
      "model_module": "@jupyter-widgets/controls",
      "model_module_version": "1.5.0",
      "model_name": "DescriptionStyleModel",
      "state": {
       "description_width": ""
      }
     },
     "29b075be2a0447249725fa583543a9b8": {
      "model_module": "@jupyter-widgets/controls",
      "model_module_version": "1.5.0",
      "model_name": "HTMLModel",
      "state": {
       "layout": "IPY_MODEL_19c999cdb214490890ad41d04ded5c08",
       "style": "IPY_MODEL_8d4565ab19924da083c8d3124c0c8452",
       "value": "100%"
      }
     },
     "2ca38d8af7764b6eb1f251fa950649f0": {
      "model_module": "@jupyter-widgets/base",
      "model_module_version": "1.2.0",
      "model_name": "LayoutModel",
      "state": {}
     },
     "2e8954a6a81841cb8a05f6ff18cc606c": {
      "model_module": "@jupyter-widgets/controls",
      "model_module_version": "1.5.0",
      "model_name": "HBoxModel",
      "state": {
       "children": [
        "IPY_MODEL_44493861d41e46289a8ae4d4201a04bd",
        "IPY_MODEL_09f5eb3a1ff14cd59ab6547fd4d30005",
        "IPY_MODEL_7bb72569b77048eca41cd429cae32b51"
       ],
       "layout": "IPY_MODEL_d67f1e9b277d4fb08452b8316d3c0064"
      }
     },
     "2f88bedbfcd440d78a62e85b61b259b8": {
      "model_module": "@jupyter-widgets/controls",
      "model_module_version": "1.5.0",
      "model_name": "HTMLModel",
      "state": {
       "layout": "IPY_MODEL_70c4c828a440443899225456b3207ff8",
       "style": "IPY_MODEL_384688ba2bf144218175077249f325b9",
       "value": "100%"
      }
     },
     "3243c13e2c1941b0bf6ebf5c485ddb3e": {
      "model_module": "@jupyter-widgets/base",
      "model_module_version": "1.2.0",
      "model_name": "LayoutModel",
      "state": {}
     },
     "32a6f9e7ff414d05b5966ccf2985e9ab": {
      "model_module": "@jupyter-widgets/controls",
      "model_module_version": "1.5.0",
      "model_name": "ProgressStyleModel",
      "state": {
       "description_width": ""
      }
     },
     "32b82eb933b24136a02e07ced2f13226": {
      "model_module": "@jupyter-widgets/controls",
      "model_module_version": "1.5.0",
      "model_name": "ProgressStyleModel",
      "state": {
       "description_width": ""
      }
     },
     "3327c3feac9e420998ec59bc3a2adfb8": {
      "model_module": "@jupyter-widgets/base",
      "model_module_version": "1.2.0",
      "model_name": "LayoutModel",
      "state": {}
     },
     "3333c6232c6c444dbff7612820ddd571": {
      "model_module": "@jupyter-widgets/base",
      "model_module_version": "1.2.0",
      "model_name": "LayoutModel",
      "state": {}
     },
     "347665d4d029404aa6878cfc7f290f84": {
      "model_module": "@jupyter-widgets/base",
      "model_module_version": "1.2.0",
      "model_name": "LayoutModel",
      "state": {}
     },
     "384688ba2bf144218175077249f325b9": {
      "model_module": "@jupyter-widgets/controls",
      "model_module_version": "1.5.0",
      "model_name": "DescriptionStyleModel",
      "state": {
       "description_width": ""
      }
     },
     "3919b7c189e6455481cee17c6319c8eb": {
      "model_module": "@jupyter-widgets/controls",
      "model_module_version": "1.5.0",
      "model_name": "FloatProgressModel",
      "state": {
       "bar_style": "success",
       "layout": "IPY_MODEL_fdd492125a59416daa54a601bf107bf0",
       "max": 26352,
       "style": "IPY_MODEL_c7ffa2497f8a4cee90e9c5dc4f2dd500",
       "value": 26352
      }
     },
     "3b4e5cfd3c9f4feda56b441b46d9a8e7": {
      "model_module": "@jupyter-widgets/controls",
      "model_module_version": "1.5.0",
      "model_name": "DescriptionStyleModel",
      "state": {
       "description_width": ""
      }
     },
     "3ca8c6c6fcf8424db18c24cdf766dcc4": {
      "model_module": "@jupyter-widgets/base",
      "model_module_version": "1.2.0",
      "model_name": "LayoutModel",
      "state": {}
     },
     "3dc47c9972db4d57b223fa50afe725ae": {
      "model_module": "@jupyter-widgets/base",
      "model_module_version": "1.2.0",
      "model_name": "LayoutModel",
      "state": {}
     },
     "3df67214f58e4dcf8e03af7caf9172df": {
      "model_module": "@jupyter-widgets/base",
      "model_module_version": "1.2.0",
      "model_name": "LayoutModel",
      "state": {}
     },
     "3dfe8fab3ce3475ba5f285952654e64c": {
      "model_module": "@jupyter-widgets/controls",
      "model_module_version": "1.5.0",
      "model_name": "ProgressStyleModel",
      "state": {
       "description_width": ""
      }
     },
     "3e832bf7dc2c4fdfb3d62d111ed30ed6": {
      "model_module": "@jupyter-widgets/controls",
      "model_module_version": "1.5.0",
      "model_name": "FloatProgressModel",
      "state": {
       "bar_style": "success",
       "layout": "IPY_MODEL_028783ac711d482d9d76f9910c5a672e",
       "max": 48,
       "style": "IPY_MODEL_e045907f15f943d2b8bf5e6aaaccffd5",
       "value": 48
      }
     },
     "3ef3aabf14cb43cb91e76b73c112e902": {
      "model_module": "@jupyter-widgets/base",
      "model_module_version": "1.2.0",
      "model_name": "LayoutModel",
      "state": {}
     },
     "436302400896453a992377485d0f81bf": {
      "model_module": "@jupyter-widgets/controls",
      "model_module_version": "1.5.0",
      "model_name": "ProgressStyleModel",
      "state": {
       "description_width": ""
      }
     },
     "4411e21b47bc455484432b98a8905ab2": {
      "model_module": "@jupyter-widgets/base",
      "model_module_version": "1.2.0",
      "model_name": "LayoutModel",
      "state": {}
     },
     "44493861d41e46289a8ae4d4201a04bd": {
      "model_module": "@jupyter-widgets/controls",
      "model_module_version": "1.5.0",
      "model_name": "HTMLModel",
      "state": {
       "layout": "IPY_MODEL_c137d7490f1e41cf969b7696f6cb399c",
       "style": "IPY_MODEL_a2d38d7a99db41d88b6c963daa7444c6",
       "value": "100%"
      }
     },
     "4716d63b469f46bcaf14ce2748ec1379": {
      "model_module": "@jupyter-widgets/controls",
      "model_module_version": "1.5.0",
      "model_name": "DescriptionStyleModel",
      "state": {
       "description_width": ""
      }
     },
     "472636c9a9a0468caa832881ec937cae": {
      "model_module": "@jupyter-widgets/controls",
      "model_module_version": "1.5.0",
      "model_name": "HTMLModel",
      "state": {
       "layout": "IPY_MODEL_a14f7fb0e7604fae8f4f9dd8c58299e7",
       "style": "IPY_MODEL_55e564d568fb415c93467f71d227a024",
       "value": "100%"
      }
     },
     "49bd1881d9674cf38c55e63660370ed4": {
      "model_module": "@jupyter-widgets/controls",
      "model_module_version": "1.5.0",
      "model_name": "DescriptionStyleModel",
      "state": {
       "description_width": ""
      }
     },
     "49ccef612acc4aea92db8289a8bc2b8a": {
      "model_module": "@jupyter-widgets/base",
      "model_module_version": "1.2.0",
      "model_name": "LayoutModel",
      "state": {}
     },
     "49cff60011f74fd49f319514fb3c13c3": {
      "model_module": "@jupyter-widgets/base",
      "model_module_version": "1.2.0",
      "model_name": "LayoutModel",
      "state": {}
     },
     "4b4e34b353db45e1b59b7de4758d5ba2": {
      "model_module": "@jupyter-widgets/controls",
      "model_module_version": "1.5.0",
      "model_name": "DescriptionStyleModel",
      "state": {
       "description_width": ""
      }
     },
     "4bbccf06367346b19fac2f6cea5d8975": {
      "model_module": "@jupyter-widgets/controls",
      "model_module_version": "1.5.0",
      "model_name": "DescriptionStyleModel",
      "state": {
       "description_width": ""
      }
     },
     "4c6648e9c7fe44a3b2732e85cba8fba8": {
      "model_module": "@jupyter-widgets/base",
      "model_module_version": "1.2.0",
      "model_name": "LayoutModel",
      "state": {}
     },
     "4c82ad63228b467683f59f5c63c19bcf": {
      "model_module": "@jupyter-widgets/controls",
      "model_module_version": "1.5.0",
      "model_name": "HTMLModel",
      "state": {
       "layout": "IPY_MODEL_b38e9acf0bb648a9a6d303f462630eee",
       "style": "IPY_MODEL_5b26965e29a343058ba39a629b293c05",
       "value": " 26352/26352 [13:50&lt;00:00, 31.71it/s]"
      }
     },
     "4ce012354e0f452991346b69b3bbccfc": {
      "model_module": "@jupyter-widgets/controls",
      "model_module_version": "1.5.0",
      "model_name": "DescriptionStyleModel",
      "state": {
       "description_width": ""
      }
     },
     "4f36e7f96d9046fba2b042cb6d88a80a": {
      "model_module": "@jupyter-widgets/controls",
      "model_module_version": "1.5.0",
      "model_name": "DescriptionStyleModel",
      "state": {
       "description_width": ""
      }
     },
     "4f38c251f1b74ffda48775996345b669": {
      "model_module": "@jupyter-widgets/controls",
      "model_module_version": "1.5.0",
      "model_name": "HBoxModel",
      "state": {
       "children": [
        "IPY_MODEL_fd87f2ef4e744cb889d888a2e34e2aae",
        "IPY_MODEL_035d8289589d40a4913de40cd8355615",
        "IPY_MODEL_d6356ef55cd746b9ba62fb99b4b4fa18"
       ],
       "layout": "IPY_MODEL_5fed0b555def4591bb87dc8f62dd8886"
      }
     },
     "4ff956f74a464b9ea78658993f87cb81": {
      "model_module": "@jupyter-widgets/controls",
      "model_module_version": "1.5.0",
      "model_name": "HBoxModel",
      "state": {
       "children": [
        "IPY_MODEL_9db7a0dd083d4efa86b37028cff36612",
        "IPY_MODEL_82b7020b7dd74df2a7fa453ac786216a",
        "IPY_MODEL_fa1a6625bb424564830a38dd63bbea53"
       ],
       "layout": "IPY_MODEL_ae98c8a12eff406eb18191653f71339c"
      }
     },
     "5117285a00c845cda39600ec31d1fb22": {
      "model_module": "@jupyter-widgets/base",
      "model_module_version": "1.2.0",
      "model_name": "LayoutModel",
      "state": {}
     },
     "53bc3038f650468c9ec734c5b30a3517": {
      "model_module": "@jupyter-widgets/base",
      "model_module_version": "1.2.0",
      "model_name": "LayoutModel",
      "state": {}
     },
     "54aac2ad8836448c87b58b2c9bfc93ef": {
      "model_module": "@jupyter-widgets/controls",
      "model_module_version": "1.5.0",
      "model_name": "HBoxModel",
      "state": {
       "children": [
        "IPY_MODEL_2313ced7000d4cba881a1ecbeef94ead",
        "IPY_MODEL_84a4d75812cd4abeab21e8efe7844eee",
        "IPY_MODEL_df3f6c6cd2f34f3295428b2b5238de13"
       ],
       "layout": "IPY_MODEL_e62498b18e314fa88a7ff4cc0fb1eb95"
      }
     },
     "55e564d568fb415c93467f71d227a024": {
      "model_module": "@jupyter-widgets/controls",
      "model_module_version": "1.5.0",
      "model_name": "DescriptionStyleModel",
      "state": {
       "description_width": ""
      }
     },
     "58d57d55ba0b47eb8860f8be1fc2f9ba": {
      "model_module": "@jupyter-widgets/base",
      "model_module_version": "1.2.0",
      "model_name": "LayoutModel",
      "state": {}
     },
     "5a3fc45c826845b5be1217e618eb3241": {
      "model_module": "@jupyter-widgets/base",
      "model_module_version": "1.2.0",
      "model_name": "LayoutModel",
      "state": {}
     },
     "5b26965e29a343058ba39a629b293c05": {
      "model_module": "@jupyter-widgets/controls",
      "model_module_version": "1.5.0",
      "model_name": "DescriptionStyleModel",
      "state": {
       "description_width": ""
      }
     },
     "5b9fb991739b42e88b8ee7776dab6098": {
      "model_module": "@jupyter-widgets/controls",
      "model_module_version": "1.5.0",
      "model_name": "DescriptionStyleModel",
      "state": {
       "description_width": ""
      }
     },
     "5d3c84c38f7640539616281d6071afa8": {
      "model_module": "@jupyter-widgets/controls",
      "model_module_version": "1.5.0",
      "model_name": "HBoxModel",
      "state": {
       "children": [
        "IPY_MODEL_13a2ba6c83df4dc68c5a204b6563deeb",
        "IPY_MODEL_a93aa7ba58f84123a3ec293791bc6c8e",
        "IPY_MODEL_dbb007ba4dff4165b1f33807f6829bd1"
       ],
       "layout": "IPY_MODEL_1c65807f872547cf8a19e465bf925828"
      }
     },
     "5fa075baba6e4455be025ac1d2219f89": {
      "model_module": "@jupyter-widgets/base",
      "model_module_version": "1.2.0",
      "model_name": "LayoutModel",
      "state": {}
     },
     "5fed0b555def4591bb87dc8f62dd8886": {
      "model_module": "@jupyter-widgets/base",
      "model_module_version": "1.2.0",
      "model_name": "LayoutModel",
      "state": {}
     },
     "60af42f2099a462ea4995fcbd4fa5f12": {
      "model_module": "@jupyter-widgets/controls",
      "model_module_version": "1.5.0",
      "model_name": "DescriptionStyleModel",
      "state": {
       "description_width": ""
      }
     },
     "623ef39c33944ed8811f99b76c803cc8": {
      "model_module": "@jupyter-widgets/controls",
      "model_module_version": "1.5.0",
      "model_name": "DescriptionStyleModel",
      "state": {
       "description_width": ""
      }
     },
     "62419959a3de48d29b53bc5cc8a38d05": {
      "model_module": "@jupyter-widgets/base",
      "model_module_version": "1.2.0",
      "model_name": "LayoutModel",
      "state": {}
     },
     "6378e9b1b2b544ae9106ed3b5307f882": {
      "model_module": "@jupyter-widgets/base",
      "model_module_version": "1.2.0",
      "model_name": "LayoutModel",
      "state": {}
     },
     "64d00540f0a6466d829eae83fa9db867": {
      "model_module": "@jupyter-widgets/controls",
      "model_module_version": "1.5.0",
      "model_name": "HBoxModel",
      "state": {
       "children": [
        "IPY_MODEL_fda0daa060be493b9156b0adfaaa6775",
        "IPY_MODEL_843c4c6ac9084c199af4a51951f31d0e",
        "IPY_MODEL_91aed09df62f4059934e1d11aea67af1"
       ],
       "layout": "IPY_MODEL_dbbd3ff3c7184988aee4c1b0731bf9a1"
      }
     },
     "6501f010ac5441308c7f307bf1c36833": {
      "model_module": "@jupyter-widgets/controls",
      "model_module_version": "1.5.0",
      "model_name": "HBoxModel",
      "state": {
       "children": [
        "IPY_MODEL_fdeba8874e1b492ea2829807e443d0fb",
        "IPY_MODEL_3e832bf7dc2c4fdfb3d62d111ed30ed6",
        "IPY_MODEL_8eba7d4261604a9182ee25ea3273a3f8"
       ],
       "layout": "IPY_MODEL_2ca38d8af7764b6eb1f251fa950649f0"
      }
     },
     "67763131e00b4f37a84d60c8fd824aa2": {
      "model_module": "@jupyter-widgets/controls",
      "model_module_version": "1.5.0",
      "model_name": "ProgressStyleModel",
      "state": {
       "description_width": ""
      }
     },
     "69084b7840854a438fd1524e1d81395b": {
      "model_module": "@jupyter-widgets/base",
      "model_module_version": "1.2.0",
      "model_name": "LayoutModel",
      "state": {}
     },
     "6998bf578d7c4fc1870e53dc94a0be13": {
      "model_module": "@jupyter-widgets/controls",
      "model_module_version": "1.5.0",
      "model_name": "FloatProgressModel",
      "state": {
       "bar_style": "success",
       "layout": "IPY_MODEL_af940534a2454a2c9f6b43dd5dd69086",
       "max": 140,
       "style": "IPY_MODEL_c4aae6cc492f47618949dea261abe616",
       "value": 140
      }
     },
     "6a935efc6f3b4f1a9fff7889bdeed41a": {
      "model_module": "@jupyter-widgets/controls",
      "model_module_version": "1.5.0",
      "model_name": "DescriptionStyleModel",
      "state": {
       "description_width": ""
      }
     },
     "6d6bb85a0d154bfba2261da30482e896": {
      "model_module": "@jupyter-widgets/controls",
      "model_module_version": "1.5.0",
      "model_name": "ProgressStyleModel",
      "state": {
       "description_width": ""
      }
     },
     "6d7aa82c58aa41d1bb9c70ee8c1a520f": {
      "model_module": "@jupyter-widgets/base",
      "model_module_version": "1.2.0",
      "model_name": "LayoutModel",
      "state": {}
     },
     "6f23038b446d4514b4d3a2dfae8cdebd": {
      "model_module": "@jupyter-widgets/controls",
      "model_module_version": "1.5.0",
      "model_name": "ProgressStyleModel",
      "state": {
       "description_width": ""
      }
     },
     "70c4c828a440443899225456b3207ff8": {
      "model_module": "@jupyter-widgets/base",
      "model_module_version": "1.2.0",
      "model_name": "LayoutModel",
      "state": {}
     },
     "71325cf1563e4307aea0e2628cf7c9eb": {
      "model_module": "@jupyter-widgets/controls",
      "model_module_version": "1.5.0",
      "model_name": "DescriptionStyleModel",
      "state": {
       "description_width": ""
      }
     },
     "71a7003a550b46e29187d761179b2ef9": {
      "model_module": "@jupyter-widgets/base",
      "model_module_version": "1.2.0",
      "model_name": "LayoutModel",
      "state": {}
     },
     "72972f54a6dc4382bcac49869ca29746": {
      "model_module": "@jupyter-widgets/controls",
      "model_module_version": "1.5.0",
      "model_name": "FloatProgressModel",
      "state": {
       "bar_style": "danger",
       "layout": "IPY_MODEL_e4f2e03504894668a3bf4271f3e14054",
       "max": 26352,
       "style": "IPY_MODEL_32b82eb933b24136a02e07ced2f13226",
       "value": 1258
      }
     },
     "7306557d99af4776a64880bea1d347db": {
      "model_module": "@jupyter-widgets/base",
      "model_module_version": "1.2.0",
      "model_name": "LayoutModel",
      "state": {}
     },
     "74a7c1ffb532425291e05b43f10cb2da": {
      "model_module": "@jupyter-widgets/controls",
      "model_module_version": "1.5.0",
      "model_name": "FloatProgressModel",
      "state": {
       "bar_style": "success",
       "layout": "IPY_MODEL_b65c67e0c47b4e93aef9f25a65c844fe",
       "max": 25920,
       "style": "IPY_MODEL_ecf8d55b5eb3403cb1e587df7ac2627b",
       "value": 25920
      }
     },
     "74d8465559694fbf93f8d2914a2357ac": {
      "model_module": "@jupyter-widgets/base",
      "model_module_version": "1.2.0",
      "model_name": "LayoutModel",
      "state": {}
     },
     "75c102489ffa4bd4a32a8211deb45fc8": {
      "model_module": "@jupyter-widgets/controls",
      "model_module_version": "1.5.0",
      "model_name": "HTMLModel",
      "state": {
       "layout": "IPY_MODEL_74d8465559694fbf93f8d2914a2357ac",
       "style": "IPY_MODEL_282a810544d4479ca1b06d3e58d1f200",
       "value": " 48/48 [00:00&lt;00:00, 266.14it/s]"
      }
     },
     "7639b8850e1141629a2fff47987b80a9": {
      "model_module": "@jupyter-widgets/controls",
      "model_module_version": "1.5.0",
      "model_name": "DescriptionStyleModel",
      "state": {
       "description_width": ""
      }
     },
     "772e8b2e34d544ec82193a8fffa9460a": {
      "model_module": "@jupyter-widgets/controls",
      "model_module_version": "1.5.0",
      "model_name": "HTMLModel",
      "state": {
       "layout": "IPY_MODEL_e5866ca1c11d4d418e38fa32f6b27f79",
       "style": "IPY_MODEL_c5d83e24e6e84ccc82d17c12e5f6f505",
       "value": " 140/140 [00:00&lt;00:00, 206.99it/s]"
      }
     },
     "783520be68b64d92a03ae2fc2ed27776": {
      "model_module": "@jupyter-widgets/controls",
      "model_module_version": "1.5.0",
      "model_name": "DescriptionStyleModel",
      "state": {
       "description_width": ""
      }
     },
     "78d15eca1b4b48d9a13df3ca20f04a69": {
      "model_module": "@jupyter-widgets/base",
      "model_module_version": "1.2.0",
      "model_name": "LayoutModel",
      "state": {}
     },
     "7a810f3a42134e6288a0d672f03ff601": {
      "model_module": "@jupyter-widgets/base",
      "model_module_version": "1.2.0",
      "model_name": "LayoutModel",
      "state": {}
     },
     "7b9a66612e2d49b3b0fe693b9054576b": {
      "model_module": "@jupyter-widgets/base",
      "model_module_version": "1.2.0",
      "model_name": "LayoutModel",
      "state": {}
     },
     "7bb72569b77048eca41cd429cae32b51": {
      "model_module": "@jupyter-widgets/controls",
      "model_module_version": "1.5.0",
      "model_name": "HTMLModel",
      "state": {
       "layout": "IPY_MODEL_845569c33d074165b905f234c344eee8",
       "style": "IPY_MODEL_49bd1881d9674cf38c55e63660370ed4",
       "value": " 8640/8640 [01:13&lt;00:00, 117.94it/s]"
      }
     },
     "7c5bff29ed6a4b939ad53c59931a16f7": {
      "model_module": "@jupyter-widgets/base",
      "model_module_version": "1.2.0",
      "model_name": "LayoutModel",
      "state": {}
     },
     "7d0bb6699a334defbb73b81ec46bd0d8": {
      "model_module": "@jupyter-widgets/controls",
      "model_module_version": "1.5.0",
      "model_name": "DescriptionStyleModel",
      "state": {
       "description_width": ""
      }
     },
     "7d0ec3a1001b42ddbffe21f9f98927b8": {
      "model_module": "@jupyter-widgets/controls",
      "model_module_version": "1.5.0",
      "model_name": "FloatProgressModel",
      "state": {
       "bar_style": "success",
       "layout": "IPY_MODEL_d6258eb73e8f4c1e969f2325a8e90c78",
       "max": 140,
       "style": "IPY_MODEL_01d2da49ce4046c59ed017dd841519a5",
       "value": 140
      }
     },
     "7d2742e453f14cf58e2dbe4079797200": {
      "model_module": "@jupyter-widgets/controls",
      "model_module_version": "1.5.0",
      "model_name": "ProgressStyleModel",
      "state": {
       "description_width": ""
      }
     },
     "7f405bfe08d04b5e98e5bd09f09007b5": {
      "model_module": "@jupyter-widgets/base",
      "model_module_version": "1.2.0",
      "model_name": "LayoutModel",
      "state": {}
     },
     "7f7f1359299048608d678cb134f6cc21": {
      "model_module": "@jupyter-widgets/base",
      "model_module_version": "1.2.0",
      "model_name": "LayoutModel",
      "state": {}
     },
     "7fbdd1ca46be4079a0691452256370ae": {
      "model_module": "@jupyter-widgets/base",
      "model_module_version": "1.2.0",
      "model_name": "LayoutModel",
      "state": {}
     },
     "8039d93069754a2e8a083d90ceff6333": {
      "model_module": "@jupyter-widgets/base",
      "model_module_version": "1.2.0",
      "model_name": "LayoutModel",
      "state": {}
     },
     "810f2889c08d4bebb4173e9f9cf52536": {
      "model_module": "@jupyter-widgets/controls",
      "model_module_version": "1.5.0",
      "model_name": "DescriptionStyleModel",
      "state": {
       "description_width": ""
      }
     },
     "81a484b59adb4107905b635c6a14a98d": {
      "model_module": "@jupyter-widgets/controls",
      "model_module_version": "1.5.0",
      "model_name": "DescriptionStyleModel",
      "state": {
       "description_width": ""
      }
     },
     "81c513671d464e49bbe0d55414703111": {
      "model_module": "@jupyter-widgets/controls",
      "model_module_version": "1.5.0",
      "model_name": "FloatProgressModel",
      "state": {
       "bar_style": "success",
       "layout": "IPY_MODEL_841ee92c34814494937d1059f894a066",
       "max": 48,
       "style": "IPY_MODEL_d4273c6bff8a4ad0992551591731aaa2",
       "value": 48
      }
     },
     "82892b73361e4f799f25aacbc74f79f4": {
      "model_module": "@jupyter-widgets/controls",
      "model_module_version": "1.5.0",
      "model_name": "DescriptionStyleModel",
      "state": {
       "description_width": ""
      }
     },
     "82aca5a0fa8e45309abe44cc46c7799c": {
      "model_module": "@jupyter-widgets/base",
      "model_module_version": "1.2.0",
      "model_name": "LayoutModel",
      "state": {}
     },
     "82b7020b7dd74df2a7fa453ac786216a": {
      "model_module": "@jupyter-widgets/controls",
      "model_module_version": "1.5.0",
      "model_name": "FloatProgressModel",
      "state": {
       "bar_style": "success",
       "layout": "IPY_MODEL_3243c13e2c1941b0bf6ebf5c485ddb3e",
       "max": 140,
       "style": "IPY_MODEL_220b281cfadf4c9b9bb3a1560f677cc6",
       "value": 140
      }
     },
     "83621a2a650642da88e484f76d348adf": {
      "model_module": "@jupyter-widgets/controls",
      "model_module_version": "1.5.0",
      "model_name": "HTMLModel",
      "state": {
       "layout": "IPY_MODEL_53bc3038f650468c9ec734c5b30a3517",
       "style": "IPY_MODEL_919baf9f976c4970b32164732cc7dbcc",
       "value": " 4768/4768 [00:00&lt;00:00, 16118.13it/s]"
      }
     },
     "83ca0b999a214550b3674d896e9c6fbe": {
      "model_module": "@jupyter-widgets/controls",
      "model_module_version": "1.5.0",
      "model_name": "FloatProgressModel",
      "state": {
       "bar_style": "success",
       "layout": "IPY_MODEL_07067a0670ab4ddb8e26ff075cc74b9d",
       "max": 48,
       "style": "IPY_MODEL_e78756ce8bd84c5baad79515ef402fc4",
       "value": 48
      }
     },
     "841ee92c34814494937d1059f894a066": {
      "model_module": "@jupyter-widgets/base",
      "model_module_version": "1.2.0",
      "model_name": "LayoutModel",
      "state": {}
     },
     "843c4c6ac9084c199af4a51951f31d0e": {
      "model_module": "@jupyter-widgets/controls",
      "model_module_version": "1.5.0",
      "model_name": "FloatProgressModel",
      "state": {
       "bar_style": "success",
       "layout": "IPY_MODEL_e6c5e1e3b1584eef901f13f20e55e6aa",
       "max": 8784,
       "style": "IPY_MODEL_bda66c5de2944fdaa90d46fe8948d14f",
       "value": 8784
      }
     },
     "845569c33d074165b905f234c344eee8": {
      "model_module": "@jupyter-widgets/base",
      "model_module_version": "1.2.0",
      "model_name": "LayoutModel",
      "state": {}
     },
     "84a4d75812cd4abeab21e8efe7844eee": {
      "model_module": "@jupyter-widgets/controls",
      "model_module_version": "1.5.0",
      "model_name": "FloatProgressModel",
      "state": {
       "bar_style": "success",
       "layout": "IPY_MODEL_e52435e3285d42c78abf738885cb45b0",
       "max": 48,
       "style": "IPY_MODEL_32a6f9e7ff414d05b5966ccf2985e9ab",
       "value": 48
      }
     },
     "85fab5f26948491bb4cfbff881617740": {
      "model_module": "@jupyter-widgets/controls",
      "model_module_version": "1.5.0",
      "model_name": "HTMLModel",
      "state": {
       "layout": "IPY_MODEL_4c6648e9c7fe44a3b2732e85cba8fba8",
       "style": "IPY_MODEL_96b32bb2c3904f43ad3bce8eda7c2647",
       "value": " 48/48 [00:00&lt;00:00, 179.57it/s]"
      }
     },
     "86116e24990d4809a368c8b86f0cc818": {
      "model_module": "@jupyter-widgets/base",
      "model_module_version": "1.2.0",
      "model_name": "LayoutModel",
      "state": {}
     },
     "863efcd3aaaa4ac1931988746a735a2a": {
      "model_module": "@jupyter-widgets/controls",
      "model_module_version": "1.5.0",
      "model_name": "HTMLModel",
      "state": {
       "layout": "IPY_MODEL_5117285a00c845cda39600ec31d1fb22",
       "style": "IPY_MODEL_82892b73361e4f799f25aacbc74f79f4",
       "value": " 1258/26352 [00:46&lt;15:37, 26.78it/s]"
      }
     },
     "86c215bb027d48faa070f7071d24f342": {
      "model_module": "@jupyter-widgets/controls",
      "model_module_version": "1.5.0",
      "model_name": "DescriptionStyleModel",
      "state": {
       "description_width": ""
      }
     },
     "87ddb1afd4df42379e24bc2e47653bcf": {
      "model_module": "@jupyter-widgets/controls",
      "model_module_version": "1.5.0",
      "model_name": "HTMLModel",
      "state": {
       "layout": "IPY_MODEL_3333c6232c6c444dbff7612820ddd571",
       "style": "IPY_MODEL_180f4806b45e4f63b5a2c2b4d8447665",
       "value": " 48/48 [00:00&lt;00:00, 113.72it/s]"
      }
     },
     "892aac88652048d09a081246cc64d327": {
      "model_module": "@jupyter-widgets/controls",
      "model_module_version": "1.5.0",
      "model_name": "DescriptionStyleModel",
      "state": {
       "description_width": ""
      }
     },
     "89c2d31b6e644978a9de49acdc36f20c": {
      "model_module": "@jupyter-widgets/controls",
      "model_module_version": "1.5.0",
      "model_name": "HTMLModel",
      "state": {
       "layout": "IPY_MODEL_91ed93406fe74a30b58a19d0c5b3664b",
       "style": "IPY_MODEL_175dd21d97064e7aa6576a6b1f68894b",
       "value": "100%"
      }
     },
     "8d4565ab19924da083c8d3124c0c8452": {
      "model_module": "@jupyter-widgets/controls",
      "model_module_version": "1.5.0",
      "model_name": "DescriptionStyleModel",
      "state": {
       "description_width": ""
      }
     },
     "8eba7d4261604a9182ee25ea3273a3f8": {
      "model_module": "@jupyter-widgets/controls",
      "model_module_version": "1.5.0",
      "model_name": "HTMLModel",
      "state": {
       "layout": "IPY_MODEL_23b9a6504caf479cbb92ef6c33c133b7",
       "style": "IPY_MODEL_4f36e7f96d9046fba2b042cb6d88a80a",
       "value": " 48/48 [00:00&lt;00:00, 76.10it/s]"
      }
     },
     "90bf4a1fc23148389b9037b9476c1437": {
      "model_module": "@jupyter-widgets/base",
      "model_module_version": "1.2.0",
      "model_name": "LayoutModel",
      "state": {}
     },
     "919baf9f976c4970b32164732cc7dbcc": {
      "model_module": "@jupyter-widgets/controls",
      "model_module_version": "1.5.0",
      "model_name": "DescriptionStyleModel",
      "state": {
       "description_width": ""
      }
     },
     "91aed09df62f4059934e1d11aea67af1": {
      "model_module": "@jupyter-widgets/controls",
      "model_module_version": "1.5.0",
      "model_name": "HTMLModel",
      "state": {
       "layout": "IPY_MODEL_1ad222bea4024d7482f918dfb745b64a",
       "style": "IPY_MODEL_892aac88652048d09a081246cc64d327",
       "value": " 8784/8784 [00:13&lt;00:00, 644.01it/s]"
      }
     },
     "91ed93406fe74a30b58a19d0c5b3664b": {
      "model_module": "@jupyter-widgets/base",
      "model_module_version": "1.2.0",
      "model_name": "LayoutModel",
      "state": {}
     },
     "92247c0f060540ddbc2599fbd7c8a9b6": {
      "model_module": "@jupyter-widgets/controls",
      "model_module_version": "1.5.0",
      "model_name": "FloatProgressModel",
      "state": {
       "bar_style": "success",
       "layout": "IPY_MODEL_ee4dcaf35fba47c39ad5de87e3d23921",
       "max": 140,
       "style": "IPY_MODEL_ebbfd8fca949423faca081d3f8b6dac8",
       "value": 140
      }
     },
     "955f602fe4f148af98f027b8236265a7": {
      "model_module": "@jupyter-widgets/controls",
      "model_module_version": "1.5.0",
      "model_name": "FloatProgressModel",
      "state": {
       "bar_style": "danger",
       "layout": "IPY_MODEL_f08a4e64a8bd46d883a8bc636c18d2a0",
       "max": 25920,
       "style": "IPY_MODEL_14c60585fb33467e950bf61b1706462c",
       "value": 3746
      }
     },
     "960643d476964bb7b98fe18cb948fb87": {
      "model_module": "@jupyter-widgets/controls",
      "model_module_version": "1.5.0",
      "model_name": "DescriptionStyleModel",
      "state": {
       "description_width": ""
      }
     },
     "96b32bb2c3904f43ad3bce8eda7c2647": {
      "model_module": "@jupyter-widgets/controls",
      "model_module_version": "1.5.0",
      "model_name": "DescriptionStyleModel",
      "state": {
       "description_width": ""
      }
     },
     "975fa1f2499b43efa961e774caa4bb22": {
      "model_module": "@jupyter-widgets/controls",
      "model_module_version": "1.5.0",
      "model_name": "HBoxModel",
      "state": {
       "children": [
        "IPY_MODEL_e02c9e22694a48b8a66914d1ddf5df05",
        "IPY_MODEL_e341302d75544255b648ee9e682876d8",
        "IPY_MODEL_83621a2a650642da88e484f76d348adf"
       ],
       "layout": "IPY_MODEL_7a810f3a42134e6288a0d672f03ff601"
      }
     },
     "980f0fa1906f4c7192ecabd536822bc1": {
      "model_module": "@jupyter-widgets/controls",
      "model_module_version": "1.5.0",
      "model_name": "FloatProgressModel",
      "state": {
       "bar_style": "success",
       "layout": "IPY_MODEL_49ccef612acc4aea92db8289a8bc2b8a",
       "max": 140,
       "style": "IPY_MODEL_6f23038b446d4514b4d3a2dfae8cdebd",
       "value": 140
      }
     },
     "99ad49f3809e43a79a7e01edb29928ca": {
      "model_module": "@jupyter-widgets/controls",
      "model_module_version": "1.5.0",
      "model_name": "HTMLModel",
      "state": {
       "layout": "IPY_MODEL_ecdde9edd0b04a8c8e66f0a335691b7f",
       "style": "IPY_MODEL_b0069749199647448e553b8ecf590211",
       "value": "100%"
      }
     },
     "9c4a73c886284e699b815792dc104183": {
      "model_module": "@jupyter-widgets/controls",
      "model_module_version": "1.5.0",
      "model_name": "HTMLModel",
      "state": {
       "layout": "IPY_MODEL_62419959a3de48d29b53bc5cc8a38d05",
       "style": "IPY_MODEL_783520be68b64d92a03ae2fc2ed27776",
       "value": " 26352/26352 [01:39&lt;00:00, 265.75it/s]"
      }
     },
     "9db7a0dd083d4efa86b37028cff36612": {
      "model_module": "@jupyter-widgets/controls",
      "model_module_version": "1.5.0",
      "model_name": "HTMLModel",
      "state": {
       "layout": "IPY_MODEL_a02659ee5e2d40c0a3bc3304000bffd8",
       "style": "IPY_MODEL_bbb89a1c96794cc4a624e606d2e56ff7",
       "value": "100%"
      }
     },
     "a01d42abf85343778ea760bd2f35e928": {
      "model_module": "@jupyter-widgets/controls",
      "model_module_version": "1.5.0",
      "model_name": "HBoxModel",
      "state": {
       "children": [
        "IPY_MODEL_21f540ad99ff4d7881a282bc69a1778f",
        "IPY_MODEL_7d0ec3a1001b42ddbffe21f9f98927b8",
        "IPY_MODEL_280c7ae8ff454049942dd66c0d7aaf5a"
       ],
       "layout": "IPY_MODEL_e59c575cabdd4a8ba17e08bd22698d67"
      }
     },
     "a02659ee5e2d40c0a3bc3304000bffd8": {
      "model_module": "@jupyter-widgets/base",
      "model_module_version": "1.2.0",
      "model_name": "LayoutModel",
      "state": {}
     },
     "a0e7abbed82f406facc3174c99813639": {
      "model_module": "@jupyter-widgets/controls",
      "model_module_version": "1.5.0",
      "model_name": "HTMLModel",
      "state": {
       "layout": "IPY_MODEL_d788e4c1864944b3b838e3f20240f274",
       "style": "IPY_MODEL_bebb70b163d8465e96a995700d49677c",
       "value": " 25920/25920 [04:32&lt;00:00, 95.17it/s]"
      }
     },
     "a14f7fb0e7604fae8f4f9dd8c58299e7": {
      "model_module": "@jupyter-widgets/base",
      "model_module_version": "1.2.0",
      "model_name": "LayoutModel",
      "state": {}
     },
     "a1c4a419d78e48dcb255518a6962cfc2": {
      "model_module": "@jupyter-widgets/controls",
      "model_module_version": "1.5.0",
      "model_name": "FloatProgressModel",
      "state": {
       "bar_style": "success",
       "layout": "IPY_MODEL_f08fec6922a64a1493e0bc0c5d2f2b60",
       "max": 48,
       "style": "IPY_MODEL_3dfe8fab3ce3475ba5f285952654e64c",
       "value": 48
      }
     },
     "a2d38d7a99db41d88b6c963daa7444c6": {
      "model_module": "@jupyter-widgets/controls",
      "model_module_version": "1.5.0",
      "model_name": "DescriptionStyleModel",
      "state": {
       "description_width": ""
      }
     },
     "a3757e61384a44998a3ecdfddb3f20ae": {
      "model_module": "@jupyter-widgets/base",
      "model_module_version": "1.2.0",
      "model_name": "LayoutModel",
      "state": {}
     },
     "a3c9bec9affe4923b1c70d5b4ef1bb13": {
      "model_module": "@jupyter-widgets/controls",
      "model_module_version": "1.5.0",
      "model_name": "HTMLModel",
      "state": {
       "layout": "IPY_MODEL_7f405bfe08d04b5e98e5bd09f09007b5",
       "style": "IPY_MODEL_d5fc61d765aa41ed9aef81765180709c",
       "value": "100%"
      }
     },
     "a69e262478c041e2946edeaded4e52c8": {
      "model_module": "@jupyter-widgets/base",
      "model_module_version": "1.2.0",
      "model_name": "LayoutModel",
      "state": {}
     },
     "a857d7b8794d4f009a3bd752c7ca8bc6": {
      "model_module": "@jupyter-widgets/controls",
      "model_module_version": "1.5.0",
      "model_name": "FloatProgressModel",
      "state": {
       "bar_style": "success",
       "layout": "IPY_MODEL_5fa075baba6e4455be025ac1d2219f89",
       "max": 48,
       "style": "IPY_MODEL_67763131e00b4f37a84d60c8fd824aa2",
       "value": 48
      }
     },
     "a93aa7ba58f84123a3ec293791bc6c8e": {
      "model_module": "@jupyter-widgets/controls",
      "model_module_version": "1.5.0",
      "model_name": "FloatProgressModel",
      "state": {
       "bar_style": "success",
       "layout": "IPY_MODEL_3df67214f58e4dcf8e03af7caf9172df",
       "max": 140,
       "style": "IPY_MODEL_436302400896453a992377485d0f81bf",
       "value": 140
      }
     },
     "ac484152876a4dd1857b15c3439883b2": {
      "model_module": "@jupyter-widgets/base",
      "model_module_version": "1.2.0",
      "model_name": "LayoutModel",
      "state": {}
     },
     "ace4c6fb54144f10b3ec22613604feba": {
      "model_module": "@jupyter-widgets/controls",
      "model_module_version": "1.5.0",
      "model_name": "FloatProgressModel",
      "state": {
       "bar_style": "success",
       "layout": "IPY_MODEL_4411e21b47bc455484432b98a8905ab2",
       "max": 48,
       "style": "IPY_MODEL_7d2742e453f14cf58e2dbe4079797200",
       "value": 48
      }
     },
     "ae7046a1afb6450eb8c0eb143d8773f1": {
      "model_module": "@jupyter-widgets/controls",
      "model_module_version": "1.5.0",
      "model_name": "DescriptionStyleModel",
      "state": {
       "description_width": ""
      }
     },
     "ae98c8a12eff406eb18191653f71339c": {
      "model_module": "@jupyter-widgets/base",
      "model_module_version": "1.2.0",
      "model_name": "LayoutModel",
      "state": {}
     },
     "af940534a2454a2c9f6b43dd5dd69086": {
      "model_module": "@jupyter-widgets/base",
      "model_module_version": "1.2.0",
      "model_name": "LayoutModel",
      "state": {}
     },
     "afe584b7e70843019c915f87dd647a0e": {
      "model_module": "@jupyter-widgets/controls",
      "model_module_version": "1.5.0",
      "model_name": "FloatProgressModel",
      "state": {
       "bar_style": "success",
       "layout": "IPY_MODEL_ed21d7d84c7c4fd78cad6ec5d907edc5",
       "max": 140,
       "style": "IPY_MODEL_b77230db57224e458b6b83ca1d8ef555",
       "value": 140
      }
     },
     "affccbe210674079b0aab0f06c622c6c": {
      "model_module": "@jupyter-widgets/controls",
      "model_module_version": "1.5.0",
      "model_name": "DescriptionStyleModel",
      "state": {
       "description_width": ""
      }
     },
     "b0069749199647448e553b8ecf590211": {
      "model_module": "@jupyter-widgets/controls",
      "model_module_version": "1.5.0",
      "model_name": "DescriptionStyleModel",
      "state": {
       "description_width": ""
      }
     },
     "b32029f8fc5f4fb3bec3913df800de70": {
      "model_module": "@jupyter-widgets/controls",
      "model_module_version": "1.5.0",
      "model_name": "HTMLModel",
      "state": {
       "layout": "IPY_MODEL_a69e262478c041e2946edeaded4e52c8",
       "style": "IPY_MODEL_623ef39c33944ed8811f99b76c803cc8",
       "value": " 48/48 [00:00&lt;00:00, 163.73it/s]"
      }
     },
     "b376096a36fe4e0abd1c3b69d4ff7148": {
      "model_module": "@jupyter-widgets/controls",
      "model_module_version": "1.5.0",
      "model_name": "HBoxModel",
      "state": {
       "children": [
        "IPY_MODEL_d78f2f310bb442d4a1702e1998376347",
        "IPY_MODEL_72972f54a6dc4382bcac49869ca29746",
        "IPY_MODEL_863efcd3aaaa4ac1931988746a735a2a"
       ],
       "layout": "IPY_MODEL_58d57d55ba0b47eb8860f8be1fc2f9ba"
      }
     },
     "b38e9acf0bb648a9a6d303f462630eee": {
      "model_module": "@jupyter-widgets/base",
      "model_module_version": "1.2.0",
      "model_name": "LayoutModel",
      "state": {}
     },
     "b65c67e0c47b4e93aef9f25a65c844fe": {
      "model_module": "@jupyter-widgets/base",
      "model_module_version": "1.2.0",
      "model_name": "LayoutModel",
      "state": {}
     },
     "b6abbb017f8f479bb0fe0ba61f20a4a3": {
      "model_module": "@jupyter-widgets/controls",
      "model_module_version": "1.5.0",
      "model_name": "HTMLModel",
      "state": {
       "layout": "IPY_MODEL_78d15eca1b4b48d9a13df3ca20f04a69",
       "style": "IPY_MODEL_affccbe210674079b0aab0f06c622c6c",
       "value": "100%"
      }
     },
     "b77230db57224e458b6b83ca1d8ef555": {
      "model_module": "@jupyter-widgets/controls",
      "model_module_version": "1.5.0",
      "model_name": "ProgressStyleModel",
      "state": {
       "description_width": ""
      }
     },
     "b83560c1f5d24efd9c2efaf2be83bad1": {
      "model_module": "@jupyter-widgets/controls",
      "model_module_version": "1.5.0",
      "model_name": "ProgressStyleModel",
      "state": {
       "description_width": ""
      }
     },
     "b8502ffefb9d437db62139a900ff4348": {
      "model_module": "@jupyter-widgets/base",
      "model_module_version": "1.2.0",
      "model_name": "LayoutModel",
      "state": {}
     },
     "baaf3913295245d68e90d9d6d1b9a51a": {
      "model_module": "@jupyter-widgets/controls",
      "model_module_version": "1.5.0",
      "model_name": "HTMLModel",
      "state": {
       "layout": "IPY_MODEL_04f5c423fedc4d39895b69cff14c100e",
       "style": "IPY_MODEL_5b9fb991739b42e88b8ee7776dab6098",
       "value": " 8784/8784 [03:41&lt;00:00, 39.65it/s]"
      }
     },
     "bbb89a1c96794cc4a624e606d2e56ff7": {
      "model_module": "@jupyter-widgets/controls",
      "model_module_version": "1.5.0",
      "model_name": "DescriptionStyleModel",
      "state": {
       "description_width": ""
      }
     },
     "bd289db9f16648d1af5f74e14adaad95": {
      "model_module": "@jupyter-widgets/controls",
      "model_module_version": "1.5.0",
      "model_name": "HBoxModel",
      "state": {
       "children": [
        "IPY_MODEL_e21d12f6f47347b6b767c83c0971462f",
        "IPY_MODEL_980f0fa1906f4c7192ecabd536822bc1",
        "IPY_MODEL_c3f73da031b0475d8a1be1d67afa7fb6"
       ],
       "layout": "IPY_MODEL_d5e5e84799dc4f958566a9f23de38be5"
      }
     },
     "bda66c5de2944fdaa90d46fe8948d14f": {
      "model_module": "@jupyter-widgets/controls",
      "model_module_version": "1.5.0",
      "model_name": "ProgressStyleModel",
      "state": {
       "description_width": ""
      }
     },
     "be27349865b844088742e58a63a47e1a": {
      "model_module": "@jupyter-widgets/base",
      "model_module_version": "1.2.0",
      "model_name": "LayoutModel",
      "state": {}
     },
     "bebb70b163d8465e96a995700d49677c": {
      "model_module": "@jupyter-widgets/controls",
      "model_module_version": "1.5.0",
      "model_name": "DescriptionStyleModel",
      "state": {
       "description_width": ""
      }
     },
     "bf81bda49086449da5663423f36bbef8": {
      "model_module": "@jupyter-widgets/controls",
      "model_module_version": "1.5.0",
      "model_name": "HBoxModel",
      "state": {
       "children": [
        "IPY_MODEL_230f2c2c8fb547f0aa006f875e2d4f37",
        "IPY_MODEL_6998bf578d7c4fc1870e53dc94a0be13",
        "IPY_MODEL_772e8b2e34d544ec82193a8fffa9460a"
       ],
       "layout": "IPY_MODEL_fdc7d62ae39c41bc9125730598f952b4"
      }
     },
     "bfceec17cb994694bd75159b52d06ed1": {
      "model_module": "@jupyter-widgets/base",
      "model_module_version": "1.2.0",
      "model_name": "LayoutModel",
      "state": {}
     },
     "c04bf7c70c4845dabc4934dcb5be769d": {
      "model_module": "@jupyter-widgets/base",
      "model_module_version": "1.2.0",
      "model_name": "LayoutModel",
      "state": {}
     },
     "c137d7490f1e41cf969b7696f6cb399c": {
      "model_module": "@jupyter-widgets/base",
      "model_module_version": "1.2.0",
      "model_name": "LayoutModel",
      "state": {}
     },
     "c3284344445c4ec0802de9b16cac22c2": {
      "model_module": "@jupyter-widgets/controls",
      "model_module_version": "1.5.0",
      "model_name": "HBoxModel",
      "state": {
       "children": [
        "IPY_MODEL_b6abbb017f8f479bb0fe0ba61f20a4a3",
        "IPY_MODEL_dc89a9717cce49efba19f465cfdf63d3",
        "IPY_MODEL_baaf3913295245d68e90d9d6d1b9a51a"
       ],
       "layout": "IPY_MODEL_d5d03bbe74a44159a16fe23852887ea6"
      }
     },
     "c3f73da031b0475d8a1be1d67afa7fb6": {
      "model_module": "@jupyter-widgets/controls",
      "model_module_version": "1.5.0",
      "model_name": "HTMLModel",
      "state": {
       "layout": "IPY_MODEL_8039d93069754a2e8a083d90ceff6333",
       "style": "IPY_MODEL_130b506342064dfe8660725ad721d173",
       "value": " 140/140 [00:01&lt;00:00, 104.07it/s]"
      }
     },
     "c4aae6cc492f47618949dea261abe616": {
      "model_module": "@jupyter-widgets/controls",
      "model_module_version": "1.5.0",
      "model_name": "ProgressStyleModel",
      "state": {
       "description_width": ""
      }
     },
     "c5bcf3de13be4934815b3f48e07e749b": {
      "model_module": "@jupyter-widgets/controls",
      "model_module_version": "1.5.0",
      "model_name": "DescriptionStyleModel",
      "state": {
       "description_width": ""
      }
     },
     "c5d83e24e6e84ccc82d17c12e5f6f505": {
      "model_module": "@jupyter-widgets/controls",
      "model_module_version": "1.5.0",
      "model_name": "DescriptionStyleModel",
      "state": {
       "description_width": ""
      }
     },
     "c6ca69ada1094a98b190b453fb9ed46f": {
      "model_module": "@jupyter-widgets/controls",
      "model_module_version": "1.5.0",
      "model_name": "DescriptionStyleModel",
      "state": {
       "description_width": ""
      }
     },
     "c7ffa2497f8a4cee90e9c5dc4f2dd500": {
      "model_module": "@jupyter-widgets/controls",
      "model_module_version": "1.5.0",
      "model_name": "ProgressStyleModel",
      "state": {
       "description_width": ""
      }
     },
     "c923ccab3b5c44f0ab899e0f3b9f229c": {
      "model_module": "@jupyter-widgets/controls",
      "model_module_version": "1.5.0",
      "model_name": "DescriptionStyleModel",
      "state": {
       "description_width": ""
      }
     },
     "ca57dba508ed40f4add7efc7dec4eaa5": {
      "model_module": "@jupyter-widgets/base",
      "model_module_version": "1.2.0",
      "model_name": "LayoutModel",
      "state": {}
     },
     "caa6742f6a994b9cbfc677bcf30ae4ae": {
      "model_module": "@jupyter-widgets/base",
      "model_module_version": "1.2.0",
      "model_name": "LayoutModel",
      "state": {}
     },
     "cbc161256ea440fbb020c682b0833f97": {
      "model_module": "@jupyter-widgets/controls",
      "model_module_version": "1.5.0",
      "model_name": "DescriptionStyleModel",
      "state": {
       "description_width": ""
      }
     },
     "cc32886cd3e04006a30ded4fdf0196cd": {
      "model_module": "@jupyter-widgets/base",
      "model_module_version": "1.2.0",
      "model_name": "LayoutModel",
      "state": {}
     },
     "ccb3896ff4f74e6196ac73b452219119": {
      "model_module": "@jupyter-widgets/controls",
      "model_module_version": "1.5.0",
      "model_name": "DescriptionStyleModel",
      "state": {
       "description_width": ""
      }
     },
     "cfbdfa1decea47ed93a35a01097dd5da": {
      "model_module": "@jupyter-widgets/controls",
      "model_module_version": "1.5.0",
      "model_name": "HBoxModel",
      "state": {
       "children": [
        "IPY_MODEL_2720d822e6204225a984984d574152bc",
        "IPY_MODEL_afe584b7e70843019c915f87dd647a0e",
        "IPY_MODEL_048ae7b48cdc4948906c10af48d4d59e"
       ],
       "layout": "IPY_MODEL_eac230fb612b4f7d85d3467a0014b126"
      }
     },
     "d241a91b79be4974b7826eab017a0965": {
      "model_module": "@jupyter-widgets/controls",
      "model_module_version": "1.5.0",
      "model_name": "FloatProgressModel",
      "state": {
       "bar_style": "success",
       "layout": "IPY_MODEL_14359e84a492416692ddafd943e561b0",
       "max": 48,
       "style": "IPY_MODEL_f9a2d8fe76b14f98b8c41a84b165a53c",
       "value": 48
      }
     },
     "d3b01d8c1cb641e7ab7d5a747822966b": {
      "model_module": "@jupyter-widgets/controls",
      "model_module_version": "1.5.0",
      "model_name": "HTMLModel",
      "state": {
       "layout": "IPY_MODEL_7b9a66612e2d49b3b0fe693b9054576b",
       "style": "IPY_MODEL_4716d63b469f46bcaf14ce2748ec1379",
       "value": " 48/48 [00:00&lt;00:00, 227.47it/s]"
      }
     },
     "d4273c6bff8a4ad0992551591731aaa2": {
      "model_module": "@jupyter-widgets/controls",
      "model_module_version": "1.5.0",
      "model_name": "ProgressStyleModel",
      "state": {
       "description_width": ""
      }
     },
     "d42ca9573f5c41bcb2c3697cb8382c7e": {
      "model_module": "@jupyter-widgets/controls",
      "model_module_version": "1.5.0",
      "model_name": "DescriptionStyleModel",
      "state": {
       "description_width": ""
      }
     },
     "d5d03bbe74a44159a16fe23852887ea6": {
      "model_module": "@jupyter-widgets/base",
      "model_module_version": "1.2.0",
      "model_name": "LayoutModel",
      "state": {}
     },
     "d5e5e84799dc4f958566a9f23de38be5": {
      "model_module": "@jupyter-widgets/base",
      "model_module_version": "1.2.0",
      "model_name": "LayoutModel",
      "state": {}
     },
     "d5fc61d765aa41ed9aef81765180709c": {
      "model_module": "@jupyter-widgets/controls",
      "model_module_version": "1.5.0",
      "model_name": "DescriptionStyleModel",
      "state": {
       "description_width": ""
      }
     },
     "d6258eb73e8f4c1e969f2325a8e90c78": {
      "model_module": "@jupyter-widgets/base",
      "model_module_version": "1.2.0",
      "model_name": "LayoutModel",
      "state": {}
     },
     "d6356ef55cd746b9ba62fb99b4b4fa18": {
      "model_module": "@jupyter-widgets/controls",
      "model_module_version": "1.5.0",
      "model_name": "HTMLModel",
      "state": {
       "layout": "IPY_MODEL_dc6c2c877e074439aa1ae1011b2a86a8",
       "style": "IPY_MODEL_7639b8850e1141629a2fff47987b80a9",
       "value": " 140/140 [00:01&lt;00:00, 139.51it/s]"
      }
     },
     "d67f1e9b277d4fb08452b8316d3c0064": {
      "model_module": "@jupyter-widgets/base",
      "model_module_version": "1.2.0",
      "model_name": "LayoutModel",
      "state": {}
     },
     "d788e4c1864944b3b838e3f20240f274": {
      "model_module": "@jupyter-widgets/base",
      "model_module_version": "1.2.0",
      "model_name": "LayoutModel",
      "state": {}
     },
     "d78f2f310bb442d4a1702e1998376347": {
      "model_module": "@jupyter-widgets/controls",
      "model_module_version": "1.5.0",
      "model_name": "HTMLModel",
      "state": {
       "layout": "IPY_MODEL_7c5bff29ed6a4b939ad53c59931a16f7",
       "style": "IPY_MODEL_4ce012354e0f452991346b69b3bbccfc",
       "value": "  5%"
      }
     },
     "d8980d32467c4722aa2704b407008064": {
      "model_module": "@jupyter-widgets/controls",
      "model_module_version": "1.5.0",
      "model_name": "HBoxModel",
      "state": {
       "children": [
        "IPY_MODEL_e43bf8927ced4d90ae60a7b7d1bec7af",
        "IPY_MODEL_a1c4a419d78e48dcb255518a6962cfc2",
        "IPY_MODEL_b32029f8fc5f4fb3bec3913df800de70"
       ],
       "layout": "IPY_MODEL_7f7f1359299048608d678cb134f6cc21"
      }
     },
     "d98afdcd1f2a42dcb1744a1440926fdd": {
      "model_module": "@jupyter-widgets/controls",
      "model_module_version": "1.5.0",
      "model_name": "DescriptionStyleModel",
      "state": {
       "description_width": ""
      }
     },
     "d99076ccf91444968e5edd8422b192bf": {
      "model_module": "@jupyter-widgets/controls",
      "model_module_version": "1.5.0",
      "model_name": "ProgressStyleModel",
      "state": {
       "description_width": ""
      }
     },
     "da7a4d97889b4d5b9169f0a758abb486": {
      "model_module": "@jupyter-widgets/base",
      "model_module_version": "1.2.0",
      "model_name": "LayoutModel",
      "state": {}
     },
     "dbb007ba4dff4165b1f33807f6829bd1": {
      "model_module": "@jupyter-widgets/controls",
      "model_module_version": "1.5.0",
      "model_name": "HTMLModel",
      "state": {
       "layout": "IPY_MODEL_69084b7840854a438fd1524e1d81395b",
       "style": "IPY_MODEL_810f2889c08d4bebb4173e9f9cf52536",
       "value": " 140/140 [00:11&lt;00:00, 12.19it/s]"
      }
     },
     "dbbd3ff3c7184988aee4c1b0731bf9a1": {
      "model_module": "@jupyter-widgets/base",
      "model_module_version": "1.2.0",
      "model_name": "LayoutModel",
      "state": {}
     },
     "dc6c2c877e074439aa1ae1011b2a86a8": {
      "model_module": "@jupyter-widgets/base",
      "model_module_version": "1.2.0",
      "model_name": "LayoutModel",
      "state": {}
     },
     "dc89a9717cce49efba19f465cfdf63d3": {
      "model_module": "@jupyter-widgets/controls",
      "model_module_version": "1.5.0",
      "model_name": "FloatProgressModel",
      "state": {
       "bar_style": "success",
       "layout": "IPY_MODEL_14bb007c50c24ccb9f36f77ca1e38e57",
       "max": 8784,
       "style": "IPY_MODEL_d99076ccf91444968e5edd8422b192bf",
       "value": 8784
      }
     },
     "dcc8684024564d84855e49816b68663e": {
      "model_module": "@jupyter-widgets/base",
      "model_module_version": "1.2.0",
      "model_name": "LayoutModel",
      "state": {}
     },
     "df3f6c6cd2f34f3295428b2b5238de13": {
      "model_module": "@jupyter-widgets/controls",
      "model_module_version": "1.5.0",
      "model_name": "HTMLModel",
      "state": {
       "layout": "IPY_MODEL_1c380e0d2ee7432b911b6b827c737102",
       "style": "IPY_MODEL_c5bcf3de13be4934815b3f48e07e749b",
       "value": " 48/48 [00:00&lt;00:00, 155.82it/s]"
      }
     },
     "e023409b457944b8911040f1ce80c16f": {
      "model_module": "@jupyter-widgets/base",
      "model_module_version": "1.2.0",
      "model_name": "LayoutModel",
      "state": {}
     },
     "e02c9e22694a48b8a66914d1ddf5df05": {
      "model_module": "@jupyter-widgets/controls",
      "model_module_version": "1.5.0",
      "model_name": "HTMLModel",
      "state": {
       "layout": "IPY_MODEL_82aca5a0fa8e45309abe44cc46c7799c",
       "style": "IPY_MODEL_ccb3896ff4f74e6196ac73b452219119",
       "value": "100%"
      }
     },
     "e045907f15f943d2b8bf5e6aaaccffd5": {
      "model_module": "@jupyter-widgets/controls",
      "model_module_version": "1.5.0",
      "model_name": "ProgressStyleModel",
      "state": {
       "description_width": ""
      }
     },
     "e1b6a4a835034e2fa1fbc7cf8cfb0b71": {
      "model_module": "@jupyter-widgets/base",
      "model_module_version": "1.2.0",
      "model_name": "LayoutModel",
      "state": {}
     },
     "e21d12f6f47347b6b767c83c0971462f": {
      "model_module": "@jupyter-widgets/controls",
      "model_module_version": "1.5.0",
      "model_name": "HTMLModel",
      "state": {
       "layout": "IPY_MODEL_febf25440be7468ca769d6bc93e90f14",
       "style": "IPY_MODEL_4b4e34b353db45e1b59b7de4758d5ba2",
       "value": "100%"
      }
     },
     "e341302d75544255b648ee9e682876d8": {
      "model_module": "@jupyter-widgets/controls",
      "model_module_version": "1.5.0",
      "model_name": "FloatProgressModel",
      "state": {
       "bar_style": "success",
       "layout": "IPY_MODEL_ac484152876a4dd1857b15c3439883b2",
       "max": 4768,
       "style": "IPY_MODEL_fa0c8a6c02af4cd28a1f49375c019fa3",
       "value": 4768
      }
     },
     "e43bf8927ced4d90ae60a7b7d1bec7af": {
      "model_module": "@jupyter-widgets/controls",
      "model_module_version": "1.5.0",
      "model_name": "HTMLModel",
      "state": {
       "layout": "IPY_MODEL_90bf4a1fc23148389b9037b9476c1437",
       "style": "IPY_MODEL_3b4e5cfd3c9f4feda56b441b46d9a8e7",
       "value": "100%"
      }
     },
     "e4f2e03504894668a3bf4271f3e14054": {
      "model_module": "@jupyter-widgets/base",
      "model_module_version": "1.2.0",
      "model_name": "LayoutModel",
      "state": {}
     },
     "e52435e3285d42c78abf738885cb45b0": {
      "model_module": "@jupyter-widgets/base",
      "model_module_version": "1.2.0",
      "model_name": "LayoutModel",
      "state": {}
     },
     "e5866ca1c11d4d418e38fa32f6b27f79": {
      "model_module": "@jupyter-widgets/base",
      "model_module_version": "1.2.0",
      "model_name": "LayoutModel",
      "state": {}
     },
     "e59c575cabdd4a8ba17e08bd22698d67": {
      "model_module": "@jupyter-widgets/base",
      "model_module_version": "1.2.0",
      "model_name": "LayoutModel",
      "state": {}
     },
     "e62498b18e314fa88a7ff4cc0fb1eb95": {
      "model_module": "@jupyter-widgets/base",
      "model_module_version": "1.2.0",
      "model_name": "LayoutModel",
      "state": {}
     },
     "e6c5e1e3b1584eef901f13f20e55e6aa": {
      "model_module": "@jupyter-widgets/base",
      "model_module_version": "1.2.0",
      "model_name": "LayoutModel",
      "state": {}
     },
     "e76a16c7f5c64f58ad8ee23b05a6678c": {
      "model_module": "@jupyter-widgets/base",
      "model_module_version": "1.2.0",
      "model_name": "LayoutModel",
      "state": {}
     },
     "e78756ce8bd84c5baad79515ef402fc4": {
      "model_module": "@jupyter-widgets/controls",
      "model_module_version": "1.5.0",
      "model_name": "ProgressStyleModel",
      "state": {
       "description_width": ""
      }
     },
     "e91992e869d0433ca784a71abce5f81a": {
      "model_module": "@jupyter-widgets/controls",
      "model_module_version": "1.5.0",
      "model_name": "DescriptionStyleModel",
      "state": {
       "description_width": ""
      }
     },
     "eac230fb612b4f7d85d3467a0014b126": {
      "model_module": "@jupyter-widgets/base",
      "model_module_version": "1.2.0",
      "model_name": "LayoutModel",
      "state": {}
     },
     "eb089f4788e64fc29a84f9614269dd5f": {
      "model_module": "@jupyter-widgets/controls",
      "model_module_version": "1.5.0",
      "model_name": "HBoxModel",
      "state": {
       "children": [
        "IPY_MODEL_89c2d31b6e644978a9de49acdc36f20c",
        "IPY_MODEL_a857d7b8794d4f009a3bd752c7ca8bc6",
        "IPY_MODEL_85fab5f26948491bb4cfbff881617740"
       ],
       "layout": "IPY_MODEL_bfceec17cb994694bd75159b52d06ed1"
      }
     },
     "eb446b35eddf4cc9a582fe45ff77b007": {
      "model_module": "@jupyter-widgets/controls",
      "model_module_version": "1.5.0",
      "model_name": "DescriptionStyleModel",
      "state": {
       "description_width": ""
      }
     },
     "ebbfd8fca949423faca081d3f8b6dac8": {
      "model_module": "@jupyter-widgets/controls",
      "model_module_version": "1.5.0",
      "model_name": "ProgressStyleModel",
      "state": {
       "description_width": ""
      }
     },
     "ecd6e6698651408f9df8d2665b82bad8": {
      "model_module": "@jupyter-widgets/base",
      "model_module_version": "1.2.0",
      "model_name": "LayoutModel",
      "state": {}
     },
     "ecdde9edd0b04a8c8e66f0a335691b7f": {
      "model_module": "@jupyter-widgets/base",
      "model_module_version": "1.2.0",
      "model_name": "LayoutModel",
      "state": {}
     },
     "ece0b307c28544c48446b3c0857233df": {
      "model_module": "@jupyter-widgets/controls",
      "model_module_version": "1.5.0",
      "model_name": "HBoxModel",
      "state": {
       "children": [
        "IPY_MODEL_99ad49f3809e43a79a7e01edb29928ca",
        "IPY_MODEL_3919b7c189e6455481cee17c6319c8eb",
        "IPY_MODEL_4c82ad63228b467683f59f5c63c19bcf"
       ],
       "layout": "IPY_MODEL_caa6742f6a994b9cbfc677bcf30ae4ae"
      }
     },
     "ecf8d55b5eb3403cb1e587df7ac2627b": {
      "model_module": "@jupyter-widgets/controls",
      "model_module_version": "1.5.0",
      "model_name": "ProgressStyleModel",
      "state": {
       "description_width": ""
      }
     },
     "ed21d7d84c7c4fd78cad6ec5d907edc5": {
      "model_module": "@jupyter-widgets/base",
      "model_module_version": "1.2.0",
      "model_name": "LayoutModel",
      "state": {}
     },
     "ee4dcaf35fba47c39ad5de87e3d23921": {
      "model_module": "@jupyter-widgets/base",
      "model_module_version": "1.2.0",
      "model_name": "LayoutModel",
      "state": {}
     },
     "ef67c46af5f44769955d094d08e57715": {
      "model_module": "@jupyter-widgets/controls",
      "model_module_version": "1.5.0",
      "model_name": "HBoxModel",
      "state": {
       "children": [
        "IPY_MODEL_05f80b27683c4d80a2f5aca3634ff60a",
        "IPY_MODEL_955f602fe4f148af98f027b8236265a7",
        "IPY_MODEL_1e328634293340dd8b2616f7eb1aa231"
       ],
       "layout": "IPY_MODEL_ecd6e6698651408f9df8d2665b82bad8"
      }
     },
     "f08a4e64a8bd46d883a8bc636c18d2a0": {
      "model_module": "@jupyter-widgets/base",
      "model_module_version": "1.2.0",
      "model_name": "LayoutModel",
      "state": {}
     },
     "f08fec6922a64a1493e0bc0c5d2f2b60": {
      "model_module": "@jupyter-widgets/base",
      "model_module_version": "1.2.0",
      "model_name": "LayoutModel",
      "state": {}
     },
     "f3eb7880b92e4f64b0ec00c97f4cba59": {
      "model_module": "@jupyter-widgets/controls",
      "model_module_version": "1.5.0",
      "model_name": "HTMLModel",
      "state": {
       "layout": "IPY_MODEL_115ab36c52294f5dbde19c7e16fbbab9",
       "style": "IPY_MODEL_e91992e869d0433ca784a71abce5f81a",
       "value": "100%"
      }
     },
     "f437041975564759b216d9ddec235f39": {
      "model_module": "@jupyter-widgets/controls",
      "model_module_version": "1.5.0",
      "model_name": "HBoxModel",
      "state": {
       "children": [
        "IPY_MODEL_2f88bedbfcd440d78a62e85b61b259b8",
        "IPY_MODEL_81c513671d464e49bbe0d55414703111",
        "IPY_MODEL_d3b01d8c1cb641e7ab7d5a747822966b"
       ],
       "layout": "IPY_MODEL_347665d4d029404aa6878cfc7f290f84"
      }
     },
     "f6d348c053c545df88954bd127096bf2": {
      "model_module": "@jupyter-widgets/controls",
      "model_module_version": "1.5.0",
      "model_name": "HBoxModel",
      "state": {
       "children": [
        "IPY_MODEL_f3eb7880b92e4f64b0ec00c97f4cba59",
        "IPY_MODEL_74a7c1ffb532425291e05b43f10cb2da",
        "IPY_MODEL_a0e7abbed82f406facc3174c99813639"
       ],
       "layout": "IPY_MODEL_dcc8684024564d84855e49816b68663e"
      }
     },
     "f6da35588e1b421a9799fe65529d2ead": {
      "model_module": "@jupyter-widgets/controls",
      "model_module_version": "1.5.0",
      "model_name": "HTMLModel",
      "state": {
       "layout": "IPY_MODEL_86116e24990d4809a368c8b86f0cc818",
       "style": "IPY_MODEL_c923ccab3b5c44f0ab899e0f3b9f229c",
       "value": " 140/140 [00:01&lt;00:00, 128.14it/s]"
      }
     },
     "f91e9853979e456c899cabef7f2aa6a7": {
      "model_module": "@jupyter-widgets/controls",
      "model_module_version": "1.5.0",
      "model_name": "DescriptionStyleModel",
      "state": {
       "description_width": ""
      }
     },
     "f9a2d8fe76b14f98b8c41a84b165a53c": {
      "model_module": "@jupyter-widgets/controls",
      "model_module_version": "1.5.0",
      "model_name": "ProgressStyleModel",
      "state": {
       "description_width": ""
      }
     },
     "fa0c8a6c02af4cd28a1f49375c019fa3": {
      "model_module": "@jupyter-widgets/controls",
      "model_module_version": "1.5.0",
      "model_name": "ProgressStyleModel",
      "state": {
       "description_width": ""
      }
     },
     "fa1a6625bb424564830a38dd63bbea53": {
      "model_module": "@jupyter-widgets/controls",
      "model_module_version": "1.5.0",
      "model_name": "HTMLModel",
      "state": {
       "layout": "IPY_MODEL_3327c3feac9e420998ec59bc3a2adfb8",
       "style": "IPY_MODEL_86c215bb027d48faa070f7071d24f342",
       "value": " 140/140 [00:01&lt;00:00, 122.28it/s]"
      }
     },
     "fa531f984ac7460a938e0dcd5075265a": {
      "model_module": "@jupyter-widgets/controls",
      "model_module_version": "1.5.0",
      "model_name": "HBoxModel",
      "state": {
       "children": [
        "IPY_MODEL_a3c9bec9affe4923b1c70d5b4ef1bb13",
        "IPY_MODEL_83ca0b999a214550b3674d896e9c6fbe",
        "IPY_MODEL_87ddb1afd4df42379e24bc2e47653bcf"
       ],
       "layout": "IPY_MODEL_e023409b457944b8911040f1ce80c16f"
      }
     },
     "fc3d2bb954464562900cf44004aaf7c7": {
      "model_module": "@jupyter-widgets/base",
      "model_module_version": "1.2.0",
      "model_name": "LayoutModel",
      "state": {}
     },
     "fd87f2ef4e744cb889d888a2e34e2aae": {
      "model_module": "@jupyter-widgets/controls",
      "model_module_version": "1.5.0",
      "model_name": "HTMLModel",
      "state": {
       "layout": "IPY_MODEL_ca57dba508ed40f4add7efc7dec4eaa5",
       "style": "IPY_MODEL_81a484b59adb4107905b635c6a14a98d",
       "value": "100%"
      }
     },
     "fda0daa060be493b9156b0adfaaa6775": {
      "model_module": "@jupyter-widgets/controls",
      "model_module_version": "1.5.0",
      "model_name": "HTMLModel",
      "state": {
       "layout": "IPY_MODEL_1571e5c2b5be448f8ef48cc6aab6761e",
       "style": "IPY_MODEL_7d0bb6699a334defbb73b81ec46bd0d8",
       "value": "100%"
      }
     },
     "fdc7d62ae39c41bc9125730598f952b4": {
      "model_module": "@jupyter-widgets/base",
      "model_module_version": "1.2.0",
      "model_name": "LayoutModel",
      "state": {}
     },
     "fdd492125a59416daa54a601bf107bf0": {
      "model_module": "@jupyter-widgets/base",
      "model_module_version": "1.2.0",
      "model_name": "LayoutModel",
      "state": {}
     },
     "fdeba8874e1b492ea2829807e443d0fb": {
      "model_module": "@jupyter-widgets/controls",
      "model_module_version": "1.5.0",
      "model_name": "HTMLModel",
      "state": {
       "layout": "IPY_MODEL_71a7003a550b46e29187d761179b2ef9",
       "style": "IPY_MODEL_6a935efc6f3b4f1a9fff7889bdeed41a",
       "value": "100%"
      }
     },
     "febf25440be7468ca769d6bc93e90f14": {
      "model_module": "@jupyter-widgets/base",
      "model_module_version": "1.2.0",
      "model_name": "LayoutModel",
      "state": {}
     }
    },
    "version_major": 2,
    "version_minor": 0
   }
  }
 },
 "nbformat": 4,
 "nbformat_minor": 4
}
