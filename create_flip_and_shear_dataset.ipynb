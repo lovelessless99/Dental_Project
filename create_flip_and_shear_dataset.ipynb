{
 "cells": [
  {
   "cell_type": "code",
   "execution_count": 1,
   "metadata": {},
   "outputs": [],
   "source": [
    "from tqdm.notebook import tqdm_notebook as tqdm\n",
    "\n",
    "import numpy as np\n",
    "import random\n",
    "import shutil\n",
    "import json\n",
    "import glob\n",
    "import cv2\n",
    "import os"
   ]
  },
  {
   "cell_type": "code",
   "execution_count": 2,
   "metadata": {},
   "outputs": [
    {
     "data": {
      "application/vnd.jupyter.widget-view+json": {
       "model_id": "33e438d99e3e473ab0e28fe05d763a17",
       "version_major": 2,
       "version_minor": 0
      },
      "text/plain": [
       "HBox(children=(FloatProgress(value=1.0, bar_style='info', layout=Layout(width='20px'), max=1.0), HTML(value=''…"
      ]
     },
     "metadata": {},
     "output_type": "display_data"
    },
    {
     "name": "stdout",
     "output_type": "stream",
     "text": [
      "\n"
     ]
    },
    {
     "data": {
      "application/vnd.jupyter.widget-view+json": {
       "model_id": "ead30209af8f44ce870c40939432961e",
       "version_major": 2,
       "version_minor": 0
      },
      "text/plain": [
       "HBox(children=(FloatProgress(value=1.0, bar_style='info', layout=Layout(width='20px'), max=1.0), HTML(value=''…"
      ]
     },
     "metadata": {},
     "output_type": "display_data"
    },
    {
     "name": "stdout",
     "output_type": "stream",
     "text": [
      "\n"
     ]
    }
   ],
   "source": [
    "def create_flip_dataset(dir_name):\n",
    "        all_image = ( i for i in glob.iglob(\"Dental_Data/PBL/%s/*.png\" % dir_name) )\n",
    "\n",
    "        destination_dir = \"Dental_Data/PBL/%s_Flip\" % dir_name\n",
    "        json_file = \"Dental_Data/PBL/%s/mapping.json\" % dir_name\n",
    "        if not os.path.isdir(destination_dir): os.makedirs(destination_dir)\n",
    "        \n",
    "        mapping_data = json.load(open(\"Dental_Data/PBL/%s/mapping.json\" %dir_name, \"r\"))\n",
    "        filter_mapping_data_Flip  = { path.replace(dir_name, \"%s_Flip\" % dir_name): state for path, state in mapping_data.items()  }\n",
    "        json.dump(filter_mapping_data_Flip, open(json_file.replace( dir_name , \"%s_Flip\" % dir_name ), 'w'), indent=4)\n",
    "#         shutil.copy(json_file, json_file.replace( dir_name , \"%s_Flip\" % dir_name ))\n",
    "\n",
    "        for image_path in tqdm(all_image):\n",
    "                image = cv2.imread(image_path, 0)\n",
    "                image = cv2.flip(image, 1)\n",
    "                image_path = image_path.replace(dir_name, \"%s_Flip\" % dir_name)\n",
    "                cv2.imwrite(image_path, image)\n",
    "                \n",
    "def create_shear_dataset(dir_name):\n",
    "        all_image = ( i for i in glob.iglob(\"Dental_Data/PBL/%s/*.png\" % dir_name) )\n",
    "\n",
    "        destination_dir = \"Dental_Data/PBL/%s_Shear\" % dir_name\n",
    "        json_file = \"Dental_Data/PBL/%s/mapping.json\" % dir_name\n",
    "        if not os.path.isdir(destination_dir): os.makedirs(destination_dir)\n",
    "        \n",
    "        mapping_data = json.load(open(\"Dental_Data/PBL/%s/mapping.json\" %dir_name, \"r\"))\n",
    "        filter_mapping_data_Flip  = { path.replace(dir_name, \"%s_Shear\" % dir_name): state for path, state in mapping_data.items()  }\n",
    "        json.dump(filter_mapping_data_Flip, open(json_file.replace( dir_name , \"%s_Shear\" % dir_name ), 'w'), indent=4)\n",
    "\n",
    "        shear_range  = ( -0.1 , 0.1)\n",
    "        \n",
    "        for image_path in tqdm(all_image):\n",
    "                shear_factor = random.uniform(*shear_range)\n",
    "                image = cv2.imread(image_path, 0)\n",
    "                H, W = image.shape\n",
    "                \n",
    "                corner = np.float32([ \n",
    "                      [0, 0],\n",
    "                      [H, 0],\n",
    "                      [H, W],\n",
    "                      [0, W]\n",
    "                   ])\n",
    "        \n",
    "                affine = np.float32([ \n",
    "                            [1, shear_factor],\n",
    "                            [0, 1],\n",
    "                         ])\n",
    "        \n",
    "                new_corner = np.dot(corner, affine)\n",
    "                negative = new_corner[new_corner<0]\n",
    "                \n",
    "                if len(negative) == 0: M2 = np.float32([[1, shear_factor, 0], [0, 1, 0]])\n",
    "                else: \n",
    "                        negative = min(negative)\n",
    "                        M2 = np.float32([[1, shear_factor, -negative], [0, 1, 0]])\n",
    "\n",
    "                nW = image.shape[1] + abs(shear_factor*image.shape[0])\n",
    "                \n",
    "                image = cv2.warpAffine(image, M2, (int(nW), H))\n",
    "                image_path = image_path.replace(dir_name, \"%s_Shear\" % dir_name)\n",
    "                cv2.imwrite(image_path, image)\n",
    "                \n",
    "        \n",
    "                \n",
    "# flip_dataset = [ \"10_interdental_20200901_Max_4_HV\", \"10_interdental_clahe_20200901_Max_4_HV\",\n",
    "#                  \"10_interdental_20200901_Max_4_stage\", \"10_interdental_clahe_20200901_Max_4_stage\"\n",
    "#                ]\n",
    "\n",
    "\n",
    "\n",
    "flip_dataset = [ \"10_interdental_20200901_Max_4\", \"10_interdental_clahe_20200901_Max_4\" ]\n",
    "# #                  \"5_20200810\" , \"5_clahe_20200810\" , \"5_interdental_20200810\" , \"5_interdental_clahe_20200810\" ]\n",
    "\n",
    "for dataset in flip_dataset:\n",
    "#         create_flip_dataset(dataset)\n",
    "        create_shear_dataset(dataset)"
   ]
  },
  {
   "cell_type": "code",
   "execution_count": 3,
   "metadata": {},
   "outputs": [],
   "source": [
    "# import matplotlib.pyplot as plt\n",
    "# image = cv2.imread(\"Dental_Data/PBL/10_clahe_20200901/16-31-08-628_000408 102419 x_NN_191024_151623_BE78A8_6_-10.png\", 0)\n",
    "\n",
    "# rows,cols = image.shape  \n",
    "# # Shear\n",
    "# pts1 = np.float32([[5,5],[20,5],[5,20]])\n",
    "# shear_range = 5\n",
    "# pt1 = 5  + shear_range*np.random.uniform()-shear_range/2\n",
    "# pt2 = 20 + shear_range*np.random.uniform()-shear_range/2\n",
    "# pts2 = np.float32([[pt1,5],[pt2,pt1],[5,pt2]])\n",
    "# shear_M = cv2.getAffineTransform(pts1,pts2)\n",
    "# img = cv2.warpAffine(image,shear_M,(cols,rows))\n",
    "\n",
    "# plt.subplot(121)\n",
    "# plt.imshow(image, cmap='gray')\n",
    "# plt.axis('off')\n",
    "\n",
    "# plt.subplot(122)\n",
    "# plt.imshow(img, cmap='gray')\n",
    "# plt.axis('off')\n",
    "# plt.show()"
   ]
  },
  {
   "cell_type": "code",
   "execution_count": null,
   "metadata": {},
   "outputs": [],
   "source": []
  }
 ],
 "metadata": {
  "kernelspec": {
   "display_name": "Python 3",
   "language": "python",
   "name": "python3"
  },
  "language_info": {
   "codemirror_mode": {
    "name": "ipython",
    "version": 3
   },
   "file_extension": ".py",
   "mimetype": "text/x-python",
   "name": "python",
   "nbconvert_exporter": "python",
   "pygments_lexer": "ipython3",
   "version": "3.6.10"
  },
  "widgets": {
   "application/vnd.jupyter.widget-state+json": {
    "state": {
     "01a26c99581e479b879a5bb260e8a5b0": {
      "model_module": "@jupyter-widgets/base",
      "model_module_version": "1.2.0",
      "model_name": "LayoutModel",
      "state": {}
     },
     "059e148198134a2290da68568a645578": {
      "model_module": "@jupyter-widgets/controls",
      "model_module_version": "1.5.0",
      "model_name": "DescriptionStyleModel",
      "state": {
       "description_width": ""
      }
     },
     "05ba9201b0274b13b744334b8cbc0c44": {
      "model_module": "@jupyter-widgets/controls",
      "model_module_version": "1.5.0",
      "model_name": "HBoxModel",
      "state": {
       "children": [
        "IPY_MODEL_9a9427007e764b60812368af412f533f",
        "IPY_MODEL_bbb76630788d4be58c13b8850cd7a234"
       ],
       "layout": "IPY_MODEL_92987eb306894d1086c5a790ebb26bd1"
      }
     },
     "06890a0d979b4e7f917fe96a896a1221": {
      "model_module": "@jupyter-widgets/controls",
      "model_module_version": "1.5.0",
      "model_name": "ProgressStyleModel",
      "state": {
       "description_width": "initial"
      }
     },
     "06e2bf3dae4b42d9a3b67e2e0260909e": {
      "model_module": "@jupyter-widgets/controls",
      "model_module_version": "1.5.0",
      "model_name": "HTMLModel",
      "state": {
       "layout": "IPY_MODEL_e7fbbbf09f0b43e09baf6f688792e5db",
       "style": "IPY_MODEL_119c56bea8804708b85780e11470fa4b",
       "value": "10520it [00:28, 370.29it/s]"
      }
     },
     "07c253f6ab2848898d4082eb23fb47f5": {
      "model_module": "@jupyter-widgets/controls",
      "model_module_version": "1.5.0",
      "model_name": "ProgressStyleModel",
      "state": {
       "description_width": "initial"
      }
     },
     "08d02e6ae25e440bb90ddaebbe6f42d5": {
      "model_module": "@jupyter-widgets/base",
      "model_module_version": "1.2.0",
      "model_name": "LayoutModel",
      "state": {}
     },
     "0914b85cd44a4fa384cf366706917dd2": {
      "model_module": "@jupyter-widgets/base",
      "model_module_version": "1.2.0",
      "model_name": "LayoutModel",
      "state": {}
     },
     "09d6f050db4e4de28afa5a1db3e5815a": {
      "model_module": "@jupyter-widgets/controls",
      "model_module_version": "1.5.0",
      "model_name": "DescriptionStyleModel",
      "state": {
       "description_width": ""
      }
     },
     "0aa01a4f7964425d8d17c1a37bd2a619": {
      "model_module": "@jupyter-widgets/controls",
      "model_module_version": "1.5.0",
      "model_name": "HBoxModel",
      "state": {
       "children": [
        "IPY_MODEL_311fe3ba4acd4c78bb05a655e7918f24",
        "IPY_MODEL_b0e8f8b4225b49438433f69095c2cf33"
       ],
       "layout": "IPY_MODEL_beec671c99434eb8a38dc185fb058583"
      }
     },
     "0da5070c2792435090dc69219fd385c2": {
      "model_module": "@jupyter-widgets/controls",
      "model_module_version": "1.5.0",
      "model_name": "HTMLModel",
      "state": {
       "layout": "IPY_MODEL_b7d841924bde47399c4ee05ba530748f",
       "style": "IPY_MODEL_3531d304526d4a4fa5627ccef54d85e2",
       "value": "10520it [00:33, 316.33it/s]"
      }
     },
     "0df6a56ae07c4a0994121510e7787604": {
      "model_module": "@jupyter-widgets/controls",
      "model_module_version": "1.5.0",
      "model_name": "FloatProgressModel",
      "state": {
       "bar_style": "success",
       "layout": "IPY_MODEL_e3c1daefe2ca4e8a8c3ba8ae8a4cd628",
       "max": 1,
       "style": "IPY_MODEL_0e01cf3cf3594e9d94658807fa3fc729",
       "value": 1
      }
     },
     "0e01cf3cf3594e9d94658807fa3fc729": {
      "model_module": "@jupyter-widgets/controls",
      "model_module_version": "1.5.0",
      "model_name": "ProgressStyleModel",
      "state": {
       "description_width": "initial"
      }
     },
     "0f8bdf2a8da04421833d920283b38d85": {
      "model_module": "@jupyter-widgets/controls",
      "model_module_version": "1.5.0",
      "model_name": "HTMLModel",
      "state": {
       "layout": "IPY_MODEL_11d81398618b4b8a977194c6fc598587",
       "style": "IPY_MODEL_7430c8f69cd34720a8645b57c2810af6",
       "value": " 47780/? [02:56&lt;00:00, 270.98it/s]"
      }
     },
     "107a19f55d714a5bad4247f0a83f44f1": {
      "model_module": "@jupyter-widgets/base",
      "model_module_version": "1.2.0",
      "model_name": "LayoutModel",
      "state": {
       "width": "20px"
      }
     },
     "10bfdf1d57b3406cb4a8d77a5e905872": {
      "model_module": "@jupyter-widgets/controls",
      "model_module_version": "1.5.0",
      "model_name": "HTMLModel",
      "state": {
       "layout": "IPY_MODEL_be6577c0b620441f9346879ede858b43",
       "style": "IPY_MODEL_e6963ee3771e4119a4a73ef817658f80",
       "value": "101680it [17:06, 99.02it/s]"
      }
     },
     "1136d8a13865464db6cf89be1be3097f": {
      "model_module": "@jupyter-widgets/controls",
      "model_module_version": "1.5.0",
      "model_name": "HBoxModel",
      "state": {
       "children": [
        "IPY_MODEL_7733551c1e264c56b4e550bfd25abfad",
        "IPY_MODEL_166aac7801af4b38bf8b8c178643af21"
       ],
       "layout": "IPY_MODEL_0914b85cd44a4fa384cf366706917dd2"
      }
     },
     "11468219d0e64dcea231f3a7c68085f2": {
      "model_module": "@jupyter-widgets/base",
      "model_module_version": "1.2.0",
      "model_name": "LayoutModel",
      "state": {
       "width": "20px"
      }
     },
     "114b6ec8e66b42b7a38fa6d5baf958fd": {
      "model_module": "@jupyter-widgets/controls",
      "model_module_version": "1.5.0",
      "model_name": "FloatProgressModel",
      "state": {
       "bar_style": "success",
       "layout": "IPY_MODEL_9954f1fc6cdc4cddbadbbaf26aacc9dc",
       "max": 1,
       "style": "IPY_MODEL_d83fba8dd6d444448c87fb88e9aa361b",
       "value": 1
      }
     },
     "119c56bea8804708b85780e11470fa4b": {
      "model_module": "@jupyter-widgets/controls",
      "model_module_version": "1.5.0",
      "model_name": "DescriptionStyleModel",
      "state": {
       "description_width": ""
      }
     },
     "11d81398618b4b8a977194c6fc598587": {
      "model_module": "@jupyter-widgets/base",
      "model_module_version": "1.2.0",
      "model_name": "LayoutModel",
      "state": {}
     },
     "12cff929d13245a79ef21e0e767af46e": {
      "model_module": "@jupyter-widgets/controls",
      "model_module_version": "1.5.0",
      "model_name": "HTMLModel",
      "state": {
       "layout": "IPY_MODEL_ed0d456b3d4b465a8508b1ee8e998437",
       "style": "IPY_MODEL_15450aefac014f5281d826a8b471fd45",
       "value": "95520it [10:46, 147.70it/s]"
      }
     },
     "15450aefac014f5281d826a8b471fd45": {
      "model_module": "@jupyter-widgets/controls",
      "model_module_version": "1.5.0",
      "model_name": "DescriptionStyleModel",
      "state": {
       "description_width": ""
      }
     },
     "166aac7801af4b38bf8b8c178643af21": {
      "model_module": "@jupyter-widgets/controls",
      "model_module_version": "1.5.0",
      "model_name": "HTMLModel",
      "state": {
       "layout": "IPY_MODEL_52054c5b6d8144a5b49b1f34f04400e9",
       "style": "IPY_MODEL_7d7ba208d397403681f2469602622435",
       "value": " 47780/? [05:53&lt;00:00, 135.19it/s]"
      }
     },
     "17c23055734540a98c5ddd2148dafc1d": {
      "model_module": "@jupyter-widgets/controls",
      "model_module_version": "1.5.0",
      "model_name": "DescriptionStyleModel",
      "state": {
       "description_width": ""
      }
     },
     "1a047bdd47714163a5a48b680f0cbc07": {
      "model_module": "@jupyter-widgets/controls",
      "model_module_version": "1.5.0",
      "model_name": "HBoxModel",
      "state": {
       "children": [
        "IPY_MODEL_6f43e196054745d0b0e36f1fac7e03ae",
        "IPY_MODEL_2a5e5ed2cdf44f62b0618ef5500a7d51"
       ],
       "layout": "IPY_MODEL_be3ea7f093ea483fb73689194f335c38"
      }
     },
     "1bdc9a9a665f4f6b85222507acd27c0b": {
      "model_module": "@jupyter-widgets/base",
      "model_module_version": "1.2.0",
      "model_name": "LayoutModel",
      "state": {
       "width": "20px"
      }
     },
     "2292b236789a48e78f491ffef74fba69": {
      "model_module": "@jupyter-widgets/base",
      "model_module_version": "1.2.0",
      "model_name": "LayoutModel",
      "state": {}
     },
     "231cd6834f35424a8ade5e202e3d2df5": {
      "model_module": "@jupyter-widgets/base",
      "model_module_version": "1.2.0",
      "model_name": "LayoutModel",
      "state": {}
     },
     "24ef13dc661447db88fafae74a27fb35": {
      "model_module": "@jupyter-widgets/controls",
      "model_module_version": "1.5.0",
      "model_name": "HTMLModel",
      "state": {
       "layout": "IPY_MODEL_2292b236789a48e78f491ffef74fba69",
       "style": "IPY_MODEL_e6577a090a474d1fa7e229f77fb1bd07",
       "value": " 191120/? [08:18&lt;00:00, 383.14it/s]"
      }
     },
     "250efb20731042cfa06c3628ec2f84ce": {
      "model_module": "@jupyter-widgets/base",
      "model_module_version": "1.2.0",
      "model_name": "LayoutModel",
      "state": {
       "width": "20px"
      }
     },
     "2927dc7bf94742e38d4dfad59d2a3f2d": {
      "model_module": "@jupyter-widgets/controls",
      "model_module_version": "1.5.0",
      "model_name": "ProgressStyleModel",
      "state": {
       "description_width": "initial"
      }
     },
     "29dc413c6f564f7a98b86c56cce2d0d0": {
      "model_module": "@jupyter-widgets/controls",
      "model_module_version": "1.5.0",
      "model_name": "DescriptionStyleModel",
      "state": {
       "description_width": ""
      }
     },
     "2a0ca1f293f04b57a17439fc1c2bd4e4": {
      "model_module": "@jupyter-widgets/base",
      "model_module_version": "1.2.0",
      "model_name": "LayoutModel",
      "state": {}
     },
     "2a5e5ed2cdf44f62b0618ef5500a7d51": {
      "model_module": "@jupyter-widgets/controls",
      "model_module_version": "1.5.0",
      "model_name": "HTMLModel",
      "state": {
       "layout": "IPY_MODEL_51a6990f47a04933ad8447ecea7144e0",
       "style": "IPY_MODEL_62804ebdecb442409b3103355dbcc04c",
       "value": "5260it [00:18, 282.03it/s]"
      }
     },
     "2b133f0e34504b7bb47c08edc6d5a688": {
      "model_module": "@jupyter-widgets/base",
      "model_module_version": "1.2.0",
      "model_name": "LayoutModel",
      "state": {}
     },
     "2cd6edb6eb1f431a83dde0f31b5a2821": {
      "model_module": "@jupyter-widgets/base",
      "model_module_version": "1.2.0",
      "model_name": "LayoutModel",
      "state": {}
     },
     "2d2e60ea6e7048659a5768527154c5a1": {
      "model_module": "@jupyter-widgets/base",
      "model_module_version": "1.2.0",
      "model_name": "LayoutModel",
      "state": {}
     },
     "2e3e289d423d4f14a8b223a9a0f3da51": {
      "model_module": "@jupyter-widgets/controls",
      "model_module_version": "1.5.0",
      "model_name": "HTMLModel",
      "state": {
       "layout": "IPY_MODEL_2d2e60ea6e7048659a5768527154c5a1",
       "style": "IPY_MODEL_4f3f776730454fcc8eda964d05bfbc5f",
       "value": "95520it [05:25, 293.08it/s]"
      }
     },
     "311fe3ba4acd4c78bb05a655e7918f24": {
      "model_module": "@jupyter-widgets/controls",
      "model_module_version": "1.5.0",
      "model_name": "FloatProgressModel",
      "state": {
       "bar_style": "success",
       "layout": "IPY_MODEL_107a19f55d714a5bad4247f0a83f44f1",
       "max": 1,
       "style": "IPY_MODEL_06890a0d979b4e7f917fe96a896a1221",
       "value": 1
      }
     },
     "31fcc0e6acc946e295edb14c99c177a6": {
      "model_module": "@jupyter-widgets/base",
      "model_module_version": "1.2.0",
      "model_name": "LayoutModel",
      "state": {}
     },
     "33ff42503427445e9db05a0cf9bc88ef": {
      "model_module": "@jupyter-widgets/controls",
      "model_module_version": "1.5.0",
      "model_name": "HBoxModel",
      "state": {
       "children": [
        "IPY_MODEL_6fb5c774d0094c59a10b6552b64c9a3c",
        "IPY_MODEL_7a678c09973541fa8081bb71e04af4c8"
       ],
       "layout": "IPY_MODEL_447f2bf942ea4514926aa7d562aaff13"
      }
     },
     "3531d304526d4a4fa5627ccef54d85e2": {
      "model_module": "@jupyter-widgets/controls",
      "model_module_version": "1.5.0",
      "model_name": "DescriptionStyleModel",
      "state": {
       "description_width": ""
      }
     },
     "378fd4f815e648948a4e5a971740dcde": {
      "model_module": "@jupyter-widgets/controls",
      "model_module_version": "1.5.0",
      "model_name": "ProgressStyleModel",
      "state": {
       "description_width": "initial"
      }
     },
     "3cbd9f94ef394b939adfb414af1dcb3f": {
      "model_module": "@jupyter-widgets/controls",
      "model_module_version": "1.5.0",
      "model_name": "ProgressStyleModel",
      "state": {
       "description_width": "initial"
      }
     },
     "437102dbc8a945139802a4d81be4d186": {
      "model_module": "@jupyter-widgets/controls",
      "model_module_version": "1.5.0",
      "model_name": "FloatProgressModel",
      "state": {
       "bar_style": "success",
       "layout": "IPY_MODEL_250efb20731042cfa06c3628ec2f84ce",
       "max": 1,
       "style": "IPY_MODEL_3cbd9f94ef394b939adfb414af1dcb3f",
       "value": 1
      }
     },
     "43749e5bc9634643a5291cbb970c544a": {
      "model_module": "@jupyter-widgets/controls",
      "model_module_version": "1.5.0",
      "model_name": "ProgressStyleModel",
      "state": {
       "description_width": "initial"
      }
     },
     "447f2bf942ea4514926aa7d562aaff13": {
      "model_module": "@jupyter-widgets/base",
      "model_module_version": "1.2.0",
      "model_name": "LayoutModel",
      "state": {}
     },
     "44ad0f22688e48bcb95081b1d53474c5": {
      "model_module": "@jupyter-widgets/controls",
      "model_module_version": "1.5.0",
      "model_name": "HBoxModel",
      "state": {
       "children": [
        "IPY_MODEL_8cee2f0324a641129edc81bd96cff2de",
        "IPY_MODEL_8643995245fb4010a4227612752964fd"
       ],
       "layout": "IPY_MODEL_82324fa9aa3c40b99c687e826986d44d"
      }
     },
     "4603cf39a480425f96b7688b0bcd3e53": {
      "model_module": "@jupyter-widgets/base",
      "model_module_version": "1.2.0",
      "model_name": "LayoutModel",
      "state": {}
     },
     "468ebda06aad4739bcd4883d5e3c0b3f": {
      "model_module": "@jupyter-widgets/controls",
      "model_module_version": "1.5.0",
      "model_name": "HBoxModel",
      "state": {
       "children": [
        "IPY_MODEL_e22ddd332b624979be0c3ef100fcd07a",
        "IPY_MODEL_06e2bf3dae4b42d9a3b67e2e0260909e"
       ],
       "layout": "IPY_MODEL_5abf778e75604b528763b4663e8ef4ba"
      }
     },
     "4944a3172f584c62a526499ba34e73ec": {
      "model_module": "@jupyter-widgets/controls",
      "model_module_version": "1.5.0",
      "model_name": "HBoxModel",
      "state": {
       "children": [
        "IPY_MODEL_59eedd7ffda24a39ad157506acf341b5",
        "IPY_MODEL_9fa11fbfd3d94c15ba5fe320adf0064a"
       ],
       "layout": "IPY_MODEL_08d02e6ae25e440bb90ddaebbe6f42d5"
      }
     },
     "49e34ce8ce5d4ff4ab96a326808a4c29": {
      "model_module": "@jupyter-widgets/controls",
      "model_module_version": "1.5.0",
      "model_name": "DescriptionStyleModel",
      "state": {
       "description_width": ""
      }
     },
     "4b4e7cd750964e49b8366520cb71770a": {
      "model_module": "@jupyter-widgets/controls",
      "model_module_version": "1.5.0",
      "model_name": "ProgressStyleModel",
      "state": {
       "description_width": "initial"
      }
     },
     "4d0ada7b75f04a5e9451b17a9ee6ed35": {
      "model_module": "@jupyter-widgets/base",
      "model_module_version": "1.2.0",
      "model_name": "LayoutModel",
      "state": {
       "width": "20px"
      }
     },
     "4e3cdf823c4844bab29cb54ec5fdb2d6": {
      "model_module": "@jupyter-widgets/controls",
      "model_module_version": "1.5.0",
      "model_name": "HBoxModel",
      "state": {
       "children": [
        "IPY_MODEL_114b6ec8e66b42b7a38fa6d5baf958fd",
        "IPY_MODEL_eeb9c117aade4090891255ba084c3da7"
       ],
       "layout": "IPY_MODEL_7184dda216c24709b213f54096afe90c"
      }
     },
     "4f3f776730454fcc8eda964d05bfbc5f": {
      "model_module": "@jupyter-widgets/controls",
      "model_module_version": "1.5.0",
      "model_name": "DescriptionStyleModel",
      "state": {
       "description_width": ""
      }
     },
     "517aa57605d7413c8e8280f0a75bc2ee": {
      "model_module": "@jupyter-widgets/controls",
      "model_module_version": "1.5.0",
      "model_name": "ProgressStyleModel",
      "state": {
       "description_width": "initial"
      }
     },
     "51a6990f47a04933ad8447ecea7144e0": {
      "model_module": "@jupyter-widgets/base",
      "model_module_version": "1.2.0",
      "model_name": "LayoutModel",
      "state": {}
     },
     "52054c5b6d8144a5b49b1f34f04400e9": {
      "model_module": "@jupyter-widgets/base",
      "model_module_version": "1.2.0",
      "model_name": "LayoutModel",
      "state": {}
     },
     "52adfeb699f94dc997d1003d3dc4a66c": {
      "model_module": "@jupyter-widgets/controls",
      "model_module_version": "1.5.0",
      "model_name": "ProgressStyleModel",
      "state": {
       "description_width": "initial"
      }
     },
     "547eec791edc4057bcd500c41c153b10": {
      "model_module": "@jupyter-widgets/base",
      "model_module_version": "1.2.0",
      "model_name": "LayoutModel",
      "state": {}
     },
     "555f86baf9a4409c8ded117449a67ab2": {
      "model_module": "@jupyter-widgets/base",
      "model_module_version": "1.2.0",
      "model_name": "LayoutModel",
      "state": {}
     },
     "5860a92cb7f14c30b67e83b2c49ab640": {
      "model_module": "@jupyter-widgets/controls",
      "model_module_version": "1.5.0",
      "model_name": "ProgressStyleModel",
      "state": {
       "description_width": "initial"
      }
     },
     "59eedd7ffda24a39ad157506acf341b5": {
      "model_module": "@jupyter-widgets/controls",
      "model_module_version": "1.5.0",
      "model_name": "FloatProgressModel",
      "state": {
       "bar_style": "success",
       "layout": "IPY_MODEL_555f86baf9a4409c8ded117449a67ab2",
       "max": 1,
       "style": "IPY_MODEL_fa7664ec2a3d4a6ebd1f5d8c60b4a3a9",
       "value": 1
      }
     },
     "5a6f7e0fe41f46ecb41f3c0ea23dd2a8": {
      "model_module": "@jupyter-widgets/base",
      "model_module_version": "1.2.0",
      "model_name": "LayoutModel",
      "state": {}
     },
     "5abf778e75604b528763b4663e8ef4ba": {
      "model_module": "@jupyter-widgets/base",
      "model_module_version": "1.2.0",
      "model_name": "LayoutModel",
      "state": {}
     },
     "5b01cae4ccc342019f004a30edfc2812": {
      "model_module": "@jupyter-widgets/controls",
      "model_module_version": "1.5.0",
      "model_name": "FloatProgressModel",
      "state": {
       "bar_style": "success",
       "layout": "IPY_MODEL_97b92c6992c04481b4a6118644415531",
       "max": 1,
       "style": "IPY_MODEL_7a1324dedbd34159a476c930b042788b",
       "value": 1
      }
     },
     "5b4fc74a9d02487b804ddfc58e0f9a01": {
      "model_module": "@jupyter-widgets/controls",
      "model_module_version": "1.5.0",
      "model_name": "HTMLModel",
      "state": {
       "layout": "IPY_MODEL_e4e3f73958b64f1aab6d5fb4f1c74721",
       "style": "IPY_MODEL_76ab5a7408734b3e9b20d6b5424813da",
       "value": "4776it [00:43, 110.78it/s]"
      }
     },
     "5cf0249f4234422cab2c05791dcfd93d": {
      "model_module": "@jupyter-widgets/base",
      "model_module_version": "1.2.0",
      "model_name": "LayoutModel",
      "state": {}
     },
     "60f89230928346ed9ee634a8ed800a2a": {
      "model_module": "@jupyter-widgets/base",
      "model_module_version": "1.2.0",
      "model_name": "LayoutModel",
      "state": {}
     },
     "62804ebdecb442409b3103355dbcc04c": {
      "model_module": "@jupyter-widgets/controls",
      "model_module_version": "1.5.0",
      "model_name": "DescriptionStyleModel",
      "state": {
       "description_width": ""
      }
     },
     "6378a01b64e9436ea7ce3e155418905f": {
      "model_module": "@jupyter-widgets/base",
      "model_module_version": "1.2.0",
      "model_name": "LayoutModel",
      "state": {
       "width": "20px"
      }
     },
     "63f15e311e1c4e4db037e58be176796b": {
      "model_module": "@jupyter-widgets/controls",
      "model_module_version": "1.5.0",
      "model_name": "FloatProgressModel",
      "state": {
       "bar_style": "success",
       "layout": "IPY_MODEL_abbad0f86a99452197f8592c02807cd9",
       "max": 1,
       "style": "IPY_MODEL_43749e5bc9634643a5291cbb970c544a",
       "value": 1
      }
     },
     "65277cca8f9249339600739bb3d64cbe": {
      "model_module": "@jupyter-widgets/controls",
      "model_module_version": "1.5.0",
      "model_name": "ProgressStyleModel",
      "state": {
       "description_width": "initial"
      }
     },
     "69da29aa7b3d47ee8facd01c8eb04044": {
      "model_module": "@jupyter-widgets/controls",
      "model_module_version": "1.5.0",
      "model_name": "HBoxModel",
      "state": {
       "children": [
        "IPY_MODEL_6aab01b165e24a3688f26d0f7fa18b63",
        "IPY_MODEL_10bfdf1d57b3406cb4a8d77a5e905872"
       ],
       "layout": "IPY_MODEL_d9c82bd29280447cb2ccde14c0bf6560"
      }
     },
     "6aab01b165e24a3688f26d0f7fa18b63": {
      "model_module": "@jupyter-widgets/controls",
      "model_module_version": "1.5.0",
      "model_name": "FloatProgressModel",
      "state": {
       "bar_style": "success",
       "layout": "IPY_MODEL_cd839d513f6a4675982e4fc2a0d6d762",
       "max": 1,
       "style": "IPY_MODEL_b6a45d6888bb4a68a466f9b4f3df658d",
       "value": 1
      }
     },
     "6c2520cd42a5425da2d8c4c1a571bd01": {
      "model_module": "@jupyter-widgets/base",
      "model_module_version": "1.2.0",
      "model_name": "LayoutModel",
      "state": {}
     },
     "6d4bd6abb718425a9c6cb29063cf75e6": {
      "model_module": "@jupyter-widgets/controls",
      "model_module_version": "1.5.0",
      "model_name": "HBoxModel",
      "state": {
       "children": [
        "IPY_MODEL_dd47813f110a4a06b3e98dba11f4c3ee",
        "IPY_MODEL_24ef13dc661447db88fafae74a27fb35"
       ],
       "layout": "IPY_MODEL_ff329025cab94638af3bb8d360b00c1d"
      }
     },
     "6f43e196054745d0b0e36f1fac7e03ae": {
      "model_module": "@jupyter-widgets/controls",
      "model_module_version": "1.5.0",
      "model_name": "FloatProgressModel",
      "state": {
       "bar_style": "success",
       "layout": "IPY_MODEL_4d0ada7b75f04a5e9451b17a9ee6ed35",
       "max": 1,
       "style": "IPY_MODEL_2927dc7bf94742e38d4dfad59d2a3f2d",
       "value": 1
      }
     },
     "6fb5c774d0094c59a10b6552b64c9a3c": {
      "model_module": "@jupyter-widgets/controls",
      "model_module_version": "1.5.0",
      "model_name": "FloatProgressModel",
      "state": {
       "bar_style": "success",
       "layout": "IPY_MODEL_bf5ca17040db4ae0822659fbfb29297c",
       "max": 1,
       "style": "IPY_MODEL_9c61d3deee044d52a46cf3f1d9b8805c",
       "value": 1
      }
     },
     "7184dda216c24709b213f54096afe90c": {
      "model_module": "@jupyter-widgets/base",
      "model_module_version": "1.2.0",
      "model_name": "LayoutModel",
      "state": {}
     },
     "7430c8f69cd34720a8645b57c2810af6": {
      "model_module": "@jupyter-widgets/controls",
      "model_module_version": "1.5.0",
      "model_name": "DescriptionStyleModel",
      "state": {
       "description_width": ""
      }
     },
     "7637fe35e0c64d19b57a3adb643faea8": {
      "model_module": "@jupyter-widgets/base",
      "model_module_version": "1.2.0",
      "model_name": "LayoutModel",
      "state": {}
     },
     "76ab5a7408734b3e9b20d6b5424813da": {
      "model_module": "@jupyter-widgets/controls",
      "model_module_version": "1.5.0",
      "model_name": "DescriptionStyleModel",
      "state": {
       "description_width": ""
      }
     },
     "7728b92ed86d4c32a92a4389899b1776": {
      "model_module": "@jupyter-widgets/base",
      "model_module_version": "1.2.0",
      "model_name": "LayoutModel",
      "state": {}
     },
     "7733551c1e264c56b4e550bfd25abfad": {
      "model_module": "@jupyter-widgets/controls",
      "model_module_version": "1.5.0",
      "model_name": "FloatProgressModel",
      "state": {
       "bar_style": "success",
       "layout": "IPY_MODEL_5a6f7e0fe41f46ecb41f3c0ea23dd2a8",
       "max": 1,
       "style": "IPY_MODEL_8da4aa6e6fa94482b081845bf0649527",
       "value": 1
      }
     },
     "781fa97fef704481b6144a4fa741b3a6": {
      "model_module": "@jupyter-widgets/controls",
      "model_module_version": "1.5.0",
      "model_name": "HBoxModel",
      "state": {
       "children": [
        "IPY_MODEL_c46e6887091c4a46aeb29d1cc49d0178",
        "IPY_MODEL_12cff929d13245a79ef21e0e767af46e"
       ],
       "layout": "IPY_MODEL_01a26c99581e479b879a5bb260e8a5b0"
      }
     },
     "7a1324dedbd34159a476c930b042788b": {
      "model_module": "@jupyter-widgets/controls",
      "model_module_version": "1.5.0",
      "model_name": "ProgressStyleModel",
      "state": {
       "description_width": "initial"
      }
     },
     "7a678c09973541fa8081bb71e04af4c8": {
      "model_module": "@jupyter-widgets/controls",
      "model_module_version": "1.5.0",
      "model_name": "HTMLModel",
      "state": {
       "layout": "IPY_MODEL_bc013a610ebf4a619d518a0ba7e07d5d",
       "style": "IPY_MODEL_059e148198134a2290da68568a645578",
       "value": "10520it [00:29, 362.46it/s]"
      }
     },
     "7c96057fb85a4ec9b5dee98568fd1814": {
      "model_module": "@jupyter-widgets/controls",
      "model_module_version": "1.5.0",
      "model_name": "HTMLModel",
      "state": {
       "layout": "IPY_MODEL_db16c32d23b14fa7a3b5d598768a39c1",
       "style": "IPY_MODEL_49e34ce8ce5d4ff4ab96a326808a4c29",
       "value": " 191120/? [14:07&lt;00:00, 225.47it/s]"
      }
     },
     "7d7ba208d397403681f2469602622435": {
      "model_module": "@jupyter-widgets/controls",
      "model_module_version": "1.5.0",
      "model_name": "DescriptionStyleModel",
      "state": {
       "description_width": ""
      }
     },
     "7f814348a6974d6dbf11399b26b6d4e9": {
      "model_module": "@jupyter-widgets/controls",
      "model_module_version": "1.5.0",
      "model_name": "HTMLModel",
      "state": {
       "layout": "IPY_MODEL_31fcc0e6acc946e295edb14c99c177a6",
       "style": "IPY_MODEL_91ceca9a7d14407c91e8c663389caed5",
       "value": " 95560/? [04:09&lt;00:00, 382.86it/s]"
      }
     },
     "80a720339d624ce6b3f4ce5fa56d8397": {
      "model_module": "@jupyter-widgets/base",
      "model_module_version": "1.2.0",
      "model_name": "LayoutModel",
      "state": {}
     },
     "82324fa9aa3c40b99c687e826986d44d": {
      "model_module": "@jupyter-widgets/base",
      "model_module_version": "1.2.0",
      "model_name": "LayoutModel",
      "state": {}
     },
     "853374163db74ce682f4efa324875ab3": {
      "model_module": "@jupyter-widgets/controls",
      "model_module_version": "1.5.0",
      "model_name": "FloatProgressModel",
      "state": {
       "bar_style": "success",
       "layout": "IPY_MODEL_1bdc9a9a665f4f6b85222507acd27c0b",
       "max": 1,
       "style": "IPY_MODEL_4b4e7cd750964e49b8366520cb71770a",
       "value": 1
      }
     },
     "8643995245fb4010a4227612752964fd": {
      "model_module": "@jupyter-widgets/controls",
      "model_module_version": "1.5.0",
      "model_name": "HTMLModel",
      "state": {
       "layout": "IPY_MODEL_5cf0249f4234422cab2c05791dcfd93d",
       "style": "IPY_MODEL_29dc413c6f564f7a98b86c56cce2d0d0",
       "value": " 95560/? [04:04&lt;00:00, 390.43it/s]"
      }
     },
     "89d02a6f8be4494dac42f944ff998fa1": {
      "model_module": "@jupyter-widgets/controls",
      "model_module_version": "1.5.0",
      "model_name": "ProgressStyleModel",
      "state": {
       "description_width": "initial"
      }
     },
     "8a180cf09713401f9df6dec95f6eb7bd": {
      "model_module": "@jupyter-widgets/controls",
      "model_module_version": "1.5.0",
      "model_name": "ProgressStyleModel",
      "state": {
       "description_width": "initial"
      }
     },
     "8cee2f0324a641129edc81bd96cff2de": {
      "model_module": "@jupyter-widgets/controls",
      "model_module_version": "1.5.0",
      "model_name": "FloatProgressModel",
      "state": {
       "bar_style": "success",
       "layout": "IPY_MODEL_c02dc15387d04a71accd8fb3c5ac7e95",
       "max": 1,
       "style": "IPY_MODEL_52adfeb699f94dc997d1003d3dc4a66c",
       "value": 1
      }
     },
     "8da4aa6e6fa94482b081845bf0649527": {
      "model_module": "@jupyter-widgets/controls",
      "model_module_version": "1.5.0",
      "model_name": "ProgressStyleModel",
      "state": {
       "description_width": "initial"
      }
     },
     "8dbd476d1d3747b49852665db2b455b3": {
      "model_module": "@jupyter-widgets/base",
      "model_module_version": "1.2.0",
      "model_name": "LayoutModel",
      "state": {}
     },
     "8f63935b941c4e4590c5cc46475f01da": {
      "model_module": "@jupyter-widgets/controls",
      "model_module_version": "1.5.0",
      "model_name": "FloatProgressModel",
      "state": {
       "bar_style": "success",
       "layout": "IPY_MODEL_6378a01b64e9436ea7ce3e155418905f",
       "max": 1,
       "style": "IPY_MODEL_378fd4f815e648948a4e5a971740dcde",
       "value": 1
      }
     },
     "91ceca9a7d14407c91e8c663389caed5": {
      "model_module": "@jupyter-widgets/controls",
      "model_module_version": "1.5.0",
      "model_name": "DescriptionStyleModel",
      "state": {
       "description_width": ""
      }
     },
     "92987eb306894d1086c5a790ebb26bd1": {
      "model_module": "@jupyter-widgets/base",
      "model_module_version": "1.2.0",
      "model_name": "LayoutModel",
      "state": {}
     },
     "92fac3b2aff540ecb06ed156f8bf1615": {
      "model_module": "@jupyter-widgets/base",
      "model_module_version": "1.2.0",
      "model_name": "LayoutModel",
      "state": {}
     },
     "97b92c6992c04481b4a6118644415531": {
      "model_module": "@jupyter-widgets/base",
      "model_module_version": "1.2.0",
      "model_name": "LayoutModel",
      "state": {}
     },
     "9954f1fc6cdc4cddbadbbaf26aacc9dc": {
      "model_module": "@jupyter-widgets/base",
      "model_module_version": "1.2.0",
      "model_name": "LayoutModel",
      "state": {
       "width": "20px"
      }
     },
     "9a9427007e764b60812368af412f533f": {
      "model_module": "@jupyter-widgets/controls",
      "model_module_version": "1.5.0",
      "model_name": "FloatProgressModel",
      "state": {
       "bar_style": "success",
       "layout": "IPY_MODEL_11468219d0e64dcea231f3a7c68085f2",
       "max": 1,
       "style": "IPY_MODEL_07c253f6ab2848898d4082eb23fb47f5",
       "value": 1
      }
     },
     "9c61d3deee044d52a46cf3f1d9b8805c": {
      "model_module": "@jupyter-widgets/controls",
      "model_module_version": "1.5.0",
      "model_name": "ProgressStyleModel",
      "state": {
       "description_width": "initial"
      }
     },
     "9fa11fbfd3d94c15ba5fe320adf0064a": {
      "model_module": "@jupyter-widgets/controls",
      "model_module_version": "1.5.0",
      "model_name": "HTMLModel",
      "state": {
       "layout": "IPY_MODEL_2cd6edb6eb1f431a83dde0f31b5a2821",
       "style": "IPY_MODEL_09d6f050db4e4de28afa5a1db3e5815a",
       "value": " 95560/? [06:12&lt;00:00, 256.26it/s]"
      }
     },
     "a17bf85453444f6c9d7d7440a9f21a70": {
      "model_module": "@jupyter-widgets/base",
      "model_module_version": "1.2.0",
      "model_name": "LayoutModel",
      "state": {
       "width": "20px"
      }
     },
     "a580d461990d4aec8fa0b8b573b54669": {
      "model_module": "@jupyter-widgets/base",
      "model_module_version": "1.2.0",
      "model_name": "LayoutModel",
      "state": {}
     },
     "a7734526d69844f395a25e6fd630f775": {
      "model_module": "@jupyter-widgets/base",
      "model_module_version": "1.2.0",
      "model_name": "LayoutModel",
      "state": {
       "width": "20px"
      }
     },
     "abbad0f86a99452197f8592c02807cd9": {
      "model_module": "@jupyter-widgets/base",
      "model_module_version": "1.2.0",
      "model_name": "LayoutModel",
      "state": {
       "width": "20px"
      }
     },
     "ad39e6798bf94bd9a6b555fcb4f6f392": {
      "model_module": "@jupyter-widgets/base",
      "model_module_version": "1.2.0",
      "model_name": "LayoutModel",
      "state": {}
     },
     "af759ea19c4c4fe58f36ed664f2bd785": {
      "model_module": "@jupyter-widgets/controls",
      "model_module_version": "1.5.0",
      "model_name": "HBoxModel",
      "state": {
       "children": [
        "IPY_MODEL_63f15e311e1c4e4db037e58be176796b",
        "IPY_MODEL_0da5070c2792435090dc69219fd385c2"
       ],
       "layout": "IPY_MODEL_4603cf39a480425f96b7688b0bcd3e53"
      }
     },
     "b0e8f8b4225b49438433f69095c2cf33": {
      "model_module": "@jupyter-widgets/controls",
      "model_module_version": "1.5.0",
      "model_name": "HTMLModel",
      "state": {
       "layout": "IPY_MODEL_ad39e6798bf94bd9a6b555fcb4f6f392",
       "style": "IPY_MODEL_e4bfbfd4e6cf42628697fd7a6ca0190e",
       "value": "5260it [00:27, 192.33it/s]"
      }
     },
     "b42791e08147429d984faea34b66e8ae": {
      "model_module": "@jupyter-widgets/controls",
      "model_module_version": "1.5.0",
      "model_name": "HBoxModel",
      "state": {
       "children": [
        "IPY_MODEL_437102dbc8a945139802a4d81be4d186",
        "IPY_MODEL_5b4fc74a9d02487b804ddfc58e0f9a01"
       ],
       "layout": "IPY_MODEL_80a720339d624ce6b3f4ce5fa56d8397"
      }
     },
     "b4863c5cd52b4db4b748fc22574b23fa": {
      "model_module": "@jupyter-widgets/base",
      "model_module_version": "1.2.0",
      "model_name": "LayoutModel",
      "state": {
       "width": "20px"
      }
     },
     "b6a45d6888bb4a68a466f9b4f3df658d": {
      "model_module": "@jupyter-widgets/controls",
      "model_module_version": "1.5.0",
      "model_name": "ProgressStyleModel",
      "state": {
       "description_width": "initial"
      }
     },
     "b7d841924bde47399c4ee05ba530748f": {
      "model_module": "@jupyter-widgets/base",
      "model_module_version": "1.2.0",
      "model_name": "LayoutModel",
      "state": {}
     },
     "bbb76630788d4be58c13b8850cd7a234": {
      "model_module": "@jupyter-widgets/controls",
      "model_module_version": "1.5.0",
      "model_name": "HTMLModel",
      "state": {
       "layout": "IPY_MODEL_7637fe35e0c64d19b57a3adb643faea8",
       "style": "IPY_MODEL_fd6da8f37f464d82b374bda7e129c031",
       "value": "210400it [53:47, 65.18it/s]"
      }
     },
     "bc013a610ebf4a619d518a0ba7e07d5d": {
      "model_module": "@jupyter-widgets/base",
      "model_module_version": "1.2.0",
      "model_name": "LayoutModel",
      "state": {}
     },
     "bc53e1906b6d47da8551d894998c76f9": {
      "model_module": "@jupyter-widgets/controls",
      "model_module_version": "1.5.0",
      "model_name": "HBoxModel",
      "state": {
       "children": [
        "IPY_MODEL_5b01cae4ccc342019f004a30edfc2812",
        "IPY_MODEL_7c96057fb85a4ec9b5dee98568fd1814"
       ],
       "layout": "IPY_MODEL_2b133f0e34504b7bb47c08edc6d5a688"
      }
     },
     "bcb4c47af63a49f6940d52299a2c3b9d": {
      "model_module": "@jupyter-widgets/controls",
      "model_module_version": "1.5.0",
      "model_name": "HTMLModel",
      "state": {
       "layout": "IPY_MODEL_8dbd476d1d3747b49852665db2b455b3",
       "style": "IPY_MODEL_caefc4adcad144159b961c163fca2f47",
       "value": "210400it [48:11, 72.76it/s]"
      }
     },
     "bcdbcf8b21d243abb332175449aacd85": {
      "model_module": "@jupyter-widgets/controls",
      "model_module_version": "1.5.0",
      "model_name": "HBoxModel",
      "state": {
       "children": [
        "IPY_MODEL_fdc7881a25c24c88b045aa555a7ad079",
        "IPY_MODEL_bcb4c47af63a49f6940d52299a2c3b9d"
       ],
       "layout": "IPY_MODEL_6c2520cd42a5425da2d8c4c1a571bd01"
      }
     },
     "be3ea7f093ea483fb73689194f335c38": {
      "model_module": "@jupyter-widgets/base",
      "model_module_version": "1.2.0",
      "model_name": "LayoutModel",
      "state": {}
     },
     "be6577c0b620441f9346879ede858b43": {
      "model_module": "@jupyter-widgets/base",
      "model_module_version": "1.2.0",
      "model_name": "LayoutModel",
      "state": {}
     },
     "bed21f894e64496ab7498927c29432d5": {
      "model_module": "@jupyter-widgets/controls",
      "model_module_version": "1.5.0",
      "model_name": "HBoxModel",
      "state": {
       "children": [
        "IPY_MODEL_8f63935b941c4e4590c5cc46475f01da",
        "IPY_MODEL_e82512f9a2364ba4907d879f4063f9b7"
       ],
       "layout": "IPY_MODEL_f9dda833ff10495c8bafc1566c319be5"
      }
     },
     "beec671c99434eb8a38dc185fb058583": {
      "model_module": "@jupyter-widgets/base",
      "model_module_version": "1.2.0",
      "model_name": "LayoutModel",
      "state": {}
     },
     "bf5ca17040db4ae0822659fbfb29297c": {
      "model_module": "@jupyter-widgets/base",
      "model_module_version": "1.2.0",
      "model_name": "LayoutModel",
      "state": {
       "width": "20px"
      }
     },
     "c02dc15387d04a71accd8fb3c5ac7e95": {
      "model_module": "@jupyter-widgets/base",
      "model_module_version": "1.2.0",
      "model_name": "LayoutModel",
      "state": {}
     },
     "c46e6887091c4a46aeb29d1cc49d0178": {
      "model_module": "@jupyter-widgets/controls",
      "model_module_version": "1.5.0",
      "model_name": "FloatProgressModel",
      "state": {
       "bar_style": "success",
       "layout": "IPY_MODEL_a7734526d69844f395a25e6fd630f775",
       "max": 1,
       "style": "IPY_MODEL_517aa57605d7413c8e8280f0a75bc2ee",
       "value": 1
      }
     },
     "caefc4adcad144159b961c163fca2f47": {
      "model_module": "@jupyter-widgets/controls",
      "model_module_version": "1.5.0",
      "model_name": "DescriptionStyleModel",
      "state": {
       "description_width": ""
      }
     },
     "cc2eefa6a3cb4727b82c2e7e218d29fb": {
      "model_module": "@jupyter-widgets/controls",
      "model_module_version": "1.5.0",
      "model_name": "HBoxModel",
      "state": {
       "children": [
        "IPY_MODEL_db851436741a42fea97f5b62e747711d",
        "IPY_MODEL_fc827f37dc4c4fa68930a3a22fe02ed0"
       ],
       "layout": "IPY_MODEL_eba3c810041a4362a03e3094b279f200"
      }
     },
     "ccb4af92c4434b43a6c96e0b056ec9b5": {
      "model_module": "@jupyter-widgets/controls",
      "model_module_version": "1.5.0",
      "model_name": "HBoxModel",
      "state": {
       "children": [
        "IPY_MODEL_853374163db74ce682f4efa324875ab3",
        "IPY_MODEL_2e3e289d423d4f14a8b223a9a0f3da51"
       ],
       "layout": "IPY_MODEL_e5661006ab41428a841a269a3268aa0e"
      }
     },
     "cd839d513f6a4675982e4fc2a0d6d762": {
      "model_module": "@jupyter-widgets/base",
      "model_module_version": "1.2.0",
      "model_name": "LayoutModel",
      "state": {
       "width": "20px"
      }
     },
     "ce22e73661e047149d860d17b7822ecc": {
      "model_module": "@jupyter-widgets/controls",
      "model_module_version": "1.5.0",
      "model_name": "DescriptionStyleModel",
      "state": {
       "description_width": ""
      }
     },
     "d2be4e41a5974ff89f9d73396774c00b": {
      "model_module": "@jupyter-widgets/controls",
      "model_module_version": "1.5.0",
      "model_name": "HBoxModel",
      "state": {
       "children": [
        "IPY_MODEL_fbd10533dd524a9483fbaa8731799f2f",
        "IPY_MODEL_0f8bdf2a8da04421833d920283b38d85"
       ],
       "layout": "IPY_MODEL_7728b92ed86d4c32a92a4389899b1776"
      }
     },
     "d2c759492da34325897d5f1c5fd219e2": {
      "model_module": "@jupyter-widgets/controls",
      "model_module_version": "1.5.0",
      "model_name": "HBoxModel",
      "state": {
       "children": [
        "IPY_MODEL_0df6a56ae07c4a0994121510e7787604",
        "IPY_MODEL_7f814348a6974d6dbf11399b26b6d4e9"
       ],
       "layout": "IPY_MODEL_60f89230928346ed9ee634a8ed800a2a"
      }
     },
     "d83fba8dd6d444448c87fb88e9aa361b": {
      "model_module": "@jupyter-widgets/controls",
      "model_module_version": "1.5.0",
      "model_name": "ProgressStyleModel",
      "state": {
       "description_width": "initial"
      }
     },
     "d9c82bd29280447cb2ccde14c0bf6560": {
      "model_module": "@jupyter-widgets/base",
      "model_module_version": "1.2.0",
      "model_name": "LayoutModel",
      "state": {}
     },
     "db16c32d23b14fa7a3b5d598768a39c1": {
      "model_module": "@jupyter-widgets/base",
      "model_module_version": "1.2.0",
      "model_name": "LayoutModel",
      "state": {}
     },
     "db851436741a42fea97f5b62e747711d": {
      "model_module": "@jupyter-widgets/controls",
      "model_module_version": "1.5.0",
      "model_name": "FloatProgressModel",
      "state": {
       "bar_style": "success",
       "layout": "IPY_MODEL_e95e9e55ceda41ecbccd94ba5eb8a591",
       "max": 1,
       "style": "IPY_MODEL_5860a92cb7f14c30b67e83b2c49ab640",
       "value": 1
      }
     },
     "dd47813f110a4a06b3e98dba11f4c3ee": {
      "model_module": "@jupyter-widgets/controls",
      "model_module_version": "1.5.0",
      "model_name": "FloatProgressModel",
      "state": {
       "bar_style": "success",
       "layout": "IPY_MODEL_a580d461990d4aec8fa0b8b573b54669",
       "max": 1,
       "style": "IPY_MODEL_ee999da35d0240afb6c704dfd92c3320",
       "value": 1
      }
     },
     "df301805097d480b8a612dbc22cfc794": {
      "model_module": "@jupyter-widgets/controls",
      "model_module_version": "1.5.0",
      "model_name": "DescriptionStyleModel",
      "state": {
       "description_width": ""
      }
     },
     "e22ddd332b624979be0c3ef100fcd07a": {
      "model_module": "@jupyter-widgets/controls",
      "model_module_version": "1.5.0",
      "model_name": "FloatProgressModel",
      "state": {
       "bar_style": "success",
       "layout": "IPY_MODEL_a17bf85453444f6c9d7d7440a9f21a70",
       "max": 1,
       "style": "IPY_MODEL_8a180cf09713401f9df6dec95f6eb7bd",
       "value": 1
      }
     },
     "e3c1daefe2ca4e8a8c3ba8ae8a4cd628": {
      "model_module": "@jupyter-widgets/base",
      "model_module_version": "1.2.0",
      "model_name": "LayoutModel",
      "state": {}
     },
     "e4bfbfd4e6cf42628697fd7a6ca0190e": {
      "model_module": "@jupyter-widgets/controls",
      "model_module_version": "1.5.0",
      "model_name": "DescriptionStyleModel",
      "state": {
       "description_width": ""
      }
     },
     "e4e3f73958b64f1aab6d5fb4f1c74721": {
      "model_module": "@jupyter-widgets/base",
      "model_module_version": "1.2.0",
      "model_name": "LayoutModel",
      "state": {}
     },
     "e5661006ab41428a841a269a3268aa0e": {
      "model_module": "@jupyter-widgets/base",
      "model_module_version": "1.2.0",
      "model_name": "LayoutModel",
      "state": {}
     },
     "e6577a090a474d1fa7e229f77fb1bd07": {
      "model_module": "@jupyter-widgets/controls",
      "model_module_version": "1.5.0",
      "model_name": "DescriptionStyleModel",
      "state": {
       "description_width": ""
      }
     },
     "e6963ee3771e4119a4a73ef817658f80": {
      "model_module": "@jupyter-widgets/controls",
      "model_module_version": "1.5.0",
      "model_name": "DescriptionStyleModel",
      "state": {
       "description_width": ""
      }
     },
     "e7fbbbf09f0b43e09baf6f688792e5db": {
      "model_module": "@jupyter-widgets/base",
      "model_module_version": "1.2.0",
      "model_name": "LayoutModel",
      "state": {}
     },
     "e82512f9a2364ba4907d879f4063f9b7": {
      "model_module": "@jupyter-widgets/controls",
      "model_module_version": "1.5.0",
      "model_name": "HTMLModel",
      "state": {
       "layout": "IPY_MODEL_92fac3b2aff540ecb06ed156f8bf1615",
       "style": "IPY_MODEL_df301805097d480b8a612dbc22cfc794",
       "value": "101680it [16:14, 104.33it/s]"
      }
     },
     "e95e9e55ceda41ecbccd94ba5eb8a591": {
      "model_module": "@jupyter-widgets/base",
      "model_module_version": "1.2.0",
      "model_name": "LayoutModel",
      "state": {}
     },
     "eba3c810041a4362a03e3094b279f200": {
      "model_module": "@jupyter-widgets/base",
      "model_module_version": "1.2.0",
      "model_name": "LayoutModel",
      "state": {}
     },
     "ed0d456b3d4b465a8508b1ee8e998437": {
      "model_module": "@jupyter-widgets/base",
      "model_module_version": "1.2.0",
      "model_name": "LayoutModel",
      "state": {}
     },
     "ee999da35d0240afb6c704dfd92c3320": {
      "model_module": "@jupyter-widgets/controls",
      "model_module_version": "1.5.0",
      "model_name": "ProgressStyleModel",
      "state": {
       "description_width": "initial"
      }
     },
     "eeb9c117aade4090891255ba084c3da7": {
      "model_module": "@jupyter-widgets/controls",
      "model_module_version": "1.5.0",
      "model_name": "HTMLModel",
      "state": {
       "layout": "IPY_MODEL_2a0ca1f293f04b57a17439fc1c2bd4e4",
       "style": "IPY_MODEL_ce22e73661e047149d860d17b7822ecc",
       "value": "4776it [00:43, 110.09it/s]"
      }
     },
     "f9dda833ff10495c8bafc1566c319be5": {
      "model_module": "@jupyter-widgets/base",
      "model_module_version": "1.2.0",
      "model_name": "LayoutModel",
      "state": {}
     },
     "fa7664ec2a3d4a6ebd1f5d8c60b4a3a9": {
      "model_module": "@jupyter-widgets/controls",
      "model_module_version": "1.5.0",
      "model_name": "ProgressStyleModel",
      "state": {
       "description_width": "initial"
      }
     },
     "fbd10533dd524a9483fbaa8731799f2f": {
      "model_module": "@jupyter-widgets/controls",
      "model_module_version": "1.5.0",
      "model_name": "FloatProgressModel",
      "state": {
       "bar_style": "success",
       "layout": "IPY_MODEL_231cd6834f35424a8ade5e202e3d2df5",
       "max": 1,
       "style": "IPY_MODEL_89d02a6f8be4494dac42f944ff998fa1",
       "value": 1
      }
     },
     "fc827f37dc4c4fa68930a3a22fe02ed0": {
      "model_module": "@jupyter-widgets/controls",
      "model_module_version": "1.5.0",
      "model_name": "HTMLModel",
      "state": {
       "layout": "IPY_MODEL_547eec791edc4057bcd500c41c153b10",
       "style": "IPY_MODEL_17c23055734540a98c5ddd2148dafc1d",
       "value": " 95560/? [06:09&lt;00:00, 258.94it/s]"
      }
     },
     "fd6da8f37f464d82b374bda7e129c031": {
      "model_module": "@jupyter-widgets/controls",
      "model_module_version": "1.5.0",
      "model_name": "DescriptionStyleModel",
      "state": {
       "description_width": ""
      }
     },
     "fdc7881a25c24c88b045aa555a7ad079": {
      "model_module": "@jupyter-widgets/controls",
      "model_module_version": "1.5.0",
      "model_name": "FloatProgressModel",
      "state": {
       "bar_style": "success",
       "layout": "IPY_MODEL_b4863c5cd52b4db4b748fc22574b23fa",
       "max": 1,
       "style": "IPY_MODEL_65277cca8f9249339600739bb3d64cbe",
       "value": 1
      }
     },
     "ff329025cab94638af3bb8d360b00c1d": {
      "model_module": "@jupyter-widgets/base",
      "model_module_version": "1.2.0",
      "model_name": "LayoutModel",
      "state": {}
     }
    },
    "version_major": 2,
    "version_minor": 0
   }
  }
 },
 "nbformat": 4,
 "nbformat_minor": 4
}
